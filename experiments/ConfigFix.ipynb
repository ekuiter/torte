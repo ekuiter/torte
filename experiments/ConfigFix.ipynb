{
 "cells": [
  {
   "cell_type": "code",
   "execution_count": 23,
   "id": "b1b75de3-c73f-4d76-8c43-590735ea954f",
   "metadata": {},
   "outputs": [],
   "source": [
    "%%capture\n",
    "pip install plotly pandas statsmodels kaleido scipy nbformat jinja2"
   ]
  },
  {
   "cell_type": "code",
   "execution_count": 78,
   "id": "a721edce-a452-427b-bc0b-c9aa2032de0a",
   "metadata": {},
   "outputs": [
    {
     "data": {
      "application/vnd.plotly.v1+json": {
       "config": {
        "plotlyServerURL": "https://plot.ly"
       },
       "data": [
        {
         "alignmentgroup": "True",
         "hovertemplate": "Status=Extrahierte Feature-Modelle<br>Extractor=Configfixextractor<br>=%{text}<extra></extra>",
         "legendgroup": "Extrahierte Feature-Modelle",
         "marker": {
          "color": "#636efa",
          "pattern": {
           "shape": ""
          }
         },
         "name": "Extrahierte Feature-Modelle",
         "offsetgroup": "Extrahierte Feature-Modelle",
         "orientation": "v",
         "showlegend": true,
         "text": [
          24,
          64,
          117,
          10,
          1,
          1,
          143,
          49
         ],
         "textposition": "auto",
         "type": "bar",
         "x": [
          "axtls",
          "buildroot",
          "busybox",
          "embtoolkit",
          "fiasco",
          "freetz-ng",
          "linux",
          "toybox"
         ],
         "xaxis": "x",
         "y": [
          24,
          64,
          117,
          10,
          1,
          1,
          143,
          49
         ],
         "yaxis": "y"
        },
        {
         "alignmentgroup": "True",
         "hovertemplate": "Status=Extrahierte Feature-Modelle<br>Extractor=KClause<br>=%{text}<extra></extra>",
         "legendgroup": "Extrahierte Feature-Modelle",
         "marker": {
          "color": "#636efa",
          "pattern": {
           "shape": ""
          }
         },
         "name": "Extrahierte Feature-Modelle",
         "offsetgroup": "Extrahierte Feature-Modelle",
         "orientation": "v",
         "showlegend": false,
         "text": [
          24,
          111,
          10,
          1,
          1,
          143
         ],
         "textposition": "auto",
         "type": "bar",
         "x": [
          "axtls",
          "busybox",
          "embtoolkit",
          "fiasco",
          "freetz-ng",
          "linux"
         ],
         "xaxis": "x2",
         "y": [
          24,
          111,
          10,
          1,
          1,
          143
         ],
         "yaxis": "y2"
        },
        {
         "alignmentgroup": "True",
         "hovertemplate": "Status=Extrahierte Feature-Modelle<br>Extractor=Kconfigreader<br>=%{text}<extra></extra>",
         "legendgroup": "Extrahierte Feature-Modelle",
         "marker": {
          "color": "#636efa",
          "pattern": {
           "shape": ""
          }
         },
         "name": "Extrahierte Feature-Modelle",
         "offsetgroup": "Extrahierte Feature-Modelle",
         "orientation": "v",
         "showlegend": false,
         "text": [
          24,
          111,
          10,
          1,
          1,
          143
         ],
         "textposition": "auto",
         "type": "bar",
         "x": [
          "axtls",
          "busybox",
          "embtoolkit",
          "fiasco",
          "freetz-ng",
          "linux"
         ],
         "xaxis": "x3",
         "y": [
          24,
          111,
          10,
          1,
          1,
          143
         ],
         "yaxis": "y3"
        },
        {
         "alignmentgroup": "True",
         "hovertemplate": "Status=Nicht extrahierte Feature-Modelle<br>Extractor=Configfixextractor<br>=%{text}<extra></extra>",
         "legendgroup": "Nicht extrahierte Feature-Modelle",
         "marker": {
          "color": "#EF553B",
          "pattern": {
           "shape": ""
          }
         },
         "name": "Nicht extrahierte Feature-Modelle",
         "offsetgroup": "Nicht extrahierte Feature-Modelle",
         "orientation": "v",
         "showlegend": true,
         "text": [
          25,
          1
         ],
         "textposition": "auto",
         "type": "bar",
         "x": [
          "busybox",
          "toybox"
         ],
         "xaxis": "x",
         "y": [
          25,
          1
         ],
         "yaxis": "y"
        },
        {
         "alignmentgroup": "True",
         "hovertemplate": "Status=Nicht extrahierte Feature-Modelle<br>Extractor=KClause<br>=%{text}<extra></extra>",
         "legendgroup": "Nicht extrahierte Feature-Modelle",
         "marker": {
          "color": "#EF553B",
          "pattern": {
           "shape": ""
          }
         },
         "name": "Nicht extrahierte Feature-Modelle",
         "offsetgroup": "Nicht extrahierte Feature-Modelle",
         "orientation": "v",
         "showlegend": false,
         "text": [
          64,
          31,
          50
         ],
         "textposition": "auto",
         "type": "bar",
         "x": [
          "buildroot",
          "busybox",
          "toybox"
         ],
         "xaxis": "x2",
         "y": [
          64,
          31,
          50
         ],
         "yaxis": "y2"
        },
        {
         "alignmentgroup": "True",
         "hovertemplate": "Status=Nicht extrahierte Feature-Modelle<br>Extractor=Kconfigreader<br>=%{text}<extra></extra>",
         "legendgroup": "Nicht extrahierte Feature-Modelle",
         "marker": {
          "color": "#EF553B",
          "pattern": {
           "shape": ""
          }
         },
         "name": "Nicht extrahierte Feature-Modelle",
         "offsetgroup": "Nicht extrahierte Feature-Modelle",
         "orientation": "v",
         "showlegend": false,
         "text": [
          64,
          31,
          50
         ],
         "textposition": "auto",
         "type": "bar",
         "x": [
          "buildroot",
          "busybox",
          "toybox"
         ],
         "xaxis": "x3",
         "y": [
          64,
          31,
          50
         ],
         "yaxis": "y3"
        }
       ],
       "layout": {
        "annotations": [
         {
          "font": {},
          "showarrow": false,
          "text": "Extractor=Configfixextractor",
          "x": 0.15999999999999998,
          "xanchor": "center",
          "xref": "paper",
          "y": 1,
          "yanchor": "bottom",
          "yref": "paper"
         },
         {
          "font": {},
          "showarrow": false,
          "text": "Extractor=KClause",
          "x": 0.49999999999999994,
          "xanchor": "center",
          "xref": "paper",
          "y": 1,
          "yanchor": "bottom",
          "yref": "paper"
         },
         {
          "font": {},
          "showarrow": false,
          "text": "Extractor=Kconfigreader",
          "x": 0.8399999999999999,
          "xanchor": "center",
          "xref": "paper",
          "y": 1,
          "yanchor": "bottom",
          "yref": "paper"
         }
        ],
        "barmode": "stack",
        "legend": {
         "title": {
          "text": "Extraction Status"
         },
         "tracegroupgap": 0
        },
        "margin": {
         "t": 60
        },
        "paper_bgcolor": "white",
        "plot_bgcolor": "white",
        "template": {
         "data": {
          "bar": [
           {
            "error_x": {
             "color": "#2a3f5f"
            },
            "error_y": {
             "color": "#2a3f5f"
            },
            "marker": {
             "line": {
              "color": "#E5ECF6",
              "width": 0.5
             },
             "pattern": {
              "fillmode": "overlay",
              "size": 10,
              "solidity": 0.2
             }
            },
            "type": "bar"
           }
          ],
          "barpolar": [
           {
            "marker": {
             "line": {
              "color": "#E5ECF6",
              "width": 0.5
             },
             "pattern": {
              "fillmode": "overlay",
              "size": 10,
              "solidity": 0.2
             }
            },
            "type": "barpolar"
           }
          ],
          "carpet": [
           {
            "aaxis": {
             "endlinecolor": "#2a3f5f",
             "gridcolor": "white",
             "linecolor": "white",
             "minorgridcolor": "white",
             "startlinecolor": "#2a3f5f"
            },
            "baxis": {
             "endlinecolor": "#2a3f5f",
             "gridcolor": "white",
             "linecolor": "white",
             "minorgridcolor": "white",
             "startlinecolor": "#2a3f5f"
            },
            "type": "carpet"
           }
          ],
          "choropleth": [
           {
            "colorbar": {
             "outlinewidth": 0,
             "ticks": ""
            },
            "type": "choropleth"
           }
          ],
          "contour": [
           {
            "colorbar": {
             "outlinewidth": 0,
             "ticks": ""
            },
            "colorscale": [
             [
              0,
              "#0d0887"
             ],
             [
              0.1111111111111111,
              "#46039f"
             ],
             [
              0.2222222222222222,
              "#7201a8"
             ],
             [
              0.3333333333333333,
              "#9c179e"
             ],
             [
              0.4444444444444444,
              "#bd3786"
             ],
             [
              0.5555555555555556,
              "#d8576b"
             ],
             [
              0.6666666666666666,
              "#ed7953"
             ],
             [
              0.7777777777777778,
              "#fb9f3a"
             ],
             [
              0.8888888888888888,
              "#fdca26"
             ],
             [
              1,
              "#f0f921"
             ]
            ],
            "type": "contour"
           }
          ],
          "contourcarpet": [
           {
            "colorbar": {
             "outlinewidth": 0,
             "ticks": ""
            },
            "type": "contourcarpet"
           }
          ],
          "heatmap": [
           {
            "colorbar": {
             "outlinewidth": 0,
             "ticks": ""
            },
            "colorscale": [
             [
              0,
              "#0d0887"
             ],
             [
              0.1111111111111111,
              "#46039f"
             ],
             [
              0.2222222222222222,
              "#7201a8"
             ],
             [
              0.3333333333333333,
              "#9c179e"
             ],
             [
              0.4444444444444444,
              "#bd3786"
             ],
             [
              0.5555555555555556,
              "#d8576b"
             ],
             [
              0.6666666666666666,
              "#ed7953"
             ],
             [
              0.7777777777777778,
              "#fb9f3a"
             ],
             [
              0.8888888888888888,
              "#fdca26"
             ],
             [
              1,
              "#f0f921"
             ]
            ],
            "type": "heatmap"
           }
          ],
          "heatmapgl": [
           {
            "colorbar": {
             "outlinewidth": 0,
             "ticks": ""
            },
            "colorscale": [
             [
              0,
              "#0d0887"
             ],
             [
              0.1111111111111111,
              "#46039f"
             ],
             [
              0.2222222222222222,
              "#7201a8"
             ],
             [
              0.3333333333333333,
              "#9c179e"
             ],
             [
              0.4444444444444444,
              "#bd3786"
             ],
             [
              0.5555555555555556,
              "#d8576b"
             ],
             [
              0.6666666666666666,
              "#ed7953"
             ],
             [
              0.7777777777777778,
              "#fb9f3a"
             ],
             [
              0.8888888888888888,
              "#fdca26"
             ],
             [
              1,
              "#f0f921"
             ]
            ],
            "type": "heatmapgl"
           }
          ],
          "histogram": [
           {
            "marker": {
             "pattern": {
              "fillmode": "overlay",
              "size": 10,
              "solidity": 0.2
             }
            },
            "type": "histogram"
           }
          ],
          "histogram2d": [
           {
            "colorbar": {
             "outlinewidth": 0,
             "ticks": ""
            },
            "colorscale": [
             [
              0,
              "#0d0887"
             ],
             [
              0.1111111111111111,
              "#46039f"
             ],
             [
              0.2222222222222222,
              "#7201a8"
             ],
             [
              0.3333333333333333,
              "#9c179e"
             ],
             [
              0.4444444444444444,
              "#bd3786"
             ],
             [
              0.5555555555555556,
              "#d8576b"
             ],
             [
              0.6666666666666666,
              "#ed7953"
             ],
             [
              0.7777777777777778,
              "#fb9f3a"
             ],
             [
              0.8888888888888888,
              "#fdca26"
             ],
             [
              1,
              "#f0f921"
             ]
            ],
            "type": "histogram2d"
           }
          ],
          "histogram2dcontour": [
           {
            "colorbar": {
             "outlinewidth": 0,
             "ticks": ""
            },
            "colorscale": [
             [
              0,
              "#0d0887"
             ],
             [
              0.1111111111111111,
              "#46039f"
             ],
             [
              0.2222222222222222,
              "#7201a8"
             ],
             [
              0.3333333333333333,
              "#9c179e"
             ],
             [
              0.4444444444444444,
              "#bd3786"
             ],
             [
              0.5555555555555556,
              "#d8576b"
             ],
             [
              0.6666666666666666,
              "#ed7953"
             ],
             [
              0.7777777777777778,
              "#fb9f3a"
             ],
             [
              0.8888888888888888,
              "#fdca26"
             ],
             [
              1,
              "#f0f921"
             ]
            ],
            "type": "histogram2dcontour"
           }
          ],
          "mesh3d": [
           {
            "colorbar": {
             "outlinewidth": 0,
             "ticks": ""
            },
            "type": "mesh3d"
           }
          ],
          "parcoords": [
           {
            "line": {
             "colorbar": {
              "outlinewidth": 0,
              "ticks": ""
             }
            },
            "type": "parcoords"
           }
          ],
          "pie": [
           {
            "automargin": true,
            "type": "pie"
           }
          ],
          "scatter": [
           {
            "fillpattern": {
             "fillmode": "overlay",
             "size": 10,
             "solidity": 0.2
            },
            "type": "scatter"
           }
          ],
          "scatter3d": [
           {
            "line": {
             "colorbar": {
              "outlinewidth": 0,
              "ticks": ""
             }
            },
            "marker": {
             "colorbar": {
              "outlinewidth": 0,
              "ticks": ""
             }
            },
            "type": "scatter3d"
           }
          ],
          "scattercarpet": [
           {
            "marker": {
             "colorbar": {
              "outlinewidth": 0,
              "ticks": ""
             }
            },
            "type": "scattercarpet"
           }
          ],
          "scattergeo": [
           {
            "marker": {
             "colorbar": {
              "outlinewidth": 0,
              "ticks": ""
             }
            },
            "type": "scattergeo"
           }
          ],
          "scattergl": [
           {
            "marker": {
             "colorbar": {
              "outlinewidth": 0,
              "ticks": ""
             }
            },
            "type": "scattergl"
           }
          ],
          "scattermapbox": [
           {
            "marker": {
             "colorbar": {
              "outlinewidth": 0,
              "ticks": ""
             }
            },
            "type": "scattermapbox"
           }
          ],
          "scatterpolar": [
           {
            "marker": {
             "colorbar": {
              "outlinewidth": 0,
              "ticks": ""
             }
            },
            "type": "scatterpolar"
           }
          ],
          "scatterpolargl": [
           {
            "marker": {
             "colorbar": {
              "outlinewidth": 0,
              "ticks": ""
             }
            },
            "type": "scatterpolargl"
           }
          ],
          "scatterternary": [
           {
            "marker": {
             "colorbar": {
              "outlinewidth": 0,
              "ticks": ""
             }
            },
            "type": "scatterternary"
           }
          ],
          "surface": [
           {
            "colorbar": {
             "outlinewidth": 0,
             "ticks": ""
            },
            "colorscale": [
             [
              0,
              "#0d0887"
             ],
             [
              0.1111111111111111,
              "#46039f"
             ],
             [
              0.2222222222222222,
              "#7201a8"
             ],
             [
              0.3333333333333333,
              "#9c179e"
             ],
             [
              0.4444444444444444,
              "#bd3786"
             ],
             [
              0.5555555555555556,
              "#d8576b"
             ],
             [
              0.6666666666666666,
              "#ed7953"
             ],
             [
              0.7777777777777778,
              "#fb9f3a"
             ],
             [
              0.8888888888888888,
              "#fdca26"
             ],
             [
              1,
              "#f0f921"
             ]
            ],
            "type": "surface"
           }
          ],
          "table": [
           {
            "cells": {
             "fill": {
              "color": "#EBF0F8"
             },
             "line": {
              "color": "white"
             }
            },
            "header": {
             "fill": {
              "color": "#C8D4E3"
             },
             "line": {
              "color": "white"
             }
            },
            "type": "table"
           }
          ]
         },
         "layout": {
          "annotationdefaults": {
           "arrowcolor": "#2a3f5f",
           "arrowhead": 0,
           "arrowwidth": 1
          },
          "autotypenumbers": "strict",
          "coloraxis": {
           "colorbar": {
            "outlinewidth": 0,
            "ticks": ""
           }
          },
          "colorscale": {
           "diverging": [
            [
             0,
             "#8e0152"
            ],
            [
             0.1,
             "#c51b7d"
            ],
            [
             0.2,
             "#de77ae"
            ],
            [
             0.3,
             "#f1b6da"
            ],
            [
             0.4,
             "#fde0ef"
            ],
            [
             0.5,
             "#f7f7f7"
            ],
            [
             0.6,
             "#e6f5d0"
            ],
            [
             0.7,
             "#b8e186"
            ],
            [
             0.8,
             "#7fbc41"
            ],
            [
             0.9,
             "#4d9221"
            ],
            [
             1,
             "#276419"
            ]
           ],
           "sequential": [
            [
             0,
             "#0d0887"
            ],
            [
             0.1111111111111111,
             "#46039f"
            ],
            [
             0.2222222222222222,
             "#7201a8"
            ],
            [
             0.3333333333333333,
             "#9c179e"
            ],
            [
             0.4444444444444444,
             "#bd3786"
            ],
            [
             0.5555555555555556,
             "#d8576b"
            ],
            [
             0.6666666666666666,
             "#ed7953"
            ],
            [
             0.7777777777777778,
             "#fb9f3a"
            ],
            [
             0.8888888888888888,
             "#fdca26"
            ],
            [
             1,
             "#f0f921"
            ]
           ],
           "sequentialminus": [
            [
             0,
             "#0d0887"
            ],
            [
             0.1111111111111111,
             "#46039f"
            ],
            [
             0.2222222222222222,
             "#7201a8"
            ],
            [
             0.3333333333333333,
             "#9c179e"
            ],
            [
             0.4444444444444444,
             "#bd3786"
            ],
            [
             0.5555555555555556,
             "#d8576b"
            ],
            [
             0.6666666666666666,
             "#ed7953"
            ],
            [
             0.7777777777777778,
             "#fb9f3a"
            ],
            [
             0.8888888888888888,
             "#fdca26"
            ],
            [
             1,
             "#f0f921"
            ]
           ]
          },
          "colorway": [
           "#636efa",
           "#EF553B",
           "#00cc96",
           "#ab63fa",
           "#FFA15A",
           "#19d3f3",
           "#FF6692",
           "#B6E880",
           "#FF97FF",
           "#FECB52"
          ],
          "font": {
           "color": "#2a3f5f"
          },
          "geo": {
           "bgcolor": "white",
           "lakecolor": "white",
           "landcolor": "#E5ECF6",
           "showlakes": true,
           "showland": true,
           "subunitcolor": "white"
          },
          "hoverlabel": {
           "align": "left"
          },
          "hovermode": "closest",
          "mapbox": {
           "style": "light"
          },
          "paper_bgcolor": "white",
          "plot_bgcolor": "#E5ECF6",
          "polar": {
           "angularaxis": {
            "gridcolor": "white",
            "linecolor": "white",
            "ticks": ""
           },
           "bgcolor": "#E5ECF6",
           "radialaxis": {
            "gridcolor": "white",
            "linecolor": "white",
            "ticks": ""
           }
          },
          "scene": {
           "xaxis": {
            "backgroundcolor": "#E5ECF6",
            "gridcolor": "white",
            "gridwidth": 2,
            "linecolor": "white",
            "showbackground": true,
            "ticks": "",
            "zerolinecolor": "white"
           },
           "yaxis": {
            "backgroundcolor": "#E5ECF6",
            "gridcolor": "white",
            "gridwidth": 2,
            "linecolor": "white",
            "showbackground": true,
            "ticks": "",
            "zerolinecolor": "white"
           },
           "zaxis": {
            "backgroundcolor": "#E5ECF6",
            "gridcolor": "white",
            "gridwidth": 2,
            "linecolor": "white",
            "showbackground": true,
            "ticks": "",
            "zerolinecolor": "white"
           }
          },
          "shapedefaults": {
           "line": {
            "color": "#2a3f5f"
           }
          },
          "ternary": {
           "aaxis": {
            "gridcolor": "white",
            "linecolor": "white",
            "ticks": ""
           },
           "baxis": {
            "gridcolor": "white",
            "linecolor": "white",
            "ticks": ""
           },
           "bgcolor": "#E5ECF6",
           "caxis": {
            "gridcolor": "white",
            "linecolor": "white",
            "ticks": ""
           }
          },
          "title": {
           "x": 0.05
          },
          "xaxis": {
           "automargin": true,
           "gridcolor": "white",
           "linecolor": "white",
           "ticks": "",
           "title": {
            "standoff": 15
           },
           "zerolinecolor": "white",
           "zerolinewidth": 2
          },
          "yaxis": {
           "automargin": true,
           "gridcolor": "white",
           "linecolor": "white",
           "ticks": "",
           "title": {
            "standoff": 15
           },
           "zerolinecolor": "white",
           "zerolinewidth": 2
          }
         }
        },
        "xaxis": {
         "anchor": "y",
         "domain": [
          0,
          0.31999999999999995
         ],
         "tickangle": -45,
         "title": {
          "text": ""
         }
        },
        "xaxis2": {
         "anchor": "y2",
         "domain": [
          0.33999999999999997,
          0.6599999999999999
         ],
         "matches": "x",
         "title": {
          "text": ""
         }
        },
        "xaxis3": {
         "anchor": "y3",
         "domain": [
          0.6799999999999999,
          0.9999999999999999
         ],
         "matches": "x",
         "title": {
          "text": ""
         }
        },
        "yaxis": {
         "anchor": "x",
         "domain": [
          0,
          1
         ],
         "showgrid": false,
         "showticklabels": false,
         "title": {
          "text": ""
         }
        },
        "yaxis2": {
         "anchor": "x2",
         "domain": [
          0,
          1
         ],
         "matches": "y",
         "showticklabels": false
        },
        "yaxis3": {
         "anchor": "x3",
         "domain": [
          0,
          1
         ],
         "matches": "y",
         "showticklabels": false
        }
       }
      },
      "image/png": "[encoded data removed]",
      "text/html": [
       "<div>                            <div id=\"89366035-5725-4dfa-b78c-59245e2cdfb5\" class=\"plotly-graph-div\" style=\"height:525px; width:100%;\"></div>            <script type=\"text/javascript\">                require([\"plotly\"], function(Plotly) {                    window.PLOTLYENV=window.PLOTLYENV || {};                                    if (document.getElementById(\"89366035-5725-4dfa-b78c-59245e2cdfb5\")) {                    Plotly.newPlot(                        \"89366035-5725-4dfa-b78c-59245e2cdfb5\",                        [{\"alignmentgroup\":\"True\",\"hovertemplate\":\"Status=Extrahierte Feature-Modelle\\u003cbr\\u003eExtractor=Configfixextractor\\u003cbr\\u003e=%{text}\\u003cextra\\u003e\\u003c\\u002fextra\\u003e\",\"legendgroup\":\"Extrahierte Feature-Modelle\",\"marker\":{\"color\":\"#636efa\",\"pattern\":{\"shape\":\"\"}},\"name\":\"Extrahierte Feature-Modelle\",\"offsetgroup\":\"Extrahierte Feature-Modelle\",\"orientation\":\"v\",\"showlegend\":true,\"text\":[24.0,64.0,117.0,10.0,1.0,1.0,143.0,49.0],\"textposition\":\"auto\",\"x\":[\"axtls\",\"buildroot\",\"busybox\",\"embtoolkit\",\"fiasco\",\"freetz-ng\",\"linux\",\"toybox\"],\"xaxis\":\"x\",\"y\":[24,64,117,10,1,1,143,49],\"yaxis\":\"y\",\"type\":\"bar\"},{\"alignmentgroup\":\"True\",\"hovertemplate\":\"Status=Extrahierte Feature-Modelle\\u003cbr\\u003eExtractor=KClause\\u003cbr\\u003e=%{text}\\u003cextra\\u003e\\u003c\\u002fextra\\u003e\",\"legendgroup\":\"Extrahierte Feature-Modelle\",\"marker\":{\"color\":\"#636efa\",\"pattern\":{\"shape\":\"\"}},\"name\":\"Extrahierte Feature-Modelle\",\"offsetgroup\":\"Extrahierte Feature-Modelle\",\"orientation\":\"v\",\"showlegend\":false,\"text\":[24.0,111.0,10.0,1.0,1.0,143.0],\"textposition\":\"auto\",\"x\":[\"axtls\",\"busybox\",\"embtoolkit\",\"fiasco\",\"freetz-ng\",\"linux\"],\"xaxis\":\"x2\",\"y\":[24,111,10,1,1,143],\"yaxis\":\"y2\",\"type\":\"bar\"},{\"alignmentgroup\":\"True\",\"hovertemplate\":\"Status=Extrahierte Feature-Modelle\\u003cbr\\u003eExtractor=Kconfigreader\\u003cbr\\u003e=%{text}\\u003cextra\\u003e\\u003c\\u002fextra\\u003e\",\"legendgroup\":\"Extrahierte Feature-Modelle\",\"marker\":{\"color\":\"#636efa\",\"pattern\":{\"shape\":\"\"}},\"name\":\"Extrahierte Feature-Modelle\",\"offsetgroup\":\"Extrahierte Feature-Modelle\",\"orientation\":\"v\",\"showlegend\":false,\"text\":[24.0,111.0,10.0,1.0,1.0,143.0],\"textposition\":\"auto\",\"x\":[\"axtls\",\"busybox\",\"embtoolkit\",\"fiasco\",\"freetz-ng\",\"linux\"],\"xaxis\":\"x3\",\"y\":[24,111,10,1,1,143],\"yaxis\":\"y3\",\"type\":\"bar\"},{\"alignmentgroup\":\"True\",\"hovertemplate\":\"Status=Nicht extrahierte Feature-Modelle\\u003cbr\\u003eExtractor=Configfixextractor\\u003cbr\\u003e=%{text}\\u003cextra\\u003e\\u003c\\u002fextra\\u003e\",\"legendgroup\":\"Nicht extrahierte Feature-Modelle\",\"marker\":{\"color\":\"#EF553B\",\"pattern\":{\"shape\":\"\"}},\"name\":\"Nicht extrahierte Feature-Modelle\",\"offsetgroup\":\"Nicht extrahierte Feature-Modelle\",\"orientation\":\"v\",\"showlegend\":true,\"text\":[25.0,1.0],\"textposition\":\"auto\",\"x\":[\"busybox\",\"toybox\"],\"xaxis\":\"x\",\"y\":[25,1],\"yaxis\":\"y\",\"type\":\"bar\"},{\"alignmentgroup\":\"True\",\"hovertemplate\":\"Status=Nicht extrahierte Feature-Modelle\\u003cbr\\u003eExtractor=KClause\\u003cbr\\u003e=%{text}\\u003cextra\\u003e\\u003c\\u002fextra\\u003e\",\"legendgroup\":\"Nicht extrahierte Feature-Modelle\",\"marker\":{\"color\":\"#EF553B\",\"pattern\":{\"shape\":\"\"}},\"name\":\"Nicht extrahierte Feature-Modelle\",\"offsetgroup\":\"Nicht extrahierte Feature-Modelle\",\"orientation\":\"v\",\"showlegend\":false,\"text\":[64.0,31.0,50.0],\"textposition\":\"auto\",\"x\":[\"buildroot\",\"busybox\",\"toybox\"],\"xaxis\":\"x2\",\"y\":[64,31,50],\"yaxis\":\"y2\",\"type\":\"bar\"},{\"alignmentgroup\":\"True\",\"hovertemplate\":\"Status=Nicht extrahierte Feature-Modelle\\u003cbr\\u003eExtractor=Kconfigreader\\u003cbr\\u003e=%{text}\\u003cextra\\u003e\\u003c\\u002fextra\\u003e\",\"legendgroup\":\"Nicht extrahierte Feature-Modelle\",\"marker\":{\"color\":\"#EF553B\",\"pattern\":{\"shape\":\"\"}},\"name\":\"Nicht extrahierte Feature-Modelle\",\"offsetgroup\":\"Nicht extrahierte Feature-Modelle\",\"orientation\":\"v\",\"showlegend\":false,\"text\":[64.0,31.0,50.0],\"textposition\":\"auto\",\"x\":[\"buildroot\",\"busybox\",\"toybox\"],\"xaxis\":\"x3\",\"y\":[64,31,50],\"yaxis\":\"y3\",\"type\":\"bar\"}],                        {\"template\":{\"data\":{\"histogram2dcontour\":[{\"type\":\"histogram2dcontour\",\"colorbar\":{\"outlinewidth\":0,\"ticks\":\"\"},\"colorscale\":[[0.0,\"#0d0887\"],[0.1111111111111111,\"#46039f\"],[0.2222222222222222,\"#7201a8\"],[0.3333333333333333,\"#9c179e\"],[0.4444444444444444,\"#bd3786\"],[0.5555555555555556,\"#d8576b\"],[0.6666666666666666,\"#ed7953\"],[0.7777777777777778,\"#fb9f3a\"],[0.8888888888888888,\"#fdca26\"],[1.0,\"#f0f921\"]]}],\"choropleth\":[{\"type\":\"choropleth\",\"colorbar\":{\"outlinewidth\":0,\"ticks\":\"\"}}],\"histogram2d\":[{\"type\":\"histogram2d\",\"colorbar\":{\"outlinewidth\":0,\"ticks\":\"\"},\"colorscale\":[[0.0,\"#0d0887\"],[0.1111111111111111,\"#46039f\"],[0.2222222222222222,\"#7201a8\"],[0.3333333333333333,\"#9c179e\"],[0.4444444444444444,\"#bd3786\"],[0.5555555555555556,\"#d8576b\"],[0.6666666666666666,\"#ed7953\"],[0.7777777777777778,\"#fb9f3a\"],[0.8888888888888888,\"#fdca26\"],[1.0,\"#f0f921\"]]}],\"heatmap\":[{\"type\":\"heatmap\",\"colorbar\":{\"outlinewidth\":0,\"ticks\":\"\"},\"colorscale\":[[0.0,\"#0d0887\"],[0.1111111111111111,\"#46039f\"],[0.2222222222222222,\"#7201a8\"],[0.3333333333333333,\"#9c179e\"],[0.4444444444444444,\"#bd3786\"],[0.5555555555555556,\"#d8576b\"],[0.6666666666666666,\"#ed7953\"],[0.7777777777777778,\"#fb9f3a\"],[0.8888888888888888,\"#fdca26\"],[1.0,\"#f0f921\"]]}],\"heatmapgl\":[{\"type\":\"heatmapgl\",\"colorbar\":{\"outlinewidth\":0,\"ticks\":\"\"},\"colorscale\":[[0.0,\"#0d0887\"],[0.1111111111111111,\"#46039f\"],[0.2222222222222222,\"#7201a8\"],[0.3333333333333333,\"#9c179e\"],[0.4444444444444444,\"#bd3786\"],[0.5555555555555556,\"#d8576b\"],[0.6666666666666666,\"#ed7953\"],[0.7777777777777778,\"#fb9f3a\"],[0.8888888888888888,\"#fdca26\"],[1.0,\"#f0f921\"]]}],\"contourcarpet\":[{\"type\":\"contourcarpet\",\"colorbar\":{\"outlinewidth\":0,\"ticks\":\"\"}}],\"contour\":[{\"type\":\"contour\",\"colorbar\":{\"outlinewidth\":0,\"ticks\":\"\"},\"colorscale\":[[0.0,\"#0d0887\"],[0.1111111111111111,\"#46039f\"],[0.2222222222222222,\"#7201a8\"],[0.3333333333333333,\"#9c179e\"],[0.4444444444444444,\"#bd3786\"],[0.5555555555555556,\"#d8576b\"],[0.6666666666666666,\"#ed7953\"],[0.7777777777777778,\"#fb9f3a\"],[0.8888888888888888,\"#fdca26\"],[1.0,\"#f0f921\"]]}],\"surface\":[{\"type\":\"surface\",\"colorbar\":{\"outlinewidth\":0,\"ticks\":\"\"},\"colorscale\":[[0.0,\"#0d0887\"],[0.1111111111111111,\"#46039f\"],[0.2222222222222222,\"#7201a8\"],[0.3333333333333333,\"#9c179e\"],[0.4444444444444444,\"#bd3786\"],[0.5555555555555556,\"#d8576b\"],[0.6666666666666666,\"#ed7953\"],[0.7777777777777778,\"#fb9f3a\"],[0.8888888888888888,\"#fdca26\"],[1.0,\"#f0f921\"]]}],\"mesh3d\":[{\"type\":\"mesh3d\",\"colorbar\":{\"outlinewidth\":0,\"ticks\":\"\"}}],\"scatter\":[{\"fillpattern\":{\"fillmode\":\"overlay\",\"size\":10,\"solidity\":0.2},\"type\":\"scatter\"}],\"parcoords\":[{\"type\":\"parcoords\",\"line\":{\"colorbar\":{\"outlinewidth\":0,\"ticks\":\"\"}}}],\"scatterpolargl\":[{\"type\":\"scatterpolargl\",\"marker\":{\"colorbar\":{\"outlinewidth\":0,\"ticks\":\"\"}}}],\"bar\":[{\"error_x\":{\"color\":\"#2a3f5f\"},\"error_y\":{\"color\":\"#2a3f5f\"},\"marker\":{\"line\":{\"color\":\"#E5ECF6\",\"width\":0.5},\"pattern\":{\"fillmode\":\"overlay\",\"size\":10,\"solidity\":0.2}},\"type\":\"bar\"}],\"scattergeo\":[{\"type\":\"scattergeo\",\"marker\":{\"colorbar\":{\"outlinewidth\":0,\"ticks\":\"\"}}}],\"scatterpolar\":[{\"type\":\"scatterpolar\",\"marker\":{\"colorbar\":{\"outlinewidth\":0,\"ticks\":\"\"}}}],\"histogram\":[{\"marker\":{\"pattern\":{\"fillmode\":\"overlay\",\"size\":10,\"solidity\":0.2}},\"type\":\"histogram\"}],\"scattergl\":[{\"type\":\"scattergl\",\"marker\":{\"colorbar\":{\"outlinewidth\":0,\"ticks\":\"\"}}}],\"scatter3d\":[{\"type\":\"scatter3d\",\"line\":{\"colorbar\":{\"outlinewidth\":0,\"ticks\":\"\"}},\"marker\":{\"colorbar\":{\"outlinewidth\":0,\"ticks\":\"\"}}}],\"scattermapbox\":[{\"type\":\"scattermapbox\",\"marker\":{\"colorbar\":{\"outlinewidth\":0,\"ticks\":\"\"}}}],\"scatterternary\":[{\"type\":\"scatterternary\",\"marker\":{\"colorbar\":{\"outlinewidth\":0,\"ticks\":\"\"}}}],\"scattercarpet\":[{\"type\":\"scattercarpet\",\"marker\":{\"colorbar\":{\"outlinewidth\":0,\"ticks\":\"\"}}}],\"carpet\":[{\"aaxis\":{\"endlinecolor\":\"#2a3f5f\",\"gridcolor\":\"white\",\"linecolor\":\"white\",\"minorgridcolor\":\"white\",\"startlinecolor\":\"#2a3f5f\"},\"baxis\":{\"endlinecolor\":\"#2a3f5f\",\"gridcolor\":\"white\",\"linecolor\":\"white\",\"minorgridcolor\":\"white\",\"startlinecolor\":\"#2a3f5f\"},\"type\":\"carpet\"}],\"table\":[{\"cells\":{\"fill\":{\"color\":\"#EBF0F8\"},\"line\":{\"color\":\"white\"}},\"header\":{\"fill\":{\"color\":\"#C8D4E3\"},\"line\":{\"color\":\"white\"}},\"type\":\"table\"}],\"barpolar\":[{\"marker\":{\"line\":{\"color\":\"#E5ECF6\",\"width\":0.5},\"pattern\":{\"fillmode\":\"overlay\",\"size\":10,\"solidity\":0.2}},\"type\":\"barpolar\"}],\"pie\":[{\"automargin\":true,\"type\":\"pie\"}]},\"layout\":{\"autotypenumbers\":\"strict\",\"colorway\":[\"#636efa\",\"#EF553B\",\"#00cc96\",\"#ab63fa\",\"#FFA15A\",\"#19d3f3\",\"#FF6692\",\"#B6E880\",\"#FF97FF\",\"#FECB52\"],\"font\":{\"color\":\"#2a3f5f\"},\"hovermode\":\"closest\",\"hoverlabel\":{\"align\":\"left\"},\"paper_bgcolor\":\"white\",\"plot_bgcolor\":\"#E5ECF6\",\"polar\":{\"bgcolor\":\"#E5ECF6\",\"angularaxis\":{\"gridcolor\":\"white\",\"linecolor\":\"white\",\"ticks\":\"\"},\"radialaxis\":{\"gridcolor\":\"white\",\"linecolor\":\"white\",\"ticks\":\"\"}},\"ternary\":{\"bgcolor\":\"#E5ECF6\",\"aaxis\":{\"gridcolor\":\"white\",\"linecolor\":\"white\",\"ticks\":\"\"},\"baxis\":{\"gridcolor\":\"white\",\"linecolor\":\"white\",\"ticks\":\"\"},\"caxis\":{\"gridcolor\":\"white\",\"linecolor\":\"white\",\"ticks\":\"\"}},\"coloraxis\":{\"colorbar\":{\"outlinewidth\":0,\"ticks\":\"\"}},\"colorscale\":{\"sequential\":[[0.0,\"#0d0887\"],[0.1111111111111111,\"#46039f\"],[0.2222222222222222,\"#7201a8\"],[0.3333333333333333,\"#9c179e\"],[0.4444444444444444,\"#bd3786\"],[0.5555555555555556,\"#d8576b\"],[0.6666666666666666,\"#ed7953\"],[0.7777777777777778,\"#fb9f3a\"],[0.8888888888888888,\"#fdca26\"],[1.0,\"#f0f921\"]],\"sequentialminus\":[[0.0,\"#0d0887\"],[0.1111111111111111,\"#46039f\"],[0.2222222222222222,\"#7201a8\"],[0.3333333333333333,\"#9c179e\"],[0.4444444444444444,\"#bd3786\"],[0.5555555555555556,\"#d8576b\"],[0.6666666666666666,\"#ed7953\"],[0.7777777777777778,\"#fb9f3a\"],[0.8888888888888888,\"#fdca26\"],[1.0,\"#f0f921\"]],\"diverging\":[[0,\"#8e0152\"],[0.1,\"#c51b7d\"],[0.2,\"#de77ae\"],[0.3,\"#f1b6da\"],[0.4,\"#fde0ef\"],[0.5,\"#f7f7f7\"],[0.6,\"#e6f5d0\"],[0.7,\"#b8e186\"],[0.8,\"#7fbc41\"],[0.9,\"#4d9221\"],[1,\"#276419\"]]},\"xaxis\":{\"gridcolor\":\"white\",\"linecolor\":\"white\",\"ticks\":\"\",\"title\":{\"standoff\":15},\"zerolinecolor\":\"white\",\"automargin\":true,\"zerolinewidth\":2},\"yaxis\":{\"gridcolor\":\"white\",\"linecolor\":\"white\",\"ticks\":\"\",\"title\":{\"standoff\":15},\"zerolinecolor\":\"white\",\"automargin\":true,\"zerolinewidth\":2},\"scene\":{\"xaxis\":{\"backgroundcolor\":\"#E5ECF6\",\"gridcolor\":\"white\",\"linecolor\":\"white\",\"showbackground\":true,\"ticks\":\"\",\"zerolinecolor\":\"white\",\"gridwidth\":2},\"yaxis\":{\"backgroundcolor\":\"#E5ECF6\",\"gridcolor\":\"white\",\"linecolor\":\"white\",\"showbackground\":true,\"ticks\":\"\",\"zerolinecolor\":\"white\",\"gridwidth\":2},\"zaxis\":{\"backgroundcolor\":\"#E5ECF6\",\"gridcolor\":\"white\",\"linecolor\":\"white\",\"showbackground\":true,\"ticks\":\"\",\"zerolinecolor\":\"white\",\"gridwidth\":2}},\"shapedefaults\":{\"line\":{\"color\":\"#2a3f5f\"}},\"annotationdefaults\":{\"arrowcolor\":\"#2a3f5f\",\"arrowhead\":0,\"arrowwidth\":1},\"geo\":{\"bgcolor\":\"white\",\"landcolor\":\"#E5ECF6\",\"subunitcolor\":\"white\",\"showland\":true,\"showlakes\":true,\"lakecolor\":\"white\"},\"title\":{\"x\":0.05},\"mapbox\":{\"style\":\"light\"}}},\"xaxis\":{\"anchor\":\"y\",\"domain\":[0.0,0.31999999999999995],\"title\":{\"text\":\"\"},\"tickangle\":-45},\"yaxis\":{\"anchor\":\"x\",\"domain\":[0.0,1.0],\"title\":{\"text\":\"\"},\"showticklabels\":false,\"showgrid\":false},\"xaxis2\":{\"anchor\":\"y2\",\"domain\":[0.33999999999999997,0.6599999999999999],\"matches\":\"x\",\"title\":{\"text\":\"\"}},\"yaxis2\":{\"anchor\":\"x2\",\"domain\":[0.0,1.0],\"matches\":\"y\",\"showticklabels\":false},\"xaxis3\":{\"anchor\":\"y3\",\"domain\":[0.6799999999999999,0.9999999999999999],\"matches\":\"x\",\"title\":{\"text\":\"\"}},\"yaxis3\":{\"anchor\":\"x3\",\"domain\":[0.0,1.0],\"matches\":\"y\",\"showticklabels\":false},\"annotations\":[{\"font\":{},\"showarrow\":false,\"text\":\"Extractor=Configfixextractor\",\"x\":0.15999999999999998,\"xanchor\":\"center\",\"xref\":\"paper\",\"y\":1.0,\"yanchor\":\"bottom\",\"yref\":\"paper\"},{\"font\":{},\"showarrow\":false,\"text\":\"Extractor=KClause\",\"x\":0.49999999999999994,\"xanchor\":\"center\",\"xref\":\"paper\",\"y\":1.0,\"yanchor\":\"bottom\",\"yref\":\"paper\"},{\"font\":{},\"showarrow\":false,\"text\":\"Extractor=Kconfigreader\",\"x\":0.8399999999999999,\"xanchor\":\"center\",\"xref\":\"paper\",\"y\":1.0,\"yanchor\":\"bottom\",\"yref\":\"paper\"}],\"legend\":{\"title\":{\"text\":\"Extraction Status\"},\"tracegroupgap\":0},\"margin\":{\"t\":60},\"barmode\":\"stack\",\"plot_bgcolor\":\"white\",\"paper_bgcolor\":\"white\"},                        {\"responsive\": true}                    ).then(function(){\n",
       "                            \n",
       "var gd = document.getElementById('89366035-5725-4dfa-b78c-59245e2cdfb5');\n",
       "var x = new MutationObserver(function (mutations, observer) {{\n",
       "        var display = window.getComputedStyle(gd).display;\n",
       "        if (!display || display === 'none') {{\n",
       "            console.log([gd, 'removed!']);\n",
       "            Plotly.purge(gd);\n",
       "            observer.disconnect();\n",
       "        }}\n",
       "}});\n",
       "\n",
       "// Listen for the removal of the full notebook cells\n",
       "var notebookContainer = gd.closest('#notebook-container');\n",
       "if (notebookContainer) {{\n",
       "    x.observe(notebookContainer, {childList: true});\n",
       "}}\n",
       "\n",
       "// Listen for the clearing of the current output cell\n",
       "var outputEl = gd.closest('.output');\n",
       "if (outputEl) {{\n",
       "    x.observe(outputEl, {childList: true});\n",
       "}}\n",
       "\n",
       "                        })                };                });            </script>        </div>"
      ]
     },
     "metadata": {},
     "output_type": "display_data"
    }
   ],
   "source": [
    "import pandas as pd\n",
    "import plotly.express as px\n",
    "\n",
    "#Für welche Revisionen unterschiedlicher System können Feature-Modell-Formeln extrahiert, transformiert und analysiert werden?\n",
    "\n",
    "file_configfixextractor = '/home/rami/configFixextractor/kconfig/output.csv'\n",
    "file_kmax = '/home/rami/kmax/kconfig/output.csv'\n",
    "file_Kconfigreader = '/home/rami/Kconfigreader/kconfig/output.csv'\n",
    "\n",
    "df_configfixextractor = pd.read_csv(file_configfixextractor)\n",
    "df_kmax = pd.read_csv(file_kmax)\n",
    "df_Kconfigreader = pd.read_csv(file_Kconfigreader)\n",
    "\n",
    "\n",
    "df_configfixextractor_filtered = df_configfixextractor[['system', 'revision', 'model-file']].copy()\n",
    "df_configfixextractor_filtered['Extractor'] = 'Configfixextractor'\n",
    "\n",
    "df_kmax_filtered = df_kmax[['system', 'revision', 'model-file']].copy()\n",
    "df_kmax_filtered['Extractor'] = 'KClause'\n",
    "\n",
    "df_Kconfigreader_filtered = df_Kconfigreader[['system', 'revision', 'model-file']].copy()\n",
    "df_Kconfigreader_filtered['Extractor'] = 'Kconfigreader'\n",
    "\n",
    "# Kombiniere alle DataFrames\n",
    "df_combined = pd.concat([df_configfixextractor_filtered, df_kmax_filtered, df_Kconfigreader_filtered], ignore_index=True)\n",
    "\n",
    "# Status basierend auf 'model-file'\n",
    "df_combined['status'] = df_combined.apply(\n",
    "    lambda row: 'Extrahierte Feature-Modelle' if pd.notna(row['model-file']) else 'Nicht extrahierte Feature-Modelle',\n",
    "    axis=1\n",
    ")\n",
    "\n",
    "\n",
    "df_summary_combined = df_combined.groupby(['system', 'status', 'Extractor']).size().reset_index(name='count')\n",
    "\n",
    "\n",
    "fig_combined = px.bar(\n",
    "    df_summary_combined,\n",
    "    x='system',\n",
    "    y='count',\n",
    "    color='status',\n",
    "    facet_col='Extractor',  \n",
    "    title='',\n",
    "    labels={'count': '', 'system': '', 'status': 'Status'},\n",
    "    text='count',  \n",
    ")\n",
    "\n",
    "\n",
    "fig_combined.update_layout(\n",
    "    xaxis_title='',\n",
    "    legend_title='Extraction Status',\n",
    "    xaxis_tickangle=-45,\n",
    "    barmode='stack',\n",
    "    plot_bgcolor='white',\n",
    "    paper_bgcolor='white',\n",
    "    yaxis=dict(\n",
    "        showticklabels=False,  \n",
    "        showgrid=False         \n",
    "    ),\n",
    ")\n",
    "\n",
    "\n",
    "fig_combined.show()\n"
   ]
  },
  {
   "cell_type": "code",
   "execution_count": 28,
   "id": "d5a84c86-a6d0-4abd-bcc2-1e4fe7c87c11",
   "metadata": {},
   "outputs": [
    {
     "data": {
      "application/vnd.plotly.v1+json": {
       "config": {
        "plotlyServerURL": "https://plot.ly"
       },
       "data": [
        {
         "alignmentgroup": "True",
         "boxpoints": "all",
         "hovertemplate": "Status=extrahierte Feature-Modelle<br>Extractor=%{x}<br>Anzahl=%{y}<extra></extra>",
         "legendgroup": "extrahierte Feature-Modelle",
         "marker": {
          "color": "#636efa"
         },
         "name": "extrahierte Feature-Modelle",
         "notched": false,
         "offsetgroup": "extrahierte Feature-Modelle",
         "orientation": "v",
         "showlegend": true,
         "type": "box",
         "x": [
          "Configfixextractor",
          "KClause",
          "Kconfigreader",
          "Configfixextractor",
          "Configfixextractor",
          "KClause",
          "Kconfigreader",
          "Configfixextractor",
          "KClause",
          "Kconfigreader",
          "Configfixextractor",
          "KClause",
          "Kconfigreader",
          "Configfixextractor",
          "KClause",
          "Kconfigreader",
          "Configfixextractor",
          "KClause",
          "Kconfigreader",
          "Configfixextractor"
         ],
         "x0": " ",
         "xaxis": "x",
         "y": [
          24,
          24,
          24,
          64,
          117,
          111,
          111,
          10,
          10,
          10,
          1,
          1,
          1,
          1,
          1,
          1,
          143,
          143,
          143,
          49
         ],
         "y0": " ",
         "yaxis": "y"
        },
        {
         "alignmentgroup": "True",
         "boxpoints": "all",
         "hovertemplate": "Status=Nicht extrahierte Feature-Modelle<br>Extractor=%{x}<br>Anzahl=%{y}<extra></extra>",
         "legendgroup": "Nicht extrahierte Feature-Modelle",
         "marker": {
          "color": "#EF553B"
         },
         "name": "Nicht extrahierte Feature-Modelle",
         "notched": false,
         "offsetgroup": "Nicht extrahierte Feature-Modelle",
         "orientation": "v",
         "showlegend": true,
         "type": "box",
         "x": [
          "KClause",
          "Kconfigreader",
          "Configfixextractor",
          "KClause",
          "Kconfigreader",
          "Configfixextractor",
          "KClause",
          "Kconfigreader"
         ],
         "x0": " ",
         "xaxis": "x",
         "y": [
          64,
          64,
          25,
          31,
          31,
          1,
          50,
          50
         ],
         "y0": " ",
         "yaxis": "y"
        }
       ],
       "layout": {
        "boxmode": "group",
        "legend": {
         "title": {
          "text": "Status"
         },
         "tracegroupgap": 0
        },
        "paper_bgcolor": "white",
        "plot_bgcolor": "white",
        "template": {
         "data": {
          "bar": [
           {
            "error_x": {
             "color": "#2a3f5f"
            },
            "error_y": {
             "color": "#2a3f5f"
            },
            "marker": {
             "line": {
              "color": "#E5ECF6",
              "width": 0.5
             },
             "pattern": {
              "fillmode": "overlay",
              "size": 10,
              "solidity": 0.2
             }
            },
            "type": "bar"
           }
          ],
          "barpolar": [
           {
            "marker": {
             "line": {
              "color": "#E5ECF6",
              "width": 0.5
             },
             "pattern": {
              "fillmode": "overlay",
              "size": 10,
              "solidity": 0.2
             }
            },
            "type": "barpolar"
           }
          ],
          "carpet": [
           {
            "aaxis": {
             "endlinecolor": "#2a3f5f",
             "gridcolor": "white",
             "linecolor": "white",
             "minorgridcolor": "white",
             "startlinecolor": "#2a3f5f"
            },
            "baxis": {
             "endlinecolor": "#2a3f5f",
             "gridcolor": "white",
             "linecolor": "white",
             "minorgridcolor": "white",
             "startlinecolor": "#2a3f5f"
            },
            "type": "carpet"
           }
          ],
          "choropleth": [
           {
            "colorbar": {
             "outlinewidth": 0,
             "ticks": ""
            },
            "type": "choropleth"
           }
          ],
          "contour": [
           {
            "colorbar": {
             "outlinewidth": 0,
             "ticks": ""
            },
            "colorscale": [
             [
              0,
              "#0d0887"
             ],
             [
              0.1111111111111111,
              "#46039f"
             ],
             [
              0.2222222222222222,
              "#7201a8"
             ],
             [
              0.3333333333333333,
              "#9c179e"
             ],
             [
              0.4444444444444444,
              "#bd3786"
             ],
             [
              0.5555555555555556,
              "#d8576b"
             ],
             [
              0.6666666666666666,
              "#ed7953"
             ],
             [
              0.7777777777777778,
              "#fb9f3a"
             ],
             [
              0.8888888888888888,
              "#fdca26"
             ],
             [
              1,
              "#f0f921"
             ]
            ],
            "type": "contour"
           }
          ],
          "contourcarpet": [
           {
            "colorbar": {
             "outlinewidth": 0,
             "ticks": ""
            },
            "type": "contourcarpet"
           }
          ],
          "heatmap": [
           {
            "colorbar": {
             "outlinewidth": 0,
             "ticks": ""
            },
            "colorscale": [
             [
              0,
              "#0d0887"
             ],
             [
              0.1111111111111111,
              "#46039f"
             ],
             [
              0.2222222222222222,
              "#7201a8"
             ],
             [
              0.3333333333333333,
              "#9c179e"
             ],
             [
              0.4444444444444444,
              "#bd3786"
             ],
             [
              0.5555555555555556,
              "#d8576b"
             ],
             [
              0.6666666666666666,
              "#ed7953"
             ],
             [
              0.7777777777777778,
              "#fb9f3a"
             ],
             [
              0.8888888888888888,
              "#fdca26"
             ],
             [
              1,
              "#f0f921"
             ]
            ],
            "type": "heatmap"
           }
          ],
          "heatmapgl": [
           {
            "colorbar": {
             "outlinewidth": 0,
             "ticks": ""
            },
            "colorscale": [
             [
              0,
              "#0d0887"
             ],
             [
              0.1111111111111111,
              "#46039f"
             ],
             [
              0.2222222222222222,
              "#7201a8"
             ],
             [
              0.3333333333333333,
              "#9c179e"
             ],
             [
              0.4444444444444444,
              "#bd3786"
             ],
             [
              0.5555555555555556,
              "#d8576b"
             ],
             [
              0.6666666666666666,
              "#ed7953"
             ],
             [
              0.7777777777777778,
              "#fb9f3a"
             ],
             [
              0.8888888888888888,
              "#fdca26"
             ],
             [
              1,
              "#f0f921"
             ]
            ],
            "type": "heatmapgl"
           }
          ],
          "histogram": [
           {
            "marker": {
             "pattern": {
              "fillmode": "overlay",
              "size": 10,
              "solidity": 0.2
             }
            },
            "type": "histogram"
           }
          ],
          "histogram2d": [
           {
            "colorbar": {
             "outlinewidth": 0,
             "ticks": ""
            },
            "colorscale": [
             [
              0,
              "#0d0887"
             ],
             [
              0.1111111111111111,
              "#46039f"
             ],
             [
              0.2222222222222222,
              "#7201a8"
             ],
             [
              0.3333333333333333,
              "#9c179e"
             ],
             [
              0.4444444444444444,
              "#bd3786"
             ],
             [
              0.5555555555555556,
              "#d8576b"
             ],
             [
              0.6666666666666666,
              "#ed7953"
             ],
             [
              0.7777777777777778,
              "#fb9f3a"
             ],
             [
              0.8888888888888888,
              "#fdca26"
             ],
             [
              1,
              "#f0f921"
             ]
            ],
            "type": "histogram2d"
           }
          ],
          "histogram2dcontour": [
           {
            "colorbar": {
             "outlinewidth": 0,
             "ticks": ""
            },
            "colorscale": [
             [
              0,
              "#0d0887"
             ],
             [
              0.1111111111111111,
              "#46039f"
             ],
             [
              0.2222222222222222,
              "#7201a8"
             ],
             [
              0.3333333333333333,
              "#9c179e"
             ],
             [
              0.4444444444444444,
              "#bd3786"
             ],
             [
              0.5555555555555556,
              "#d8576b"
             ],
             [
              0.6666666666666666,
              "#ed7953"
             ],
             [
              0.7777777777777778,
              "#fb9f3a"
             ],
             [
              0.8888888888888888,
              "#fdca26"
             ],
             [
              1,
              "#f0f921"
             ]
            ],
            "type": "histogram2dcontour"
           }
          ],
          "mesh3d": [
           {
            "colorbar": {
             "outlinewidth": 0,
             "ticks": ""
            },
            "type": "mesh3d"
           }
          ],
          "parcoords": [
           {
            "line": {
             "colorbar": {
              "outlinewidth": 0,
              "ticks": ""
             }
            },
            "type": "parcoords"
           }
          ],
          "pie": [
           {
            "automargin": true,
            "type": "pie"
           }
          ],
          "scatter": [
           {
            "fillpattern": {
             "fillmode": "overlay",
             "size": 10,
             "solidity": 0.2
            },
            "type": "scatter"
           }
          ],
          "scatter3d": [
           {
            "line": {
             "colorbar": {
              "outlinewidth": 0,
              "ticks": ""
             }
            },
            "marker": {
             "colorbar": {
              "outlinewidth": 0,
              "ticks": ""
             }
            },
            "type": "scatter3d"
           }
          ],
          "scattercarpet": [
           {
            "marker": {
             "colorbar": {
              "outlinewidth": 0,
              "ticks": ""
             }
            },
            "type": "scattercarpet"
           }
          ],
          "scattergeo": [
           {
            "marker": {
             "colorbar": {
              "outlinewidth": 0,
              "ticks": ""
             }
            },
            "type": "scattergeo"
           }
          ],
          "scattergl": [
           {
            "marker": {
             "colorbar": {
              "outlinewidth": 0,
              "ticks": ""
             }
            },
            "type": "scattergl"
           }
          ],
          "scattermapbox": [
           {
            "marker": {
             "colorbar": {
              "outlinewidth": 0,
              "ticks": ""
             }
            },
            "type": "scattermapbox"
           }
          ],
          "scatterpolar": [
           {
            "marker": {
             "colorbar": {
              "outlinewidth": 0,
              "ticks": ""
             }
            },
            "type": "scatterpolar"
           }
          ],
          "scatterpolargl": [
           {
            "marker": {
             "colorbar": {
              "outlinewidth": 0,
              "ticks": ""
             }
            },
            "type": "scatterpolargl"
           }
          ],
          "scatterternary": [
           {
            "marker": {
             "colorbar": {
              "outlinewidth": 0,
              "ticks": ""
             }
            },
            "type": "scatterternary"
           }
          ],
          "surface": [
           {
            "colorbar": {
             "outlinewidth": 0,
             "ticks": ""
            },
            "colorscale": [
             [
              0,
              "#0d0887"
             ],
             [
              0.1111111111111111,
              "#46039f"
             ],
             [
              0.2222222222222222,
              "#7201a8"
             ],
             [
              0.3333333333333333,
              "#9c179e"
             ],
             [
              0.4444444444444444,
              "#bd3786"
             ],
             [
              0.5555555555555556,
              "#d8576b"
             ],
             [
              0.6666666666666666,
              "#ed7953"
             ],
             [
              0.7777777777777778,
              "#fb9f3a"
             ],
             [
              0.8888888888888888,
              "#fdca26"
             ],
             [
              1,
              "#f0f921"
             ]
            ],
            "type": "surface"
           }
          ],
          "table": [
           {
            "cells": {
             "fill": {
              "color": "#EBF0F8"
             },
             "line": {
              "color": "white"
             }
            },
            "header": {
             "fill": {
              "color": "#C8D4E3"
             },
             "line": {
              "color": "white"
             }
            },
            "type": "table"
           }
          ]
         },
         "layout": {
          "annotationdefaults": {
           "arrowcolor": "#2a3f5f",
           "arrowhead": 0,
           "arrowwidth": 1
          },
          "autotypenumbers": "strict",
          "coloraxis": {
           "colorbar": {
            "outlinewidth": 0,
            "ticks": ""
           }
          },
          "colorscale": {
           "diverging": [
            [
             0,
             "#8e0152"
            ],
            [
             0.1,
             "#c51b7d"
            ],
            [
             0.2,
             "#de77ae"
            ],
            [
             0.3,
             "#f1b6da"
            ],
            [
             0.4,
             "#fde0ef"
            ],
            [
             0.5,
             "#f7f7f7"
            ],
            [
             0.6,
             "#e6f5d0"
            ],
            [
             0.7,
             "#b8e186"
            ],
            [
             0.8,
             "#7fbc41"
            ],
            [
             0.9,
             "#4d9221"
            ],
            [
             1,
             "#276419"
            ]
           ],
           "sequential": [
            [
             0,
             "#0d0887"
            ],
            [
             0.1111111111111111,
             "#46039f"
            ],
            [
             0.2222222222222222,
             "#7201a8"
            ],
            [
             0.3333333333333333,
             "#9c179e"
            ],
            [
             0.4444444444444444,
             "#bd3786"
            ],
            [
             0.5555555555555556,
             "#d8576b"
            ],
            [
             0.6666666666666666,
             "#ed7953"
            ],
            [
             0.7777777777777778,
             "#fb9f3a"
            ],
            [
             0.8888888888888888,
             "#fdca26"
            ],
            [
             1,
             "#f0f921"
            ]
           ],
           "sequentialminus": [
            [
             0,
             "#0d0887"
            ],
            [
             0.1111111111111111,
             "#46039f"
            ],
            [
             0.2222222222222222,
             "#7201a8"
            ],
            [
             0.3333333333333333,
             "#9c179e"
            ],
            [
             0.4444444444444444,
             "#bd3786"
            ],
            [
             0.5555555555555556,
             "#d8576b"
            ],
            [
             0.6666666666666666,
             "#ed7953"
            ],
            [
             0.7777777777777778,
             "#fb9f3a"
            ],
            [
             0.8888888888888888,
             "#fdca26"
            ],
            [
             1,
             "#f0f921"
            ]
           ]
          },
          "colorway": [
           "#636efa",
           "#EF553B",
           "#00cc96",
           "#ab63fa",
           "#FFA15A",
           "#19d3f3",
           "#FF6692",
           "#B6E880",
           "#FF97FF",
           "#FECB52"
          ],
          "font": {
           "color": "#2a3f5f"
          },
          "geo": {
           "bgcolor": "white",
           "lakecolor": "white",
           "landcolor": "#E5ECF6",
           "showlakes": true,
           "showland": true,
           "subunitcolor": "white"
          },
          "hoverlabel": {
           "align": "left"
          },
          "hovermode": "closest",
          "mapbox": {
           "style": "light"
          },
          "paper_bgcolor": "white",
          "plot_bgcolor": "#E5ECF6",
          "polar": {
           "angularaxis": {
            "gridcolor": "white",
            "linecolor": "white",
            "ticks": ""
           },
           "bgcolor": "#E5ECF6",
           "radialaxis": {
            "gridcolor": "white",
            "linecolor": "white",
            "ticks": ""
           }
          },
          "scene": {
           "xaxis": {
            "backgroundcolor": "#E5ECF6",
            "gridcolor": "white",
            "gridwidth": 2,
            "linecolor": "white",
            "showbackground": true,
            "ticks": "",
            "zerolinecolor": "white"
           },
           "yaxis": {
            "backgroundcolor": "#E5ECF6",
            "gridcolor": "white",
            "gridwidth": 2,
            "linecolor": "white",
            "showbackground": true,
            "ticks": "",
            "zerolinecolor": "white"
           },
           "zaxis": {
            "backgroundcolor": "#E5ECF6",
            "gridcolor": "white",
            "gridwidth": 2,
            "linecolor": "white",
            "showbackground": true,
            "ticks": "",
            "zerolinecolor": "white"
           }
          },
          "shapedefaults": {
           "line": {
            "color": "#2a3f5f"
           }
          },
          "ternary": {
           "aaxis": {
            "gridcolor": "white",
            "linecolor": "white",
            "ticks": ""
           },
           "baxis": {
            "gridcolor": "white",
            "linecolor": "white",
            "ticks": ""
           },
           "bgcolor": "#E5ECF6",
           "caxis": {
            "gridcolor": "white",
            "linecolor": "white",
            "ticks": ""
           }
          },
          "title": {
           "x": 0.05
          },
          "xaxis": {
           "automargin": true,
           "gridcolor": "white",
           "linecolor": "white",
           "ticks": "",
           "title": {
            "standoff": 15
           },
           "zerolinecolor": "white",
           "zerolinewidth": 2
          },
          "yaxis": {
           "automargin": true,
           "gridcolor": "white",
           "linecolor": "white",
           "ticks": "",
           "title": {
            "standoff": 15
           },
           "zerolinecolor": "white",
           "zerolinewidth": 2
          }
         }
        },
        "title": {
         "text": "Verteilung der Anzahl extrahierter Modelle pro Extractor"
        },
        "xaxis": {
         "anchor": "y",
         "domain": [
          0,
          1
         ],
         "title": {
          "text": "Extractor"
         }
        },
        "yaxis": {
         "anchor": "x",
         "domain": [
          0,
          1
         ],
         "title": {
          "text": "Anzahl der Modelle"
         }
        }
       }
      },
      "image/png": "[encoded data removed]",
      "text/html": [
       "<div>                            <div id=\"b597cb86-f139-459d-af9d-75efdc0bc8f5\" class=\"plotly-graph-div\" style=\"height:525px; width:100%;\"></div>            <script type=\"text/javascript\">                require([\"plotly\"], function(Plotly) {                    window.PLOTLYENV=window.PLOTLYENV || {};                                    if (document.getElementById(\"b597cb86-f139-459d-af9d-75efdc0bc8f5\")) {                    Plotly.newPlot(                        \"b597cb86-f139-459d-af9d-75efdc0bc8f5\",                        [{\"alignmentgroup\":\"True\",\"boxpoints\":\"all\",\"hovertemplate\":\"Status=extrahierte Feature-Modelle\\u003cbr\\u003eExtractor=%{x}\\u003cbr\\u003eAnzahl=%{y}\\u003cextra\\u003e\\u003c\\u002fextra\\u003e\",\"legendgroup\":\"extrahierte Feature-Modelle\",\"marker\":{\"color\":\"#636efa\"},\"name\":\"extrahierte Feature-Modelle\",\"notched\":false,\"offsetgroup\":\"extrahierte Feature-Modelle\",\"orientation\":\"v\",\"showlegend\":true,\"x\":[\"Configfixextractor\",\"KClause\",\"Kconfigreader\",\"Configfixextractor\",\"Configfixextractor\",\"KClause\",\"Kconfigreader\",\"Configfixextractor\",\"KClause\",\"Kconfigreader\",\"Configfixextractor\",\"KClause\",\"Kconfigreader\",\"Configfixextractor\",\"KClause\",\"Kconfigreader\",\"Configfixextractor\",\"KClause\",\"Kconfigreader\",\"Configfixextractor\"],\"x0\":\" \",\"xaxis\":\"x\",\"y\":[24,24,24,64,117,111,111,10,10,10,1,1,1,1,1,1,143,143,143,49],\"y0\":\" \",\"yaxis\":\"y\",\"type\":\"box\"},{\"alignmentgroup\":\"True\",\"boxpoints\":\"all\",\"hovertemplate\":\"Status=Nicht extrahierte Feature-Modelle\\u003cbr\\u003eExtractor=%{x}\\u003cbr\\u003eAnzahl=%{y}\\u003cextra\\u003e\\u003c\\u002fextra\\u003e\",\"legendgroup\":\"Nicht extrahierte Feature-Modelle\",\"marker\":{\"color\":\"#EF553B\"},\"name\":\"Nicht extrahierte Feature-Modelle\",\"notched\":false,\"offsetgroup\":\"Nicht extrahierte Feature-Modelle\",\"orientation\":\"v\",\"showlegend\":true,\"x\":[\"KClause\",\"Kconfigreader\",\"Configfixextractor\",\"KClause\",\"Kconfigreader\",\"Configfixextractor\",\"KClause\",\"Kconfigreader\"],\"x0\":\" \",\"xaxis\":\"x\",\"y\":[64,64,25,31,31,1,50,50],\"y0\":\" \",\"yaxis\":\"y\",\"type\":\"box\"}],                        {\"template\":{\"data\":{\"histogram2dcontour\":[{\"type\":\"histogram2dcontour\",\"colorbar\":{\"outlinewidth\":0,\"ticks\":\"\"},\"colorscale\":[[0.0,\"#0d0887\"],[0.1111111111111111,\"#46039f\"],[0.2222222222222222,\"#7201a8\"],[0.3333333333333333,\"#9c179e\"],[0.4444444444444444,\"#bd3786\"],[0.5555555555555556,\"#d8576b\"],[0.6666666666666666,\"#ed7953\"],[0.7777777777777778,\"#fb9f3a\"],[0.8888888888888888,\"#fdca26\"],[1.0,\"#f0f921\"]]}],\"choropleth\":[{\"type\":\"choropleth\",\"colorbar\":{\"outlinewidth\":0,\"ticks\":\"\"}}],\"histogram2d\":[{\"type\":\"histogram2d\",\"colorbar\":{\"outlinewidth\":0,\"ticks\":\"\"},\"colorscale\":[[0.0,\"#0d0887\"],[0.1111111111111111,\"#46039f\"],[0.2222222222222222,\"#7201a8\"],[0.3333333333333333,\"#9c179e\"],[0.4444444444444444,\"#bd3786\"],[0.5555555555555556,\"#d8576b\"],[0.6666666666666666,\"#ed7953\"],[0.7777777777777778,\"#fb9f3a\"],[0.8888888888888888,\"#fdca26\"],[1.0,\"#f0f921\"]]}],\"heatmap\":[{\"type\":\"heatmap\",\"colorbar\":{\"outlinewidth\":0,\"ticks\":\"\"},\"colorscale\":[[0.0,\"#0d0887\"],[0.1111111111111111,\"#46039f\"],[0.2222222222222222,\"#7201a8\"],[0.3333333333333333,\"#9c179e\"],[0.4444444444444444,\"#bd3786\"],[0.5555555555555556,\"#d8576b\"],[0.6666666666666666,\"#ed7953\"],[0.7777777777777778,\"#fb9f3a\"],[0.8888888888888888,\"#fdca26\"],[1.0,\"#f0f921\"]]}],\"heatmapgl\":[{\"type\":\"heatmapgl\",\"colorbar\":{\"outlinewidth\":0,\"ticks\":\"\"},\"colorscale\":[[0.0,\"#0d0887\"],[0.1111111111111111,\"#46039f\"],[0.2222222222222222,\"#7201a8\"],[0.3333333333333333,\"#9c179e\"],[0.4444444444444444,\"#bd3786\"],[0.5555555555555556,\"#d8576b\"],[0.6666666666666666,\"#ed7953\"],[0.7777777777777778,\"#fb9f3a\"],[0.8888888888888888,\"#fdca26\"],[1.0,\"#f0f921\"]]}],\"contourcarpet\":[{\"type\":\"contourcarpet\",\"colorbar\":{\"outlinewidth\":0,\"ticks\":\"\"}}],\"contour\":[{\"type\":\"contour\",\"colorbar\":{\"outlinewidth\":0,\"ticks\":\"\"},\"colorscale\":[[0.0,\"#0d0887\"],[0.1111111111111111,\"#46039f\"],[0.2222222222222222,\"#7201a8\"],[0.3333333333333333,\"#9c179e\"],[0.4444444444444444,\"#bd3786\"],[0.5555555555555556,\"#d8576b\"],[0.6666666666666666,\"#ed7953\"],[0.7777777777777778,\"#fb9f3a\"],[0.8888888888888888,\"#fdca26\"],[1.0,\"#f0f921\"]]}],\"surface\":[{\"type\":\"surface\",\"colorbar\":{\"outlinewidth\":0,\"ticks\":\"\"},\"colorscale\":[[0.0,\"#0d0887\"],[0.1111111111111111,\"#46039f\"],[0.2222222222222222,\"#7201a8\"],[0.3333333333333333,\"#9c179e\"],[0.4444444444444444,\"#bd3786\"],[0.5555555555555556,\"#d8576b\"],[0.6666666666666666,\"#ed7953\"],[0.7777777777777778,\"#fb9f3a\"],[0.8888888888888888,\"#fdca26\"],[1.0,\"#f0f921\"]]}],\"mesh3d\":[{\"type\":\"mesh3d\",\"colorbar\":{\"outlinewidth\":0,\"ticks\":\"\"}}],\"scatter\":[{\"fillpattern\":{\"fillmode\":\"overlay\",\"size\":10,\"solidity\":0.2},\"type\":\"scatter\"}],\"parcoords\":[{\"type\":\"parcoords\",\"line\":{\"colorbar\":{\"outlinewidth\":0,\"ticks\":\"\"}}}],\"scatterpolargl\":[{\"type\":\"scatterpolargl\",\"marker\":{\"colorbar\":{\"outlinewidth\":0,\"ticks\":\"\"}}}],\"bar\":[{\"error_x\":{\"color\":\"#2a3f5f\"},\"error_y\":{\"color\":\"#2a3f5f\"},\"marker\":{\"line\":{\"color\":\"#E5ECF6\",\"width\":0.5},\"pattern\":{\"fillmode\":\"overlay\",\"size\":10,\"solidity\":0.2}},\"type\":\"bar\"}],\"scattergeo\":[{\"type\":\"scattergeo\",\"marker\":{\"colorbar\":{\"outlinewidth\":0,\"ticks\":\"\"}}}],\"scatterpolar\":[{\"type\":\"scatterpolar\",\"marker\":{\"colorbar\":{\"outlinewidth\":0,\"ticks\":\"\"}}}],\"histogram\":[{\"marker\":{\"pattern\":{\"fillmode\":\"overlay\",\"size\":10,\"solidity\":0.2}},\"type\":\"histogram\"}],\"scattergl\":[{\"type\":\"scattergl\",\"marker\":{\"colorbar\":{\"outlinewidth\":0,\"ticks\":\"\"}}}],\"scatter3d\":[{\"type\":\"scatter3d\",\"line\":{\"colorbar\":{\"outlinewidth\":0,\"ticks\":\"\"}},\"marker\":{\"colorbar\":{\"outlinewidth\":0,\"ticks\":\"\"}}}],\"scattermapbox\":[{\"type\":\"scattermapbox\",\"marker\":{\"colorbar\":{\"outlinewidth\":0,\"ticks\":\"\"}}}],\"scatterternary\":[{\"type\":\"scatterternary\",\"marker\":{\"colorbar\":{\"outlinewidth\":0,\"ticks\":\"\"}}}],\"scattercarpet\":[{\"type\":\"scattercarpet\",\"marker\":{\"colorbar\":{\"outlinewidth\":0,\"ticks\":\"\"}}}],\"carpet\":[{\"aaxis\":{\"endlinecolor\":\"#2a3f5f\",\"gridcolor\":\"white\",\"linecolor\":\"white\",\"minorgridcolor\":\"white\",\"startlinecolor\":\"#2a3f5f\"},\"baxis\":{\"endlinecolor\":\"#2a3f5f\",\"gridcolor\":\"white\",\"linecolor\":\"white\",\"minorgridcolor\":\"white\",\"startlinecolor\":\"#2a3f5f\"},\"type\":\"carpet\"}],\"table\":[{\"cells\":{\"fill\":{\"color\":\"#EBF0F8\"},\"line\":{\"color\":\"white\"}},\"header\":{\"fill\":{\"color\":\"#C8D4E3\"},\"line\":{\"color\":\"white\"}},\"type\":\"table\"}],\"barpolar\":[{\"marker\":{\"line\":{\"color\":\"#E5ECF6\",\"width\":0.5},\"pattern\":{\"fillmode\":\"overlay\",\"size\":10,\"solidity\":0.2}},\"type\":\"barpolar\"}],\"pie\":[{\"automargin\":true,\"type\":\"pie\"}]},\"layout\":{\"autotypenumbers\":\"strict\",\"colorway\":[\"#636efa\",\"#EF553B\",\"#00cc96\",\"#ab63fa\",\"#FFA15A\",\"#19d3f3\",\"#FF6692\",\"#B6E880\",\"#FF97FF\",\"#FECB52\"],\"font\":{\"color\":\"#2a3f5f\"},\"hovermode\":\"closest\",\"hoverlabel\":{\"align\":\"left\"},\"paper_bgcolor\":\"white\",\"plot_bgcolor\":\"#E5ECF6\",\"polar\":{\"bgcolor\":\"#E5ECF6\",\"angularaxis\":{\"gridcolor\":\"white\",\"linecolor\":\"white\",\"ticks\":\"\"},\"radialaxis\":{\"gridcolor\":\"white\",\"linecolor\":\"white\",\"ticks\":\"\"}},\"ternary\":{\"bgcolor\":\"#E5ECF6\",\"aaxis\":{\"gridcolor\":\"white\",\"linecolor\":\"white\",\"ticks\":\"\"},\"baxis\":{\"gridcolor\":\"white\",\"linecolor\":\"white\",\"ticks\":\"\"},\"caxis\":{\"gridcolor\":\"white\",\"linecolor\":\"white\",\"ticks\":\"\"}},\"coloraxis\":{\"colorbar\":{\"outlinewidth\":0,\"ticks\":\"\"}},\"colorscale\":{\"sequential\":[[0.0,\"#0d0887\"],[0.1111111111111111,\"#46039f\"],[0.2222222222222222,\"#7201a8\"],[0.3333333333333333,\"#9c179e\"],[0.4444444444444444,\"#bd3786\"],[0.5555555555555556,\"#d8576b\"],[0.6666666666666666,\"#ed7953\"],[0.7777777777777778,\"#fb9f3a\"],[0.8888888888888888,\"#fdca26\"],[1.0,\"#f0f921\"]],\"sequentialminus\":[[0.0,\"#0d0887\"],[0.1111111111111111,\"#46039f\"],[0.2222222222222222,\"#7201a8\"],[0.3333333333333333,\"#9c179e\"],[0.4444444444444444,\"#bd3786\"],[0.5555555555555556,\"#d8576b\"],[0.6666666666666666,\"#ed7953\"],[0.7777777777777778,\"#fb9f3a\"],[0.8888888888888888,\"#fdca26\"],[1.0,\"#f0f921\"]],\"diverging\":[[0,\"#8e0152\"],[0.1,\"#c51b7d\"],[0.2,\"#de77ae\"],[0.3,\"#f1b6da\"],[0.4,\"#fde0ef\"],[0.5,\"#f7f7f7\"],[0.6,\"#e6f5d0\"],[0.7,\"#b8e186\"],[0.8,\"#7fbc41\"],[0.9,\"#4d9221\"],[1,\"#276419\"]]},\"xaxis\":{\"gridcolor\":\"white\",\"linecolor\":\"white\",\"ticks\":\"\",\"title\":{\"standoff\":15},\"zerolinecolor\":\"white\",\"automargin\":true,\"zerolinewidth\":2},\"yaxis\":{\"gridcolor\":\"white\",\"linecolor\":\"white\",\"ticks\":\"\",\"title\":{\"standoff\":15},\"zerolinecolor\":\"white\",\"automargin\":true,\"zerolinewidth\":2},\"scene\":{\"xaxis\":{\"backgroundcolor\":\"#E5ECF6\",\"gridcolor\":\"white\",\"linecolor\":\"white\",\"showbackground\":true,\"ticks\":\"\",\"zerolinecolor\":\"white\",\"gridwidth\":2},\"yaxis\":{\"backgroundcolor\":\"#E5ECF6\",\"gridcolor\":\"white\",\"linecolor\":\"white\",\"showbackground\":true,\"ticks\":\"\",\"zerolinecolor\":\"white\",\"gridwidth\":2},\"zaxis\":{\"backgroundcolor\":\"#E5ECF6\",\"gridcolor\":\"white\",\"linecolor\":\"white\",\"showbackground\":true,\"ticks\":\"\",\"zerolinecolor\":\"white\",\"gridwidth\":2}},\"shapedefaults\":{\"line\":{\"color\":\"#2a3f5f\"}},\"annotationdefaults\":{\"arrowcolor\":\"#2a3f5f\",\"arrowhead\":0,\"arrowwidth\":1},\"geo\":{\"bgcolor\":\"white\",\"landcolor\":\"#E5ECF6\",\"subunitcolor\":\"white\",\"showland\":true,\"showlakes\":true,\"lakecolor\":\"white\"},\"title\":{\"x\":0.05},\"mapbox\":{\"style\":\"light\"}}},\"xaxis\":{\"anchor\":\"y\",\"domain\":[0.0,1.0],\"title\":{\"text\":\"Extractor\"}},\"yaxis\":{\"anchor\":\"x\",\"domain\":[0.0,1.0],\"title\":{\"text\":\"Anzahl der Modelle\"}},\"legend\":{\"title\":{\"text\":\"Status\"},\"tracegroupgap\":0},\"title\":{\"text\":\"Verteilung der Anzahl extrahierter Modelle pro Extractor\"},\"boxmode\":\"group\",\"plot_bgcolor\":\"white\",\"paper_bgcolor\":\"white\"},                        {\"responsive\": true}                    ).then(function(){\n",
       "                            \n",
       "var gd = document.getElementById('b597cb86-f139-459d-af9d-75efdc0bc8f5');\n",
       "var x = new MutationObserver(function (mutations, observer) {{\n",
       "        var display = window.getComputedStyle(gd).display;\n",
       "        if (!display || display === 'none') {{\n",
       "            console.log([gd, 'removed!']);\n",
       "            Plotly.purge(gd);\n",
       "            observer.disconnect();\n",
       "        }}\n",
       "}});\n",
       "\n",
       "// Listen for the removal of the full notebook cells\n",
       "var notebookContainer = gd.closest('#notebook-container');\n",
       "if (notebookContainer) {{\n",
       "    x.observe(notebookContainer, {childList: true});\n",
       "}}\n",
       "\n",
       "// Listen for the clearing of the current output cell\n",
       "var outputEl = gd.closest('.output');\n",
       "if (outputEl) {{\n",
       "    x.observe(outputEl, {childList: true});\n",
       "}}\n",
       "\n",
       "                        })                };                });            </script>        </div>"
      ]
     },
     "metadata": {},
     "output_type": "display_data"
    }
   ],
   "source": [
    "import pandas as pd\n",
    "import plotly.express as px\n",
    "\n",
    "# Einlesen der drei CSV-Dateien\n",
    "file_configfixextractor = '/home/rami/configFixextractor/kconfig/output.csv'\n",
    "file_kmax = '/home/rami/kmax/kconfig/output.csv'\n",
    "file_Kconfigreader = '/home/rami/Kconfigreader/kconfig/output.csv'\n",
    "\n",
    "df_configfixextractor = pd.read_csv(file_configfixextractor)\n",
    "df_kmax = pd.read_csv(file_kmax)\n",
    "df_Kconfigreader = pd.read_csv(file_Kconfigreader)\n",
    "\n",
    "# Relevante Spalten auswählen und 'Extractor' Spalte hinzufügen\n",
    "df_configfixextractor_filtered = df_configfixextractor[['system', 'revision', 'model-file']].copy()\n",
    "df_configfixextractor_filtered['Extractor'] = 'Configfixextractor'\n",
    "\n",
    "df_kmax_filtered = df_kmax[['system', 'revision', 'model-file']].copy()\n",
    "df_kmax_filtered['Extractor'] = 'KClause'\n",
    "\n",
    "df_Kconfigreader_filtered = df_Kconfigreader[['system', 'revision', 'model-file']].copy()\n",
    "df_Kconfigreader_filtered['Extractor'] = 'Kconfigreader'\n",
    "\n",
    "# Kombiniere alle DataFrames\n",
    "df_combined = pd.concat([df_configfixextractor_filtered, df_kmax_filtered, df_Kconfigreader_filtered], ignore_index=True)\n",
    "\n",
    "# Status basierend auf 'model-file'\n",
    "df_combined['status'] = df_combined.apply(\n",
    "    lambda row: 'extrahierte Feature-Modelle' if pd.notna(row['model-file']) else 'Nicht extrahierte Feature-Modelle',\n",
    "    axis=1\n",
    ")\n",
    "\n",
    "# Gruppieren der Daten nach 'system', 'Extractor' und 'status' und Anzahl berechnen\n",
    "df_summary_combined = df_combined.groupby(['system', 'Extractor', 'status']).size().reset_index(name='count')\n",
    "\n",
    "# Boxplot erstellen\n",
    "fig = px.box(\n",
    "    df_summary_combined,\n",
    "    x='Extractor',\n",
    "    y='count',\n",
    "    color='status',\n",
    "    title='Verteilung der Anzahl extrahierter Modelle pro Extractor',\n",
    "    labels={'count': 'Anzahl', 'Extractor': 'Extractor', 'status': 'Status'},\n",
    "    points='all'  # Zeigt die zugrundeliegenden Datenpunkte\n",
    ")\n",
    "\n",
    "# Layout-Anpassungen\n",
    "fig.update_layout(\n",
    "    xaxis_title='Extractor',\n",
    "    yaxis_title='Anzahl der Modelle',\n",
    "    legend_title='Status',\n",
    "    plot_bgcolor='white',\n",
    "    paper_bgcolor='white'\n",
    ")\n",
    "\n",
    "# Boxplot anzeigen\n",
    "fig.show()\n"
   ]
  },
  {
   "cell_type": "code",
   "execution_count": 54,
   "id": "bcc31e19-7187-45b1-b032-8c2b891791be",
   "metadata": {},
   "outputs": [
    {
     "data": {
      "application/vnd.plotly.v1+json": {
       "config": {
        "plotlyServerURL": "https://plot.ly"
       },
       "data": [
        {
         "alignmentgroup": "True",
         "boxpoints": "all",
         "hovertemplate": "Extractor=%{x}<br>Verarbeitungszeit (Nanosekunden)=%{y}<extra></extra>",
         "legendgroup": "",
         "marker": {
          "color": "#636efa"
         },
         "name": "",
         "notched": false,
         "offsetgroup": "",
         "orientation": "v",
         "showlegend": false,
         "type": "box",
         "x": [
          "Configfixextractor",
          "Configfixextractor",
          "Configfixextractor",
          "Configfixextractor",
          "Configfixextractor",
          "Configfixextractor",
          "Configfixextractor",
          "Configfixextractor",
          "Configfixextractor",
          "Configfixextractor",
          "Configfixextractor",
          "Configfixextractor",
          "Configfixextractor",
          "Configfixextractor",
          "Configfixextractor",
          "Configfixextractor",
          "Configfixextractor",
          "Configfixextractor",
          "Configfixextractor",
          "Configfixextractor",
          "Configfixextractor",
          "Configfixextractor",
          "Configfixextractor",
          "Configfixextractor",
          "Configfixextractor",
          "Configfixextractor",
          "Configfixextractor",
          "Configfixextractor",
          "Configfixextractor",
          "Configfixextractor",
          "Configfixextractor",
          "Configfixextractor",
          "Configfixextractor",
          "Configfixextractor",
          "Configfixextractor",
          "Configfixextractor",
          "Configfixextractor",
          "Configfixextractor",
          "Configfixextractor",
          "Configfixextractor",
          "Configfixextractor",
          "Configfixextractor",
          "Configfixextractor",
          "Configfixextractor",
          "Configfixextractor",
          "Configfixextractor",
          "Configfixextractor",
          "Configfixextractor",
          "Configfixextractor",
          "Configfixextractor",
          "Configfixextractor",
          "Configfixextractor",
          "Configfixextractor",
          "Configfixextractor",
          "Configfixextractor",
          "Configfixextractor",
          "Configfixextractor",
          "Configfixextractor",
          "Configfixextractor",
          "Configfixextractor",
          "Configfixextractor",
          "Configfixextractor",
          "Configfixextractor",
          "Configfixextractor",
          "Configfixextractor",
          "Configfixextractor",
          "Configfixextractor",
          "Configfixextractor",
          "Configfixextractor",
          "Configfixextractor",
          "Configfixextractor",
          "Configfixextractor",
          "Configfixextractor",
          "Configfixextractor",
          "Configfixextractor",
          "Configfixextractor",
          "Configfixextractor",
          "Configfixextractor",
          "Configfixextractor",
          "Configfixextractor",
          "Configfixextractor",
          "Configfixextractor",
          "Configfixextractor",
          "Configfixextractor",
          "Configfixextractor",
          "Configfixextractor",
          "Configfixextractor",
          "Configfixextractor",
          "Configfixextractor",
          "Configfixextractor",
          "Configfixextractor",
          "Configfixextractor",
          "Configfixextractor",
          "Configfixextractor",
          "Configfixextractor",
          "Configfixextractor",
          "Configfixextractor",
          "Configfixextractor",
          "Configfixextractor",
          "Configfixextractor",
          "Configfixextractor",
          "Configfixextractor",
          "Configfixextractor",
          "Configfixextractor",
          "Configfixextractor",
          "Configfixextractor",
          "Configfixextractor",
          "Configfixextractor",
          "Configfixextractor",
          "Configfixextractor",
          "Configfixextractor",
          "Configfixextractor",
          "Configfixextractor",
          "Configfixextractor",
          "Configfixextractor",
          "Configfixextractor",
          "Configfixextractor",
          "Configfixextractor",
          "Configfixextractor",
          "Configfixextractor",
          "Configfixextractor",
          "Configfixextractor",
          "Configfixextractor",
          "Configfixextractor",
          "Configfixextractor",
          "Configfixextractor",
          "Configfixextractor",
          "Configfixextractor",
          "Configfixextractor",
          "Configfixextractor",
          "Configfixextractor",
          "Configfixextractor",
          "Configfixextractor",
          "Configfixextractor",
          "Configfixextractor",
          "Configfixextractor",
          "Configfixextractor",
          "Configfixextractor",
          "Configfixextractor",
          "Configfixextractor",
          "Configfixextractor",
          "Configfixextractor",
          "Configfixextractor",
          "Configfixextractor",
          "Configfixextractor",
          "Configfixextractor",
          "Configfixextractor",
          "Configfixextractor",
          "Configfixextractor",
          "Configfixextractor",
          "Configfixextractor",
          "Configfixextractor",
          "Configfixextractor",
          "Configfixextractor",
          "Configfixextractor",
          "Configfixextractor",
          "Configfixextractor",
          "Configfixextractor",
          "Configfixextractor",
          "Configfixextractor",
          "Configfixextractor",
          "Configfixextractor",
          "Configfixextractor",
          "Configfixextractor",
          "Configfixextractor",
          "Configfixextractor",
          "Configfixextractor",
          "Configfixextractor",
          "Configfixextractor",
          "Configfixextractor",
          "Configfixextractor",
          "Configfixextractor",
          "Configfixextractor",
          "Configfixextractor",
          "Configfixextractor",
          "Configfixextractor",
          "Configfixextractor",
          "Configfixextractor",
          "Configfixextractor",
          "Configfixextractor",
          "Configfixextractor",
          "Configfixextractor",
          "Configfixextractor",
          "Configfixextractor",
          "Configfixextractor",
          "Configfixextractor",
          "Configfixextractor",
          "Configfixextractor",
          "Configfixextractor",
          "Configfixextractor",
          "Configfixextractor",
          "Configfixextractor",
          "Configfixextractor",
          "Configfixextractor",
          "Configfixextractor",
          "Configfixextractor",
          "Configfixextractor",
          "Configfixextractor",
          "Configfixextractor",
          "Configfixextractor",
          "Configfixextractor",
          "Configfixextractor",
          "Configfixextractor",
          "Configfixextractor",
          "Configfixextractor",
          "Configfixextractor",
          "Configfixextractor",
          "Configfixextractor",
          "Configfixextractor",
          "Configfixextractor",
          "Configfixextractor",
          "Configfixextractor",
          "Configfixextractor",
          "Configfixextractor",
          "Configfixextractor",
          "Configfixextractor",
          "Configfixextractor",
          "Configfixextractor",
          "Configfixextractor",
          "Configfixextractor",
          "Configfixextractor",
          "Configfixextractor",
          "Configfixextractor",
          "Configfixextractor",
          "Configfixextractor",
          "Configfixextractor",
          "Configfixextractor",
          "Configfixextractor",
          "Configfixextractor",
          "Configfixextractor",
          "Configfixextractor",
          "Configfixextractor",
          "Configfixextractor",
          "Configfixextractor",
          "Configfixextractor",
          "Configfixextractor",
          "Configfixextractor",
          "Configfixextractor",
          "Configfixextractor",
          "Configfixextractor",
          "Configfixextractor",
          "Configfixextractor",
          "Configfixextractor",
          "Configfixextractor",
          "Configfixextractor",
          "Configfixextractor",
          "Configfixextractor",
          "Configfixextractor",
          "Configfixextractor",
          "Configfixextractor",
          "Configfixextractor",
          "Configfixextractor",
          "Configfixextractor",
          "Configfixextractor",
          "Configfixextractor",
          "Configfixextractor",
          "Configfixextractor",
          "Configfixextractor",
          "Configfixextractor",
          "Configfixextractor",
          "Configfixextractor",
          "Configfixextractor",
          "Configfixextractor",
          "Configfixextractor",
          "Configfixextractor",
          "Configfixextractor",
          "Configfixextractor",
          "Configfixextractor",
          "Configfixextractor",
          "Configfixextractor",
          "Configfixextractor",
          "Configfixextractor",
          "Configfixextractor",
          "Configfixextractor",
          "Configfixextractor",
          "Configfixextractor",
          "Configfixextractor",
          "Configfixextractor",
          "Configfixextractor",
          "Configfixextractor",
          "Configfixextractor",
          "Configfixextractor",
          "Configfixextractor",
          "Configfixextractor",
          "Configfixextractor",
          "Configfixextractor",
          "Configfixextractor",
          "Configfixextractor",
          "Configfixextractor",
          "Configfixextractor",
          "Configfixextractor",
          "Configfixextractor",
          "Configfixextractor",
          "Configfixextractor",
          "Configfixextractor",
          "Configfixextractor",
          "Configfixextractor",
          "Configfixextractor",
          "Configfixextractor",
          "Configfixextractor",
          "Configfixextractor",
          "Configfixextractor",
          "Configfixextractor",
          "Configfixextractor",
          "Configfixextractor",
          "Configfixextractor",
          "Configfixextractor",
          "Configfixextractor",
          "Configfixextractor",
          "Configfixextractor",
          "Configfixextractor",
          "Configfixextractor",
          "Configfixextractor",
          "Configfixextractor",
          "Configfixextractor",
          "Configfixextractor",
          "Configfixextractor",
          "Configfixextractor",
          "Configfixextractor",
          "Configfixextractor",
          "Configfixextractor",
          "Configfixextractor",
          "Configfixextractor",
          "Configfixextractor",
          "Configfixextractor",
          "Configfixextractor",
          "Configfixextractor",
          "Configfixextractor",
          "Configfixextractor",
          "Configfixextractor",
          "Configfixextractor",
          "Configfixextractor",
          "Configfixextractor",
          "Configfixextractor",
          "Configfixextractor",
          "Configfixextractor",
          "Configfixextractor",
          "Configfixextractor",
          "Configfixextractor",
          "Configfixextractor",
          "Configfixextractor",
          "Configfixextractor",
          "Configfixextractor",
          "Configfixextractor",
          "Configfixextractor",
          "Configfixextractor",
          "Configfixextractor",
          "Configfixextractor",
          "Configfixextractor",
          "Configfixextractor",
          "Configfixextractor",
          "Configfixextractor",
          "Configfixextractor",
          "Configfixextractor",
          "Configfixextractor",
          "Configfixextractor",
          "Configfixextractor",
          "Configfixextractor",
          "Configfixextractor",
          "Configfixextractor",
          "Configfixextractor",
          "Configfixextractor",
          "Configfixextractor",
          "Configfixextractor",
          "Configfixextractor",
          "Configfixextractor",
          "Configfixextractor",
          "Configfixextractor",
          "Configfixextractor",
          "Configfixextractor",
          "Configfixextractor",
          "Configfixextractor",
          "Configfixextractor",
          "Configfixextractor",
          "Configfixextractor",
          "Configfixextractor",
          "Configfixextractor",
          "Configfixextractor",
          "Configfixextractor",
          "Configfixextractor",
          "Configfixextractor",
          "Configfixextractor",
          "Configfixextractor",
          "Configfixextractor",
          "Configfixextractor",
          "Configfixextractor",
          "Configfixextractor",
          "Configfixextractor",
          "Configfixextractor",
          "Configfixextractor",
          "Configfixextractor",
          "Configfixextractor",
          "Configfixextractor",
          "Configfixextractor",
          "Configfixextractor",
          "Configfixextractor",
          "Configfixextractor",
          "Configfixextractor",
          "Configfixextractor",
          "Configfixextractor",
          "Configfixextractor",
          "Configfixextractor",
          "Configfixextractor",
          "Configfixextractor",
          "Configfixextractor",
          "Configfixextractor",
          "Configfixextractor",
          "Configfixextractor",
          "Configfixextractor",
          "Configfixextractor",
          "Configfixextractor",
          "Configfixextractor",
          "Configfixextractor",
          "Configfixextractor",
          "Configfixextractor",
          "Configfixextractor",
          "Configfixextractor",
          "Configfixextractor",
          "Configfixextractor",
          "Configfixextractor",
          "Configfixextractor",
          "Configfixextractor",
          "Configfixextractor",
          "Configfixextractor",
          "Configfixextractor",
          "Configfixextractor",
          "Configfixextractor",
          "Configfixextractor",
          "Configfixextractor",
          "Configfixextractor",
          "Configfixextractor",
          "Configfixextractor",
          "Configfixextractor",
          "Configfixextractor",
          "KClause",
          "KClause",
          "KClause",
          "KClause",
          "KClause",
          "KClause",
          "KClause",
          "KClause",
          "KClause",
          "KClause",
          "KClause",
          "KClause",
          "KClause",
          "KClause",
          "KClause",
          "KClause",
          "KClause",
          "KClause",
          "KClause",
          "KClause",
          "KClause",
          "KClause",
          "KClause",
          "KClause",
          "KClause",
          "KClause",
          "KClause",
          "KClause",
          "KClause",
          "KClause",
          "KClause",
          "KClause",
          "KClause",
          "KClause",
          "KClause",
          "KClause",
          "KClause",
          "KClause",
          "KClause",
          "KClause",
          "KClause",
          "KClause",
          "KClause",
          "KClause",
          "KClause",
          "KClause",
          "KClause",
          "KClause",
          "KClause",
          "KClause",
          "KClause",
          "KClause",
          "KClause",
          "KClause",
          "KClause",
          "KClause",
          "KClause",
          "KClause",
          "KClause",
          "KClause",
          "KClause",
          "KClause",
          "KClause",
          "KClause",
          "KClause",
          "KClause",
          "KClause",
          "KClause",
          "KClause",
          "KClause",
          "KClause",
          "KClause",
          "KClause",
          "KClause",
          "KClause",
          "KClause",
          "KClause",
          "KClause",
          "KClause",
          "KClause",
          "KClause",
          "KClause",
          "KClause",
          "KClause",
          "KClause",
          "KClause",
          "KClause",
          "KClause",
          "KClause",
          "KClause",
          "KClause",
          "KClause",
          "KClause",
          "KClause",
          "KClause",
          "KClause",
          "KClause",
          "KClause",
          "KClause",
          "KClause",
          "KClause",
          "KClause",
          "KClause",
          "KClause",
          "KClause",
          "KClause",
          "KClause",
          "KClause",
          "KClause",
          "KClause",
          "KClause",
          "KClause",
          "KClause",
          "KClause",
          "KClause",
          "KClause",
          "KClause",
          "KClause",
          "KClause",
          "KClause",
          "KClause",
          "KClause",
          "KClause",
          "KClause",
          "KClause",
          "KClause",
          "KClause",
          "KClause",
          "KClause",
          "KClause",
          "KClause",
          "KClause",
          "KClause",
          "KClause",
          "KClause",
          "KClause",
          "KClause",
          "KClause",
          "KClause",
          "KClause",
          "KClause",
          "KClause",
          "KClause",
          "KClause",
          "KClause",
          "KClause",
          "KClause",
          "KClause",
          "KClause",
          "KClause",
          "KClause",
          "KClause",
          "KClause",
          "KClause",
          "KClause",
          "KClause",
          "KClause",
          "KClause",
          "KClause",
          "KClause",
          "KClause",
          "KClause",
          "KClause",
          "KClause",
          "KClause",
          "KClause",
          "KClause",
          "KClause",
          "KClause",
          "KClause",
          "KClause",
          "KClause",
          "KClause",
          "KClause",
          "KClause",
          "KClause",
          "KClause",
          "KClause",
          "KClause",
          "KClause",
          "KClause",
          "KClause",
          "KClause",
          "KClause",
          "KClause",
          "KClause",
          "KClause",
          "KClause",
          "KClause",
          "KClause",
          "KClause",
          "KClause",
          "KClause",
          "KClause",
          "KClause",
          "KClause",
          "KClause",
          "KClause",
          "KClause",
          "KClause",
          "KClause",
          "KClause",
          "KClause",
          "KClause",
          "KClause",
          "KClause",
          "KClause",
          "KClause",
          "KClause",
          "KClause",
          "KClause",
          "KClause",
          "KClause",
          "KClause",
          "KClause",
          "KClause",
          "KClause",
          "KClause",
          "KClause",
          "KClause",
          "KClause",
          "KClause",
          "KClause",
          "KClause",
          "KClause",
          "KClause",
          "KClause",
          "KClause",
          "KClause",
          "KClause",
          "KClause",
          "KClause",
          "KClause",
          "KClause",
          "KClause",
          "KClause",
          "KClause",
          "KClause",
          "KClause",
          "KClause",
          "KClause",
          "KClause",
          "KClause",
          "KClause",
          "KClause",
          "KClause",
          "KClause",
          "KClause",
          "KClause",
          "KClause",
          "KClause",
          "KClause",
          "KClause",
          "KClause",
          "KClause",
          "KClause",
          "KClause",
          "KClause",
          "KClause",
          "KClause",
          "KClause",
          "KClause",
          "KClause",
          "KClause",
          "KClause",
          "KClause",
          "KClause",
          "KClause",
          "KClause",
          "KClause",
          "KClause",
          "KClause",
          "KClause",
          "KClause",
          "KClause",
          "KClause",
          "KClause",
          "KClause",
          "KClause",
          "KClause",
          "KClause",
          "KClause",
          "KClause",
          "KClause",
          "KClause",
          "KClause",
          "KClause",
          "KClause",
          "KClause",
          "KClause",
          "KClause",
          "KClause",
          "KClause",
          "KClause",
          "KClause",
          "KClause",
          "KClause",
          "KClause",
          "KClause",
          "KClause",
          "KClause",
          "KClause",
          "KClause",
          "KClause",
          "KClause",
          "KClause",
          "KClause",
          "KClause",
          "KClause",
          "KClause",
          "KClause",
          "KClause",
          "KClause",
          "KClause",
          "KClause",
          "KClause",
          "KClause",
          "KClause",
          "KClause",
          "KClause",
          "KClause",
          "KClause",
          "KClause",
          "KClause",
          "KClause",
          "KClause",
          "KClause",
          "KClause",
          "KClause",
          "KClause",
          "KClause",
          "KClause",
          "KClause",
          "KClause",
          "KClause",
          "KClause",
          "KClause",
          "KClause",
          "KClause",
          "KClause",
          "KClause",
          "KClause",
          "KClause",
          "KClause",
          "KClause",
          "KClause",
          "KClause",
          "KClause",
          "KClause",
          "KClause",
          "KClause",
          "KClause",
          "KClause",
          "KClause",
          "KClause",
          "KClause",
          "KClause",
          "KClause",
          "KClause",
          "KClause",
          "KClause",
          "KClause",
          "KClause",
          "KClause",
          "KClause",
          "KClause",
          "KClause",
          "KClause",
          "KClause",
          "KClause",
          "KClause",
          "KClause",
          "KClause",
          "KClause",
          "KClause",
          "KClause",
          "KClause",
          "KClause",
          "KClause",
          "KClause",
          "KClause",
          "KClause",
          "KClause",
          "KClause",
          "KClause",
          "KClause",
          "KClause",
          "KClause",
          "KClause",
          "KClause",
          "KClause",
          "KClause",
          "KClause",
          "KClause",
          "KClause",
          "KClause",
          "KClause",
          "KClause",
          "KClause",
          "KClause",
          "KClause",
          "KClause",
          "KClause",
          "KClause",
          "KClause",
          "KClause",
          "KClause",
          "KClause",
          "KClause",
          "KClause",
          "KClause",
          "KClause",
          "KClause",
          "KClause",
          "KClause",
          "KClause",
          "KClause",
          "KClause",
          "KClause",
          "KClause",
          "KClause",
          "KClause",
          "KClause",
          "KClause",
          "KClause",
          "KClause",
          "KClause",
          "KClause",
          "KClause",
          "KClause",
          "KClause",
          "KClause",
          "KClause",
          "KClause",
          "Kconfigreader",
          "Kconfigreader",
          "Kconfigreader",
          "Kconfigreader",
          "Kconfigreader",
          "Kconfigreader",
          "Kconfigreader",
          "Kconfigreader",
          "Kconfigreader",
          "Kconfigreader",
          "Kconfigreader",
          "Kconfigreader",
          "Kconfigreader",
          "Kconfigreader",
          "Kconfigreader",
          "Kconfigreader",
          "Kconfigreader",
          "Kconfigreader",
          "Kconfigreader",
          "Kconfigreader",
          "Kconfigreader",
          "Kconfigreader",
          "Kconfigreader",
          "Kconfigreader",
          "Kconfigreader",
          "Kconfigreader",
          "Kconfigreader",
          "Kconfigreader",
          "Kconfigreader",
          "Kconfigreader",
          "Kconfigreader",
          "Kconfigreader",
          "Kconfigreader",
          "Kconfigreader",
          "Kconfigreader",
          "Kconfigreader",
          "Kconfigreader",
          "Kconfigreader",
          "Kconfigreader",
          "Kconfigreader",
          "Kconfigreader",
          "Kconfigreader",
          "Kconfigreader",
          "Kconfigreader",
          "Kconfigreader",
          "Kconfigreader",
          "Kconfigreader",
          "Kconfigreader",
          "Kconfigreader",
          "Kconfigreader",
          "Kconfigreader",
          "Kconfigreader",
          "Kconfigreader",
          "Kconfigreader",
          "Kconfigreader",
          "Kconfigreader",
          "Kconfigreader",
          "Kconfigreader",
          "Kconfigreader",
          "Kconfigreader",
          "Kconfigreader",
          "Kconfigreader",
          "Kconfigreader",
          "Kconfigreader",
          "Kconfigreader",
          "Kconfigreader",
          "Kconfigreader",
          "Kconfigreader",
          "Kconfigreader",
          "Kconfigreader",
          "Kconfigreader",
          "Kconfigreader",
          "Kconfigreader",
          "Kconfigreader",
          "Kconfigreader",
          "Kconfigreader",
          "Kconfigreader",
          "Kconfigreader",
          "Kconfigreader",
          "Kconfigreader",
          "Kconfigreader",
          "Kconfigreader",
          "Kconfigreader",
          "Kconfigreader",
          "Kconfigreader",
          "Kconfigreader",
          "Kconfigreader",
          "Kconfigreader",
          "Kconfigreader",
          "Kconfigreader",
          "Kconfigreader",
          "Kconfigreader",
          "Kconfigreader",
          "Kconfigreader",
          "Kconfigreader",
          "Kconfigreader",
          "Kconfigreader",
          "Kconfigreader",
          "Kconfigreader",
          "Kconfigreader",
          "Kconfigreader",
          "Kconfigreader",
          "Kconfigreader",
          "Kconfigreader",
          "Kconfigreader",
          "Kconfigreader",
          "Kconfigreader",
          "Kconfigreader",
          "Kconfigreader",
          "Kconfigreader",
          "Kconfigreader",
          "Kconfigreader",
          "Kconfigreader",
          "Kconfigreader",
          "Kconfigreader",
          "Kconfigreader",
          "Kconfigreader",
          "Kconfigreader",
          "Kconfigreader",
          "Kconfigreader",
          "Kconfigreader",
          "Kconfigreader",
          "Kconfigreader",
          "Kconfigreader",
          "Kconfigreader",
          "Kconfigreader",
          "Kconfigreader",
          "Kconfigreader",
          "Kconfigreader",
          "Kconfigreader",
          "Kconfigreader",
          "Kconfigreader",
          "Kconfigreader",
          "Kconfigreader",
          "Kconfigreader",
          "Kconfigreader",
          "Kconfigreader",
          "Kconfigreader",
          "Kconfigreader",
          "Kconfigreader",
          "Kconfigreader",
          "Kconfigreader",
          "Kconfigreader",
          "Kconfigreader",
          "Kconfigreader",
          "Kconfigreader",
          "Kconfigreader",
          "Kconfigreader",
          "Kconfigreader",
          "Kconfigreader",
          "Kconfigreader",
          "Kconfigreader",
          "Kconfigreader",
          "Kconfigreader",
          "Kconfigreader",
          "Kconfigreader",
          "Kconfigreader",
          "Kconfigreader",
          "Kconfigreader",
          "Kconfigreader",
          "Kconfigreader",
          "Kconfigreader",
          "Kconfigreader",
          "Kconfigreader",
          "Kconfigreader",
          "Kconfigreader",
          "Kconfigreader",
          "Kconfigreader",
          "Kconfigreader",
          "Kconfigreader",
          "Kconfigreader",
          "Kconfigreader",
          "Kconfigreader",
          "Kconfigreader",
          "Kconfigreader",
          "Kconfigreader",
          "Kconfigreader",
          "Kconfigreader",
          "Kconfigreader",
          "Kconfigreader",
          "Kconfigreader",
          "Kconfigreader",
          "Kconfigreader",
          "Kconfigreader",
          "Kconfigreader",
          "Kconfigreader",
          "Kconfigreader",
          "Kconfigreader",
          "Kconfigreader",
          "Kconfigreader",
          "Kconfigreader",
          "Kconfigreader",
          "Kconfigreader",
          "Kconfigreader",
          "Kconfigreader",
          "Kconfigreader",
          "Kconfigreader",
          "Kconfigreader",
          "Kconfigreader",
          "Kconfigreader",
          "Kconfigreader",
          "Kconfigreader",
          "Kconfigreader",
          "Kconfigreader",
          "Kconfigreader",
          "Kconfigreader",
          "Kconfigreader",
          "Kconfigreader",
          "Kconfigreader",
          "Kconfigreader",
          "Kconfigreader",
          "Kconfigreader",
          "Kconfigreader",
          "Kconfigreader",
          "Kconfigreader",
          "Kconfigreader",
          "Kconfigreader",
          "Kconfigreader",
          "Kconfigreader",
          "Kconfigreader",
          "Kconfigreader",
          "Kconfigreader",
          "Kconfigreader",
          "Kconfigreader",
          "Kconfigreader",
          "Kconfigreader",
          "Kconfigreader",
          "Kconfigreader",
          "Kconfigreader",
          "Kconfigreader",
          "Kconfigreader",
          "Kconfigreader",
          "Kconfigreader",
          "Kconfigreader",
          "Kconfigreader",
          "Kconfigreader",
          "Kconfigreader",
          "Kconfigreader",
          "Kconfigreader",
          "Kconfigreader",
          "Kconfigreader",
          "Kconfigreader",
          "Kconfigreader",
          "Kconfigreader",
          "Kconfigreader",
          "Kconfigreader",
          "Kconfigreader",
          "Kconfigreader",
          "Kconfigreader",
          "Kconfigreader",
          "Kconfigreader",
          "Kconfigreader",
          "Kconfigreader",
          "Kconfigreader",
          "Kconfigreader",
          "Kconfigreader",
          "Kconfigreader",
          "Kconfigreader",
          "Kconfigreader",
          "Kconfigreader",
          "Kconfigreader",
          "Kconfigreader",
          "Kconfigreader",
          "Kconfigreader",
          "Kconfigreader",
          "Kconfigreader",
          "Kconfigreader",
          "Kconfigreader",
          "Kconfigreader",
          "Kconfigreader",
          "Kconfigreader",
          "Kconfigreader",
          "Kconfigreader",
          "Kconfigreader",
          "Kconfigreader",
          "Kconfigreader",
          "Kconfigreader",
          "Kconfigreader",
          "Kconfigreader",
          "Kconfigreader",
          "Kconfigreader",
          "Kconfigreader",
          "Kconfigreader",
          "Kconfigreader",
          "Kconfigreader",
          "Kconfigreader",
          "Kconfigreader",
          "Kconfigreader",
          "Kconfigreader",
          "Kconfigreader",
          "Kconfigreader",
          "Kconfigreader",
          "Kconfigreader",
          "Kconfigreader",
          "Kconfigreader",
          "Kconfigreader",
          "Kconfigreader",
          "Kconfigreader",
          "Kconfigreader",
          "Kconfigreader",
          "Kconfigreader",
          "Kconfigreader",
          "Kconfigreader",
          "Kconfigreader",
          "Kconfigreader",
          "Kconfigreader",
          "Kconfigreader",
          "Kconfigreader",
          "Kconfigreader",
          "Kconfigreader",
          "Kconfigreader",
          "Kconfigreader",
          "Kconfigreader",
          "Kconfigreader",
          "Kconfigreader",
          "Kconfigreader",
          "Kconfigreader",
          "Kconfigreader",
          "Kconfigreader",
          "Kconfigreader",
          "Kconfigreader",
          "Kconfigreader",
          "Kconfigreader",
          "Kconfigreader",
          "Kconfigreader",
          "Kconfigreader",
          "Kconfigreader",
          "Kconfigreader",
          "Kconfigreader",
          "Kconfigreader",
          "Kconfigreader",
          "Kconfigreader",
          "Kconfigreader",
          "Kconfigreader",
          "Kconfigreader",
          "Kconfigreader",
          "Kconfigreader",
          "Kconfigreader",
          "Kconfigreader",
          "Kconfigreader",
          "Kconfigreader",
          "Kconfigreader",
          "Kconfigreader",
          "Kconfigreader",
          "Kconfigreader",
          "Kconfigreader",
          "Kconfigreader",
          "Kconfigreader",
          "Kconfigreader",
          "Kconfigreader",
          "Kconfigreader",
          "Kconfigreader",
          "Kconfigreader",
          "Kconfigreader",
          "Kconfigreader",
          "Kconfigreader",
          "Kconfigreader",
          "Kconfigreader",
          "Kconfigreader",
          "Kconfigreader",
          "Kconfigreader",
          "Kconfigreader",
          "Kconfigreader",
          "Kconfigreader",
          "Kconfigreader",
          "Kconfigreader",
          "Kconfigreader",
          "Kconfigreader",
          "Kconfigreader",
          "Kconfigreader",
          "Kconfigreader",
          "Kconfigreader",
          "Kconfigreader",
          "Kconfigreader",
          "Kconfigreader",
          "Kconfigreader",
          "Kconfigreader",
          "Kconfigreader",
          "Kconfigreader",
          "Kconfigreader",
          "Kconfigreader",
          "Kconfigreader",
          "Kconfigreader",
          "Kconfigreader",
          "Kconfigreader",
          "Kconfigreader",
          "Kconfigreader",
          "Kconfigreader",
          "Kconfigreader",
          "Kconfigreader",
          "Kconfigreader",
          "Kconfigreader",
          "Kconfigreader",
          "Kconfigreader",
          "Kconfigreader",
          "Kconfigreader",
          "Kconfigreader",
          "Kconfigreader",
          "Kconfigreader",
          "Kconfigreader",
          "Kconfigreader",
          "Kconfigreader",
          "Kconfigreader"
         ],
         "x0": " ",
         "xaxis": "x",
         "y": [
          215272336,
          515834089,
          851379009,
          1181284412,
          1472503245,
          1835428130,
          2195716899,
          2548752195,
          2909491474,
          3240345265,
          3540783455,
          3838895199,
          4153902058,
          4482869147,
          4774879090,
          5101264268,
          5442051602,
          5822015643,
          6123387452,
          6429452730,
          6693076707,
          7007748707,
          7331689646,
          7616137955,
          7896913842,
          8165299575,
          8479437997,
          8785280986,
          9129505613,
          9499017408,
          9871666978,
          10188939154,
          10433629606,
          10755034164,
          11122827295,
          11396311087,
          11714044402,
          11968864973,
          12254530550,
          12547973904,
          12858168032,
          13145091098,
          13460782561,
          13855125125,
          14189214675,
          14505734571,
          14809056862,
          15116203750,
          15441337173,
          15899634820,
          16301303464,
          16716628898,
          17155438947,
          17605761111,
          18051411040,
          18542030820,
          18979312905,
          19422761462,
          19987060609,
          20407937429,
          54452319805,
          54822944219,
          55184823221,
          55723012096,
          56167594502,
          56481420723,
          56761130894,
          57057478717,
          57373267614,
          57690166771,
          58029008895,
          58424459266,
          58694860005,
          58949581540,
          59288103711,
          59627163157,
          59946764017,
          60275959117,
          60714304043,
          61013105219,
          61348503959,
          61665869185,
          61963531528,
          62297289403,
          62679558703,
          62679558703,
          62679558703,
          62679558703,
          62679558703,
          62679558703,
          62679558703,
          62679558703,
          62679558703,
          62679558703,
          62679558703,
          62679558703,
          62679558703,
          62679558703,
          62679558703,
          62679558703,
          62679558703,
          62679558703,
          62679558703,
          62679558703,
          62679558703,
          62679558703,
          62679558703,
          62679558703,
          62679558703,
          62679558703,
          62987685486,
          63257068331,
          63553187067,
          63841507030,
          64105984369,
          64464247587,
          64749344671,
          65082177402,
          65395200266,
          65707495930,
          66021924666,
          66323676906,
          66651696946,
          66934695683,
          67316006944,
          67668760146,
          68024123928,
          68348451500,
          68673118297,
          68977240042,
          69263789965,
          69585959768,
          69946978247,
          70276690364,
          70534795606,
          70826134931,
          71172806209,
          71858449945,
          72153017578,
          72437586593,
          72783195776,
          73075907724,
          73381764397,
          73677938370,
          74012672638,
          74334236027,
          74622451100,
          74905433438,
          75221621296,
          75538397875,
          75814153395,
          76170039995,
          76484043676,
          76762867053,
          77039389997,
          77302283282,
          77611183011,
          77945398322,
          78203794151,
          78512772093,
          78836538710,
          79131130970,
          79446231921,
          79756787724,
          80029716471,
          80352669187,
          80670181419,
          80966280659,
          81259643255,
          81531744387,
          81845042408,
          82122224908,
          82441267440,
          82738230374,
          83013881891,
          83332461593,
          83648370480,
          83955690224,
          84276981961,
          84580129456,
          84919514823,
          85258954462,
          85530104610,
          85805894166,
          86090285756,
          86429743059,
          86737364885,
          87033279081,
          87345944078,
          87660586477,
          87967243445,
          88259819946,
          88636274356,
          88965943436,
          89276578402,
          89557855190,
          89896498264,
          90216516417,
          90515363209,
          90905872262,
          91206320688,
          91493251171,
          91770097550,
          92097677384,
          92440746127,
          92701547909,
          93001804092,
          93295685854,
          93657480930,
          94018808943,
          94346955614,
          94679585951,
          95035824700,
          95362765509,
          95683097415,
          95959280413,
          96238052965,
          96613580678,
          96931352068,
          97230142706,
          97538059953,
          97966735197,
          98160334290,
          98343563056,
          98526913176,
          98695868461,
          98864550114,
          99069427392,
          99218731054,
          99362033274,
          99538381064,
          99694409880,
          99858894347,
          100016712190,
          100235246831,
          100620088156,
          100832399106,
          101097143368,
          101284457812,
          101477456378,
          101729187342,
          101955568242,
          102213565123,
          102392252930,
          102559897989,
          102704422436,
          102893434791,
          103042194895,
          103214796385,
          103700717096,
          104159030550,
          104330315595,
          104510318710,
          104695342979,
          104891335396,
          105077734375,
          105264633179,
          105473749566,
          105637948631,
          105818463514,
          105957090307,
          106128017878,
          106302836746,
          106471713358,
          106640928173,
          106791435661,
          106952207008,
          107123820092,
          107285505301,
          107458543569,
          107637984195,
          107857339552,
          108045947387,
          108208831350,
          108368935481,
          108539142493,
          108697525638,
          108874291919,
          109027560761,
          109224675582,
          109387537394,
          109542459564,
          109844995518,
          110102359316,
          110281879464,
          110492894442,
          110679839995,
          110853309297,
          111058660120,
          111273386053,
          111476482274,
          111652071463,
          111865867534,
          112068336428,
          112276710603,
          112432473618,
          112644741227,
          112814923256,
          112971251969,
          113161682636,
          113317397109,
          113466559598,
          113627136296,
          113780235402,
          113943245078,
          114102797480,
          114286855909,
          114445276643,
          114627197374,
          114812081272,
          114987326003,
          115145764349,
          115295512341,
          115483382931,
          115638911775,
          115798140781,
          115968421837,
          116125315007,
          116328033789,
          116513246314,
          116694261359,
          116854767470,
          117008391870,
          117205109572,
          117361255252,
          117531364707,
          117690406264,
          117851440410,
          118003152904,
          118177539457,
          118352595978,
          118523556113,
          118686882779,
          118862591367,
          119045252284,
          119215025122,
          119688767805,
          130164229269,
          139171119875,
          149014918171,
          157093604921,
          166731343393,
          174629269734,
          182531998627,
          190342956905,
          198342904858,
          206178041782,
          214323172839,
          222645462260,
          230696413687,
          238785992830,
          246623502132,
          255073466385,
          263476224263,
          272122612251,
          280293806699,
          288753044282,
          296769423004,
          304635400551,
          312063818687,
          319719693594,
          327519774591,
          335261547129,
          343073019668,
          350508369538,
          359857143092,
          367950851923,
          376732000487,
          385110103242,
          393771572492,
          393936038048,
          394120962912,
          394322468934,
          394538712552,
          394724800532,
          394905124061,
          395081580274,
          395448960912,
          395690087804,
          395857630513,
          396009495393,
          396168373578,
          396330387325,
          396514405064,
          396678603477,
          396881807994,
          397037872592,
          397209495666,
          397367521954,
          397534175637,
          397691319221,
          397873916439,
          398050771908,
          398219572790,
          398403749795,
          398575925263,
          398821012214,
          399181540841,
          399341398919,
          399497102173,
          399654267591,
          399829155769,
          399987441048,
          400147768052,
          400336606475,
          400587443165,
          400799099080,
          400994957530,
          401165582240,
          401369980247,
          401554648387,
          401726074963,
          401933955503,
          402130237192,
          402300378910,
          402500799490,
          402665200285,
          402916042438,
          403106240844,
          403283800147,
          403447079875,
          403614775840,
          403843474562,
          404016077484,
          404249202950,
          404491040292,
          404664109798,
          404915654169,
          405107559926,
          405279724773,
          405456445155,
          405630159885,
          405789220797,
          405951621610,
          599600244,
          237361845,
          250152235,
          243690418,
          241115450,
          250825403,
          234575137,
          255337124,
          255340043,
          267147328,
          239446957,
          253587216,
          250199686,
          253358829,
          232956004,
          276991521,
          240942501,
          247055226,
          251724735,
          237360137,
          245924309,
          249708598,
          248048448,
          267875983,
          244139065,
          248419773,
          246093207,
          239855975,
          251929935,
          271842987,
          242763678,
          244527285,
          238630070,
          245512068,
          244128830,
          247371005,
          239087847,
          238620862,
          262132525,
          248890977,
          253303120,
          243153722,
          243130915,
          241839310,
          231179891,
          252962343,
          248324282,
          245473944,
          241917216,
          15662468723,
          16416418229,
          15194739926,
          16291376766,
          16717014903,
          16196211288,
          16482341174,
          17157323056,
          16837498347,
          17534596207,
          693788166,
          190307903886,
          737497797,
          734528191,
          702126183,
          716142730,
          706207742,
          715154362,
          706841220,
          727145771,
          693090526,
          720990575,
          783960310,
          745435703,
          789174752,
          773483031,
          780140920,
          761293453,
          790605702,
          806630101,
          795793191,
          776012542,
          802916709,
          811717680,
          810436310,
          788100616,
          788100616,
          788100616,
          788100616,
          788100616,
          788100616,
          788100616,
          788100616,
          788100616,
          788100616,
          788100616,
          788100616,
          788100616,
          788100616,
          788100616,
          788100616,
          788100616,
          788100616,
          788100616,
          788100616,
          788100616,
          788100616,
          788100616,
          788100616,
          788100616,
          788100616,
          788100616,
          788100616,
          788100616,
          788100616,
          788100616,
          788100616,
          1714530458,
          1735135932,
          1682816016,
          1698772758,
          1693478114,
          1734683548,
          1734342529,
          1747292138,
          1810857786,
          1812319010,
          1927132003,
          1859188621,
          1847314570,
          1919557394,
          1826372403,
          1884482276,
          2001237004,
          2015704445,
          1975083430,
          1970705470,
          1987816843,
          1978390299,
          1998567159,
          2187415854,
          2157113702,
          2198468155,
          2248428453,
          2285332537,
          2274667985,
          2281241918,
          2323853079,
          2240698594,
          2245651492,
          2240815180,
          2294468836,
          2297272283,
          2273139118,
          2268633492,
          2284344419,
          2427082197,
          2536033072,
          2450116022,
          2323456516,
          2469494924,
          2553972605,
          2901886587,
          2524628102,
          2399845107,
          2545344500,
          2561751783,
          2555885335,
          2685469311,
          2911300219,
          2730095253,
          2716381980,
          2726754911,
          3126163594,
          3045964621,
          3127754267,
          3105691222,
          3127044871,
          2985783553,
          2907273202,
          2900931404,
          2872328531,
          2943875531,
          2947806556,
          2928578187,
          2938986512,
          2872240389,
          2895217687,
          2893293779,
          2963204485,
          2922003734,
          3020196624,
          3041235456,
          3105475700,
          3126694706,
          3125228958,
          3095403505,
          3142423785,
          3166010347,
          3104107829,
          2987388545,
          2980677367,
          3187086098,
          3175971217,
          3184633684,
          3239645999,
          3204233572,
          3191739522,
          3175344463,
          3223066445,
          3173287277,
          3237746960,
          3201156559,
          3221553171,
          3234047428,
          3255639856,
          3311238559,
          3275496543,
          3350781868,
          3383788415,
          3486019984,
          3445874728,
          3392017250,
          3422296318,
          3414392926,
          3432162248,
          3589201323,
          3550997378,
          10214425377,
          10195463798,
          10617236718,
          10761190056,
          10740892018,
          10035716790,
          10039450187,
          9681853339,
          10115506254,
          10515884531,
          11003638674,
          10891450909,
          10744879857,
          10877227358,
          10753479063,
          10399516821,
          11084396702,
          10877234789,
          10843316569,
          10748529654,
          10990722588,
          11192546639,
          11537204238,
          11590927087,
          11341257589,
          11569895308,
          12312837408,
          12480225704,
          13019772569,
          11808129167,
          11900006636,
          12744731973,
          12660839228,
          12961606189,
          12946982841,
          14078043740,
          13209235610,
          13532617161,
          13668545459,
          14082936194,
          14287550862,
          14366365590,
          15422949262,
          15313764588,
          16799669330,
          17265705915,
          17479682547,
          17048680353,
          18472961337,
          19502077990,
          20712654671,
          21117318000,
          22474340350,
          23349915072,
          23836572658,
          25473805472,
          26866575790,
          27846163816,
          28288121325,
          30103432114,
          31061099919,
          32232120361,
          33125058153,
          35836123336,
          36201622804,
          37495807748,
          38606316111,
          44111042958,
          46893054101,
          49369967882,
          49352630953,
          49287571211,
          48891539884,
          53843398430,
          54883598690,
          55735905891,
          55190162698,
          54289861408,
          56822566387,
          57499936295,
          62154862322,
          62735200049,
          61152218731,
          60984294423,
          61632232570,
          63626291090,
          63234144054,
          64444489283,
          63467822864,
          67260716993,
          67511392932,
          68118392145,
          69088805533,
          70404698344,
          72197057214,
          73188939529,
          73132020294,
          74776718202,
          76986258887,
          76053699888,
          80614129697,
          78941385670,
          81091216599,
          80727047274,
          85158497066,
          81603273193,
          80313265310,
          81269974127,
          100200015673,
          134856949627,
          136688032637,
          151185807056,
          141450762097,
          145807673016,
          280294198166,
          96323762270,
          47119258606409,
          98108800707,
          95850624417,
          98882499476,
          100879914358,
          99475872973,
          98251969083,
          98224732794,
          98080576207,
          102909491641,
          108511285481,
          109201603445,
          156916322060,
          104686278542,
          109158874832,
          106108889367,
          107445266226,
          108059282291,
          107068838868,
          112383255471,
          112718945883,
          109432440878,
          107681757024,
          111843727311,
          109945142376,
          111200141107,
          110595700204,
          247945048,
          251278470,
          264300237,
          241223917,
          1125862109,
          254118433,
          255244134,
          249131229,
          241880148,
          247699416,
          249274812,
          245504646,
          249449530,
          241339811,
          239411816,
          241224209,
          267954462,
          254472605,
          259144860,
          256861267,
          267611921,
          252237166,
          269846486,
          271894576,
          268615729,
          269884386,
          280329062,
          291412538,
          271984959,
          290997831,
          293304317,
          299739970,
          293474773,
          297115594,
          298117031,
          305881488,
          309522512,
          365773611,
          313749742,
          304745357,
          295034312,
          303206269,
          314485273,
          331927637,
          315225972,
          348518764,
          349675237,
          343475031,
          371942926,
          362826015,
          351314989,
          363594343,
          448357932,
          346926902,
          248524354,
          229281421,
          235481228,
          247597561,
          241259735,
          471494260,
          249440575,
          259097454,
          245606717,
          245456677,
          612872524,
          230154537,
          239677388,
          237127667,
          245116250,
          237746875,
          229888491,
          240126942,
          241668474,
          226071706,
          243857021,
          235969145,
          234314255,
          241934852,
          280874253,
          230138596,
          251721250,
          255078556,
          225679793,
          247892667,
          263689833,
          244726530,
          256977091,
          237613591,
          236166695,
          227874100,
          245555926,
          242786151,
          233035383,
          239618052,
          268481079,
          257458793,
          248707317,
          251311147,
          301263375,
          251379920,
          265364940,
          271176596,
          250989741,
          247417522,
          231177280,
          289000999,
          234557833,
          245236360,
          241073079,
          237327512,
          249011915,
          251345561,
          266801952,
          4014285193,
          3701157329,
          3603511746,
          3633229886,
          4261029822,
          3965618687,
          3555055009,
          3613437746,
          4157228406,
          4438183395,
          618186406,
          92218500166,
          757294349,
          645289241,
          612671752,
          615328567,
          615352675,
          658293834,
          637684994,
          629859372,
          645045132,
          705432757,
          651972442,
          683815154,
          681405630,
          719992594,
          705029943,
          728219876,
          742723204,
          734116387,
          715173048,
          721092043,
          710081275,
          714633657,
          740366182,
          689281353,
          1052656988,
          1079989303,
          1169032250,
          1058982327,
          1010418411,
          1060548627,
          1059802757,
          1202451944,
          1148041415,
          1104745561,
          1117190047,
          1112321811,
          1054292685,
          1087884214,
          1077009456,
          1075590873,
          1076571662,
          1069092224,
          1070925576,
          1108623377,
          1098842624,
          1116536999,
          1109330606,
          1197123365,
          1198033477,
          1200255402,
          1245023337,
          1188181335,
          1194170577,
          1228551956,
          1215172357,
          1364082425,
          1272290260,
          1235607538,
          1279231445,
          1275474251,
          1275093358,
          1262534781,
          1317479065,
          1254830335,
          1277106961,
          1299564405,
          1356201606,
          1320085342,
          1304804377,
          1345598279,
          1333945077,
          1248497509,
          1302741920,
          1315589065,
          1308416753,
          1313966842,
          1402324169,
          1319961883,
          1333495879,
          1355821340,
          1541936942,
          1387673320,
          1397522491,
          1362088917,
          1424879573,
          1363506695,
          1368344252,
          1367523770,
          1386236016,
          1414956560,
          1455786196,
          1396958881,
          1409664647,
          1447211105,
          1387379084,
          1419430474,
          1476763185,
          1470786374,
          1450838164,
          1392545794,
          1513698976,
          1448054251,
          1411669315,
          1471096519,
          1478182244,
          1419758522,
          1566940134,
          1502451691,
          1482253942,
          1444000448,
          1519999778,
          1436987390,
          1562495389,
          1515494387,
          1541643028,
          1552620698,
          1496621736,
          1490093850,
          1594572067,
          1509803972,
          1516786111,
          1575723122,
          1547785220,
          1586439542,
          1518064494,
          1517068304,
          1579189873,
          1607817387,
          1518181304,
          1574379707,
          1599119223,
          1549572226,
          1591346480,
          1575315254,
          1572259584,
          3004400495,
          2912355286,
          2902050271,
          2983561960,
          2819363984,
          2947723212,
          2840606827,
          2886502085,
          2925744387,
          3183637814,
          2907755013,
          2857314439,
          2874143698,
          2865695162,
          2882639485,
          2961712191,
          2825168054,
          2898043991,
          2881782095,
          2941015675,
          2933458111,
          2950001004,
          2968207525,
          2971308416,
          2996841792,
          3054475427,
          2965225973,
          3038914082,
          3105516444,
          3161893237,
          3077734744,
          3142019129,
          3160373101,
          3121044171,
          3193908834,
          3348605368,
          3365554441,
          3337274244,
          3417500174,
          3606036280,
          3452546951,
          3765943575,
          4034274754,
          4081082520,
          4078179125,
          4292597601,
          4274570424,
          4298214730,
          4178920126,
          4482525219,
          4734483462,
          4576823424,
          4942697870,
          5250979578,
          5344846807,
          5582558792,
          5723039470,
          6051657638,
          6168942734,
          6180816843,
          6856050235,
          7413871866,
          6969443088,
          7381382043,
          7472802547,
          8339232304,
          8416043671,
          8764138743,
          10285242002,
          9443057124,
          30679456094,
          12663787921,
          9341817656,
          10184787464,
          10399053786,
          9829393920,
          9902262775,
          10506270470,
          9801199896,
          10633093005,
          12300113737,
          10989949744,
          11379023911,
          11668664315,
          12136820035,
          11588991683,
          11919932733,
          133605298845,
          12793245358,
          12631796343,
          12646910029,
          12923752775,
          113741896404,
          51878414141,
          13924026299,
          14352431627,
          14937584936,
          14594403188,
          13735613918,
          14249422889,
          16287064247,
          15097992154,
          16761160455,
          17391518628,
          17478077272,
          16814271892,
          16832615289,
          17225159041,
          19314983740,
          17157107649,
          19917511751,
          19493184030,
          17833078266,
          20306291906,
          19859399672,
          19230767434,
          21726097408,
          21882035623,
          19941950573,
          20983519046,
          23182818115,
          21896303636,
          22237980210,
          24510266799,
          25737857187,
          22484479752,
          21916232886,
          118690489253,
          24631044612,
          22361823395,
          26115431158,
          26387148104,
          26619467097,
          265019890260,
          26205932978,
          26262934750,
          28355852289,
          144752804828,
          274637216535,
          203602987653,
          28682904931,
          29904876854,
          27950230333,
          2329127671,
          2308681253,
          301611370,
          257380094,
          266900409,
          236691542,
          245217859,
          238295674,
          216250187,
          231113630,
          238638066,
          244159618,
          248578302,
          245062617,
          300557317,
          253251925,
          255209591,
          280209910,
          267870763,
          259799659,
          249096227,
          293240642,
          279124398,
          253403372,
          279112539,
          260818345,
          292774492,
          289349880,
          269382203,
          285528903,
          257675139,
          264876219,
          328363242,
          306617816,
          266646463,
          318977167,
          569494797,
          337350357,
          352259628,
          304340848,
          341465402,
          408208431,
          297379942,
          300006821,
          300558478,
          321721404,
          327990716,
          276818957,
          350670096,
          274252726,
          397633766,
          279489346,
          351252933,
          346412958,
          238862462,
          220134984,
          234635507,
          235336718,
          235218156,
          218542635,
          235651854,
          237855277,
          243632001,
          222982268
         ],
         "y0": " ",
         "yaxis": "y"
        }
       ],
       "layout": {
        "boxmode": "group",
        "legend": {
         "tracegroupgap": 0
        },
        "paper_bgcolor": "white",
        "plot_bgcolor": "white",
        "shapes": [
         {
          "line": {
           "color": "red",
           "dash": "dash",
           "width": 2
          },
          "type": "line",
          "x0": "Configfixextractor",
          "x1": "Configfixextractor",
          "xref": "x",
          "y0": 91604525980.425,
          "y1": 101247107662.575,
          "yref": "y"
         },
         {
          "line": {
           "color": "red",
           "dash": "dash",
           "width": 2
          },
          "type": "line",
          "x0": "KClause",
          "x1": "KClause",
          "xref": "x",
          "y0": 2427182521.5,
          "y1": 2682675418.5,
          "yref": "y"
         },
         {
          "line": {
           "color": "red",
           "dash": "dash",
           "width": 2
          },
          "type": "line",
          "x0": "Kconfigreader",
          "x1": "Kconfigreader",
          "xref": "x",
          "y0": 1332207960.55,
          "y1": 1472440377.45,
          "yref": "y"
         }
        ],
        "template": {
         "data": {
          "bar": [
           {
            "error_x": {
             "color": "#2a3f5f"
            },
            "error_y": {
             "color": "#2a3f5f"
            },
            "marker": {
             "line": {
              "color": "#E5ECF6",
              "width": 0.5
             },
             "pattern": {
              "fillmode": "overlay",
              "size": 10,
              "solidity": 0.2
             }
            },
            "type": "bar"
           }
          ],
          "barpolar": [
           {
            "marker": {
             "line": {
              "color": "#E5ECF6",
              "width": 0.5
             },
             "pattern": {
              "fillmode": "overlay",
              "size": 10,
              "solidity": 0.2
             }
            },
            "type": "barpolar"
           }
          ],
          "carpet": [
           {
            "aaxis": {
             "endlinecolor": "#2a3f5f",
             "gridcolor": "white",
             "linecolor": "white",
             "minorgridcolor": "white",
             "startlinecolor": "#2a3f5f"
            },
            "baxis": {
             "endlinecolor": "#2a3f5f",
             "gridcolor": "white",
             "linecolor": "white",
             "minorgridcolor": "white",
             "startlinecolor": "#2a3f5f"
            },
            "type": "carpet"
           }
          ],
          "choropleth": [
           {
            "colorbar": {
             "outlinewidth": 0,
             "ticks": ""
            },
            "type": "choropleth"
           }
          ],
          "contour": [
           {
            "colorbar": {
             "outlinewidth": 0,
             "ticks": ""
            },
            "colorscale": [
             [
              0,
              "#0d0887"
             ],
             [
              0.1111111111111111,
              "#46039f"
             ],
             [
              0.2222222222222222,
              "#7201a8"
             ],
             [
              0.3333333333333333,
              "#9c179e"
             ],
             [
              0.4444444444444444,
              "#bd3786"
             ],
             [
              0.5555555555555556,
              "#d8576b"
             ],
             [
              0.6666666666666666,
              "#ed7953"
             ],
             [
              0.7777777777777778,
              "#fb9f3a"
             ],
             [
              0.8888888888888888,
              "#fdca26"
             ],
             [
              1,
              "#f0f921"
             ]
            ],
            "type": "contour"
           }
          ],
          "contourcarpet": [
           {
            "colorbar": {
             "outlinewidth": 0,
             "ticks": ""
            },
            "type": "contourcarpet"
           }
          ],
          "heatmap": [
           {
            "colorbar": {
             "outlinewidth": 0,
             "ticks": ""
            },
            "colorscale": [
             [
              0,
              "#0d0887"
             ],
             [
              0.1111111111111111,
              "#46039f"
             ],
             [
              0.2222222222222222,
              "#7201a8"
             ],
             [
              0.3333333333333333,
              "#9c179e"
             ],
             [
              0.4444444444444444,
              "#bd3786"
             ],
             [
              0.5555555555555556,
              "#d8576b"
             ],
             [
              0.6666666666666666,
              "#ed7953"
             ],
             [
              0.7777777777777778,
              "#fb9f3a"
             ],
             [
              0.8888888888888888,
              "#fdca26"
             ],
             [
              1,
              "#f0f921"
             ]
            ],
            "type": "heatmap"
           }
          ],
          "heatmapgl": [
           {
            "colorbar": {
             "outlinewidth": 0,
             "ticks": ""
            },
            "colorscale": [
             [
              0,
              "#0d0887"
             ],
             [
              0.1111111111111111,
              "#46039f"
             ],
             [
              0.2222222222222222,
              "#7201a8"
             ],
             [
              0.3333333333333333,
              "#9c179e"
             ],
             [
              0.4444444444444444,
              "#bd3786"
             ],
             [
              0.5555555555555556,
              "#d8576b"
             ],
             [
              0.6666666666666666,
              "#ed7953"
             ],
             [
              0.7777777777777778,
              "#fb9f3a"
             ],
             [
              0.8888888888888888,
              "#fdca26"
             ],
             [
              1,
              "#f0f921"
             ]
            ],
            "type": "heatmapgl"
           }
          ],
          "histogram": [
           {
            "marker": {
             "pattern": {
              "fillmode": "overlay",
              "size": 10,
              "solidity": 0.2
             }
            },
            "type": "histogram"
           }
          ],
          "histogram2d": [
           {
            "colorbar": {
             "outlinewidth": 0,
             "ticks": ""
            },
            "colorscale": [
             [
              0,
              "#0d0887"
             ],
             [
              0.1111111111111111,
              "#46039f"
             ],
             [
              0.2222222222222222,
              "#7201a8"
             ],
             [
              0.3333333333333333,
              "#9c179e"
             ],
             [
              0.4444444444444444,
              "#bd3786"
             ],
             [
              0.5555555555555556,
              "#d8576b"
             ],
             [
              0.6666666666666666,
              "#ed7953"
             ],
             [
              0.7777777777777778,
              "#fb9f3a"
             ],
             [
              0.8888888888888888,
              "#fdca26"
             ],
             [
              1,
              "#f0f921"
             ]
            ],
            "type": "histogram2d"
           }
          ],
          "histogram2dcontour": [
           {
            "colorbar": {
             "outlinewidth": 0,
             "ticks": ""
            },
            "colorscale": [
             [
              0,
              "#0d0887"
             ],
             [
              0.1111111111111111,
              "#46039f"
             ],
             [
              0.2222222222222222,
              "#7201a8"
             ],
             [
              0.3333333333333333,
              "#9c179e"
             ],
             [
              0.4444444444444444,
              "#bd3786"
             ],
             [
              0.5555555555555556,
              "#d8576b"
             ],
             [
              0.6666666666666666,
              "#ed7953"
             ],
             [
              0.7777777777777778,
              "#fb9f3a"
             ],
             [
              0.8888888888888888,
              "#fdca26"
             ],
             [
              1,
              "#f0f921"
             ]
            ],
            "type": "histogram2dcontour"
           }
          ],
          "mesh3d": [
           {
            "colorbar": {
             "outlinewidth": 0,
             "ticks": ""
            },
            "type": "mesh3d"
           }
          ],
          "parcoords": [
           {
            "line": {
             "colorbar": {
              "outlinewidth": 0,
              "ticks": ""
             }
            },
            "type": "parcoords"
           }
          ],
          "pie": [
           {
            "automargin": true,
            "type": "pie"
           }
          ],
          "scatter": [
           {
            "fillpattern": {
             "fillmode": "overlay",
             "size": 10,
             "solidity": 0.2
            },
            "type": "scatter"
           }
          ],
          "scatter3d": [
           {
            "line": {
             "colorbar": {
              "outlinewidth": 0,
              "ticks": ""
             }
            },
            "marker": {
             "colorbar": {
              "outlinewidth": 0,
              "ticks": ""
             }
            },
            "type": "scatter3d"
           }
          ],
          "scattercarpet": [
           {
            "marker": {
             "colorbar": {
              "outlinewidth": 0,
              "ticks": ""
             }
            },
            "type": "scattercarpet"
           }
          ],
          "scattergeo": [
           {
            "marker": {
             "colorbar": {
              "outlinewidth": 0,
              "ticks": ""
             }
            },
            "type": "scattergeo"
           }
          ],
          "scattergl": [
           {
            "marker": {
             "colorbar": {
              "outlinewidth": 0,
              "ticks": ""
             }
            },
            "type": "scattergl"
           }
          ],
          "scattermapbox": [
           {
            "marker": {
             "colorbar": {
              "outlinewidth": 0,
              "ticks": ""
             }
            },
            "type": "scattermapbox"
           }
          ],
          "scatterpolar": [
           {
            "marker": {
             "colorbar": {
              "outlinewidth": 0,
              "ticks": ""
             }
            },
            "type": "scatterpolar"
           }
          ],
          "scatterpolargl": [
           {
            "marker": {
             "colorbar": {
              "outlinewidth": 0,
              "ticks": ""
             }
            },
            "type": "scatterpolargl"
           }
          ],
          "scatterternary": [
           {
            "marker": {
             "colorbar": {
              "outlinewidth": 0,
              "ticks": ""
             }
            },
            "type": "scatterternary"
           }
          ],
          "surface": [
           {
            "colorbar": {
             "outlinewidth": 0,
             "ticks": ""
            },
            "colorscale": [
             [
              0,
              "#0d0887"
             ],
             [
              0.1111111111111111,
              "#46039f"
             ],
             [
              0.2222222222222222,
              "#7201a8"
             ],
             [
              0.3333333333333333,
              "#9c179e"
             ],
             [
              0.4444444444444444,
              "#bd3786"
             ],
             [
              0.5555555555555556,
              "#d8576b"
             ],
             [
              0.6666666666666666,
              "#ed7953"
             ],
             [
              0.7777777777777778,
              "#fb9f3a"
             ],
             [
              0.8888888888888888,
              "#fdca26"
             ],
             [
              1,
              "#f0f921"
             ]
            ],
            "type": "surface"
           }
          ],
          "table": [
           {
            "cells": {
             "fill": {
              "color": "#EBF0F8"
             },
             "line": {
              "color": "white"
             }
            },
            "header": {
             "fill": {
              "color": "#C8D4E3"
             },
             "line": {
              "color": "white"
             }
            },
            "type": "table"
           }
          ]
         },
         "layout": {
          "annotationdefaults": {
           "arrowcolor": "#2a3f5f",
           "arrowhead": 0,
           "arrowwidth": 1
          },
          "autotypenumbers": "strict",
          "coloraxis": {
           "colorbar": {
            "outlinewidth": 0,
            "ticks": ""
           }
          },
          "colorscale": {
           "diverging": [
            [
             0,
             "#8e0152"
            ],
            [
             0.1,
             "#c51b7d"
            ],
            [
             0.2,
             "#de77ae"
            ],
            [
             0.3,
             "#f1b6da"
            ],
            [
             0.4,
             "#fde0ef"
            ],
            [
             0.5,
             "#f7f7f7"
            ],
            [
             0.6,
             "#e6f5d0"
            ],
            [
             0.7,
             "#b8e186"
            ],
            [
             0.8,
             "#7fbc41"
            ],
            [
             0.9,
             "#4d9221"
            ],
            [
             1,
             "#276419"
            ]
           ],
           "sequential": [
            [
             0,
             "#0d0887"
            ],
            [
             0.1111111111111111,
             "#46039f"
            ],
            [
             0.2222222222222222,
             "#7201a8"
            ],
            [
             0.3333333333333333,
             "#9c179e"
            ],
            [
             0.4444444444444444,
             "#bd3786"
            ],
            [
             0.5555555555555556,
             "#d8576b"
            ],
            [
             0.6666666666666666,
             "#ed7953"
            ],
            [
             0.7777777777777778,
             "#fb9f3a"
            ],
            [
             0.8888888888888888,
             "#fdca26"
            ],
            [
             1,
             "#f0f921"
            ]
           ],
           "sequentialminus": [
            [
             0,
             "#0d0887"
            ],
            [
             0.1111111111111111,
             "#46039f"
            ],
            [
             0.2222222222222222,
             "#7201a8"
            ],
            [
             0.3333333333333333,
             "#9c179e"
            ],
            [
             0.4444444444444444,
             "#bd3786"
            ],
            [
             0.5555555555555556,
             "#d8576b"
            ],
            [
             0.6666666666666666,
             "#ed7953"
            ],
            [
             0.7777777777777778,
             "#fb9f3a"
            ],
            [
             0.8888888888888888,
             "#fdca26"
            ],
            [
             1,
             "#f0f921"
            ]
           ]
          },
          "colorway": [
           "#636efa",
           "#EF553B",
           "#00cc96",
           "#ab63fa",
           "#FFA15A",
           "#19d3f3",
           "#FF6692",
           "#B6E880",
           "#FF97FF",
           "#FECB52"
          ],
          "font": {
           "color": "#2a3f5f"
          },
          "geo": {
           "bgcolor": "white",
           "lakecolor": "white",
           "landcolor": "#E5ECF6",
           "showlakes": true,
           "showland": true,
           "subunitcolor": "white"
          },
          "hoverlabel": {
           "align": "left"
          },
          "hovermode": "closest",
          "mapbox": {
           "style": "light"
          },
          "paper_bgcolor": "white",
          "plot_bgcolor": "#E5ECF6",
          "polar": {
           "angularaxis": {
            "gridcolor": "white",
            "linecolor": "white",
            "ticks": ""
           },
           "bgcolor": "#E5ECF6",
           "radialaxis": {
            "gridcolor": "white",
            "linecolor": "white",
            "ticks": ""
           }
          },
          "scene": {
           "xaxis": {
            "backgroundcolor": "#E5ECF6",
            "gridcolor": "white",
            "gridwidth": 2,
            "linecolor": "white",
            "showbackground": true,
            "ticks": "",
            "zerolinecolor": "white"
           },
           "yaxis": {
            "backgroundcolor": "#E5ECF6",
            "gridcolor": "white",
            "gridwidth": 2,
            "linecolor": "white",
            "showbackground": true,
            "ticks": "",
            "zerolinecolor": "white"
           },
           "zaxis": {
            "backgroundcolor": "#E5ECF6",
            "gridcolor": "white",
            "gridwidth": 2,
            "linecolor": "white",
            "showbackground": true,
            "ticks": "",
            "zerolinecolor": "white"
           }
          },
          "shapedefaults": {
           "line": {
            "color": "#2a3f5f"
           }
          },
          "ternary": {
           "aaxis": {
            "gridcolor": "white",
            "linecolor": "white",
            "ticks": ""
           },
           "baxis": {
            "gridcolor": "white",
            "linecolor": "white",
            "ticks": ""
           },
           "bgcolor": "#E5ECF6",
           "caxis": {
            "gridcolor": "white",
            "linecolor": "white",
            "ticks": ""
           }
          },
          "title": {
           "x": 0.05
          },
          "xaxis": {
           "automargin": true,
           "gridcolor": "white",
           "linecolor": "white",
           "ticks": "",
           "title": {
            "standoff": 15
           },
           "zerolinecolor": "white",
           "zerolinewidth": 2
          },
          "yaxis": {
           "automargin": true,
           "gridcolor": "white",
           "linecolor": "white",
           "ticks": "",
           "title": {
            "standoff": 15
           },
           "zerolinecolor": "white",
           "zerolinewidth": 2
          }
         }
        },
        "title": {
         "text": "Vergleich der Verarbeitungszeit der Extractoren"
        },
        "xaxis": {
         "anchor": "y",
         "domain": [
          0,
          1
         ],
         "linecolor": "black",
         "linewidth": 2,
         "showline": true,
         "title": {
          "text": "Extractor"
         }
        },
        "yaxis": {
         "anchor": "x",
         "autorange": true,
         "domain": [
          0,
          1
         ],
         "linecolor": "black",
         "linewidth": 2,
         "showline": true,
         "ticks": "outside",
         "title": {
          "text": "Verarbeitungszeit (Nanosekunden)"
         },
         "type": "log"
        }
       }
      },
      "image/png": "[encoded data removed]",
      "text/html": [
       "<div>                            <div id=\"3202e562-08ef-4b92-bc59-a786d13dab6c\" class=\"plotly-graph-div\" style=\"height:525px; width:100%;\"></div>            <script type=\"text/javascript\">                require([\"plotly\"], function(Plotly) {                    window.PLOTLYENV=window.PLOTLYENV || {};                                    if (document.getElementById(\"3202e562-08ef-4b92-bc59-a786d13dab6c\")) {                    Plotly.newPlot(                        \"3202e562-08ef-4b92-bc59-a786d13dab6c\",                        [{\"alignmentgroup\":\"True\",\"boxpoints\":\"all\",\"hovertemplate\":\"Extractor=%{x}\\u003cbr\\u003eVerarbeitungszeit (Nanosekunden)=%{y}\\u003cextra\\u003e\\u003c\\u002fextra\\u003e\",\"legendgroup\":\"\",\"marker\":{\"color\":\"#636efa\"},\"name\":\"\",\"notched\":false,\"offsetgroup\":\"\",\"orientation\":\"v\",\"showlegend\":false,\"x\":[\"Configfixextractor\",\"Configfixextractor\",\"Configfixextractor\",\"Configfixextractor\",\"Configfixextractor\",\"Configfixextractor\",\"Configfixextractor\",\"Configfixextractor\",\"Configfixextractor\",\"Configfixextractor\",\"Configfixextractor\",\"Configfixextractor\",\"Configfixextractor\",\"Configfixextractor\",\"Configfixextractor\",\"Configfixextractor\",\"Configfixextractor\",\"Configfixextractor\",\"Configfixextractor\",\"Configfixextractor\",\"Configfixextractor\",\"Configfixextractor\",\"Configfixextractor\",\"Configfixextractor\",\"Configfixextractor\",\"Configfixextractor\",\"Configfixextractor\",\"Configfixextractor\",\"Configfixextractor\",\"Configfixextractor\",\"Configfixextractor\",\"Configfixextractor\",\"Configfixextractor\",\"Configfixextractor\",\"Configfixextractor\",\"Configfixextractor\",\"Configfixextractor\",\"Configfixextractor\",\"Configfixextractor\",\"Configfixextractor\",\"Configfixextractor\",\"Configfixextractor\",\"Configfixextractor\",\"Configfixextractor\",\"Configfixextractor\",\"Configfixextractor\",\"Configfixextractor\",\"Configfixextractor\",\"Configfixextractor\",\"Configfixextractor\",\"Configfixextractor\",\"Configfixextractor\",\"Configfixextractor\",\"Configfixextractor\",\"Configfixextractor\",\"Configfixextractor\",\"Configfixextractor\",\"Configfixextractor\",\"Configfixextractor\",\"Configfixextractor\",\"Configfixextractor\",\"Configfixextractor\",\"Configfixextractor\",\"Configfixextractor\",\"Configfixextractor\",\"Configfixextractor\",\"Configfixextractor\",\"Configfixextractor\",\"Configfixextractor\",\"Configfixextractor\",\"Configfixextractor\",\"Configfixextractor\",\"Configfixextractor\",\"Configfixextractor\",\"Configfixextractor\",\"Configfixextractor\",\"Configfixextractor\",\"Configfixextractor\",\"Configfixextractor\",\"Configfixextractor\",\"Configfixextractor\",\"Configfixextractor\",\"Configfixextractor\",\"Configfixextractor\",\"Configfixextractor\",\"Configfixextractor\",\"Configfixextractor\",\"Configfixextractor\",\"Configfixextractor\",\"Configfixextractor\",\"Configfixextractor\",\"Configfixextractor\",\"Configfixextractor\",\"Configfixextractor\",\"Configfixextractor\",\"Configfixextractor\",\"Configfixextractor\",\"Configfixextractor\",\"Configfixextractor\",\"Configfixextractor\",\"Configfixextractor\",\"Configfixextractor\",\"Configfixextractor\",\"Configfixextractor\",\"Configfixextractor\",\"Configfixextractor\",\"Configfixextractor\",\"Configfixextractor\",\"Configfixextractor\",\"Configfixextractor\",\"Configfixextractor\",\"Configfixextractor\",\"Configfixextractor\",\"Configfixextractor\",\"Configfixextractor\",\"Configfixextractor\",\"Configfixextractor\",\"Configfixextractor\",\"Configfixextractor\",\"Configfixextractor\",\"Configfixextractor\",\"Configfixextractor\",\"Configfixextractor\",\"Configfixextractor\",\"Configfixextractor\",\"Configfixextractor\",\"Configfixextractor\",\"Configfixextractor\",\"Configfixextractor\",\"Configfixextractor\",\"Configfixextractor\",\"Configfixextractor\",\"Configfixextractor\",\"Configfixextractor\",\"Configfixextractor\",\"Configfixextractor\",\"Configfixextractor\",\"Configfixextractor\",\"Configfixextractor\",\"Configfixextractor\",\"Configfixextractor\",\"Configfixextractor\",\"Configfixextractor\",\"Configfixextractor\",\"Configfixextractor\",\"Configfixextractor\",\"Configfixextractor\",\"Configfixextractor\",\"Configfixextractor\",\"Configfixextractor\",\"Configfixextractor\",\"Configfixextractor\",\"Configfixextractor\",\"Configfixextractor\",\"Configfixextractor\",\"Configfixextractor\",\"Configfixextractor\",\"Configfixextractor\",\"Configfixextractor\",\"Configfixextractor\",\"Configfixextractor\",\"Configfixextractor\",\"Configfixextractor\",\"Configfixextractor\",\"Configfixextractor\",\"Configfixextractor\",\"Configfixextractor\",\"Configfixextractor\",\"Configfixextractor\",\"Configfixextractor\",\"Configfixextractor\",\"Configfixextractor\",\"Configfixextractor\",\"Configfixextractor\",\"Configfixextractor\",\"Configfixextractor\",\"Configfixextractor\",\"Configfixextractor\",\"Configfixextractor\",\"Configfixextractor\",\"Configfixextractor\",\"Configfixextractor\",\"Configfixextractor\",\"Configfixextractor\",\"Configfixextractor\",\"Configfixextractor\",\"Configfixextractor\",\"Configfixextractor\",\"Configfixextractor\",\"Configfixextractor\",\"Configfixextractor\",\"Configfixextractor\",\"Configfixextractor\",\"Configfixextractor\",\"Configfixextractor\",\"Configfixextractor\",\"Configfixextractor\",\"Configfixextractor\",\"Configfixextractor\",\"Configfixextractor\",\"Configfixextractor\",\"Configfixextractor\",\"Configfixextractor\",\"Configfixextractor\",\"Configfixextractor\",\"Configfixextractor\",\"Configfixextractor\",\"Configfixextractor\",\"Configfixextractor\",\"Configfixextractor\",\"Configfixextractor\",\"Configfixextractor\",\"Configfixextractor\",\"Configfixextractor\",\"Configfixextractor\",\"Configfixextractor\",\"Configfixextractor\",\"Configfixextractor\",\"Configfixextractor\",\"Configfixextractor\",\"Configfixextractor\",\"Configfixextractor\",\"Configfixextractor\",\"Configfixextractor\",\"Configfixextractor\",\"Configfixextractor\",\"Configfixextractor\",\"Configfixextractor\",\"Configfixextractor\",\"Configfixextractor\",\"Configfixextractor\",\"Configfixextractor\",\"Configfixextractor\",\"Configfixextractor\",\"Configfixextractor\",\"Configfixextractor\",\"Configfixextractor\",\"Configfixextractor\",\"Configfixextractor\",\"Configfixextractor\",\"Configfixextractor\",\"Configfixextractor\",\"Configfixextractor\",\"Configfixextractor\",\"Configfixextractor\",\"Configfixextractor\",\"Configfixextractor\",\"Configfixextractor\",\"Configfixextractor\",\"Configfixextractor\",\"Configfixextractor\",\"Configfixextractor\",\"Configfixextractor\",\"Configfixextractor\",\"Configfixextractor\",\"Configfixextractor\",\"Configfixextractor\",\"Configfixextractor\",\"Configfixextractor\",\"Configfixextractor\",\"Configfixextractor\",\"Configfixextractor\",\"Configfixextractor\",\"Configfixextractor\",\"Configfixextractor\",\"Configfixextractor\",\"Configfixextractor\",\"Configfixextractor\",\"Configfixextractor\",\"Configfixextractor\",\"Configfixextractor\",\"Configfixextractor\",\"Configfixextractor\",\"Configfixextractor\",\"Configfixextractor\",\"Configfixextractor\",\"Configfixextractor\",\"Configfixextractor\",\"Configfixextractor\",\"Configfixextractor\",\"Configfixextractor\",\"Configfixextractor\",\"Configfixextractor\",\"Configfixextractor\",\"Configfixextractor\",\"Configfixextractor\",\"Configfixextractor\",\"Configfixextractor\",\"Configfixextractor\",\"Configfixextractor\",\"Configfixextractor\",\"Configfixextractor\",\"Configfixextractor\",\"Configfixextractor\",\"Configfixextractor\",\"Configfixextractor\",\"Configfixextractor\",\"Configfixextractor\",\"Configfixextractor\",\"Configfixextractor\",\"Configfixextractor\",\"Configfixextractor\",\"Configfixextractor\",\"Configfixextractor\",\"Configfixextractor\",\"Configfixextractor\",\"Configfixextractor\",\"Configfixextractor\",\"Configfixextractor\",\"Configfixextractor\",\"Configfixextractor\",\"Configfixextractor\",\"Configfixextractor\",\"Configfixextractor\",\"Configfixextractor\",\"Configfixextractor\",\"Configfixextractor\",\"Configfixextractor\",\"Configfixextractor\",\"Configfixextractor\",\"Configfixextractor\",\"Configfixextractor\",\"Configfixextractor\",\"Configfixextractor\",\"Configfixextractor\",\"Configfixextractor\",\"Configfixextractor\",\"Configfixextractor\",\"Configfixextractor\",\"Configfixextractor\",\"Configfixextractor\",\"Configfixextractor\",\"Configfixextractor\",\"Configfixextractor\",\"Configfixextractor\",\"Configfixextractor\",\"Configfixextractor\",\"Configfixextractor\",\"Configfixextractor\",\"Configfixextractor\",\"Configfixextractor\",\"Configfixextractor\",\"Configfixextractor\",\"Configfixextractor\",\"Configfixextractor\",\"Configfixextractor\",\"Configfixextractor\",\"Configfixextractor\",\"Configfixextractor\",\"Configfixextractor\",\"Configfixextractor\",\"Configfixextractor\",\"Configfixextractor\",\"Configfixextractor\",\"Configfixextractor\",\"Configfixextractor\",\"Configfixextractor\",\"Configfixextractor\",\"Configfixextractor\",\"Configfixextractor\",\"Configfixextractor\",\"Configfixextractor\",\"Configfixextractor\",\"Configfixextractor\",\"Configfixextractor\",\"Configfixextractor\",\"Configfixextractor\",\"Configfixextractor\",\"Configfixextractor\",\"Configfixextractor\",\"Configfixextractor\",\"Configfixextractor\",\"Configfixextractor\",\"Configfixextractor\",\"Configfixextractor\",\"Configfixextractor\",\"Configfixextractor\",\"Configfixextractor\",\"Configfixextractor\",\"Configfixextractor\",\"Configfixextractor\",\"Configfixextractor\",\"Configfixextractor\",\"Configfixextractor\",\"Configfixextractor\",\"Configfixextractor\",\"Configfixextractor\",\"Configfixextractor\",\"Configfixextractor\",\"Configfixextractor\",\"Configfixextractor\",\"Configfixextractor\",\"Configfixextractor\",\"Configfixextractor\",\"Configfixextractor\",\"Configfixextractor\",\"Configfixextractor\",\"Configfixextractor\",\"Configfixextractor\",\"Configfixextractor\",\"Configfixextractor\",\"Configfixextractor\",\"Configfixextractor\",\"Configfixextractor\",\"Configfixextractor\",\"Configfixextractor\",\"Configfixextractor\",\"Configfixextractor\",\"Configfixextractor\",\"Configfixextractor\",\"Configfixextractor\",\"Configfixextractor\",\"Configfixextractor\",\"Configfixextractor\",\"Configfixextractor\",\"Configfixextractor\",\"Configfixextractor\",\"Configfixextractor\",\"Configfixextractor\",\"Configfixextractor\",\"Configfixextractor\",\"Configfixextractor\",\"Configfixextractor\",\"Configfixextractor\",\"Configfixextractor\",\"Configfixextractor\",\"Configfixextractor\",\"Configfixextractor\",\"Configfixextractor\",\"Configfixextractor\",\"Configfixextractor\",\"Configfixextractor\",\"Configfixextractor\",\"Configfixextractor\",\"KClause\",\"KClause\",\"KClause\",\"KClause\",\"KClause\",\"KClause\",\"KClause\",\"KClause\",\"KClause\",\"KClause\",\"KClause\",\"KClause\",\"KClause\",\"KClause\",\"KClause\",\"KClause\",\"KClause\",\"KClause\",\"KClause\",\"KClause\",\"KClause\",\"KClause\",\"KClause\",\"KClause\",\"KClause\",\"KClause\",\"KClause\",\"KClause\",\"KClause\",\"KClause\",\"KClause\",\"KClause\",\"KClause\",\"KClause\",\"KClause\",\"KClause\",\"KClause\",\"KClause\",\"KClause\",\"KClause\",\"KClause\",\"KClause\",\"KClause\",\"KClause\",\"KClause\",\"KClause\",\"KClause\",\"KClause\",\"KClause\",\"KClause\",\"KClause\",\"KClause\",\"KClause\",\"KClause\",\"KClause\",\"KClause\",\"KClause\",\"KClause\",\"KClause\",\"KClause\",\"KClause\",\"KClause\",\"KClause\",\"KClause\",\"KClause\",\"KClause\",\"KClause\",\"KClause\",\"KClause\",\"KClause\",\"KClause\",\"KClause\",\"KClause\",\"KClause\",\"KClause\",\"KClause\",\"KClause\",\"KClause\",\"KClause\",\"KClause\",\"KClause\",\"KClause\",\"KClause\",\"KClause\",\"KClause\",\"KClause\",\"KClause\",\"KClause\",\"KClause\",\"KClause\",\"KClause\",\"KClause\",\"KClause\",\"KClause\",\"KClause\",\"KClause\",\"KClause\",\"KClause\",\"KClause\",\"KClause\",\"KClause\",\"KClause\",\"KClause\",\"KClause\",\"KClause\",\"KClause\",\"KClause\",\"KClause\",\"KClause\",\"KClause\",\"KClause\",\"KClause\",\"KClause\",\"KClause\",\"KClause\",\"KClause\",\"KClause\",\"KClause\",\"KClause\",\"KClause\",\"KClause\",\"KClause\",\"KClause\",\"KClause\",\"KClause\",\"KClause\",\"KClause\",\"KClause\",\"KClause\",\"KClause\",\"KClause\",\"KClause\",\"KClause\",\"KClause\",\"KClause\",\"KClause\",\"KClause\",\"KClause\",\"KClause\",\"KClause\",\"KClause\",\"KClause\",\"KClause\",\"KClause\",\"KClause\",\"KClause\",\"KClause\",\"KClause\",\"KClause\",\"KClause\",\"KClause\",\"KClause\",\"KClause\",\"KClause\",\"KClause\",\"KClause\",\"KClause\",\"KClause\",\"KClause\",\"KClause\",\"KClause\",\"KClause\",\"KClause\",\"KClause\",\"KClause\",\"KClause\",\"KClause\",\"KClause\",\"KClause\",\"KClause\",\"KClause\",\"KClause\",\"KClause\",\"KClause\",\"KClause\",\"KClause\",\"KClause\",\"KClause\",\"KClause\",\"KClause\",\"KClause\",\"KClause\",\"KClause\",\"KClause\",\"KClause\",\"KClause\",\"KClause\",\"KClause\",\"KClause\",\"KClause\",\"KClause\",\"KClause\",\"KClause\",\"KClause\",\"KClause\",\"KClause\",\"KClause\",\"KClause\",\"KClause\",\"KClause\",\"KClause\",\"KClause\",\"KClause\",\"KClause\",\"KClause\",\"KClause\",\"KClause\",\"KClause\",\"KClause\",\"KClause\",\"KClause\",\"KClause\",\"KClause\",\"KClause\",\"KClause\",\"KClause\",\"KClause\",\"KClause\",\"KClause\",\"KClause\",\"KClause\",\"KClause\",\"KClause\",\"KClause\",\"KClause\",\"KClause\",\"KClause\",\"KClause\",\"KClause\",\"KClause\",\"KClause\",\"KClause\",\"KClause\",\"KClause\",\"KClause\",\"KClause\",\"KClause\",\"KClause\",\"KClause\",\"KClause\",\"KClause\",\"KClause\",\"KClause\",\"KClause\",\"KClause\",\"KClause\",\"KClause\",\"KClause\",\"KClause\",\"KClause\",\"KClause\",\"KClause\",\"KClause\",\"KClause\",\"KClause\",\"KClause\",\"KClause\",\"KClause\",\"KClause\",\"KClause\",\"KClause\",\"KClause\",\"KClause\",\"KClause\",\"KClause\",\"KClause\",\"KClause\",\"KClause\",\"KClause\",\"KClause\",\"KClause\",\"KClause\",\"KClause\",\"KClause\",\"KClause\",\"KClause\",\"KClause\",\"KClause\",\"KClause\",\"KClause\",\"KClause\",\"KClause\",\"KClause\",\"KClause\",\"KClause\",\"KClause\",\"KClause\",\"KClause\",\"KClause\",\"KClause\",\"KClause\",\"KClause\",\"KClause\",\"KClause\",\"KClause\",\"KClause\",\"KClause\",\"KClause\",\"KClause\",\"KClause\",\"KClause\",\"KClause\",\"KClause\",\"KClause\",\"KClause\",\"KClause\",\"KClause\",\"KClause\",\"KClause\",\"KClause\",\"KClause\",\"KClause\",\"KClause\",\"KClause\",\"KClause\",\"KClause\",\"KClause\",\"KClause\",\"KClause\",\"KClause\",\"KClause\",\"KClause\",\"KClause\",\"KClause\",\"KClause\",\"KClause\",\"KClause\",\"KClause\",\"KClause\",\"KClause\",\"KClause\",\"KClause\",\"KClause\",\"KClause\",\"KClause\",\"KClause\",\"KClause\",\"KClause\",\"KClause\",\"KClause\",\"KClause\",\"KClause\",\"KClause\",\"KClause\",\"KClause\",\"KClause\",\"KClause\",\"KClause\",\"KClause\",\"KClause\",\"KClause\",\"KClause\",\"KClause\",\"KClause\",\"KClause\",\"KClause\",\"KClause\",\"KClause\",\"KClause\",\"KClause\",\"KClause\",\"KClause\",\"KClause\",\"KClause\",\"KClause\",\"KClause\",\"KClause\",\"KClause\",\"KClause\",\"KClause\",\"KClause\",\"KClause\",\"KClause\",\"KClause\",\"KClause\",\"KClause\",\"KClause\",\"KClause\",\"KClause\",\"KClause\",\"KClause\",\"KClause\",\"KClause\",\"KClause\",\"KClause\",\"KClause\",\"KClause\",\"KClause\",\"KClause\",\"KClause\",\"KClause\",\"KClause\",\"KClause\",\"KClause\",\"KClause\",\"KClause\",\"KClause\",\"KClause\",\"KClause\",\"KClause\",\"KClause\",\"KClause\",\"KClause\",\"KClause\",\"KClause\",\"KClause\",\"KClause\",\"KClause\",\"KClause\",\"KClause\",\"KClause\",\"KClause\",\"KClause\",\"KClause\",\"KClause\",\"KClause\",\"KClause\",\"KClause\",\"KClause\",\"KClause\",\"KClause\",\"KClause\",\"KClause\",\"KClause\",\"KClause\",\"KClause\",\"KClause\",\"KClause\",\"KClause\",\"KClause\",\"KClause\",\"KClause\",\"KClause\",\"KClause\",\"Kconfigreader\",\"Kconfigreader\",\"Kconfigreader\",\"Kconfigreader\",\"Kconfigreader\",\"Kconfigreader\",\"Kconfigreader\",\"Kconfigreader\",\"Kconfigreader\",\"Kconfigreader\",\"Kconfigreader\",\"Kconfigreader\",\"Kconfigreader\",\"Kconfigreader\",\"Kconfigreader\",\"Kconfigreader\",\"Kconfigreader\",\"Kconfigreader\",\"Kconfigreader\",\"Kconfigreader\",\"Kconfigreader\",\"Kconfigreader\",\"Kconfigreader\",\"Kconfigreader\",\"Kconfigreader\",\"Kconfigreader\",\"Kconfigreader\",\"Kconfigreader\",\"Kconfigreader\",\"Kconfigreader\",\"Kconfigreader\",\"Kconfigreader\",\"Kconfigreader\",\"Kconfigreader\",\"Kconfigreader\",\"Kconfigreader\",\"Kconfigreader\",\"Kconfigreader\",\"Kconfigreader\",\"Kconfigreader\",\"Kconfigreader\",\"Kconfigreader\",\"Kconfigreader\",\"Kconfigreader\",\"Kconfigreader\",\"Kconfigreader\",\"Kconfigreader\",\"Kconfigreader\",\"Kconfigreader\",\"Kconfigreader\",\"Kconfigreader\",\"Kconfigreader\",\"Kconfigreader\",\"Kconfigreader\",\"Kconfigreader\",\"Kconfigreader\",\"Kconfigreader\",\"Kconfigreader\",\"Kconfigreader\",\"Kconfigreader\",\"Kconfigreader\",\"Kconfigreader\",\"Kconfigreader\",\"Kconfigreader\",\"Kconfigreader\",\"Kconfigreader\",\"Kconfigreader\",\"Kconfigreader\",\"Kconfigreader\",\"Kconfigreader\",\"Kconfigreader\",\"Kconfigreader\",\"Kconfigreader\",\"Kconfigreader\",\"Kconfigreader\",\"Kconfigreader\",\"Kconfigreader\",\"Kconfigreader\",\"Kconfigreader\",\"Kconfigreader\",\"Kconfigreader\",\"Kconfigreader\",\"Kconfigreader\",\"Kconfigreader\",\"Kconfigreader\",\"Kconfigreader\",\"Kconfigreader\",\"Kconfigreader\",\"Kconfigreader\",\"Kconfigreader\",\"Kconfigreader\",\"Kconfigreader\",\"Kconfigreader\",\"Kconfigreader\",\"Kconfigreader\",\"Kconfigreader\",\"Kconfigreader\",\"Kconfigreader\",\"Kconfigreader\",\"Kconfigreader\",\"Kconfigreader\",\"Kconfigreader\",\"Kconfigreader\",\"Kconfigreader\",\"Kconfigreader\",\"Kconfigreader\",\"Kconfigreader\",\"Kconfigreader\",\"Kconfigreader\",\"Kconfigreader\",\"Kconfigreader\",\"Kconfigreader\",\"Kconfigreader\",\"Kconfigreader\",\"Kconfigreader\",\"Kconfigreader\",\"Kconfigreader\",\"Kconfigreader\",\"Kconfigreader\",\"Kconfigreader\",\"Kconfigreader\",\"Kconfigreader\",\"Kconfigreader\",\"Kconfigreader\",\"Kconfigreader\",\"Kconfigreader\",\"Kconfigreader\",\"Kconfigreader\",\"Kconfigreader\",\"Kconfigreader\",\"Kconfigreader\",\"Kconfigreader\",\"Kconfigreader\",\"Kconfigreader\",\"Kconfigreader\",\"Kconfigreader\",\"Kconfigreader\",\"Kconfigreader\",\"Kconfigreader\",\"Kconfigreader\",\"Kconfigreader\",\"Kconfigreader\",\"Kconfigreader\",\"Kconfigreader\",\"Kconfigreader\",\"Kconfigreader\",\"Kconfigreader\",\"Kconfigreader\",\"Kconfigreader\",\"Kconfigreader\",\"Kconfigreader\",\"Kconfigreader\",\"Kconfigreader\",\"Kconfigreader\",\"Kconfigreader\",\"Kconfigreader\",\"Kconfigreader\",\"Kconfigreader\",\"Kconfigreader\",\"Kconfigreader\",\"Kconfigreader\",\"Kconfigreader\",\"Kconfigreader\",\"Kconfigreader\",\"Kconfigreader\",\"Kconfigreader\",\"Kconfigreader\",\"Kconfigreader\",\"Kconfigreader\",\"Kconfigreader\",\"Kconfigreader\",\"Kconfigreader\",\"Kconfigreader\",\"Kconfigreader\",\"Kconfigreader\",\"Kconfigreader\",\"Kconfigreader\",\"Kconfigreader\",\"Kconfigreader\",\"Kconfigreader\",\"Kconfigreader\",\"Kconfigreader\",\"Kconfigreader\",\"Kconfigreader\",\"Kconfigreader\",\"Kconfigreader\",\"Kconfigreader\",\"Kconfigreader\",\"Kconfigreader\",\"Kconfigreader\",\"Kconfigreader\",\"Kconfigreader\",\"Kconfigreader\",\"Kconfigreader\",\"Kconfigreader\",\"Kconfigreader\",\"Kconfigreader\",\"Kconfigreader\",\"Kconfigreader\",\"Kconfigreader\",\"Kconfigreader\",\"Kconfigreader\",\"Kconfigreader\",\"Kconfigreader\",\"Kconfigreader\",\"Kconfigreader\",\"Kconfigreader\",\"Kconfigreader\",\"Kconfigreader\",\"Kconfigreader\",\"Kconfigreader\",\"Kconfigreader\",\"Kconfigreader\",\"Kconfigreader\",\"Kconfigreader\",\"Kconfigreader\",\"Kconfigreader\",\"Kconfigreader\",\"Kconfigreader\",\"Kconfigreader\",\"Kconfigreader\",\"Kconfigreader\",\"Kconfigreader\",\"Kconfigreader\",\"Kconfigreader\",\"Kconfigreader\",\"Kconfigreader\",\"Kconfigreader\",\"Kconfigreader\",\"Kconfigreader\",\"Kconfigreader\",\"Kconfigreader\",\"Kconfigreader\",\"Kconfigreader\",\"Kconfigreader\",\"Kconfigreader\",\"Kconfigreader\",\"Kconfigreader\",\"Kconfigreader\",\"Kconfigreader\",\"Kconfigreader\",\"Kconfigreader\",\"Kconfigreader\",\"Kconfigreader\",\"Kconfigreader\",\"Kconfigreader\",\"Kconfigreader\",\"Kconfigreader\",\"Kconfigreader\",\"Kconfigreader\",\"Kconfigreader\",\"Kconfigreader\",\"Kconfigreader\",\"Kconfigreader\",\"Kconfigreader\",\"Kconfigreader\",\"Kconfigreader\",\"Kconfigreader\",\"Kconfigreader\",\"Kconfigreader\",\"Kconfigreader\",\"Kconfigreader\",\"Kconfigreader\",\"Kconfigreader\",\"Kconfigreader\",\"Kconfigreader\",\"Kconfigreader\",\"Kconfigreader\",\"Kconfigreader\",\"Kconfigreader\",\"Kconfigreader\",\"Kconfigreader\",\"Kconfigreader\",\"Kconfigreader\",\"Kconfigreader\",\"Kconfigreader\",\"Kconfigreader\",\"Kconfigreader\",\"Kconfigreader\",\"Kconfigreader\",\"Kconfigreader\",\"Kconfigreader\",\"Kconfigreader\",\"Kconfigreader\",\"Kconfigreader\",\"Kconfigreader\",\"Kconfigreader\",\"Kconfigreader\",\"Kconfigreader\",\"Kconfigreader\",\"Kconfigreader\",\"Kconfigreader\",\"Kconfigreader\",\"Kconfigreader\",\"Kconfigreader\",\"Kconfigreader\",\"Kconfigreader\",\"Kconfigreader\",\"Kconfigreader\",\"Kconfigreader\",\"Kconfigreader\",\"Kconfigreader\",\"Kconfigreader\",\"Kconfigreader\",\"Kconfigreader\",\"Kconfigreader\",\"Kconfigreader\",\"Kconfigreader\",\"Kconfigreader\",\"Kconfigreader\",\"Kconfigreader\",\"Kconfigreader\",\"Kconfigreader\",\"Kconfigreader\",\"Kconfigreader\",\"Kconfigreader\",\"Kconfigreader\",\"Kconfigreader\",\"Kconfigreader\",\"Kconfigreader\",\"Kconfigreader\",\"Kconfigreader\",\"Kconfigreader\",\"Kconfigreader\",\"Kconfigreader\",\"Kconfigreader\",\"Kconfigreader\",\"Kconfigreader\",\"Kconfigreader\",\"Kconfigreader\",\"Kconfigreader\",\"Kconfigreader\",\"Kconfigreader\",\"Kconfigreader\",\"Kconfigreader\",\"Kconfigreader\",\"Kconfigreader\",\"Kconfigreader\",\"Kconfigreader\",\"Kconfigreader\",\"Kconfigreader\",\"Kconfigreader\",\"Kconfigreader\",\"Kconfigreader\",\"Kconfigreader\",\"Kconfigreader\",\"Kconfigreader\",\"Kconfigreader\",\"Kconfigreader\",\"Kconfigreader\",\"Kconfigreader\",\"Kconfigreader\",\"Kconfigreader\",\"Kconfigreader\",\"Kconfigreader\",\"Kconfigreader\",\"Kconfigreader\",\"Kconfigreader\",\"Kconfigreader\",\"Kconfigreader\",\"Kconfigreader\",\"Kconfigreader\",\"Kconfigreader\",\"Kconfigreader\",\"Kconfigreader\",\"Kconfigreader\",\"Kconfigreader\",\"Kconfigreader\",\"Kconfigreader\",\"Kconfigreader\",\"Kconfigreader\",\"Kconfigreader\",\"Kconfigreader\",\"Kconfigreader\",\"Kconfigreader\",\"Kconfigreader\",\"Kconfigreader\",\"Kconfigreader\",\"Kconfigreader\",\"Kconfigreader\",\"Kconfigreader\",\"Kconfigreader\",\"Kconfigreader\",\"Kconfigreader\",\"Kconfigreader\",\"Kconfigreader\",\"Kconfigreader\",\"Kconfigreader\",\"Kconfigreader\",\"Kconfigreader\",\"Kconfigreader\",\"Kconfigreader\",\"Kconfigreader\",\"Kconfigreader\",\"Kconfigreader\",\"Kconfigreader\",\"Kconfigreader\",\"Kconfigreader\",\"Kconfigreader\",\"Kconfigreader\",\"Kconfigreader\",\"Kconfigreader\",\"Kconfigreader\"],\"x0\":\" \",\"xaxis\":\"x\",\"y\":[215272336.0,515834089.0,851379009.0,1181284412.0,1472503245.0,1835428130.0,2195716899.0,2548752195.0,2909491474.0,3240345265.0,3540783455.0,3838895199.0,4153902058.0,4482869147.0,4774879090.0,5101264268.0,5442051602.0,5822015643.0,6123387452.0,6429452730.0,6693076707.0,7007748707.0,7331689646.0,7616137955.0,7896913842.0,8165299575.0,8479437997.0,8785280986.0,9129505613.0,9499017408.0,9871666978.0,10188939154.0,10433629606.0,10755034164.0,11122827295.0,11396311087.0,11714044402.0,11968864973.0,12254530550.0,12547973904.0,12858168032.0,13145091098.0,13460782561.0,13855125125.0,14189214675.0,14505734571.0,14809056862.0,15116203750.0,15441337173.0,15899634820.0,16301303464.0,16716628898.0,17155438947.0,17605761111.0,18051411040.0,18542030820.0,18979312905.0,19422761462.0,19987060609.0,20407937429.0,54452319805.0,54822944219.0,55184823221.0,55723012096.0,56167594502.0,56481420723.0,56761130894.0,57057478717.0,57373267614.0,57690166771.0,58029008895.0,58424459266.0,58694860005.0,58949581540.0,59288103711.0,59627163157.0,59946764017.0,60275959117.0,60714304043.0,61013105219.0,61348503959.0,61665869185.0,61963531528.0,62297289403.0,62679558703.0,62679558703.0,62679558703.0,62679558703.0,62679558703.0,62679558703.0,62679558703.0,62679558703.0,62679558703.0,62679558703.0,62679558703.0,62679558703.0,62679558703.0,62679558703.0,62679558703.0,62679558703.0,62679558703.0,62679558703.0,62679558703.0,62679558703.0,62679558703.0,62679558703.0,62679558703.0,62679558703.0,62679558703.0,62679558703.0,62987685486.0,63257068331.0,63553187067.0,63841507030.0,64105984369.0,64464247587.0,64749344671.0,65082177402.0,65395200266.0,65707495930.0,66021924666.0,66323676906.0,66651696946.0,66934695683.0,67316006944.0,67668760146.0,68024123928.0,68348451500.0,68673118297.0,68977240042.0,69263789965.0,69585959768.0,69946978247.0,70276690364.0,70534795606.0,70826134931.0,71172806209.0,71858449945.0,72153017578.0,72437586593.0,72783195776.0,73075907724.0,73381764397.0,73677938370.0,74012672638.0,74334236027.0,74622451100.0,74905433438.0,75221621296.0,75538397875.0,75814153395.0,76170039995.0,76484043676.0,76762867053.0,77039389997.0,77302283282.0,77611183011.0,77945398322.0,78203794151.0,78512772093.0,78836538710.0,79131130970.0,79446231921.0,79756787724.0,80029716471.0,80352669187.0,80670181419.0,80966280659.0,81259643255.0,81531744387.0,81845042408.0,82122224908.0,82441267440.0,82738230374.0,83013881891.0,83332461593.0,83648370480.0,83955690224.0,84276981961.0,84580129456.0,84919514823.0,85258954462.0,85530104610.0,85805894166.0,86090285756.0,86429743059.0,86737364885.0,87033279081.0,87345944078.0,87660586477.0,87967243445.0,88259819946.0,88636274356.0,88965943436.0,89276578402.0,89557855190.0,89896498264.0,90216516417.0,90515363209.0,90905872262.0,91206320688.0,91493251171.0,91770097550.0,92097677384.0,92440746127.0,92701547909.0,93001804092.0,93295685854.0,93657480930.0,94018808943.0,94346955614.0,94679585951.0,95035824700.0,95362765509.0,95683097415.0,95959280413.0,96238052965.0,96613580678.0,96931352068.0,97230142706.0,97538059953.0,97966735197.0,98160334290.0,98343563056.0,98526913176.0,98695868461.0,98864550114.0,99069427392.0,99218731054.0,99362033274.0,99538381064.0,99694409880.0,99858894347.0,100016712190.0,100235246831.0,100620088156.0,100832399106.0,101097143368.0,101284457812.0,101477456378.0,101729187342.0,101955568242.0,102213565123.0,102392252930.0,102559897989.0,102704422436.0,102893434791.0,103042194895.0,103214796385.0,103700717096.0,104159030550.0,104330315595.0,104510318710.0,104695342979.0,104891335396.0,105077734375.0,105264633179.0,105473749566.0,105637948631.0,105818463514.0,105957090307.0,106128017878.0,106302836746.0,106471713358.0,106640928173.0,106791435661.0,106952207008.0,107123820092.0,107285505301.0,107458543569.0,107637984195.0,107857339552.0,108045947387.0,108208831350.0,108368935481.0,108539142493.0,108697525638.0,108874291919.0,109027560761.0,109224675582.0,109387537394.0,109542459564.0,109844995518.0,110102359316.0,110281879464.0,110492894442.0,110679839995.0,110853309297.0,111058660120.0,111273386053.0,111476482274.0,111652071463.0,111865867534.0,112068336428.0,112276710603.0,112432473618.0,112644741227.0,112814923256.0,112971251969.0,113161682636.0,113317397109.0,113466559598.0,113627136296.0,113780235402.0,113943245078.0,114102797480.0,114286855909.0,114445276643.0,114627197374.0,114812081272.0,114987326003.0,115145764349.0,115295512341.0,115483382931.0,115638911775.0,115798140781.0,115968421837.0,116125315007.0,116328033789.0,116513246314.0,116694261359.0,116854767470.0,117008391870.0,117205109572.0,117361255252.0,117531364707.0,117690406264.0,117851440410.0,118003152904.0,118177539457.0,118352595978.0,118523556113.0,118686882779.0,118862591367.0,119045252284.0,119215025122.0,119688767805.0,130164229269.0,139171119875.0,149014918171.0,157093604921.0,166731343393.0,174629269734.0,182531998627.0,190342956905.0,198342904858.0,206178041782.0,214323172839.0,222645462260.0,230696413687.0,238785992830.0,246623502132.0,255073466385.0,263476224263.0,272122612251.0,280293806699.0,288753044282.0,296769423004.0,304635400551.0,312063818687.0,319719693594.0,327519774591.0,335261547129.0,343073019668.0,350508369538.0,359857143092.0,367950851923.0,376732000487.0,385110103242.0,393771572492.0,393936038048.0,394120962912.0,394322468934.0,394538712552.0,394724800532.0,394905124061.0,395081580274.0,395448960912.0,395690087804.0,395857630513.0,396009495393.0,396168373578.0,396330387325.0,396514405064.0,396678603477.0,396881807994.0,397037872592.0,397209495666.0,397367521954.0,397534175637.0,397691319221.0,397873916439.0,398050771908.0,398219572790.0,398403749795.0,398575925263.0,398821012214.0,399181540841.0,399341398919.0,399497102173.0,399654267591.0,399829155769.0,399987441048.0,400147768052.0,400336606475.0,400587443165.0,400799099080.0,400994957530.0,401165582240.0,401369980247.0,401554648387.0,401726074963.0,401933955503.0,402130237192.0,402300378910.0,402500799490.0,402665200285.0,402916042438.0,403106240844.0,403283800147.0,403447079875.0,403614775840.0,403843474562.0,404016077484.0,404249202950.0,404491040292.0,404664109798.0,404915654169.0,405107559926.0,405279724773.0,405456445155.0,405630159885.0,405789220797.0,405951621610.0,599600244.0,237361845.0,250152235.0,243690418.0,241115450.0,250825403.0,234575137.0,255337124.0,255340043.0,267147328.0,239446957.0,253587216.0,250199686.0,253358829.0,232956004.0,276991521.0,240942501.0,247055226.0,251724735.0,237360137.0,245924309.0,249708598.0,248048448.0,267875983.0,244139065.0,248419773.0,246093207.0,239855975.0,251929935.0,271842987.0,242763678.0,244527285.0,238630070.0,245512068.0,244128830.0,247371005.0,239087847.0,238620862.0,262132525.0,248890977.0,253303120.0,243153722.0,243130915.0,241839310.0,231179891.0,252962343.0,248324282.0,245473944.0,241917216.0,15662468723.0,16416418229.0,15194739926.0,16291376766.0,16717014903.0,16196211288.0,16482341174.0,17157323056.0,16837498347.0,17534596207.0,693788166.0,190307903886.0,737497797.0,734528191.0,702126183.0,716142730.0,706207742.0,715154362.0,706841220.0,727145771.0,693090526.0,720990575.0,783960310.0,745435703.0,789174752.0,773483031.0,780140920.0,761293453.0,790605702.0,806630101.0,795793191.0,776012542.0,802916709.0,811717680.0,810436310.0,788100616.0,788100616.0,788100616.0,788100616.0,788100616.0,788100616.0,788100616.0,788100616.0,788100616.0,788100616.0,788100616.0,788100616.0,788100616.0,788100616.0,788100616.0,788100616.0,788100616.0,788100616.0,788100616.0,788100616.0,788100616.0,788100616.0,788100616.0,788100616.0,788100616.0,788100616.0,788100616.0,788100616.0,788100616.0,788100616.0,788100616.0,788100616.0,1714530458.0,1735135932.0,1682816016.0,1698772758.0,1693478114.0,1734683548.0,1734342529.0,1747292138.0,1810857786.0,1812319010.0,1927132003.0,1859188621.0,1847314570.0,1919557394.0,1826372403.0,1884482276.0,2001237004.0,2015704445.0,1975083430.0,1970705470.0,1987816843.0,1978390299.0,1998567159.0,2187415854.0,2157113702.0,2198468155.0,2248428453.0,2285332537.0,2274667985.0,2281241918.0,2323853079.0,2240698594.0,2245651492.0,2240815180.0,2294468836.0,2297272283.0,2273139118.0,2268633492.0,2284344419.0,2427082197.0,2536033072.0,2450116022.0,2323456516.0,2469494924.0,2553972605.0,2901886587.0,2524628102.0,2399845107.0,2545344500.0,2561751783.0,2555885335.0,2685469311.0,2911300219.0,2730095253.0,2716381980.0,2726754911.0,3126163594.0,3045964621.0,3127754267.0,3105691222.0,3127044871.0,2985783553.0,2907273202.0,2900931404.0,2872328531.0,2943875531.0,2947806556.0,2928578187.0,2938986512.0,2872240389.0,2895217687.0,2893293779.0,2963204485.0,2922003734.0,3020196624.0,3041235456.0,3105475700.0,3126694706.0,3125228958.0,3095403505.0,3142423785.0,3166010347.0,3104107829.0,2987388545.0,2980677367.0,3187086098.0,3175971217.0,3184633684.0,3239645999.0,3204233572.0,3191739522.0,3175344463.0,3223066445.0,3173287277.0,3237746960.0,3201156559.0,3221553171.0,3234047428.0,3255639856.0,3311238559.0,3275496543.0,3350781868.0,3383788415.0,3486019984.0,3445874728.0,3392017250.0,3422296318.0,3414392926.0,3432162248.0,3589201323.0,3550997378.0,10214425377.0,10195463798.0,10617236718.0,10761190056.0,10740892018.0,10035716790.0,10039450187.0,9681853339.0,10115506254.0,10515884531.0,11003638674.0,10891450909.0,10744879857.0,10877227358.0,10753479063.0,10399516821.0,11084396702.0,10877234789.0,10843316569.0,10748529654.0,10990722588.0,11192546639.0,11537204238.0,11590927087.0,11341257589.0,11569895308.0,12312837408.0,12480225704.0,13019772569.0,11808129167.0,11900006636.0,12744731973.0,12660839228.0,12961606189.0,12946982841.0,14078043740.0,13209235610.0,13532617161.0,13668545459.0,14082936194.0,14287550862.0,14366365590.0,15422949262.0,15313764588.0,16799669330.0,17265705915.0,17479682547.0,17048680353.0,18472961337.0,19502077990.0,20712654671.0,21117318000.0,22474340350.0,23349915072.0,23836572658.0,25473805472.0,26866575790.0,27846163816.0,28288121325.0,30103432114.0,31061099919.0,32232120361.0,33125058153.0,35836123336.0,36201622804.0,37495807748.0,38606316111.0,44111042958.0,46893054101.0,49369967882.0,49352630953.0,49287571211.0,48891539884.0,53843398430.0,54883598690.0,55735905891.0,55190162698.0,54289861408.0,56822566387.0,57499936295.0,62154862322.0,62735200049.0,61152218731.0,60984294423.0,61632232570.0,63626291090.0,63234144054.0,64444489283.0,63467822864.0,67260716993.0,67511392932.0,68118392145.0,69088805533.0,70404698344.0,72197057214.0,73188939529.0,73132020294.0,74776718202.0,76986258887.0,76053699888.0,80614129697.0,78941385670.0,81091216599.0,80727047274.0,85158497066.0,81603273193.0,80313265310.0,81269974127.0,100200015673.0,134856949627.0,136688032637.0,151185807056.0,141450762097.0,145807673016.0,280294198166.0,96323762270.0,47119258606409.0,98108800707.0,95850624417.0,98882499476.0,100879914358.0,99475872973.0,98251969083.0,98224732794.0,98080576207.0,102909491641.0,108511285481.0,109201603445.0,156916322060.0,104686278542.0,109158874832.0,106108889367.0,107445266226.0,108059282291.0,107068838868.0,112383255471.0,112718945883.0,109432440878.0,107681757024.0,111843727311.0,109945142376.0,111200141107.0,110595700204.0,247945048.0,251278470.0,264300237.0,241223917.0,1125862109.0,254118433.0,255244134.0,249131229.0,241880148.0,247699416.0,249274812.0,245504646.0,249449530.0,241339811.0,239411816.0,241224209.0,267954462.0,254472605.0,259144860.0,256861267.0,267611921.0,252237166.0,269846486.0,271894576.0,268615729.0,269884386.0,280329062.0,291412538.0,271984959.0,290997831.0,293304317.0,299739970.0,293474773.0,297115594.0,298117031.0,305881488.0,309522512.0,365773611.0,313749742.0,304745357.0,295034312.0,303206269.0,314485273.0,331927637.0,315225972.0,348518764.0,349675237.0,343475031.0,371942926.0,362826015.0,351314989.0,363594343.0,448357932.0,346926902.0,248524354.0,229281421.0,235481228.0,247597561.0,241259735.0,471494260.0,249440575.0,259097454.0,245606717.0,245456677.0,612872524.0,230154537.0,239677388.0,237127667.0,245116250.0,237746875.0,229888491.0,240126942.0,241668474.0,226071706.0,243857021.0,235969145.0,234314255.0,241934852.0,280874253.0,230138596.0,251721250.0,255078556.0,225679793.0,247892667.0,263689833.0,244726530.0,256977091.0,237613591.0,236166695.0,227874100.0,245555926.0,242786151.0,233035383.0,239618052.0,268481079.0,257458793.0,248707317.0,251311147.0,301263375.0,251379920.0,265364940.0,271176596.0,250989741.0,247417522.0,231177280.0,289000999.0,234557833.0,245236360.0,241073079.0,237327512.0,249011915.0,251345561.0,266801952.0,4014285193.0,3701157329.0,3603511746.0,3633229886.0,4261029822.0,3965618687.0,3555055009.0,3613437746.0,4157228406.0,4438183395.0,618186406.0,92218500166.0,757294349.0,645289241.0,612671752.0,615328567.0,615352675.0,658293834.0,637684994.0,629859372.0,645045132.0,705432757.0,651972442.0,683815154.0,681405630.0,719992594.0,705029943.0,728219876.0,742723204.0,734116387.0,715173048.0,721092043.0,710081275.0,714633657.0,740366182.0,689281353.0,1052656988.0,1079989303.0,1169032250.0,1058982327.0,1010418411.0,1060548627.0,1059802757.0,1202451944.0,1148041415.0,1104745561.0,1117190047.0,1112321811.0,1054292685.0,1087884214.0,1077009456.0,1075590873.0,1076571662.0,1069092224.0,1070925576.0,1108623377.0,1098842624.0,1116536999.0,1109330606.0,1197123365.0,1198033477.0,1200255402.0,1245023337.0,1188181335.0,1194170577.0,1228551956.0,1215172357.0,1364082425.0,1272290260.0,1235607538.0,1279231445.0,1275474251.0,1275093358.0,1262534781.0,1317479065.0,1254830335.0,1277106961.0,1299564405.0,1356201606.0,1320085342.0,1304804377.0,1345598279.0,1333945077.0,1248497509.0,1302741920.0,1315589065.0,1308416753.0,1313966842.0,1402324169.0,1319961883.0,1333495879.0,1355821340.0,1541936942.0,1387673320.0,1397522491.0,1362088917.0,1424879573.0,1363506695.0,1368344252.0,1367523770.0,1386236016.0,1414956560.0,1455786196.0,1396958881.0,1409664647.0,1447211105.0,1387379084.0,1419430474.0,1476763185.0,1470786374.0,1450838164.0,1392545794.0,1513698976.0,1448054251.0,1411669315.0,1471096519.0,1478182244.0,1419758522.0,1566940134.0,1502451691.0,1482253942.0,1444000448.0,1519999778.0,1436987390.0,1562495389.0,1515494387.0,1541643028.0,1552620698.0,1496621736.0,1490093850.0,1594572067.0,1509803972.0,1516786111.0,1575723122.0,1547785220.0,1586439542.0,1518064494.0,1517068304.0,1579189873.0,1607817387.0,1518181304.0,1574379707.0,1599119223.0,1549572226.0,1591346480.0,1575315254.0,1572259584.0,3004400495.0,2912355286.0,2902050271.0,2983561960.0,2819363984.0,2947723212.0,2840606827.0,2886502085.0,2925744387.0,3183637814.0,2907755013.0,2857314439.0,2874143698.0,2865695162.0,2882639485.0,2961712191.0,2825168054.0,2898043991.0,2881782095.0,2941015675.0,2933458111.0,2950001004.0,2968207525.0,2971308416.0,2996841792.0,3054475427.0,2965225973.0,3038914082.0,3105516444.0,3161893237.0,3077734744.0,3142019129.0,3160373101.0,3121044171.0,3193908834.0,3348605368.0,3365554441.0,3337274244.0,3417500174.0,3606036280.0,3452546951.0,3765943575.0,4034274754.0,4081082520.0,4078179125.0,4292597601.0,4274570424.0,4298214730.0,4178920126.0,4482525219.0,4734483462.0,4576823424.0,4942697870.0,5250979578.0,5344846807.0,5582558792.0,5723039470.0,6051657638.0,6168942734.0,6180816843.0,6856050235.0,7413871866.0,6969443088.0,7381382043.0,7472802547.0,8339232304.0,8416043671.0,8764138743.0,10285242002.0,9443057124.0,30679456094.0,12663787921.0,9341817656.0,10184787464.0,10399053786.0,9829393920.0,9902262775.0,10506270470.0,9801199896.0,10633093005.0,12300113737.0,10989949744.0,11379023911.0,11668664315.0,12136820035.0,11588991683.0,11919932733.0,133605298845.0,12793245358.0,12631796343.0,12646910029.0,12923752775.0,113741896404.0,51878414141.0,13924026299.0,14352431627.0,14937584936.0,14594403188.0,13735613918.0,14249422889.0,16287064247.0,15097992154.0,16761160455.0,17391518628.0,17478077272.0,16814271892.0,16832615289.0,17225159041.0,19314983740.0,17157107649.0,19917511751.0,19493184030.0,17833078266.0,20306291906.0,19859399672.0,19230767434.0,21726097408.0,21882035623.0,19941950573.0,20983519046.0,23182818115.0,21896303636.0,22237980210.0,24510266799.0,25737857187.0,22484479752.0,21916232886.0,118690489253.0,24631044612.0,22361823395.0,26115431158.0,26387148104.0,26619467097.0,265019890260.0,26205932978.0,26262934750.0,28355852289.0,144752804828.0,274637216535.0,203602987653.0,28682904931.0,29904876854.0,27950230333.0,2329127671.0,2308681253.0,301611370.0,257380094.0,266900409.0,236691542.0,245217859.0,238295674.0,216250187.0,231113630.0,238638066.0,244159618.0,248578302.0,245062617.0,300557317.0,253251925.0,255209591.0,280209910.0,267870763.0,259799659.0,249096227.0,293240642.0,279124398.0,253403372.0,279112539.0,260818345.0,292774492.0,289349880.0,269382203.0,285528903.0,257675139.0,264876219.0,328363242.0,306617816.0,266646463.0,318977167.0,569494797.0,337350357.0,352259628.0,304340848.0,341465402.0,408208431.0,297379942.0,300006821.0,300558478.0,321721404.0,327990716.0,276818957.0,350670096.0,274252726.0,397633766.0,279489346.0,351252933.0,346412958.0,238862462.0,220134984.0,234635507.0,235336718.0,235218156.0,218542635.0,235651854.0,237855277.0,243632001.0,222982268.0],\"y0\":\" \",\"yaxis\":\"y\",\"type\":\"box\"}],                        {\"template\":{\"data\":{\"histogram2dcontour\":[{\"type\":\"histogram2dcontour\",\"colorbar\":{\"outlinewidth\":0,\"ticks\":\"\"},\"colorscale\":[[0.0,\"#0d0887\"],[0.1111111111111111,\"#46039f\"],[0.2222222222222222,\"#7201a8\"],[0.3333333333333333,\"#9c179e\"],[0.4444444444444444,\"#bd3786\"],[0.5555555555555556,\"#d8576b\"],[0.6666666666666666,\"#ed7953\"],[0.7777777777777778,\"#fb9f3a\"],[0.8888888888888888,\"#fdca26\"],[1.0,\"#f0f921\"]]}],\"choropleth\":[{\"type\":\"choropleth\",\"colorbar\":{\"outlinewidth\":0,\"ticks\":\"\"}}],\"histogram2d\":[{\"type\":\"histogram2d\",\"colorbar\":{\"outlinewidth\":0,\"ticks\":\"\"},\"colorscale\":[[0.0,\"#0d0887\"],[0.1111111111111111,\"#46039f\"],[0.2222222222222222,\"#7201a8\"],[0.3333333333333333,\"#9c179e\"],[0.4444444444444444,\"#bd3786\"],[0.5555555555555556,\"#d8576b\"],[0.6666666666666666,\"#ed7953\"],[0.7777777777777778,\"#fb9f3a\"],[0.8888888888888888,\"#fdca26\"],[1.0,\"#f0f921\"]]}],\"heatmap\":[{\"type\":\"heatmap\",\"colorbar\":{\"outlinewidth\":0,\"ticks\":\"\"},\"colorscale\":[[0.0,\"#0d0887\"],[0.1111111111111111,\"#46039f\"],[0.2222222222222222,\"#7201a8\"],[0.3333333333333333,\"#9c179e\"],[0.4444444444444444,\"#bd3786\"],[0.5555555555555556,\"#d8576b\"],[0.6666666666666666,\"#ed7953\"],[0.7777777777777778,\"#fb9f3a\"],[0.8888888888888888,\"#fdca26\"],[1.0,\"#f0f921\"]]}],\"heatmapgl\":[{\"type\":\"heatmapgl\",\"colorbar\":{\"outlinewidth\":0,\"ticks\":\"\"},\"colorscale\":[[0.0,\"#0d0887\"],[0.1111111111111111,\"#46039f\"],[0.2222222222222222,\"#7201a8\"],[0.3333333333333333,\"#9c179e\"],[0.4444444444444444,\"#bd3786\"],[0.5555555555555556,\"#d8576b\"],[0.6666666666666666,\"#ed7953\"],[0.7777777777777778,\"#fb9f3a\"],[0.8888888888888888,\"#fdca26\"],[1.0,\"#f0f921\"]]}],\"contourcarpet\":[{\"type\":\"contourcarpet\",\"colorbar\":{\"outlinewidth\":0,\"ticks\":\"\"}}],\"contour\":[{\"type\":\"contour\",\"colorbar\":{\"outlinewidth\":0,\"ticks\":\"\"},\"colorscale\":[[0.0,\"#0d0887\"],[0.1111111111111111,\"#46039f\"],[0.2222222222222222,\"#7201a8\"],[0.3333333333333333,\"#9c179e\"],[0.4444444444444444,\"#bd3786\"],[0.5555555555555556,\"#d8576b\"],[0.6666666666666666,\"#ed7953\"],[0.7777777777777778,\"#fb9f3a\"],[0.8888888888888888,\"#fdca26\"],[1.0,\"#f0f921\"]]}],\"surface\":[{\"type\":\"surface\",\"colorbar\":{\"outlinewidth\":0,\"ticks\":\"\"},\"colorscale\":[[0.0,\"#0d0887\"],[0.1111111111111111,\"#46039f\"],[0.2222222222222222,\"#7201a8\"],[0.3333333333333333,\"#9c179e\"],[0.4444444444444444,\"#bd3786\"],[0.5555555555555556,\"#d8576b\"],[0.6666666666666666,\"#ed7953\"],[0.7777777777777778,\"#fb9f3a\"],[0.8888888888888888,\"#fdca26\"],[1.0,\"#f0f921\"]]}],\"mesh3d\":[{\"type\":\"mesh3d\",\"colorbar\":{\"outlinewidth\":0,\"ticks\":\"\"}}],\"scatter\":[{\"fillpattern\":{\"fillmode\":\"overlay\",\"size\":10,\"solidity\":0.2},\"type\":\"scatter\"}],\"parcoords\":[{\"type\":\"parcoords\",\"line\":{\"colorbar\":{\"outlinewidth\":0,\"ticks\":\"\"}}}],\"scatterpolargl\":[{\"type\":\"scatterpolargl\",\"marker\":{\"colorbar\":{\"outlinewidth\":0,\"ticks\":\"\"}}}],\"bar\":[{\"error_x\":{\"color\":\"#2a3f5f\"},\"error_y\":{\"color\":\"#2a3f5f\"},\"marker\":{\"line\":{\"color\":\"#E5ECF6\",\"width\":0.5},\"pattern\":{\"fillmode\":\"overlay\",\"size\":10,\"solidity\":0.2}},\"type\":\"bar\"}],\"scattergeo\":[{\"type\":\"scattergeo\",\"marker\":{\"colorbar\":{\"outlinewidth\":0,\"ticks\":\"\"}}}],\"scatterpolar\":[{\"type\":\"scatterpolar\",\"marker\":{\"colorbar\":{\"outlinewidth\":0,\"ticks\":\"\"}}}],\"histogram\":[{\"marker\":{\"pattern\":{\"fillmode\":\"overlay\",\"size\":10,\"solidity\":0.2}},\"type\":\"histogram\"}],\"scattergl\":[{\"type\":\"scattergl\",\"marker\":{\"colorbar\":{\"outlinewidth\":0,\"ticks\":\"\"}}}],\"scatter3d\":[{\"type\":\"scatter3d\",\"line\":{\"colorbar\":{\"outlinewidth\":0,\"ticks\":\"\"}},\"marker\":{\"colorbar\":{\"outlinewidth\":0,\"ticks\":\"\"}}}],\"scattermapbox\":[{\"type\":\"scattermapbox\",\"marker\":{\"colorbar\":{\"outlinewidth\":0,\"ticks\":\"\"}}}],\"scatterternary\":[{\"type\":\"scatterternary\",\"marker\":{\"colorbar\":{\"outlinewidth\":0,\"ticks\":\"\"}}}],\"scattercarpet\":[{\"type\":\"scattercarpet\",\"marker\":{\"colorbar\":{\"outlinewidth\":0,\"ticks\":\"\"}}}],\"carpet\":[{\"aaxis\":{\"endlinecolor\":\"#2a3f5f\",\"gridcolor\":\"white\",\"linecolor\":\"white\",\"minorgridcolor\":\"white\",\"startlinecolor\":\"#2a3f5f\"},\"baxis\":{\"endlinecolor\":\"#2a3f5f\",\"gridcolor\":\"white\",\"linecolor\":\"white\",\"minorgridcolor\":\"white\",\"startlinecolor\":\"#2a3f5f\"},\"type\":\"carpet\"}],\"table\":[{\"cells\":{\"fill\":{\"color\":\"#EBF0F8\"},\"line\":{\"color\":\"white\"}},\"header\":{\"fill\":{\"color\":\"#C8D4E3\"},\"line\":{\"color\":\"white\"}},\"type\":\"table\"}],\"barpolar\":[{\"marker\":{\"line\":{\"color\":\"#E5ECF6\",\"width\":0.5},\"pattern\":{\"fillmode\":\"overlay\",\"size\":10,\"solidity\":0.2}},\"type\":\"barpolar\"}],\"pie\":[{\"automargin\":true,\"type\":\"pie\"}]},\"layout\":{\"autotypenumbers\":\"strict\",\"colorway\":[\"#636efa\",\"#EF553B\",\"#00cc96\",\"#ab63fa\",\"#FFA15A\",\"#19d3f3\",\"#FF6692\",\"#B6E880\",\"#FF97FF\",\"#FECB52\"],\"font\":{\"color\":\"#2a3f5f\"},\"hovermode\":\"closest\",\"hoverlabel\":{\"align\":\"left\"},\"paper_bgcolor\":\"white\",\"plot_bgcolor\":\"#E5ECF6\",\"polar\":{\"bgcolor\":\"#E5ECF6\",\"angularaxis\":{\"gridcolor\":\"white\",\"linecolor\":\"white\",\"ticks\":\"\"},\"radialaxis\":{\"gridcolor\":\"white\",\"linecolor\":\"white\",\"ticks\":\"\"}},\"ternary\":{\"bgcolor\":\"#E5ECF6\",\"aaxis\":{\"gridcolor\":\"white\",\"linecolor\":\"white\",\"ticks\":\"\"},\"baxis\":{\"gridcolor\":\"white\",\"linecolor\":\"white\",\"ticks\":\"\"},\"caxis\":{\"gridcolor\":\"white\",\"linecolor\":\"white\",\"ticks\":\"\"}},\"coloraxis\":{\"colorbar\":{\"outlinewidth\":0,\"ticks\":\"\"}},\"colorscale\":{\"sequential\":[[0.0,\"#0d0887\"],[0.1111111111111111,\"#46039f\"],[0.2222222222222222,\"#7201a8\"],[0.3333333333333333,\"#9c179e\"],[0.4444444444444444,\"#bd3786\"],[0.5555555555555556,\"#d8576b\"],[0.6666666666666666,\"#ed7953\"],[0.7777777777777778,\"#fb9f3a\"],[0.8888888888888888,\"#fdca26\"],[1.0,\"#f0f921\"]],\"sequentialminus\":[[0.0,\"#0d0887\"],[0.1111111111111111,\"#46039f\"],[0.2222222222222222,\"#7201a8\"],[0.3333333333333333,\"#9c179e\"],[0.4444444444444444,\"#bd3786\"],[0.5555555555555556,\"#d8576b\"],[0.6666666666666666,\"#ed7953\"],[0.7777777777777778,\"#fb9f3a\"],[0.8888888888888888,\"#fdca26\"],[1.0,\"#f0f921\"]],\"diverging\":[[0,\"#8e0152\"],[0.1,\"#c51b7d\"],[0.2,\"#de77ae\"],[0.3,\"#f1b6da\"],[0.4,\"#fde0ef\"],[0.5,\"#f7f7f7\"],[0.6,\"#e6f5d0\"],[0.7,\"#b8e186\"],[0.8,\"#7fbc41\"],[0.9,\"#4d9221\"],[1,\"#276419\"]]},\"xaxis\":{\"gridcolor\":\"white\",\"linecolor\":\"white\",\"ticks\":\"\",\"title\":{\"standoff\":15},\"zerolinecolor\":\"white\",\"automargin\":true,\"zerolinewidth\":2},\"yaxis\":{\"gridcolor\":\"white\",\"linecolor\":\"white\",\"ticks\":\"\",\"title\":{\"standoff\":15},\"zerolinecolor\":\"white\",\"automargin\":true,\"zerolinewidth\":2},\"scene\":{\"xaxis\":{\"backgroundcolor\":\"#E5ECF6\",\"gridcolor\":\"white\",\"linecolor\":\"white\",\"showbackground\":true,\"ticks\":\"\",\"zerolinecolor\":\"white\",\"gridwidth\":2},\"yaxis\":{\"backgroundcolor\":\"#E5ECF6\",\"gridcolor\":\"white\",\"linecolor\":\"white\",\"showbackground\":true,\"ticks\":\"\",\"zerolinecolor\":\"white\",\"gridwidth\":2},\"zaxis\":{\"backgroundcolor\":\"#E5ECF6\",\"gridcolor\":\"white\",\"linecolor\":\"white\",\"showbackground\":true,\"ticks\":\"\",\"zerolinecolor\":\"white\",\"gridwidth\":2}},\"shapedefaults\":{\"line\":{\"color\":\"#2a3f5f\"}},\"annotationdefaults\":{\"arrowcolor\":\"#2a3f5f\",\"arrowhead\":0,\"arrowwidth\":1},\"geo\":{\"bgcolor\":\"white\",\"landcolor\":\"#E5ECF6\",\"subunitcolor\":\"white\",\"showland\":true,\"showlakes\":true,\"lakecolor\":\"white\"},\"title\":{\"x\":0.05},\"mapbox\":{\"style\":\"light\"}}},\"xaxis\":{\"anchor\":\"y\",\"domain\":[0.0,1.0],\"title\":{\"text\":\"Extractor\"},\"showline\":true,\"linecolor\":\"black\",\"linewidth\":2},\"yaxis\":{\"anchor\":\"x\",\"domain\":[0.0,1.0],\"title\":{\"text\":\"Verarbeitungszeit (Nanosekunden)\"},\"type\":\"log\",\"autorange\":true,\"ticks\":\"outside\",\"showline\":true,\"linecolor\":\"black\",\"linewidth\":2},\"legend\":{\"tracegroupgap\":0},\"title\":{\"text\":\"Vergleich der Verarbeitungszeit der Extractoren\"},\"boxmode\":\"group\",\"shapes\":[{\"line\":{\"color\":\"red\",\"dash\":\"dash\",\"width\":2},\"type\":\"line\",\"x0\":\"Configfixextractor\",\"x1\":\"Configfixextractor\",\"xref\":\"x\",\"y0\":91604525980.425,\"y1\":101247107662.575,\"yref\":\"y\"},{\"line\":{\"color\":\"red\",\"dash\":\"dash\",\"width\":2},\"type\":\"line\",\"x0\":\"KClause\",\"x1\":\"KClause\",\"xref\":\"x\",\"y0\":2427182521.5,\"y1\":2682675418.5,\"yref\":\"y\"},{\"line\":{\"color\":\"red\",\"dash\":\"dash\",\"width\":2},\"type\":\"line\",\"x0\":\"Kconfigreader\",\"x1\":\"Kconfigreader\",\"xref\":\"x\",\"y0\":1332207960.55,\"y1\":1472440377.45,\"yref\":\"y\"}],\"plot_bgcolor\":\"white\",\"paper_bgcolor\":\"white\"},                        {\"responsive\": true}                    ).then(function(){\n",
       "                            \n",
       "var gd = document.getElementById('3202e562-08ef-4b92-bc59-a786d13dab6c');\n",
       "var x = new MutationObserver(function (mutations, observer) {{\n",
       "        var display = window.getComputedStyle(gd).display;\n",
       "        if (!display || display === 'none') {{\n",
       "            console.log([gd, 'removed!']);\n",
       "            Plotly.purge(gd);\n",
       "            observer.disconnect();\n",
       "        }}\n",
       "}});\n",
       "\n",
       "// Listen for the removal of the full notebook cells\n",
       "var notebookContainer = gd.closest('#notebook-container');\n",
       "if (notebookContainer) {{\n",
       "    x.observe(notebookContainer, {childList: true});\n",
       "}}\n",
       "\n",
       "// Listen for the clearing of the current output cell\n",
       "var outputEl = gd.closest('.output');\n",
       "if (outputEl) {{\n",
       "    x.observe(outputEl, {childList: true});\n",
       "}}\n",
       "\n",
       "                        })                };                });            </script>        </div>"
      ]
     },
     "metadata": {},
     "output_type": "display_data"
    }
   ],
   "source": [
    "import pandas as pd\n",
    "import plotly.express as px\n",
    "\n",
    "# Einlesen der CSV-Dateien\n",
    "file_configfixextractor = '/home/rami/configFixextractor/kconfig/output.csv'\n",
    "file_kmax = '/home/rami/kmax/kconfig/output.csv'\n",
    "file_Kconfigreader = '/home/rami/Kconfigreader/kconfig/output.csv'\n",
    "\n",
    "df_configfixextractor = pd.read_csv(file_configfixextractor)\n",
    "df_kmax = pd.read_csv(file_kmax)\n",
    "df_Kconfigreader = pd.read_csv(file_Kconfigreader)\n",
    "\n",
    "# Daten vorverarbeiten\n",
    "df_configfixextractor_filtered = df_configfixextractor[['system', 'revision', 'model-file', 'model-time']].copy()\n",
    "df_configfixextractor_filtered['Extractor'] = 'Configfixextractor'\n",
    "\n",
    "df_kmax_filtered = df_kmax[['system', 'revision', 'model-file', 'model-time']].copy()\n",
    "df_kmax_filtered['Extractor'] = 'KClause'\n",
    "\n",
    "df_Kconfigreader_filtered = df_Kconfigreader[['system', 'revision', 'model-file', 'model-time']].copy()\n",
    "df_Kconfigreader_filtered['Extractor'] = 'Kconfigreader'\n",
    "\n",
    "# Kombinieren der Daten\n",
    "df_combined = pd.concat([df_configfixextractor_filtered, df_kmax_filtered, df_Kconfigreader_filtered], ignore_index=True)\n",
    "\n",
    "# Konvertiere 'model-time' in numerische Werte und entferne Null- oder NaN-Werte\n",
    "df_combined['model-time'] = pd.to_numeric(df_combined['model-time'], errors='coerce')\n",
    "df_combined = df_combined[df_combined['model-time'] > 0]\n",
    "\n",
    "# Boxplot erstellen\n",
    "fig = px.box(\n",
    "    df_combined,\n",
    "    x='Extractor',\n",
    "    y='model-time',\n",
    "    title='Vergleich der Verarbeitungszeit der Extractoren',\n",
    "    labels={'model-time': 'Verarbeitungszeit (Nanosekunden)', 'Extractor': 'Extractor'},\n",
    "    points='all'  # Datenpunkte anzeigen\n",
    ")\n",
    "\n",
    "# Hinzufügen von durchgestrichenen Linien für die Medianwerte\n",
    "for extractor in df_combined['Extractor'].unique():\n",
    "    # Medianwert für den aktuellen Extractor berechnen\n",
    "    median_value = df_combined[df_combined['Extractor'] == extractor]['model-time'].median()\n",
    "    \n",
    "    # Hinzufügen einer durchgestrichenen Linie auf der Höhe des Medians\n",
    "    fig.add_shape(\n",
    "        type='line',\n",
    "        x0=extractor,\n",
    "        x1=extractor,\n",
    "        y0=median_value * 0.95,\n",
    "        y1=median_value * 1.05,\n",
    "        line=dict(color='red', dash='dash', width=2),\n",
    "        xref='x',\n",
    "        yref='y'\n",
    "    )\n",
    "\n",
    "# Layout-Anpassungen\n",
    "fig.update_layout(\n",
    "    yaxis=dict(\n",
    "        type='log',  # Logarithmische Skala\n",
    "        autorange=True,\n",
    "        ticks='outside',\n",
    "        showline=True,\n",
    "        linecolor='black',\n",
    "        linewidth=2\n",
    "    ),\n",
    "    xaxis=dict(\n",
    "        showline=True,\n",
    "        linecolor='black',\n",
    "        linewidth=2\n",
    "    ),\n",
    "    plot_bgcolor='white',\n",
    "    paper_bgcolor='white',\n",
    "    boxmode='group'\n",
    ")\n",
    "\n",
    "# Diagramm anzeigen\n",
    "fig.show()\n"
   ]
  },
  {
   "cell_type": "code",
   "execution_count": 2,
   "id": "fdd31c57-29e6-456b-93ba-de1aee063bd5",
   "metadata": {},
   "outputs": [
    {
     "name": "stdout",
     "output_type": "stream",
     "text": [
      "Anzahl der Zeilen, die mit '#item' beginnen: 558\n"
     ]
    }
   ],
   "source": [
    "file_configfixextractor = '/home/rami/torte/output/kconfig/busybox/1_5_1.csv'\n",
    "file_configfixextractor = '/home/rami/torte/output/kconfig/busybox/1_5_1.csv'\n",
    "\n",
    "def count_item_lines(file_path):\n",
    "    try:\n",
    "        with open(file_path, 'r') as file:\n",
    "            # Zeilen zählen, die mit \"#item\" beginnen\n",
    "            count = sum(1 for line in file if line.startswith('#item'))\n",
    "        return count\n",
    "    except FileNotFoundError:\n",
    "        print(f\"Die Datei {file_path} wurde nicht gefunden.\")\n",
    "        return 0\n",
    "    except Exception as e:\n",
    "        print(f\"Ein Fehler ist aufgetreten: {e}\")\n",
    "        return 0\n",
    "\n",
    "# Anzahl der #item-Zeilen abrufen\n",
    "item_count = count_item_lines(file_configfixextractor)\n",
    "print(f\"Anzahl der Zeilen, die mit '#item' beginnen: {item_count}\")\n"
   ]
  },
  {
   "cell_type": "code",
   "execution_count": null,
   "id": "d08853d0-236d-4abd-93a4-3b296b91b42c",
   "metadata": {},
   "outputs": [],
   "source": []
  }
 ],
 "metadata": {
  "kernelspec": {
   "display_name": "Python 3 (ipykernel)",
   "language": "python",
   "name": "python3"
  },
  "language_info": {
   "codemirror_mode": {
    "name": "ipython",
    "version": 3
   },
   "file_extension": ".py",
   "mimetype": "text/x-python",
   "name": "python",
   "nbconvert_exporter": "python",
   "pygments_lexer": "ipython3",
   "version": "3.10.12"
  }
 },
 "nbformat": 4,
 "nbformat_minor": 5
}
