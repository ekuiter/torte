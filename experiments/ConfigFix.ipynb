{
 "cells": [
  {
   "cell_type": "code",
   "execution_count": 1,
   "id": "b1b75de3-c73f-4d76-8c43-590735ea954f",
   "metadata": {},
   "outputs": [],
   "source": [
    "%%capture\n",
    "pip install plotly pandas statsmodels kaleido scipy nbformat jinja2"
   ]
  },
  {
   "cell_type": "code",
   "execution_count": 152,
   "id": "518f7015-4fb7-42d6-8e3a-0392328769a5",
   "metadata": {},
   "outputs": [
    {
     "data": {
      "application/vnd.plotly.v1+json": {
       "config": {
        "plotlyServerURL": "https://plot.ly"
       },
       "data": [
        {
         "alignmentgroup": "True",
         "hovertemplate": "error_status=Extrahiert<br>Extractor=Configfixextractor<br>=%{x}<br>Anzahl der Featurs-Modelle=%{text}<extra></extra>",
         "legendgroup": "Extrahiert",
         "marker": {
          "color": "green",
          "pattern": {
           "shape": ""
          }
         },
         "name": "Extrahiert",
         "offsetgroup": "Extrahiert",
         "orientation": "v",
         "showlegend": true,
         "text": [
          24,
          64,
          117,
          10,
          1,
          1,
          41,
          49
         ],
         "textposition": "auto",
         "type": "bar",
         "x": [
          "axtls",
          "buildroot",
          "busybox",
          "embtoolkit",
          "fiasco",
          "freetz-ng",
          "linux",
          "toybox"
         ],
         "xaxis": "x",
         "y": [
          24,
          64,
          117,
          10,
          1,
          1,
          41,
          49
         ],
         "yaxis": "y"
        },
        {
         "alignmentgroup": "True",
         "hovertemplate": "error_status=Extrahiert<br>Extractor=KClause<br>=%{x}<br>Anzahl der Featurs-Modelle=%{text}<extra></extra>",
         "legendgroup": "Extrahiert",
         "marker": {
          "color": "green",
          "pattern": {
           "shape": ""
          }
         },
         "name": "Extrahiert",
         "offsetgroup": "Extrahiert",
         "orientation": "v",
         "showlegend": false,
         "text": [
          24,
          111,
          10,
          1,
          1,
          143
         ],
         "textposition": "auto",
         "type": "bar",
         "x": [
          "axtls",
          "busybox",
          "embtoolkit",
          "fiasco",
          "freetz-ng",
          "linux"
         ],
         "xaxis": "x2",
         "y": [
          24,
          111,
          10,
          1,
          1,
          143
         ],
         "yaxis": "y2"
        },
        {
         "alignmentgroup": "True",
         "hovertemplate": "error_status=Extrahiert<br>Extractor=Kconfigreader<br>=%{x}<br>Anzahl der Featurs-Modelle=%{text}<extra></extra>",
         "legendgroup": "Extrahiert",
         "marker": {
          "color": "green",
          "pattern": {
           "shape": ""
          }
         },
         "name": "Extrahiert",
         "offsetgroup": "Extrahiert",
         "orientation": "v",
         "showlegend": false,
         "text": [
          24,
          111,
          10,
          1,
          1,
          143
         ],
         "textposition": "auto",
         "type": "bar",
         "x": [
          "axtls",
          "busybox",
          "embtoolkit",
          "fiasco",
          "freetz-ng",
          "linux"
         ],
         "xaxis": "x3",
         "y": [
          24,
          111,
          10,
          1,
          1,
          143
         ],
         "yaxis": "y3"
        },
        {
         "alignmentgroup": "True",
         "hovertemplate": "error_status=Nicht extrahiert<br>Extractor=Configfixextractor<br>=%{x}<br>Anzahl der Featurs-Modelle=%{text}<extra></extra>",
         "legendgroup": "Nicht extrahiert",
         "marker": {
          "color": "red",
          "pattern": {
           "shape": ""
          }
         },
         "name": "Nicht extrahiert",
         "offsetgroup": "Nicht extrahiert",
         "orientation": "v",
         "showlegend": true,
         "text": [
          25,
          1
         ],
         "textposition": "auto",
         "type": "bar",
         "x": [
          "busybox",
          "toybox"
         ],
         "xaxis": "x",
         "y": [
          25,
          1
         ],
         "yaxis": "y"
        },
        {
         "alignmentgroup": "True",
         "hovertemplate": "error_status=Nicht extrahiert<br>Extractor=KClause<br>=%{x}<br>Anzahl der Featurs-Modelle=%{text}<extra></extra>",
         "legendgroup": "Nicht extrahiert",
         "marker": {
          "color": "red",
          "pattern": {
           "shape": ""
          }
         },
         "name": "Nicht extrahiert",
         "offsetgroup": "Nicht extrahiert",
         "orientation": "v",
         "showlegend": false,
         "text": [
          64,
          31,
          50
         ],
         "textposition": "auto",
         "type": "bar",
         "x": [
          "buildroot",
          "busybox",
          "toybox"
         ],
         "xaxis": "x2",
         "y": [
          64,
          31,
          50
         ],
         "yaxis": "y2"
        },
        {
         "alignmentgroup": "True",
         "hovertemplate": "error_status=Nicht extrahiert<br>Extractor=Kconfigreader<br>=%{x}<br>Anzahl der Featurs-Modelle=%{text}<extra></extra>",
         "legendgroup": "Nicht extrahiert",
         "marker": {
          "color": "red",
          "pattern": {
           "shape": ""
          }
         },
         "name": "Nicht extrahiert",
         "offsetgroup": "Nicht extrahiert",
         "orientation": "v",
         "showlegend": false,
         "text": [
          64,
          31,
          50
         ],
         "textposition": "auto",
         "type": "bar",
         "x": [
          "buildroot",
          "busybox",
          "toybox"
         ],
         "xaxis": "x3",
         "y": [
          64,
          31,
          50
         ],
         "yaxis": "y3"
        },
        {
         "alignmentgroup": "True",
         "hovertemplate": "error_status=Nicht vollständig extrahiert<br>Extractor=Configfixextractor<br>=%{x}<br>Anzahl der Featurs-Modelle=%{text}<extra></extra>",
         "legendgroup": "Nicht vollständig extrahiert",
         "marker": {
          "color": "orange",
          "pattern": {
           "shape": ""
          }
         },
         "name": "Nicht vollständig extrahiert",
         "offsetgroup": "Nicht vollständig extrahiert",
         "orientation": "v",
         "showlegend": true,
         "text": [
          102
         ],
         "textposition": "auto",
         "type": "bar",
         "x": [
          "linux"
         ],
         "xaxis": "x",
         "y": [
          102
         ],
         "yaxis": "y"
        }
       ],
       "layout": {
        "annotations": [
         {
          "font": {
           "color": "black",
           "family": "Arial",
           "size": 14
          },
          "showarrow": false,
          "text": "Extractor = Configfixextractor",
          "x": 0.15333333333333332,
          "xanchor": "center",
          "xref": "paper",
          "y": 1,
          "yanchor": "bottom",
          "yref": "paper"
         },
         {
          "font": {
           "color": "black",
           "family": "Arial",
           "size": 14
          },
          "showarrow": false,
          "text": "Extractor = KClause",
          "x": 0.5,
          "xanchor": "center",
          "xref": "paper",
          "y": 1,
          "yanchor": "bottom",
          "yref": "paper"
         },
         {
          "font": {
           "color": "black",
           "family": "Arial",
           "size": 14
          },
          "showarrow": false,
          "text": "Extractor = Kconfigreader",
          "x": 0.8466666666666666,
          "xanchor": "center",
          "xref": "paper",
          "y": 1,
          "yanchor": "bottom",
          "yref": "paper"
         }
        ],
        "barmode": "stack",
        "font": {
         "size": 15
        },
        "legend": {
         "title": {
          "text": ""
         },
         "tracegroupgap": 0
        },
        "margin": {
         "t": 60
        },
        "paper_bgcolor": "white",
        "plot_bgcolor": "white",
        "template": {
         "data": {
          "bar": [
           {
            "error_x": {
             "color": "#2a3f5f"
            },
            "error_y": {
             "color": "#2a3f5f"
            },
            "marker": {
             "line": {
              "color": "#E5ECF6",
              "width": 0.5
             },
             "pattern": {
              "fillmode": "overlay",
              "size": 10,
              "solidity": 0.2
             }
            },
            "type": "bar"
           }
          ],
          "barpolar": [
           {
            "marker": {
             "line": {
              "color": "#E5ECF6",
              "width": 0.5
             },
             "pattern": {
              "fillmode": "overlay",
              "size": 10,
              "solidity": 0.2
             }
            },
            "type": "barpolar"
           }
          ],
          "carpet": [
           {
            "aaxis": {
             "endlinecolor": "#2a3f5f",
             "gridcolor": "white",
             "linecolor": "white",
             "minorgridcolor": "white",
             "startlinecolor": "#2a3f5f"
            },
            "baxis": {
             "endlinecolor": "#2a3f5f",
             "gridcolor": "white",
             "linecolor": "white",
             "minorgridcolor": "white",
             "startlinecolor": "#2a3f5f"
            },
            "type": "carpet"
           }
          ],
          "choropleth": [
           {
            "colorbar": {
             "outlinewidth": 0,
             "ticks": ""
            },
            "type": "choropleth"
           }
          ],
          "contour": [
           {
            "colorbar": {
             "outlinewidth": 0,
             "ticks": ""
            },
            "colorscale": [
             [
              0,
              "#0d0887"
             ],
             [
              0.1111111111111111,
              "#46039f"
             ],
             [
              0.2222222222222222,
              "#7201a8"
             ],
             [
              0.3333333333333333,
              "#9c179e"
             ],
             [
              0.4444444444444444,
              "#bd3786"
             ],
             [
              0.5555555555555556,
              "#d8576b"
             ],
             [
              0.6666666666666666,
              "#ed7953"
             ],
             [
              0.7777777777777778,
              "#fb9f3a"
             ],
             [
              0.8888888888888888,
              "#fdca26"
             ],
             [
              1,
              "#f0f921"
             ]
            ],
            "type": "contour"
           }
          ],
          "contourcarpet": [
           {
            "colorbar": {
             "outlinewidth": 0,
             "ticks": ""
            },
            "type": "contourcarpet"
           }
          ],
          "heatmap": [
           {
            "colorbar": {
             "outlinewidth": 0,
             "ticks": ""
            },
            "colorscale": [
             [
              0,
              "#0d0887"
             ],
             [
              0.1111111111111111,
              "#46039f"
             ],
             [
              0.2222222222222222,
              "#7201a8"
             ],
             [
              0.3333333333333333,
              "#9c179e"
             ],
             [
              0.4444444444444444,
              "#bd3786"
             ],
             [
              0.5555555555555556,
              "#d8576b"
             ],
             [
              0.6666666666666666,
              "#ed7953"
             ],
             [
              0.7777777777777778,
              "#fb9f3a"
             ],
             [
              0.8888888888888888,
              "#fdca26"
             ],
             [
              1,
              "#f0f921"
             ]
            ],
            "type": "heatmap"
           }
          ],
          "heatmapgl": [
           {
            "colorbar": {
             "outlinewidth": 0,
             "ticks": ""
            },
            "colorscale": [
             [
              0,
              "#0d0887"
             ],
             [
              0.1111111111111111,
              "#46039f"
             ],
             [
              0.2222222222222222,
              "#7201a8"
             ],
             [
              0.3333333333333333,
              "#9c179e"
             ],
             [
              0.4444444444444444,
              "#bd3786"
             ],
             [
              0.5555555555555556,
              "#d8576b"
             ],
             [
              0.6666666666666666,
              "#ed7953"
             ],
             [
              0.7777777777777778,
              "#fb9f3a"
             ],
             [
              0.8888888888888888,
              "#fdca26"
             ],
             [
              1,
              "#f0f921"
             ]
            ],
            "type": "heatmapgl"
           }
          ],
          "histogram": [
           {
            "marker": {
             "pattern": {
              "fillmode": "overlay",
              "size": 10,
              "solidity": 0.2
             }
            },
            "type": "histogram"
           }
          ],
          "histogram2d": [
           {
            "colorbar": {
             "outlinewidth": 0,
             "ticks": ""
            },
            "colorscale": [
             [
              0,
              "#0d0887"
             ],
             [
              0.1111111111111111,
              "#46039f"
             ],
             [
              0.2222222222222222,
              "#7201a8"
             ],
             [
              0.3333333333333333,
              "#9c179e"
             ],
             [
              0.4444444444444444,
              "#bd3786"
             ],
             [
              0.5555555555555556,
              "#d8576b"
             ],
             [
              0.6666666666666666,
              "#ed7953"
             ],
             [
              0.7777777777777778,
              "#fb9f3a"
             ],
             [
              0.8888888888888888,
              "#fdca26"
             ],
             [
              1,
              "#f0f921"
             ]
            ],
            "type": "histogram2d"
           }
          ],
          "histogram2dcontour": [
           {
            "colorbar": {
             "outlinewidth": 0,
             "ticks": ""
            },
            "colorscale": [
             [
              0,
              "#0d0887"
             ],
             [
              0.1111111111111111,
              "#46039f"
             ],
             [
              0.2222222222222222,
              "#7201a8"
             ],
             [
              0.3333333333333333,
              "#9c179e"
             ],
             [
              0.4444444444444444,
              "#bd3786"
             ],
             [
              0.5555555555555556,
              "#d8576b"
             ],
             [
              0.6666666666666666,
              "#ed7953"
             ],
             [
              0.7777777777777778,
              "#fb9f3a"
             ],
             [
              0.8888888888888888,
              "#fdca26"
             ],
             [
              1,
              "#f0f921"
             ]
            ],
            "type": "histogram2dcontour"
           }
          ],
          "mesh3d": [
           {
            "colorbar": {
             "outlinewidth": 0,
             "ticks": ""
            },
            "type": "mesh3d"
           }
          ],
          "parcoords": [
           {
            "line": {
             "colorbar": {
              "outlinewidth": 0,
              "ticks": ""
             }
            },
            "type": "parcoords"
           }
          ],
          "pie": [
           {
            "automargin": true,
            "type": "pie"
           }
          ],
          "scatter": [
           {
            "fillpattern": {
             "fillmode": "overlay",
             "size": 10,
             "solidity": 0.2
            },
            "type": "scatter"
           }
          ],
          "scatter3d": [
           {
            "line": {
             "colorbar": {
              "outlinewidth": 0,
              "ticks": ""
             }
            },
            "marker": {
             "colorbar": {
              "outlinewidth": 0,
              "ticks": ""
             }
            },
            "type": "scatter3d"
           }
          ],
          "scattercarpet": [
           {
            "marker": {
             "colorbar": {
              "outlinewidth": 0,
              "ticks": ""
             }
            },
            "type": "scattercarpet"
           }
          ],
          "scattergeo": [
           {
            "marker": {
             "colorbar": {
              "outlinewidth": 0,
              "ticks": ""
             }
            },
            "type": "scattergeo"
           }
          ],
          "scattergl": [
           {
            "marker": {
             "colorbar": {
              "outlinewidth": 0,
              "ticks": ""
             }
            },
            "type": "scattergl"
           }
          ],
          "scattermapbox": [
           {
            "marker": {
             "colorbar": {
              "outlinewidth": 0,
              "ticks": ""
             }
            },
            "type": "scattermapbox"
           }
          ],
          "scatterpolar": [
           {
            "marker": {
             "colorbar": {
              "outlinewidth": 0,
              "ticks": ""
             }
            },
            "type": "scatterpolar"
           }
          ],
          "scatterpolargl": [
           {
            "marker": {
             "colorbar": {
              "outlinewidth": 0,
              "ticks": ""
             }
            },
            "type": "scatterpolargl"
           }
          ],
          "scatterternary": [
           {
            "marker": {
             "colorbar": {
              "outlinewidth": 0,
              "ticks": ""
             }
            },
            "type": "scatterternary"
           }
          ],
          "surface": [
           {
            "colorbar": {
             "outlinewidth": 0,
             "ticks": ""
            },
            "colorscale": [
             [
              0,
              "#0d0887"
             ],
             [
              0.1111111111111111,
              "#46039f"
             ],
             [
              0.2222222222222222,
              "#7201a8"
             ],
             [
              0.3333333333333333,
              "#9c179e"
             ],
             [
              0.4444444444444444,
              "#bd3786"
             ],
             [
              0.5555555555555556,
              "#d8576b"
             ],
             [
              0.6666666666666666,
              "#ed7953"
             ],
             [
              0.7777777777777778,
              "#fb9f3a"
             ],
             [
              0.8888888888888888,
              "#fdca26"
             ],
             [
              1,
              "#f0f921"
             ]
            ],
            "type": "surface"
           }
          ],
          "table": [
           {
            "cells": {
             "fill": {
              "color": "#EBF0F8"
             },
             "line": {
              "color": "white"
             }
            },
            "header": {
             "fill": {
              "color": "#C8D4E3"
             },
             "line": {
              "color": "white"
             }
            },
            "type": "table"
           }
          ]
         },
         "layout": {
          "annotationdefaults": {
           "arrowcolor": "#2a3f5f",
           "arrowhead": 0,
           "arrowwidth": 1
          },
          "autotypenumbers": "strict",
          "coloraxis": {
           "colorbar": {
            "outlinewidth": 0,
            "ticks": ""
           }
          },
          "colorscale": {
           "diverging": [
            [
             0,
             "#8e0152"
            ],
            [
             0.1,
             "#c51b7d"
            ],
            [
             0.2,
             "#de77ae"
            ],
            [
             0.3,
             "#f1b6da"
            ],
            [
             0.4,
             "#fde0ef"
            ],
            [
             0.5,
             "#f7f7f7"
            ],
            [
             0.6,
             "#e6f5d0"
            ],
            [
             0.7,
             "#b8e186"
            ],
            [
             0.8,
             "#7fbc41"
            ],
            [
             0.9,
             "#4d9221"
            ],
            [
             1,
             "#276419"
            ]
           ],
           "sequential": [
            [
             0,
             "#0d0887"
            ],
            [
             0.1111111111111111,
             "#46039f"
            ],
            [
             0.2222222222222222,
             "#7201a8"
            ],
            [
             0.3333333333333333,
             "#9c179e"
            ],
            [
             0.4444444444444444,
             "#bd3786"
            ],
            [
             0.5555555555555556,
             "#d8576b"
            ],
            [
             0.6666666666666666,
             "#ed7953"
            ],
            [
             0.7777777777777778,
             "#fb9f3a"
            ],
            [
             0.8888888888888888,
             "#fdca26"
            ],
            [
             1,
             "#f0f921"
            ]
           ],
           "sequentialminus": [
            [
             0,
             "#0d0887"
            ],
            [
             0.1111111111111111,
             "#46039f"
            ],
            [
             0.2222222222222222,
             "#7201a8"
            ],
            [
             0.3333333333333333,
             "#9c179e"
            ],
            [
             0.4444444444444444,
             "#bd3786"
            ],
            [
             0.5555555555555556,
             "#d8576b"
            ],
            [
             0.6666666666666666,
             "#ed7953"
            ],
            [
             0.7777777777777778,
             "#fb9f3a"
            ],
            [
             0.8888888888888888,
             "#fdca26"
            ],
            [
             1,
             "#f0f921"
            ]
           ]
          },
          "colorway": [
           "#636efa",
           "#EF553B",
           "#00cc96",
           "#ab63fa",
           "#FFA15A",
           "#19d3f3",
           "#FF6692",
           "#B6E880",
           "#FF97FF",
           "#FECB52"
          ],
          "font": {
           "color": "#2a3f5f"
          },
          "geo": {
           "bgcolor": "white",
           "lakecolor": "white",
           "landcolor": "#E5ECF6",
           "showlakes": true,
           "showland": true,
           "subunitcolor": "white"
          },
          "hoverlabel": {
           "align": "left"
          },
          "hovermode": "closest",
          "mapbox": {
           "style": "light"
          },
          "paper_bgcolor": "white",
          "plot_bgcolor": "#E5ECF6",
          "polar": {
           "angularaxis": {
            "gridcolor": "white",
            "linecolor": "white",
            "ticks": ""
           },
           "bgcolor": "#E5ECF6",
           "radialaxis": {
            "gridcolor": "white",
            "linecolor": "white",
            "ticks": ""
           }
          },
          "scene": {
           "xaxis": {
            "backgroundcolor": "#E5ECF6",
            "gridcolor": "white",
            "gridwidth": 2,
            "linecolor": "white",
            "showbackground": true,
            "ticks": "",
            "zerolinecolor": "white"
           },
           "yaxis": {
            "backgroundcolor": "#E5ECF6",
            "gridcolor": "white",
            "gridwidth": 2,
            "linecolor": "white",
            "showbackground": true,
            "ticks": "",
            "zerolinecolor": "white"
           },
           "zaxis": {
            "backgroundcolor": "#E5ECF6",
            "gridcolor": "white",
            "gridwidth": 2,
            "linecolor": "white",
            "showbackground": true,
            "ticks": "",
            "zerolinecolor": "white"
           }
          },
          "shapedefaults": {
           "line": {
            "color": "#2a3f5f"
           }
          },
          "ternary": {
           "aaxis": {
            "gridcolor": "white",
            "linecolor": "white",
            "ticks": ""
           },
           "baxis": {
            "gridcolor": "white",
            "linecolor": "white",
            "ticks": ""
           },
           "bgcolor": "#E5ECF6",
           "caxis": {
            "gridcolor": "white",
            "linecolor": "white",
            "ticks": ""
           }
          },
          "title": {
           "x": 0.05
          },
          "xaxis": {
           "automargin": true,
           "gridcolor": "white",
           "linecolor": "white",
           "ticks": "",
           "title": {
            "standoff": 15
           },
           "zerolinecolor": "white",
           "zerolinewidth": 2
          },
          "yaxis": {
           "automargin": true,
           "gridcolor": "white",
           "linecolor": "white",
           "ticks": "",
           "title": {
            "standoff": 15
           },
           "zerolinecolor": "white",
           "zerolinewidth": 2
          }
         }
        },
        "title": {
         "text": "",
         "x": 0.5,
         "xanchor": "center"
        },
        "xaxis": {
         "anchor": "y",
         "domain": [
          0,
          0.30666666666666664
         ],
         "tickangle": -45,
         "title": {
          "text": ""
         }
        },
        "xaxis2": {
         "anchor": "y2",
         "domain": [
          0.3466666666666666,
          0.6533333333333333
         ],
         "matches": "x",
         "title": {
          "text": ""
         }
        },
        "xaxis3": {
         "anchor": "y3",
         "domain": [
          0.6933333333333332,
          0.9999999999999999
         ],
         "matches": "x",
         "title": {
          "text": ""
         }
        },
        "yaxis": {
         "anchor": "x",
         "domain": [
          0,
          1
         ],
         "showgrid": true,
         "showticklabels": true,
         "title": {
          "text": "Anzahl der Featurs-Modelle"
         }
        },
        "yaxis2": {
         "anchor": "x2",
         "domain": [
          0,
          1
         ],
         "matches": "y",
         "showticklabels": false
        },
        "yaxis3": {
         "anchor": "x3",
         "domain": [
          0,
          1
         ],
         "matches": "y",
         "showticklabels": false
        }
       }
      },
      "image/png": "[encoded data removed]",
      "text/html": [
       "<div>                            <div id=\"bc695ca0-12ca-4de4-8d86-02fe0e709a03\" class=\"plotly-graph-div\" style=\"height:525px; width:100%;\"></div>            <script type=\"text/javascript\">                require([\"plotly\"], function(Plotly) {                    window.PLOTLYENV=window.PLOTLYENV || {};                                    if (document.getElementById(\"bc695ca0-12ca-4de4-8d86-02fe0e709a03\")) {                    Plotly.newPlot(                        \"bc695ca0-12ca-4de4-8d86-02fe0e709a03\",                        [{\"alignmentgroup\":\"True\",\"hovertemplate\":\"error_status=Extrahiert\\u003cbr\\u003eExtractor=Configfixextractor\\u003cbr\\u003e=%{x}\\u003cbr\\u003eAnzahl der Featurs-Modelle=%{text}\\u003cextra\\u003e\\u003c\\u002fextra\\u003e\",\"legendgroup\":\"Extrahiert\",\"marker\":{\"color\":\"green\",\"pattern\":{\"shape\":\"\"}},\"name\":\"Extrahiert\",\"offsetgroup\":\"Extrahiert\",\"orientation\":\"v\",\"showlegend\":true,\"text\":[24.0,64.0,117.0,10.0,1.0,1.0,41.0,49.0],\"textposition\":\"auto\",\"x\":[\"axtls\",\"buildroot\",\"busybox\",\"embtoolkit\",\"fiasco\",\"freetz-ng\",\"linux\",\"toybox\"],\"xaxis\":\"x\",\"y\":[24,64,117,10,1,1,41,49],\"yaxis\":\"y\",\"type\":\"bar\"},{\"alignmentgroup\":\"True\",\"hovertemplate\":\"error_status=Extrahiert\\u003cbr\\u003eExtractor=KClause\\u003cbr\\u003e=%{x}\\u003cbr\\u003eAnzahl der Featurs-Modelle=%{text}\\u003cextra\\u003e\\u003c\\u002fextra\\u003e\",\"legendgroup\":\"Extrahiert\",\"marker\":{\"color\":\"green\",\"pattern\":{\"shape\":\"\"}},\"name\":\"Extrahiert\",\"offsetgroup\":\"Extrahiert\",\"orientation\":\"v\",\"showlegend\":false,\"text\":[24.0,111.0,10.0,1.0,1.0,143.0],\"textposition\":\"auto\",\"x\":[\"axtls\",\"busybox\",\"embtoolkit\",\"fiasco\",\"freetz-ng\",\"linux\"],\"xaxis\":\"x2\",\"y\":[24,111,10,1,1,143],\"yaxis\":\"y2\",\"type\":\"bar\"},{\"alignmentgroup\":\"True\",\"hovertemplate\":\"error_status=Extrahiert\\u003cbr\\u003eExtractor=Kconfigreader\\u003cbr\\u003e=%{x}\\u003cbr\\u003eAnzahl der Featurs-Modelle=%{text}\\u003cextra\\u003e\\u003c\\u002fextra\\u003e\",\"legendgroup\":\"Extrahiert\",\"marker\":{\"color\":\"green\",\"pattern\":{\"shape\":\"\"}},\"name\":\"Extrahiert\",\"offsetgroup\":\"Extrahiert\",\"orientation\":\"v\",\"showlegend\":false,\"text\":[24.0,111.0,10.0,1.0,1.0,143.0],\"textposition\":\"auto\",\"x\":[\"axtls\",\"busybox\",\"embtoolkit\",\"fiasco\",\"freetz-ng\",\"linux\"],\"xaxis\":\"x3\",\"y\":[24,111,10,1,1,143],\"yaxis\":\"y3\",\"type\":\"bar\"},{\"alignmentgroup\":\"True\",\"hovertemplate\":\"error_status=Nicht extrahiert\\u003cbr\\u003eExtractor=Configfixextractor\\u003cbr\\u003e=%{x}\\u003cbr\\u003eAnzahl der Featurs-Modelle=%{text}\\u003cextra\\u003e\\u003c\\u002fextra\\u003e\",\"legendgroup\":\"Nicht extrahiert\",\"marker\":{\"color\":\"red\",\"pattern\":{\"shape\":\"\"}},\"name\":\"Nicht extrahiert\",\"offsetgroup\":\"Nicht extrahiert\",\"orientation\":\"v\",\"showlegend\":true,\"text\":[25.0,1.0],\"textposition\":\"auto\",\"x\":[\"busybox\",\"toybox\"],\"xaxis\":\"x\",\"y\":[25,1],\"yaxis\":\"y\",\"type\":\"bar\"},{\"alignmentgroup\":\"True\",\"hovertemplate\":\"error_status=Nicht extrahiert\\u003cbr\\u003eExtractor=KClause\\u003cbr\\u003e=%{x}\\u003cbr\\u003eAnzahl der Featurs-Modelle=%{text}\\u003cextra\\u003e\\u003c\\u002fextra\\u003e\",\"legendgroup\":\"Nicht extrahiert\",\"marker\":{\"color\":\"red\",\"pattern\":{\"shape\":\"\"}},\"name\":\"Nicht extrahiert\",\"offsetgroup\":\"Nicht extrahiert\",\"orientation\":\"v\",\"showlegend\":false,\"text\":[64.0,31.0,50.0],\"textposition\":\"auto\",\"x\":[\"buildroot\",\"busybox\",\"toybox\"],\"xaxis\":\"x2\",\"y\":[64,31,50],\"yaxis\":\"y2\",\"type\":\"bar\"},{\"alignmentgroup\":\"True\",\"hovertemplate\":\"error_status=Nicht extrahiert\\u003cbr\\u003eExtractor=Kconfigreader\\u003cbr\\u003e=%{x}\\u003cbr\\u003eAnzahl der Featurs-Modelle=%{text}\\u003cextra\\u003e\\u003c\\u002fextra\\u003e\",\"legendgroup\":\"Nicht extrahiert\",\"marker\":{\"color\":\"red\",\"pattern\":{\"shape\":\"\"}},\"name\":\"Nicht extrahiert\",\"offsetgroup\":\"Nicht extrahiert\",\"orientation\":\"v\",\"showlegend\":false,\"text\":[64.0,31.0,50.0],\"textposition\":\"auto\",\"x\":[\"buildroot\",\"busybox\",\"toybox\"],\"xaxis\":\"x3\",\"y\":[64,31,50],\"yaxis\":\"y3\",\"type\":\"bar\"},{\"alignmentgroup\":\"True\",\"hovertemplate\":\"error_status=Nicht vollst\\u00e4ndig extrahiert\\u003cbr\\u003eExtractor=Configfixextractor\\u003cbr\\u003e=%{x}\\u003cbr\\u003eAnzahl der Featurs-Modelle=%{text}\\u003cextra\\u003e\\u003c\\u002fextra\\u003e\",\"legendgroup\":\"Nicht vollst\\u00e4ndig extrahiert\",\"marker\":{\"color\":\"orange\",\"pattern\":{\"shape\":\"\"}},\"name\":\"Nicht vollst\\u00e4ndig extrahiert\",\"offsetgroup\":\"Nicht vollst\\u00e4ndig extrahiert\",\"orientation\":\"v\",\"showlegend\":true,\"text\":[102.0],\"textposition\":\"auto\",\"x\":[\"linux\"],\"xaxis\":\"x\",\"y\":[102],\"yaxis\":\"y\",\"type\":\"bar\"}],                        {\"template\":{\"data\":{\"histogram2dcontour\":[{\"type\":\"histogram2dcontour\",\"colorbar\":{\"outlinewidth\":0,\"ticks\":\"\"},\"colorscale\":[[0.0,\"#0d0887\"],[0.1111111111111111,\"#46039f\"],[0.2222222222222222,\"#7201a8\"],[0.3333333333333333,\"#9c179e\"],[0.4444444444444444,\"#bd3786\"],[0.5555555555555556,\"#d8576b\"],[0.6666666666666666,\"#ed7953\"],[0.7777777777777778,\"#fb9f3a\"],[0.8888888888888888,\"#fdca26\"],[1.0,\"#f0f921\"]]}],\"choropleth\":[{\"type\":\"choropleth\",\"colorbar\":{\"outlinewidth\":0,\"ticks\":\"\"}}],\"histogram2d\":[{\"type\":\"histogram2d\",\"colorbar\":{\"outlinewidth\":0,\"ticks\":\"\"},\"colorscale\":[[0.0,\"#0d0887\"],[0.1111111111111111,\"#46039f\"],[0.2222222222222222,\"#7201a8\"],[0.3333333333333333,\"#9c179e\"],[0.4444444444444444,\"#bd3786\"],[0.5555555555555556,\"#d8576b\"],[0.6666666666666666,\"#ed7953\"],[0.7777777777777778,\"#fb9f3a\"],[0.8888888888888888,\"#fdca26\"],[1.0,\"#f0f921\"]]}],\"heatmap\":[{\"type\":\"heatmap\",\"colorbar\":{\"outlinewidth\":0,\"ticks\":\"\"},\"colorscale\":[[0.0,\"#0d0887\"],[0.1111111111111111,\"#46039f\"],[0.2222222222222222,\"#7201a8\"],[0.3333333333333333,\"#9c179e\"],[0.4444444444444444,\"#bd3786\"],[0.5555555555555556,\"#d8576b\"],[0.6666666666666666,\"#ed7953\"],[0.7777777777777778,\"#fb9f3a\"],[0.8888888888888888,\"#fdca26\"],[1.0,\"#f0f921\"]]}],\"heatmapgl\":[{\"type\":\"heatmapgl\",\"colorbar\":{\"outlinewidth\":0,\"ticks\":\"\"},\"colorscale\":[[0.0,\"#0d0887\"],[0.1111111111111111,\"#46039f\"],[0.2222222222222222,\"#7201a8\"],[0.3333333333333333,\"#9c179e\"],[0.4444444444444444,\"#bd3786\"],[0.5555555555555556,\"#d8576b\"],[0.6666666666666666,\"#ed7953\"],[0.7777777777777778,\"#fb9f3a\"],[0.8888888888888888,\"#fdca26\"],[1.0,\"#f0f921\"]]}],\"contourcarpet\":[{\"type\":\"contourcarpet\",\"colorbar\":{\"outlinewidth\":0,\"ticks\":\"\"}}],\"contour\":[{\"type\":\"contour\",\"colorbar\":{\"outlinewidth\":0,\"ticks\":\"\"},\"colorscale\":[[0.0,\"#0d0887\"],[0.1111111111111111,\"#46039f\"],[0.2222222222222222,\"#7201a8\"],[0.3333333333333333,\"#9c179e\"],[0.4444444444444444,\"#bd3786\"],[0.5555555555555556,\"#d8576b\"],[0.6666666666666666,\"#ed7953\"],[0.7777777777777778,\"#fb9f3a\"],[0.8888888888888888,\"#fdca26\"],[1.0,\"#f0f921\"]]}],\"surface\":[{\"type\":\"surface\",\"colorbar\":{\"outlinewidth\":0,\"ticks\":\"\"},\"colorscale\":[[0.0,\"#0d0887\"],[0.1111111111111111,\"#46039f\"],[0.2222222222222222,\"#7201a8\"],[0.3333333333333333,\"#9c179e\"],[0.4444444444444444,\"#bd3786\"],[0.5555555555555556,\"#d8576b\"],[0.6666666666666666,\"#ed7953\"],[0.7777777777777778,\"#fb9f3a\"],[0.8888888888888888,\"#fdca26\"],[1.0,\"#f0f921\"]]}],\"mesh3d\":[{\"type\":\"mesh3d\",\"colorbar\":{\"outlinewidth\":0,\"ticks\":\"\"}}],\"scatter\":[{\"fillpattern\":{\"fillmode\":\"overlay\",\"size\":10,\"solidity\":0.2},\"type\":\"scatter\"}],\"parcoords\":[{\"type\":\"parcoords\",\"line\":{\"colorbar\":{\"outlinewidth\":0,\"ticks\":\"\"}}}],\"scatterpolargl\":[{\"type\":\"scatterpolargl\",\"marker\":{\"colorbar\":{\"outlinewidth\":0,\"ticks\":\"\"}}}],\"bar\":[{\"error_x\":{\"color\":\"#2a3f5f\"},\"error_y\":{\"color\":\"#2a3f5f\"},\"marker\":{\"line\":{\"color\":\"#E5ECF6\",\"width\":0.5},\"pattern\":{\"fillmode\":\"overlay\",\"size\":10,\"solidity\":0.2}},\"type\":\"bar\"}],\"scattergeo\":[{\"type\":\"scattergeo\",\"marker\":{\"colorbar\":{\"outlinewidth\":0,\"ticks\":\"\"}}}],\"scatterpolar\":[{\"type\":\"scatterpolar\",\"marker\":{\"colorbar\":{\"outlinewidth\":0,\"ticks\":\"\"}}}],\"histogram\":[{\"marker\":{\"pattern\":{\"fillmode\":\"overlay\",\"size\":10,\"solidity\":0.2}},\"type\":\"histogram\"}],\"scattergl\":[{\"type\":\"scattergl\",\"marker\":{\"colorbar\":{\"outlinewidth\":0,\"ticks\":\"\"}}}],\"scatter3d\":[{\"type\":\"scatter3d\",\"line\":{\"colorbar\":{\"outlinewidth\":0,\"ticks\":\"\"}},\"marker\":{\"colorbar\":{\"outlinewidth\":0,\"ticks\":\"\"}}}],\"scattermapbox\":[{\"type\":\"scattermapbox\",\"marker\":{\"colorbar\":{\"outlinewidth\":0,\"ticks\":\"\"}}}],\"scatterternary\":[{\"type\":\"scatterternary\",\"marker\":{\"colorbar\":{\"outlinewidth\":0,\"ticks\":\"\"}}}],\"scattercarpet\":[{\"type\":\"scattercarpet\",\"marker\":{\"colorbar\":{\"outlinewidth\":0,\"ticks\":\"\"}}}],\"carpet\":[{\"aaxis\":{\"endlinecolor\":\"#2a3f5f\",\"gridcolor\":\"white\",\"linecolor\":\"white\",\"minorgridcolor\":\"white\",\"startlinecolor\":\"#2a3f5f\"},\"baxis\":{\"endlinecolor\":\"#2a3f5f\",\"gridcolor\":\"white\",\"linecolor\":\"white\",\"minorgridcolor\":\"white\",\"startlinecolor\":\"#2a3f5f\"},\"type\":\"carpet\"}],\"table\":[{\"cells\":{\"fill\":{\"color\":\"#EBF0F8\"},\"line\":{\"color\":\"white\"}},\"header\":{\"fill\":{\"color\":\"#C8D4E3\"},\"line\":{\"color\":\"white\"}},\"type\":\"table\"}],\"barpolar\":[{\"marker\":{\"line\":{\"color\":\"#E5ECF6\",\"width\":0.5},\"pattern\":{\"fillmode\":\"overlay\",\"size\":10,\"solidity\":0.2}},\"type\":\"barpolar\"}],\"pie\":[{\"automargin\":true,\"type\":\"pie\"}]},\"layout\":{\"autotypenumbers\":\"strict\",\"colorway\":[\"#636efa\",\"#EF553B\",\"#00cc96\",\"#ab63fa\",\"#FFA15A\",\"#19d3f3\",\"#FF6692\",\"#B6E880\",\"#FF97FF\",\"#FECB52\"],\"font\":{\"color\":\"#2a3f5f\"},\"hovermode\":\"closest\",\"hoverlabel\":{\"align\":\"left\"},\"paper_bgcolor\":\"white\",\"plot_bgcolor\":\"#E5ECF6\",\"polar\":{\"bgcolor\":\"#E5ECF6\",\"angularaxis\":{\"gridcolor\":\"white\",\"linecolor\":\"white\",\"ticks\":\"\"},\"radialaxis\":{\"gridcolor\":\"white\",\"linecolor\":\"white\",\"ticks\":\"\"}},\"ternary\":{\"bgcolor\":\"#E5ECF6\",\"aaxis\":{\"gridcolor\":\"white\",\"linecolor\":\"white\",\"ticks\":\"\"},\"baxis\":{\"gridcolor\":\"white\",\"linecolor\":\"white\",\"ticks\":\"\"},\"caxis\":{\"gridcolor\":\"white\",\"linecolor\":\"white\",\"ticks\":\"\"}},\"coloraxis\":{\"colorbar\":{\"outlinewidth\":0,\"ticks\":\"\"}},\"colorscale\":{\"sequential\":[[0.0,\"#0d0887\"],[0.1111111111111111,\"#46039f\"],[0.2222222222222222,\"#7201a8\"],[0.3333333333333333,\"#9c179e\"],[0.4444444444444444,\"#bd3786\"],[0.5555555555555556,\"#d8576b\"],[0.6666666666666666,\"#ed7953\"],[0.7777777777777778,\"#fb9f3a\"],[0.8888888888888888,\"#fdca26\"],[1.0,\"#f0f921\"]],\"sequentialminus\":[[0.0,\"#0d0887\"],[0.1111111111111111,\"#46039f\"],[0.2222222222222222,\"#7201a8\"],[0.3333333333333333,\"#9c179e\"],[0.4444444444444444,\"#bd3786\"],[0.5555555555555556,\"#d8576b\"],[0.6666666666666666,\"#ed7953\"],[0.7777777777777778,\"#fb9f3a\"],[0.8888888888888888,\"#fdca26\"],[1.0,\"#f0f921\"]],\"diverging\":[[0,\"#8e0152\"],[0.1,\"#c51b7d\"],[0.2,\"#de77ae\"],[0.3,\"#f1b6da\"],[0.4,\"#fde0ef\"],[0.5,\"#f7f7f7\"],[0.6,\"#e6f5d0\"],[0.7,\"#b8e186\"],[0.8,\"#7fbc41\"],[0.9,\"#4d9221\"],[1,\"#276419\"]]},\"xaxis\":{\"gridcolor\":\"white\",\"linecolor\":\"white\",\"ticks\":\"\",\"title\":{\"standoff\":15},\"zerolinecolor\":\"white\",\"automargin\":true,\"zerolinewidth\":2},\"yaxis\":{\"gridcolor\":\"white\",\"linecolor\":\"white\",\"ticks\":\"\",\"title\":{\"standoff\":15},\"zerolinecolor\":\"white\",\"automargin\":true,\"zerolinewidth\":2},\"scene\":{\"xaxis\":{\"backgroundcolor\":\"#E5ECF6\",\"gridcolor\":\"white\",\"linecolor\":\"white\",\"showbackground\":true,\"ticks\":\"\",\"zerolinecolor\":\"white\",\"gridwidth\":2},\"yaxis\":{\"backgroundcolor\":\"#E5ECF6\",\"gridcolor\":\"white\",\"linecolor\":\"white\",\"showbackground\":true,\"ticks\":\"\",\"zerolinecolor\":\"white\",\"gridwidth\":2},\"zaxis\":{\"backgroundcolor\":\"#E5ECF6\",\"gridcolor\":\"white\",\"linecolor\":\"white\",\"showbackground\":true,\"ticks\":\"\",\"zerolinecolor\":\"white\",\"gridwidth\":2}},\"shapedefaults\":{\"line\":{\"color\":\"#2a3f5f\"}},\"annotationdefaults\":{\"arrowcolor\":\"#2a3f5f\",\"arrowhead\":0,\"arrowwidth\":1},\"geo\":{\"bgcolor\":\"white\",\"landcolor\":\"#E5ECF6\",\"subunitcolor\":\"white\",\"showland\":true,\"showlakes\":true,\"lakecolor\":\"white\"},\"title\":{\"x\":0.05},\"mapbox\":{\"style\":\"light\"}}},\"xaxis\":{\"anchor\":\"y\",\"domain\":[0.0,0.30666666666666664],\"title\":{\"text\":\"\"},\"tickangle\":-45},\"yaxis\":{\"anchor\":\"x\",\"domain\":[0.0,1.0],\"title\":{\"text\":\"Anzahl der Featurs-Modelle\"},\"showticklabels\":true,\"showgrid\":true},\"xaxis2\":{\"anchor\":\"y2\",\"domain\":[0.3466666666666666,0.6533333333333333],\"matches\":\"x\",\"title\":{\"text\":\"\"}},\"yaxis2\":{\"anchor\":\"x2\",\"domain\":[0.0,1.0],\"matches\":\"y\",\"showticklabels\":false},\"xaxis3\":{\"anchor\":\"y3\",\"domain\":[0.6933333333333332,0.9999999999999999],\"matches\":\"x\",\"title\":{\"text\":\"\"}},\"yaxis3\":{\"anchor\":\"x3\",\"domain\":[0.0,1.0],\"matches\":\"y\",\"showticklabels\":false},\"annotations\":[{\"font\":{\"size\":14,\"family\":\"Arial\",\"color\":\"black\"},\"showarrow\":false,\"text\":\"Extractor = Configfixextractor\",\"x\":0.15333333333333332,\"xanchor\":\"center\",\"xref\":\"paper\",\"y\":1.0,\"yanchor\":\"bottom\",\"yref\":\"paper\"},{\"font\":{\"size\":14,\"family\":\"Arial\",\"color\":\"black\"},\"showarrow\":false,\"text\":\"Extractor = KClause\",\"x\":0.5,\"xanchor\":\"center\",\"xref\":\"paper\",\"y\":1.0,\"yanchor\":\"bottom\",\"yref\":\"paper\"},{\"font\":{\"size\":14,\"family\":\"Arial\",\"color\":\"black\"},\"showarrow\":false,\"text\":\"Extractor = Kconfigreader\",\"x\":0.8466666666666666,\"xanchor\":\"center\",\"xref\":\"paper\",\"y\":1.0,\"yanchor\":\"bottom\",\"yref\":\"paper\"}],\"legend\":{\"title\":{\"text\":\"\"},\"tracegroupgap\":0},\"margin\":{\"t\":60},\"barmode\":\"stack\",\"font\":{\"size\":15},\"title\":{\"x\":0.5,\"text\":\"\",\"xanchor\":\"center\"},\"plot_bgcolor\":\"white\",\"paper_bgcolor\":\"white\"},                        {\"responsive\": true}                    ).then(function(){\n",
       "                            \n",
       "var gd = document.getElementById('bc695ca0-12ca-4de4-8d86-02fe0e709a03');\n",
       "var x = new MutationObserver(function (mutations, observer) {{\n",
       "        var display = window.getComputedStyle(gd).display;\n",
       "        if (!display || display === 'none') {{\n",
       "            console.log([gd, 'removed!']);\n",
       "            Plotly.purge(gd);\n",
       "            observer.disconnect();\n",
       "        }}\n",
       "}});\n",
       "\n",
       "// Listen for the removal of the full notebook cells\n",
       "var notebookContainer = gd.closest('#notebook-container');\n",
       "if (notebookContainer) {{\n",
       "    x.observe(notebookContainer, {childList: true});\n",
       "}}\n",
       "\n",
       "// Listen for the clearing of the current output cell\n",
       "var outputEl = gd.closest('.output');\n",
       "if (outputEl) {{\n",
       "    x.observe(outputEl, {childList: true});\n",
       "}}\n",
       "\n",
       "                        })                };                });            </script>        </div>"
      ]
     },
     "metadata": {},
     "output_type": "display_data"
    }
   ],
   "source": [
    "import pandas as pd\n",
    "import plotly.express as px\n",
    "\n",
    "# Daten importieren\n",
    "file_configfixextractor = '/home/rami/configFixextractor/kconfig/output.csv'\n",
    "file_kmax = '/home/rami/kmax/kconfig/output.csv'\n",
    "file_Kconfigreader = '/home/rami/Kconfigreader/kconfig/output.csv'\n",
    "\n",
    "df_configfixextractor = pd.read_csv(file_configfixextractor)\n",
    "df_kmax = pd.read_csv(file_kmax)\n",
    "df_Kconfigreader = pd.read_csv(file_Kconfigreader)\n",
    "\n",
    "# Relevante Spalten extrahieren und 'Extractor' hinzufügen\n",
    "df_configfixextractor_filtered = df_configfixextractor[['system', 'revision', 'model-file']].copy()\n",
    "df_configfixextractor_filtered['Extractor'] = 'Configfixextractor'\n",
    "\n",
    "df_kmax_filtered = df_kmax[['system', 'revision', 'model-file']].copy()\n",
    "df_kmax_filtered['Extractor'] = 'KClause'\n",
    "\n",
    "df_Kconfigreader_filtered = df_Kconfigreader[['system', 'revision', 'model-file']].copy()\n",
    "df_Kconfigreader_filtered['Extractor'] = 'Kconfigreader'\n",
    "\n",
    "# Alle DataFrames kombinieren\n",
    "df_combined = pd.concat([df_configfixextractor_filtered, df_kmax_filtered, df_Kconfigreader_filtered], ignore_index=True)\n",
    "\n",
    "# Status basierend auf 'model-file' für extrahierte und nicht extrahierte Modelle\n",
    "df_combined['status'] = df_combined.apply(\n",
    "    lambda row: 'Extrahierte Feature-Modelle' if pd.notna(row['model-file']) else 'Nicht extrahierte Feature-Modelle',\n",
    "    axis=1\n",
    ")\n",
    "\n",
    "\n",
    "1+4\n",
    "\n",
    "# Fehlerstatus für ConfigFixExtractor von v2.5.45 bis v4.18\n",
    "def error_status(row):\n",
    "    # Fehler nur für 'Configfixextractor' und wenn Revision zwischen v2.5.45 und v4.18 liegt\n",
    "    if row['Extractor'] == 'Configfixextractor' and 'v2.5.45' <= row['revision'] <= 'v4.18':\n",
    "        return 'Nicht vollständig extrahiert'\n",
    "    if pd.notna(row['model-file']):\n",
    "        return 'Extrahiert'\n",
    "    return 'Nicht extrahiert'\n",
    "\n",
    "df_combined['error_status'] = df_combined.apply(error_status, axis=1)\n",
    "\n",
    "# Zusammenfassung der Daten für das Diagramm\n",
    "df_summary_combined = df_combined.groupby(['system', 'status', 'Extractor', 'error_status']).size().reset_index(name='count')\n",
    "\n",
    "# Diagramm erstellen\n",
    "fig_combined = px.bar(\n",
    "    df_summary_combined,\n",
    "    x='system',\n",
    "    y='count',\n",
    "    color='error_status',  # Fehlerstatus als Farbkategorie\n",
    "    facet_col='Extractor',  # Separate Diagramme für jeden Extractor\n",
    "    labels={'count': 'Anzahl der Featurs-Modelle', 'system': '', 'status': 'Extraktionsstatus'},\n",
    "    text='count',  # Anzahl der Werte anzeigen\n",
    "    color_discrete_map={\n",
    "        'Extrahiert': 'green',  \n",
    "        'Nicht vollständig extrahiert': 'orange', \n",
    "        'Nicht extrahiert': 'red'  # Nicht extrahiert in rot\n",
    "    },\n",
    "    facet_col_spacing=0.04,  # Etwas Platz zwischen den Facetten\n",
    "    facet_row_spacing=0.1    # Etwas Platz zwischen den Reihen\n",
    ")\n",
    "\n",
    "# Layout anpassen\n",
    "fig_combined.update_layout(\n",
    "    xaxis_title='',  # x-Achse nur einmalig in der Mitte\n",
    "    font=dict(size=15),\n",
    "    legend_title='',\n",
    "    xaxis_tickangle=-45,\n",
    "    barmode='stack',  # Stacked Bar für die verschiedenen Status\n",
    "    plot_bgcolor='white',\n",
    "    paper_bgcolor='white',\n",
    "    yaxis=dict(\n",
    "        showticklabels=True,  # y-Achse ohne Beschriftungen\n",
    "        showgrid=True        # Kein Gitternetz\n",
    "    ),\n",
    "    title_x=0.5,  # Titel mittig ausrichten\n",
    "    title={'text': '', 'x': 0.5, 'xanchor': 'center'},  # Globaler Titel hinzufügen\n",
    ")\n",
    "\n",
    "# Facetten Titel mit der Form \"Extractor = Configfixextractor\" anzeigen\n",
    "fig_combined.for_each_annotation(lambda a: a.update(text=f\"Extractor = {a.text.split('=')[-1]}\", font_size=14, font_family=\"Arial\", font_color=\"black\"))\n",
    "\n",
    "# Diagramm anzeigen\n",
    "fig_combined.show()\n"
   ]
  },
  {
   "cell_type": "code",
   "execution_count": 142,
   "id": "b84e30e7-62e7-4d3e-a9b8-a7ac846ecb8b",
   "metadata": {},
   "outputs": [
    {
     "data": {
      "application/vnd.plotly.v1+json": {
       "config": {
        "plotlyServerURL": "https://plot.ly"
       },
       "data": [
        {
         "alignmentgroup": "True",
         "fillcolor": "rgba(255, 255, 255, 0)",
         "hovertemplate": "Extractor=%{x}<br>Logarithmierte Verarbeitungszeit (log10)=%{y}<extra></extra>",
         "legendgroup": "Configfixextractor",
         "marker": {
          "color": "black"
         },
         "name": "Configfixextractor",
         "notched": false,
         "offsetgroup": "Configfixextractor",
         "opacity": 0.8,
         "orientation": "v",
         "showlegend": true,
         "type": "box",
         "x": [
          "Configfixextractor",
          "Configfixextractor",
          "Configfixextractor",
          "Configfixextractor",
          "Configfixextractor",
          "Configfixextractor",
          "Configfixextractor",
          "Configfixextractor",
          "Configfixextractor",
          "Configfixextractor",
          "Configfixextractor",
          "Configfixextractor",
          "Configfixextractor",
          "Configfixextractor",
          "Configfixextractor",
          "Configfixextractor",
          "Configfixextractor",
          "Configfixextractor",
          "Configfixextractor",
          "Configfixextractor",
          "Configfixextractor",
          "Configfixextractor",
          "Configfixextractor",
          "Configfixextractor",
          "Configfixextractor",
          "Configfixextractor",
          "Configfixextractor",
          "Configfixextractor",
          "Configfixextractor",
          "Configfixextractor",
          "Configfixextractor",
          "Configfixextractor",
          "Configfixextractor",
          "Configfixextractor",
          "Configfixextractor",
          "Configfixextractor",
          "Configfixextractor",
          "Configfixextractor",
          "Configfixextractor",
          "Configfixextractor",
          "Configfixextractor",
          "Configfixextractor",
          "Configfixextractor",
          "Configfixextractor",
          "Configfixextractor",
          "Configfixextractor",
          "Configfixextractor",
          "Configfixextractor",
          "Configfixextractor",
          "Configfixextractor",
          "Configfixextractor",
          "Configfixextractor",
          "Configfixextractor",
          "Configfixextractor",
          "Configfixextractor",
          "Configfixextractor",
          "Configfixextractor",
          "Configfixextractor",
          "Configfixextractor",
          "Configfixextractor",
          "Configfixextractor",
          "Configfixextractor",
          "Configfixextractor",
          "Configfixextractor",
          "Configfixextractor",
          "Configfixextractor",
          "Configfixextractor",
          "Configfixextractor",
          "Configfixextractor",
          "Configfixextractor",
          "Configfixextractor",
          "Configfixextractor",
          "Configfixextractor",
          "Configfixextractor",
          "Configfixextractor",
          "Configfixextractor",
          "Configfixextractor",
          "Configfixextractor",
          "Configfixextractor",
          "Configfixextractor",
          "Configfixextractor",
          "Configfixextractor",
          "Configfixextractor",
          "Configfixextractor",
          "Configfixextractor",
          "Configfixextractor",
          "Configfixextractor",
          "Configfixextractor",
          "Configfixextractor",
          "Configfixextractor",
          "Configfixextractor",
          "Configfixextractor",
          "Configfixextractor",
          "Configfixextractor",
          "Configfixextractor",
          "Configfixextractor",
          "Configfixextractor",
          "Configfixextractor",
          "Configfixextractor",
          "Configfixextractor",
          "Configfixextractor",
          "Configfixextractor",
          "Configfixextractor",
          "Configfixextractor",
          "Configfixextractor",
          "Configfixextractor",
          "Configfixextractor",
          "Configfixextractor",
          "Configfixextractor",
          "Configfixextractor",
          "Configfixextractor",
          "Configfixextractor",
          "Configfixextractor",
          "Configfixextractor",
          "Configfixextractor",
          "Configfixextractor",
          "Configfixextractor",
          "Configfixextractor",
          "Configfixextractor",
          "Configfixextractor",
          "Configfixextractor",
          "Configfixextractor",
          "Configfixextractor",
          "Configfixextractor",
          "Configfixextractor",
          "Configfixextractor",
          "Configfixextractor",
          "Configfixextractor",
          "Configfixextractor",
          "Configfixextractor",
          "Configfixextractor",
          "Configfixextractor",
          "Configfixextractor",
          "Configfixextractor",
          "Configfixextractor",
          "Configfixextractor",
          "Configfixextractor",
          "Configfixextractor",
          "Configfixextractor",
          "Configfixextractor",
          "Configfixextractor",
          "Configfixextractor",
          "Configfixextractor",
          "Configfixextractor",
          "Configfixextractor",
          "Configfixextractor",
          "Configfixextractor",
          "Configfixextractor",
          "Configfixextractor",
          "Configfixextractor",
          "Configfixextractor",
          "Configfixextractor",
          "Configfixextractor",
          "Configfixextractor",
          "Configfixextractor",
          "Configfixextractor",
          "Configfixextractor",
          "Configfixextractor",
          "Configfixextractor",
          "Configfixextractor",
          "Configfixextractor",
          "Configfixextractor",
          "Configfixextractor",
          "Configfixextractor",
          "Configfixextractor",
          "Configfixextractor",
          "Configfixextractor",
          "Configfixextractor",
          "Configfixextractor",
          "Configfixextractor",
          "Configfixextractor",
          "Configfixextractor",
          "Configfixextractor",
          "Configfixextractor",
          "Configfixextractor",
          "Configfixextractor",
          "Configfixextractor",
          "Configfixextractor",
          "Configfixextractor",
          "Configfixextractor",
          "Configfixextractor",
          "Configfixextractor",
          "Configfixextractor",
          "Configfixextractor",
          "Configfixextractor",
          "Configfixextractor",
          "Configfixextractor",
          "Configfixextractor",
          "Configfixextractor",
          "Configfixextractor",
          "Configfixextractor",
          "Configfixextractor",
          "Configfixextractor",
          "Configfixextractor",
          "Configfixextractor",
          "Configfixextractor",
          "Configfixextractor",
          "Configfixextractor",
          "Configfixextractor",
          "Configfixextractor",
          "Configfixextractor",
          "Configfixextractor",
          "Configfixextractor",
          "Configfixextractor",
          "Configfixextractor",
          "Configfixextractor",
          "Configfixextractor",
          "Configfixextractor",
          "Configfixextractor",
          "Configfixextractor",
          "Configfixextractor",
          "Configfixextractor",
          "Configfixextractor",
          "Configfixextractor",
          "Configfixextractor",
          "Configfixextractor",
          "Configfixextractor",
          "Configfixextractor",
          "Configfixextractor",
          "Configfixextractor",
          "Configfixextractor",
          "Configfixextractor",
          "Configfixextractor",
          "Configfixextractor",
          "Configfixextractor",
          "Configfixextractor",
          "Configfixextractor",
          "Configfixextractor",
          "Configfixextractor",
          "Configfixextractor",
          "Configfixextractor",
          "Configfixextractor",
          "Configfixextractor",
          "Configfixextractor",
          "Configfixextractor",
          "Configfixextractor",
          "Configfixextractor",
          "Configfixextractor",
          "Configfixextractor",
          "Configfixextractor",
          "Configfixextractor",
          "Configfixextractor",
          "Configfixextractor",
          "Configfixextractor",
          "Configfixextractor",
          "Configfixextractor",
          "Configfixextractor",
          "Configfixextractor",
          "Configfixextractor",
          "Configfixextractor",
          "Configfixextractor",
          "Configfixextractor",
          "Configfixextractor",
          "Configfixextractor",
          "Configfixextractor",
          "Configfixextractor",
          "Configfixextractor",
          "Configfixextractor",
          "Configfixextractor",
          "Configfixextractor",
          "Configfixextractor",
          "Configfixextractor",
          "Configfixextractor",
          "Configfixextractor",
          "Configfixextractor",
          "Configfixextractor",
          "Configfixextractor",
          "Configfixextractor",
          "Configfixextractor",
          "Configfixextractor",
          "Configfixextractor",
          "Configfixextractor",
          "Configfixextractor",
          "Configfixextractor",
          "Configfixextractor",
          "Configfixextractor",
          "Configfixextractor",
          "Configfixextractor",
          "Configfixextractor",
          "Configfixextractor",
          "Configfixextractor",
          "Configfixextractor",
          "Configfixextractor",
          "Configfixextractor",
          "Configfixextractor",
          "Configfixextractor",
          "Configfixextractor",
          "Configfixextractor",
          "Configfixextractor",
          "Configfixextractor",
          "Configfixextractor",
          "Configfixextractor",
          "Configfixextractor",
          "Configfixextractor",
          "Configfixextractor",
          "Configfixextractor",
          "Configfixextractor",
          "Configfixextractor",
          "Configfixextractor",
          "Configfixextractor",
          "Configfixextractor",
          "Configfixextractor",
          "Configfixextractor",
          "Configfixextractor",
          "Configfixextractor",
          "Configfixextractor",
          "Configfixextractor",
          "Configfixextractor",
          "Configfixextractor",
          "Configfixextractor",
          "Configfixextractor",
          "Configfixextractor",
          "Configfixextractor",
          "Configfixextractor",
          "Configfixextractor",
          "Configfixextractor",
          "Configfixextractor",
          "Configfixextractor",
          "Configfixextractor",
          "Configfixextractor",
          "Configfixextractor",
          "Configfixextractor",
          "Configfixextractor",
          "Configfixextractor",
          "Configfixextractor",
          "Configfixextractor",
          "Configfixextractor",
          "Configfixextractor",
          "Configfixextractor",
          "Configfixextractor",
          "Configfixextractor",
          "Configfixextractor",
          "Configfixextractor",
          "Configfixextractor",
          "Configfixextractor",
          "Configfixextractor",
          "Configfixextractor",
          "Configfixextractor",
          "Configfixextractor",
          "Configfixextractor",
          "Configfixextractor",
          "Configfixextractor",
          "Configfixextractor",
          "Configfixextractor",
          "Configfixextractor",
          "Configfixextractor",
          "Configfixextractor",
          "Configfixextractor",
          "Configfixextractor",
          "Configfixextractor",
          "Configfixextractor",
          "Configfixextractor",
          "Configfixextractor",
          "Configfixextractor",
          "Configfixextractor",
          "Configfixextractor",
          "Configfixextractor",
          "Configfixextractor",
          "Configfixextractor",
          "Configfixextractor",
          "Configfixextractor",
          "Configfixextractor",
          "Configfixextractor",
          "Configfixextractor",
          "Configfixextractor",
          "Configfixextractor",
          "Configfixextractor",
          "Configfixextractor",
          "Configfixextractor",
          "Configfixextractor",
          "Configfixextractor",
          "Configfixextractor",
          "Configfixextractor",
          "Configfixextractor",
          "Configfixextractor",
          "Configfixextractor",
          "Configfixextractor",
          "Configfixextractor",
          "Configfixextractor",
          "Configfixextractor",
          "Configfixextractor",
          "Configfixextractor",
          "Configfixextractor",
          "Configfixextractor",
          "Configfixextractor",
          "Configfixextractor",
          "Configfixextractor",
          "Configfixextractor",
          "Configfixextractor",
          "Configfixextractor",
          "Configfixextractor",
          "Configfixextractor",
          "Configfixextractor",
          "Configfixextractor",
          "Configfixextractor",
          "Configfixextractor",
          "Configfixextractor",
          "Configfixextractor",
          "Configfixextractor",
          "Configfixextractor",
          "Configfixextractor",
          "Configfixextractor",
          "Configfixextractor",
          "Configfixextractor",
          "Configfixextractor",
          "Configfixextractor",
          "Configfixextractor",
          "Configfixextractor",
          "Configfixextractor",
          "Configfixextractor",
          "Configfixextractor",
          "Configfixextractor",
          "Configfixextractor",
          "Configfixextractor",
          "Configfixextractor",
          "Configfixextractor",
          "Configfixextractor",
          "Configfixextractor",
          "Configfixextractor",
          "Configfixextractor",
          "Configfixextractor",
          "Configfixextractor",
          "Configfixextractor",
          "Configfixextractor",
          "Configfixextractor",
          "Configfixextractor",
          "Configfixextractor",
          "Configfixextractor",
          "Configfixextractor",
          "Configfixextractor",
          "Configfixextractor",
          "Configfixextractor",
          "Configfixextractor",
          "Configfixextractor",
          "Configfixextractor"
         ],
         "x0": " ",
         "xaxis": "x",
         "y": [
          null,
          -0.6670117764676253,
          -0.28748996081111305,
          -0.06987706168513437,
          0.07235447313554456,
          0.16805626052809744,
          0.2637373834706205,
          0.34157634437190537,
          0.4063276128032547,
          0.46381708887083606,
          0.5105912875817533,
          0.5490993672624104,
          0.5842062561347896,
          0.6184562523888727,
          0.6515560621838299,
          0.6789623788075891,
          0.7076778224845868,
          0.7357626554807852,
          0.7650733679972361,
          0.7869917399096797,
          0.8081740076899707,
          0.8256258023284555,
          0.8455785199408501,
          0.8652040727819474,
          0.8817348020456182,
          0.8974573997392765,
          0.9119721231060871,
          0.9283670688970476,
          0.9437556564081805,
          0.9604472599702829,
          0.9776786835673946,
          0.9943904959541103,
          1.008128968741698,
          1.0184354151997006,
          1.0316117942876946,
          1.0462151939499653,
          1.0567642957379821,
          1.0687068658851322,
          1.0780529675045616,
          1.0882966788317021,
          1.0985736068251508,
          1.1091790968721635,
          1.118763600196784,
          1.1290703089254537,
          1.1416104522295225,
          1.151958359393193,
          1.161539726386124,
          1.170527400677063,
          1.1794427371021037,
          1.1886849062140912,
          1.201387149636163,
          1.2122223322928893,
          1.223148701415914,
          1.2344018345939483,
          1.2456548047065394,
          1.2565111554347084,
          1.2681572986120804,
          1.2782804859116959,
          1.2883109764705045,
          1.3007489294280017,
          1.3097991140512786,
          1.7360163865169496,
          1.7389623552408744,
          1.7418196556705867,
          1.7460345840856588,
          1.7494858246794545,
          1.7519056123425973,
          1.7540510396418687,
          1.756312576933981,
          1.7587095852200183,
          1.761101794420447,
          1.7636451531061772,
          1.7665947015712544,
          1.7686000711078478,
          1.7704807265555536,
          1.7729675599584067,
          1.77544414768939,
          1.7777657444408501,
          1.7801441296410563,
          1.783291021142897,
          1.7854231286665183,
          1.7878039765125262,
          1.7900448572921068,
          1.7921361618214489,
          1.7944691506249848,
          1.7971259301461593,
          1.7971259301461593,
          1.7971259301461593,
          1.7971259301461593,
          1.7971259301461593,
          1.7971259301461593,
          1.7971259301461593,
          1.7971259301461593,
          1.7971259301461593,
          1.7971259301461593,
          1.7971259301461593,
          1.7971259301461593,
          1.7971259301461593,
          1.7971259301461593,
          1.7971259301461593,
          1.7971259301461593,
          1.7971259301461593,
          1.7971259301461593,
          1.7971259301461593,
          1.7971259301461593,
          1.7971259301461593,
          1.7971259301461593,
          1.7971259301461593,
          1.7971259301461593,
          1.7971259301461593,
          1.7971259301461593,
          1.7992556502751593,
          1.801109060529868,
          1.8031373344479404,
          1.8051031303334009,
          1.8068985733116685,
          1.8093189180366922,
          1.8112353772751617,
          1.8134620743486358,
          1.8155458740966581,
          1.817614916825197,
          1.8196881806977092,
          1.821668594980719,
          1.8238112109877198,
          1.8256512932192772,
          1.8281183465548365,
          1.8303882192397347,
          1.8326629572774422,
          1.834728679655512,
          1.8367867682101744,
          1.8387058131321317,
          1.840506251519731,
          1.8425216216451712,
          1.8447689574411428,
          1.8468113004826616,
          1.8484034121931177,
          1.8501935424628102,
          1.852314089573694,
          1.8564778448253012,
          1.8582544988400405,
          1.8599639724702541,
          1.8620311207392455,
          1.8637742187208985,
          1.865588149756653,
          1.8673374650842953,
          1.8693060871033087,
          1.8711888823082905,
          1.8728695100722959,
          1.8745133213917966,
          1.8763426897925504,
          1.8781677694586036,
          1.8797502896367972,
          1.8817841836307123,
          1.8835708408233427,
          1.8851511870384752,
          1.886712835357578,
          1.8881923218889376,
          1.8899243033464446,
          1.8917904807518757,
          1.8932278238893898,
          1.8949403115009205,
          1.896727548482267,
          1.8983473728615945,
          1.90007330374951,
          1.9017676540569257,
          1.9032512782797104,
          1.9050003079062265,
          1.906713033628002,
          1.908304189586507,
          1.9098749113607467,
          1.9113267342355242,
          1.9129923780661495,
          1.9144607070426567,
          1.916144659938409,
          1.9177062278596428,
          1.9191507227923386,
          1.9208142108244155,
          1.9224574850660494,
          1.9240501364375735,
          1.9257089747154574,
          1.9272683455304775,
          1.9290075042139827,
          1.9307400025526316,
          1.932119003205528,
          1.9335171213667517,
          1.9349541493563411,
          1.9366632219179936,
          1.9382062239772877,
          1.9396853463852084,
          1.9412427432578172,
          1.9428043718948607,
          1.9443209830656722,
          1.9457630371318126,
          1.9476114930901818,
          1.9492237885729293,
          1.9507375372206759,
          1.9521036841666892,
          1.9537427750008478,
          1.9552860534191618,
          1.9567222984386514,
          1.958591938322191,
          1.960024936407375,
          1.961389060325569,
          1.962701193351984,
          1.9642486778403723,
          1.9658634421892782,
          1.9670869859538243,
          1.9684913732808274,
          1.9698615617194832,
          1.9715424725479926,
          1.9732147451211215,
          1.9747278909199,
          1.976256350021841,
          1.9778873477803987,
          1.979378837067754,
          1.9808352256793424,
          1.9820869825863818,
          1.9833468280151816,
          1.9850381781645985,
          1.9864642706303863,
          1.9878009231722453,
          1.9891741131574758,
          1.9910786351535816,
          1.9919360287333645,
          1.9927459390317022,
          1.9935548766633722,
          1.9942989729113296,
          1.9950405944307263,
          1.9959396528359608,
          1.9965936683787628,
          1.9972204700169192,
          1.9979905729090186,
          1.9986708069943717,
          1.999386753170572,
          2.000072574054787,
          2.0010204641711336,
          2.0026846934871214,
          2.003600100483814,
          2.004738884205819,
          2.0055428076075996,
          2.0063695727116615,
          2.0074455751741,
          2.008410949493634,
          2.009508536377198,
          2.010267098856323,
          2.010977580204808,
          2.011589144650828,
          2.0123876650928305,
          2.0130151009923907,
          2.013741960156851,
          2.0157817595689735,
          2.0176969290894697,
          2.01841052110736,
          2.019159172146356,
          2.019927363975841,
          2.020739614550825,
          2.0215107002099297,
          2.022282481392739,
          2.0231443853475404,
          2.023819959111116,
          2.0245614512781036,
          2.0251300236062755,
          2.025830053114222,
          2.0265448540500715,
          2.0272342428522445,
          2.0279239164007192,
          2.0285364250304703,
          2.029189750866466,
          2.029886051450689,
          2.0305410510152426,
          2.031240950096132,
          2.0319655558588514,
          2.0328497036200868,
          2.033608481904401,
          2.0342627067045354,
          2.0349048072701357,
          2.035586386139446,
          2.0362196580329943,
          2.0369253435227597,
          2.0375362958619627,
          2.03832076344655,
          2.0389678453125306,
          2.039582487944611,
          2.040780275472036,
          2.04179662530183,
          2.0425041589017154,
          2.0433343503844594,
          2.0440685226288458,
          2.0447486626103935,
          2.045552429572343,
          2.0463913038455113,
          2.0471832557616225,
          2.047866784878169,
          2.0486975949923005,
          2.0494829251993534,
          2.050289680521965,
          2.0508917656478425,
          2.051710921675428,
          2.0523665522984933,
          2.0529679417166022,
          2.0536993964917123,
          2.054296590255556,
          2.0548678868866035,
          2.055482061447563,
          2.056066827952441,
          2.056688583905987,
          2.057296292229203,
          2.057996285212086,
          2.058597873286564,
          2.059287674071804,
          2.0599875897492503,
          2.060649974698908,
          2.0612479670185335,
          2.061812403535204,
          2.0625194974700856,
          2.0631039960707724,
          2.0637015865500152,
          2.064339747080719,
          2.064926905090967,
          2.0656843875809003,
          2.066375302821671,
          2.067049499392418,
          2.06764643554448,
          2.068217010567845,
          2.0689465452192195,
          2.0695247459110755,
          2.070153778960768,
          2.070741062024225,
          2.071334894949369,
          2.07189361129355,
          2.0725349434083133,
          2.073177788302752,
          2.0738046733267788,
          2.0744027235755937,
          2.0750451942388723,
          2.0757120797243007,
          2.076330994635353,
          2.0780533959436474,
          2.114491651163815,
          2.143549121910953,
          2.1732297486473615,
          2.1961585058289526,
          2.222017249396553,
          2.2421170378723936,
          2.2613390091156567,
          2.2795368116264356,
          2.297416669462894,
          2.3142424105075974,
          2.331069129940718,
          2.3476138481960773,
          2.363040843207472,
          2.3780088475199124,
          2.3920344605804402,
          2.406665284160905,
          2.420741431171884,
          2.4347646313343527,
          2.447613501805365,
          2.4605265716288742,
          2.472419152318847,
          2.483780369684948,
          2.4942434185997535,
          2.5047693880883473,
          2.515237526423955,
          2.5253837448175793,
          2.535386565126875,
          2.5446983926329834,
          2.556130127767294,
          2.56578981279279,
          2.576032511747353,
          2.5855849123508365,
          2.5952443599598154,
          2.5954257127448237,
          2.5956295351824856,
          2.5958515243621667,
          2.5960896230659705,
          2.596294413945114,
          2.5964927689276807,
          2.5966867822204547,
          2.597090438719515,
          2.597355171150676,
          2.5975390207744065,
          2.5977055994289047,
          2.5978798025281535,
          2.5980573717074784,
          2.5982589695254177,
          2.598438775612849,
          2.59866119245997,
          2.598831935159168,
          2.599019622164865,
          2.599192368026517,
          2.5993744704831996,
          2.599546111339101,
          2.59974546888271,
          2.5999384704484854,
          2.60012260211477,
          2.6003234173711713,
          2.6005110629515418,
          2.600778031405407,
          2.601170450209903,
          2.601344334962948,
          2.601513633425129,
          2.6016844548170353,
          2.601874459936961,
          2.602046355405015,
          2.60222039882487,
          2.602425303478131,
          2.6026973317533124,
          2.6029267366490485,
          2.603138911446454,
          2.6033236659126064,
          2.6035448870836566,
          2.603744657654242,
          2.603930021537563,
          2.6041546970720133,
          2.6043667300338065,
          2.6045504416153693,
          2.6047667473467455,
          2.604944098002638,
          2.605214559529347,
          2.6054195219018252,
          2.6056107768103183,
          2.6057865764173527,
          2.6059670568421662,
          2.6062130697984753,
          2.6063986478424206,
          2.6066491722896123,
          2.6069089061835466,
          2.6070946879401835,
          2.607364567056873,
          2.607570347857768,
          2.607754877515541,
          2.607944208375085,
          2.6081302386937937,
          2.6083005064465676,
          2.6084742805729855
         ],
         "y0": " ",
         "yaxis": "y"
        },
        {
         "alignmentgroup": "True",
         "fillcolor": "rgba(255, 255, 255, 0)",
         "hovertemplate": "Extractor=%{x}<br>Logarithmierte Verarbeitungszeit (log10)=%{y}<extra></extra>",
         "legendgroup": "KClause",
         "marker": {
          "color": "green"
         },
         "name": "KClause",
         "notched": false,
         "offsetgroup": "KClause",
         "opacity": 0.8,
         "orientation": "v",
         "showlegend": true,
         "type": "box",
         "x": [
          "KClause",
          "KClause",
          "KClause",
          "KClause",
          "KClause",
          "KClause",
          "KClause",
          "KClause",
          "KClause",
          "KClause",
          "KClause",
          "KClause",
          "KClause",
          "KClause",
          "KClause",
          "KClause",
          "KClause",
          "KClause",
          "KClause",
          "KClause",
          "KClause",
          "KClause",
          "KClause",
          "KClause",
          "KClause",
          "KClause",
          "KClause",
          "KClause",
          "KClause",
          "KClause",
          "KClause",
          "KClause",
          "KClause",
          "KClause",
          "KClause",
          "KClause",
          "KClause",
          "KClause",
          "KClause",
          "KClause",
          "KClause",
          "KClause",
          "KClause",
          "KClause",
          "KClause",
          "KClause",
          "KClause",
          "KClause",
          "KClause",
          "KClause",
          "KClause",
          "KClause",
          "KClause",
          "KClause",
          "KClause",
          "KClause",
          "KClause",
          "KClause",
          "KClause",
          "KClause",
          "KClause",
          "KClause",
          "KClause",
          "KClause",
          "KClause",
          "KClause",
          "KClause",
          "KClause",
          "KClause",
          "KClause",
          "KClause",
          "KClause",
          "KClause",
          "KClause",
          "KClause",
          "KClause",
          "KClause",
          "KClause",
          "KClause",
          "KClause",
          "KClause",
          "KClause",
          "KClause",
          "KClause",
          "KClause",
          "KClause",
          "KClause",
          "KClause",
          "KClause",
          "KClause",
          "KClause",
          "KClause",
          "KClause",
          "KClause",
          "KClause",
          "KClause",
          "KClause",
          "KClause",
          "KClause",
          "KClause",
          "KClause",
          "KClause",
          "KClause",
          "KClause",
          "KClause",
          "KClause",
          "KClause",
          "KClause",
          "KClause",
          "KClause",
          "KClause",
          "KClause",
          "KClause",
          "KClause",
          "KClause",
          "KClause",
          "KClause",
          "KClause",
          "KClause",
          "KClause",
          "KClause",
          "KClause",
          "KClause",
          "KClause",
          "KClause",
          "KClause",
          "KClause",
          "KClause",
          "KClause",
          "KClause",
          "KClause",
          "KClause",
          "KClause",
          "KClause",
          "KClause",
          "KClause",
          "KClause",
          "KClause",
          "KClause",
          "KClause",
          "KClause",
          "KClause",
          "KClause",
          "KClause",
          "KClause",
          "KClause",
          "KClause",
          "KClause",
          "KClause",
          "KClause",
          "KClause",
          "KClause",
          "KClause",
          "KClause",
          "KClause",
          "KClause",
          "KClause",
          "KClause",
          "KClause",
          "KClause",
          "KClause",
          "KClause",
          "KClause",
          "KClause",
          "KClause",
          "KClause",
          "KClause",
          "KClause",
          "KClause",
          "KClause",
          "KClause",
          "KClause",
          "KClause",
          "KClause",
          "KClause",
          "KClause",
          "KClause",
          "KClause",
          "KClause",
          "KClause",
          "KClause",
          "KClause",
          "KClause",
          "KClause",
          "KClause",
          "KClause",
          "KClause",
          "KClause",
          "KClause",
          "KClause",
          "KClause",
          "KClause",
          "KClause",
          "KClause",
          "KClause",
          "KClause",
          "KClause",
          "KClause",
          "KClause",
          "KClause",
          "KClause",
          "KClause",
          "KClause",
          "KClause",
          "KClause",
          "KClause",
          "KClause",
          "KClause",
          "KClause",
          "KClause",
          "KClause",
          "KClause",
          "KClause",
          "KClause",
          "KClause",
          "KClause",
          "KClause",
          "KClause",
          "KClause",
          "KClause",
          "KClause",
          "KClause",
          "KClause",
          "KClause",
          "KClause",
          "KClause",
          "KClause",
          "KClause",
          "KClause",
          "KClause",
          "KClause",
          "KClause",
          "KClause",
          "KClause",
          "KClause",
          "KClause",
          "KClause",
          "KClause",
          "KClause",
          "KClause",
          "KClause",
          "KClause",
          "KClause",
          "KClause",
          "KClause",
          "KClause",
          "KClause",
          "KClause",
          "KClause",
          "KClause",
          "KClause",
          "KClause",
          "KClause",
          "KClause",
          "KClause",
          "KClause",
          "KClause",
          "KClause",
          "KClause",
          "KClause",
          "KClause",
          "KClause",
          "KClause",
          "KClause",
          "KClause",
          "KClause",
          "KClause",
          "KClause",
          "KClause",
          "KClause",
          "KClause",
          "KClause",
          "KClause",
          "KClause",
          "KClause",
          "KClause",
          "KClause",
          "KClause",
          "KClause",
          "KClause",
          "KClause",
          "KClause",
          "KClause",
          "KClause",
          "KClause",
          "KClause",
          "KClause",
          "KClause",
          "KClause",
          "KClause",
          "KClause",
          "KClause",
          "KClause",
          "KClause",
          "KClause",
          "KClause",
          "KClause",
          "KClause",
          "KClause",
          "KClause",
          "KClause",
          "KClause",
          "KClause",
          "KClause",
          "KClause",
          "KClause",
          "KClause",
          "KClause",
          "KClause",
          "KClause",
          "KClause",
          "KClause",
          "KClause",
          "KClause",
          "KClause",
          "KClause",
          "KClause",
          "KClause",
          "KClause",
          "KClause",
          "KClause",
          "KClause",
          "KClause",
          "KClause",
          "KClause",
          "KClause",
          "KClause",
          "KClause",
          "KClause",
          "KClause",
          "KClause",
          "KClause",
          "KClause",
          "KClause",
          "KClause",
          "KClause",
          "KClause",
          "KClause",
          "KClause",
          "KClause",
          "KClause",
          "KClause",
          "KClause",
          "KClause",
          "KClause",
          "KClause",
          "KClause",
          "KClause",
          "KClause",
          "KClause",
          "KClause",
          "KClause",
          "KClause",
          "KClause",
          "KClause",
          "KClause",
          "KClause",
          "KClause",
          "KClause",
          "KClause",
          "KClause",
          "KClause",
          "KClause",
          "KClause",
          "KClause",
          "KClause",
          "KClause",
          "KClause",
          "KClause",
          "KClause",
          "KClause",
          "KClause",
          "KClause",
          "KClause",
          "KClause",
          "KClause",
          "KClause",
          "KClause",
          "KClause",
          "KClause",
          "KClause",
          "KClause",
          "KClause",
          "KClause",
          "KClause",
          "KClause",
          "KClause",
          "KClause",
          "KClause",
          "KClause",
          "KClause",
          "KClause",
          "KClause",
          "KClause",
          "KClause",
          "KClause",
          "KClause",
          "KClause",
          "KClause",
          "KClause",
          "KClause",
          "KClause",
          "KClause",
          "KClause",
          "KClause",
          "KClause",
          "KClause",
          "KClause",
          "KClause",
          "KClause",
          "KClause",
          "KClause",
          "KClause",
          "KClause",
          "KClause",
          "KClause",
          "KClause",
          "KClause",
          "KClause",
          "KClause",
          "KClause",
          "KClause",
          "KClause",
          "KClause",
          "KClause",
          "KClause",
          "KClause",
          "KClause",
          "KClause",
          "KClause",
          "KClause",
          "KClause",
          "KClause",
          "KClause",
          "KClause"
         ],
         "x0": " ",
         "xaxis": "x",
         "y": [
          null,
          -0.2221381990928842,
          -0.6245890909320092,
          -0.6017956125333968,
          -0.6131615471039037,
          -0.617774960361797,
          -0.6006284813020939,
          -0.6297180213591295,
          -0.5928860376194501,
          -0.5928810728171264,
          -0.5732491652604461,
          -0.6207906777965913,
          -0.5958726441680664,
          -0.6017132396807798,
          -0.5962639568985915,
          -0.6327260919533979,
          -0.5575335249401445,
          -0.6180865859637296,
          -0.607205954974494,
          -0.5990741076689063,
          -0.624592216024182,
          -0.6091985402211696,
          -0.6025665037052451,
          -0.6054634859313415,
          -0.5720662222564429,
          -0.612362723014149,
          -0.6048138394011423,
          -0.6089003741197591,
          -0.6200494584479965,
          -0.598720225384374,
          -0.565681866438205,
          -0.6148162913372628,
          -0.6116726741117214,
          -0.6222748313604254,
          -0.6099271555288142,
          -0.6123809302486137,
          -0.6066512065115308,
          -0.621442498810942,
          -0.6222915897712392,
          -0.581479089119569,
          -0.6039908475060721,
          -0.5963594608591221,
          -0.6141190782171694,
          -0.6141598154870824,
          -0.6164731049288996,
          -0.6360499453706783,
          -0.5969441248499645,
          -0.6049808115650358,
          -0.6099945995799956,
          -0.6163332240409686,
          1.194860216743335,
          1.2152784077734113,
          1.1816932710714603,
          1.2119577875995533,
          1.2231587296283633,
          1.2094134337307272,
          1.2170188995173499,
          1.2344495286934645,
          1.2262775660947354,
          1.2438957692428478,
          -0.15877311222634655,
          2.2794568258214007,
          -0.13223927264088092,
          -0.13399153144514606,
          -0.15358483138008583,
          -0.14500041250515744,
          -0.15106752567203138,
          -0.14560020808794236,
          -0.1506781322035298,
          -0.13837851734610346,
          -0.1592100375748402,
          -0.14207041246815175,
          -0.10570592403025132,
          -0.127589810341829,
          -0.10282681754361664,
          -0.11154920959732328,
          -0.10782694186005128,
          -0.1184479050526086,
          -0.10204005776663044,
          -0.09332557546715554,
          -0.09919978110289782,
          -0.11013125956993663,
          -0.09532950415821938,
          -0.09059499457395799,
          -0.09128110950441717,
          -0.10341833303823846,
          -0.10341833303823846,
          -0.10341833303823846,
          -0.10341833303823846,
          -0.10341833303823846,
          -0.10341833303823846,
          -0.10341833303823846,
          -0.10341833303823846,
          -0.10341833303823846,
          -0.10341833303823846,
          -0.10341833303823846,
          -0.10341833303823846,
          -0.10341833303823846,
          -0.10341833303823846,
          -0.10341833303823846,
          -0.10341833303823846,
          -0.10341833303823846,
          -0.10341833303823846,
          -0.10341833303823846,
          -0.10341833303823846,
          -0.10341833303823846,
          -0.10341833303823846,
          -0.10341833303823846,
          -0.10341833303823846,
          -0.10341833303823846,
          -0.10341833303823846,
          -0.10341833303823846,
          -0.10341833303823846,
          -0.10341833303823846,
          -0.10341833303823846,
          -0.10341833303823846,
          -0.10341833303823846,
          0.23414520460047372,
          0.23933350345256796,
          0.22603663671037486,
          0.23013528790544516,
          0.22877958832611683,
          0.23922025959239201,
          0.23913487385754087,
          0.24236552279314208,
          0.2578843447477273,
          0.25823464592824447,
          0.2849114635973535,
          0.2693234526572932,
          0.266540855582462,
          0.2832011018792395,
          0.2615893362201515,
          0.2751920571628616,
          0.30129852463533213,
          0.3044268535098704,
          0.2955854454932875,
          0.2946217220410763,
          0.2983763661081275,
          0.2963119738035551,
          0.300718746688218,
          0.3399313554788723,
          0.333873037476091,
          0.34212017920842425,
          0.35187907248582934,
          0.3589494028638431,
          0.35691801514469546,
          0.3581713431817136,
          0.3662086671793224,
          0.35038344164612373,
          0.351342357960492,
          0.350406037875448,
          0.3606821633838501,
          0.3612124727728753,
          0.35662601572095604,
          0.3557643393142918,
          0.35876158468514485,
          0.3850844846545727,
          0.4041549128112142,
          0.38918665029160954,
          0.3661345489741439,
          0.39260813781441023,
          0.4072162345244441,
          0.4626804351166857,
          0.4021974121003252,
          0.38018321198410054,
          0.40574657029704664,
          0.4085370471511467,
          0.4075413661163289,
          0.4290201937103977,
          0.46408699304861234,
          0.43617779983585286,
          0.4339908407711023,
          0.43564610399086245,
          0.49501170116635707,
          0.4837248546816696,
          0.49523262524520295,
          0.49215827455813155,
          0.49513411312265254,
          0.4750583214248894,
          0.46348584516773816,
          0.46253745951052405,
          0.4582341121163794,
          0.4689194437963656,
          0.4694989804019912,
          0.4666568232860797,
          0.4681975929533837,
          0.45822078489034723,
          0.4616812232305099,
          0.4613925332404273,
          0.4717616223348847,
          0.4656807665793044,
          0.48003521777121894,
          0.48305004503166626,
          0.4921281352891208,
          0.49508547830966043,
          0.49488183977722305,
          0.4907172700193404,
          0.49726475329345166,
          0.500512329868618,
          0.49193679916034827,
          0.4752917113806576,
          0.47431496988885913,
          0.5033937959435268,
          0.5018765578751103,
          0.5030594843427109,
          0.5104975567867602,
          0.5057241663801926,
          0.5040274413334647,
          0.5017908446722691,
          0.5082692587854964,
          0.5015093904642106,
          0.5102429042784226,
          0.5053069147086763,
          0.5080653036728456,
          0.5097463846389203,
          0.5126363565357596,
          0.5199904707324671,
          0.515277145408375,
          0.5251461566901265,
          0.5294031992042212,
          0.5423298724228699,
          0.5372994849729358,
          0.5304580521815995,
          0.5343176100270792,
          0.533313497966275,
          0.5355678099883145,
          0.554997819162386,
          0.5503503516255941,
          1.0092139399731217,
          1.0084069868900858,
          1.0260115003349586,
          1.0318603016440415,
          1.03104035048907,
          1.0015483969355485,
          1.0017099292143488,
          0.9859584996490738,
          1.0049876229265728,
          1.0218458087176219,
          1.0415363210429496,
          1.037085738323233,
          1.031201563826192,
          1.0365182063384544,
          1.0315489938721427,
          1.0170131617172227,
          1.0447120604525382,
          1.0365185030354973,
          1.035162137120775,
          1.031349058965257,
          1.04102624616916,
          1.048928912751095,
          1.0621005808204513,
          1.0641181738985412,
          1.054661214493489,
          1.0633294291882571,
          1.0903581446163113,
          1.0962224396024451,
          1.1146033979886256,
          1.072181095174133,
          1.0755472035755038,
          1.1053307065082216,
          1.1024624939917325,
          1.1126588221979548,
          1.1121685724193662,
          1.1485423102074146,
          1.1208776866558563,
          1.131381795759813,
          1.1357223014924744,
          1.148693211617914,
          1.1549577894433467,
          1.1573469140045205,
          1.1881674298588438,
          1.1850819665845878,
          1.2253007335371933,
          1.2371843393447195,
          1.24253354103648,
          1.2316907682205702,
          1.2665365212782558,
          1.2900808888758102,
          1.316235764517846,
          1.3246387598957,
          1.3516869535060783,
          1.3682853052949004,
          1.377243810517724,
          1.4060938280432516,
          1.4292123180791645,
          1.444765373718122,
          1.4516041059837506,
          1.478616012643644,
          1.4922168306679522,
          1.5082888761233264,
          1.520156649375199,
          1.5543210226183042,
          1.5587280390145404,
          1.5739827137627196,
          1.5866583623856487,
          1.644547326324076,
          1.6711085188556678,
          1.693462844686116,
          1.6933103095469664,
          1.6927374175531946,
          1.6892337159832507,
          1.7311324634153522,
          1.7394425801033775,
          1.7461350642292919,
          1.7418616743468267,
          1.7347187329834075,
          1.754520844707974,
          1.7596673635288427,
          1.7934751087944654,
          1.7975112872023686,
          1.786412218774586,
          1.7852180034754672,
          1.7898078999271698,
          1.8036366080375252,
          1.8009516442647537,
          1.8091857862928784,
          1.8025536009708334,
          1.8277614925421581,
          1.8293770686826505,
          1.8332643883980912,
          1.8394076842903317,
          1.8476016420510355,
          1.8585194958831082,
          1.8644454544947027,
          1.8641075711053177,
          1.8737664009353754,
          1.8864132157945661,
          1.8811203466185549,
          1.9064111697408406,
          1.897304745362677,
          1.9089738161203105,
          1.9070190677310304,
          1.9302279881150095,
          1.9117075791110696,
          1.9047872834496933,
          1.9099301214914437,
          2.0008677894623337,
          2.129873332004242,
          2.1357304927153877,
          2.1795110226031595,
          2.150605291656072,
          2.1637803789944776,
          2.4476141083540472,
          1.983733437173617,
          4.673198448466682,
          1.991707966881008,
          1.981594946426123,
          1.995119435646389,
          2.0038047048708956,
          1.9977177590845046,
          1.9923412628979684,
          1.9922208560509176,
          1.9915830085893629,
          2.0124554328499444,
          2.035474908389568,
          2.0382290153119693,
          2.1956681202084147,
          2.019889761487671,
          2.0380590504792435,
          2.025751768833654,
          2.031187286302902,
          2.033662078712214,
          2.0296630928970965,
          2.0507016084014635,
          2.0519969187161244,
          2.0391460862185684,
          2.032142133243222,
          2.0486116319676473,
          2.041176046012389,
          2.0461053383427346,
          2.0437382425746824,
          -0.6056445610883404,
          -0.5998447209607943,
          -0.5779024474330038,
          -0.6175796347318131,
          0.05148520315519591,
          -0.5949638313690102,
          -0.593044230046947,
          -0.6035718295397918,
          -0.6163997743328247,
          -0.606075017347455,
          -0.6033216026115825,
          -0.6099402847505005,
          -0.6030173099993988,
          -0.6173710317111841,
          -0.6208544191052043,
          -0.6175791090214543,
          -0.5719390066523016,
          -0.5943589643595033,
          -0.5864574007383023,
          -0.5903013795654641,
          -0.5724945444572597,
          -0.5981909217300057,
          -0.5688832330397384,
          -0.5655994560269377,
          -0.5708685604762974,
          -0.5688222405646177,
          -0.5523318761534837,
          -0.5354917666803968,
          -0.5654551121566753,
          -0.5361102480870888,
          -0.5326815448084665,
          -0.5232553404944454,
          -0.5324292246302214,
          -0.52707455381591,
          -0.5256132126354591,
          -0.5144468057963768,
          -0.5093077586573477,
          -0.43678763021687234,
          -0.5034166226360764,
          -0.5160629024270218,
          -0.530127473358383,
          -0.5182618236073947,
          -0.502399687276226,
          -0.47895658580500966,
          -0.5013780074527777,
          -0.4577738348334507,
          -0.45633512209466004,
          -0.46410482859878016,
          -0.42952369674422664,
          -0.44030158113263757,
          -0.4543033204581337,
          -0.4393828823890036,
          -0.3483751426367015,
          -0.45976202204564925,
          -0.6046310464092758,
          -0.639631135344557,
          -0.6280437080720599,
          -0.6062536377191994,
          -0.617515153542795,
          -0.32652359002209314,
          -0.6030329010365707,
          -0.5865368545525137,
          -0.6097597600221382,
          -0.6100251495701625
         ],
         "y0": " ",
         "yaxis": "y"
        },
        {
         "alignmentgroup": "True",
         "fillcolor": "rgba(255, 255, 255, 0)",
         "hovertemplate": "Extractor=%{x}<br>Logarithmierte Verarbeitungszeit (log10)=%{y}<extra></extra>",
         "legendgroup": "Kconfigreader",
         "marker": {
          "color": "orange"
         },
         "name": "Kconfigreader",
         "notched": false,
         "offsetgroup": "Kconfigreader",
         "opacity": 0.8,
         "orientation": "v",
         "showlegend": true,
         "type": "box",
         "x": [
          "Kconfigreader",
          "Kconfigreader",
          "Kconfigreader",
          "Kconfigreader",
          "Kconfigreader",
          "Kconfigreader",
          "Kconfigreader",
          "Kconfigreader",
          "Kconfigreader",
          "Kconfigreader",
          "Kconfigreader",
          "Kconfigreader",
          "Kconfigreader",
          "Kconfigreader",
          "Kconfigreader",
          "Kconfigreader",
          "Kconfigreader",
          "Kconfigreader",
          "Kconfigreader",
          "Kconfigreader",
          "Kconfigreader",
          "Kconfigreader",
          "Kconfigreader",
          "Kconfigreader",
          "Kconfigreader",
          "Kconfigreader",
          "Kconfigreader",
          "Kconfigreader",
          "Kconfigreader",
          "Kconfigreader",
          "Kconfigreader",
          "Kconfigreader",
          "Kconfigreader",
          "Kconfigreader",
          "Kconfigreader",
          "Kconfigreader",
          "Kconfigreader",
          "Kconfigreader",
          "Kconfigreader",
          "Kconfigreader",
          "Kconfigreader",
          "Kconfigreader",
          "Kconfigreader",
          "Kconfigreader",
          "Kconfigreader",
          "Kconfigreader",
          "Kconfigreader",
          "Kconfigreader",
          "Kconfigreader",
          "Kconfigreader",
          "Kconfigreader",
          "Kconfigreader",
          "Kconfigreader",
          "Kconfigreader",
          "Kconfigreader",
          "Kconfigreader",
          "Kconfigreader",
          "Kconfigreader",
          "Kconfigreader",
          "Kconfigreader",
          "Kconfigreader",
          "Kconfigreader",
          "Kconfigreader",
          "Kconfigreader",
          "Kconfigreader",
          "Kconfigreader",
          "Kconfigreader",
          "Kconfigreader",
          "Kconfigreader",
          "Kconfigreader",
          "Kconfigreader",
          "Kconfigreader",
          "Kconfigreader",
          "Kconfigreader",
          "Kconfigreader",
          "Kconfigreader",
          "Kconfigreader",
          "Kconfigreader",
          "Kconfigreader",
          "Kconfigreader",
          "Kconfigreader",
          "Kconfigreader",
          "Kconfigreader",
          "Kconfigreader",
          "Kconfigreader",
          "Kconfigreader",
          "Kconfigreader",
          "Kconfigreader",
          "Kconfigreader",
          "Kconfigreader",
          "Kconfigreader",
          "Kconfigreader",
          "Kconfigreader",
          "Kconfigreader",
          "Kconfigreader",
          "Kconfigreader",
          "Kconfigreader",
          "Kconfigreader",
          "Kconfigreader",
          "Kconfigreader",
          "Kconfigreader",
          "Kconfigreader",
          "Kconfigreader",
          "Kconfigreader",
          "Kconfigreader",
          "Kconfigreader",
          "Kconfigreader",
          "Kconfigreader",
          "Kconfigreader",
          "Kconfigreader",
          "Kconfigreader",
          "Kconfigreader",
          "Kconfigreader",
          "Kconfigreader",
          "Kconfigreader",
          "Kconfigreader",
          "Kconfigreader",
          "Kconfigreader",
          "Kconfigreader",
          "Kconfigreader",
          "Kconfigreader",
          "Kconfigreader",
          "Kconfigreader",
          "Kconfigreader",
          "Kconfigreader",
          "Kconfigreader",
          "Kconfigreader",
          "Kconfigreader",
          "Kconfigreader",
          "Kconfigreader",
          "Kconfigreader",
          "Kconfigreader",
          "Kconfigreader",
          "Kconfigreader",
          "Kconfigreader",
          "Kconfigreader",
          "Kconfigreader",
          "Kconfigreader",
          "Kconfigreader",
          "Kconfigreader",
          "Kconfigreader",
          "Kconfigreader",
          "Kconfigreader",
          "Kconfigreader",
          "Kconfigreader",
          "Kconfigreader",
          "Kconfigreader",
          "Kconfigreader",
          "Kconfigreader",
          "Kconfigreader",
          "Kconfigreader",
          "Kconfigreader",
          "Kconfigreader",
          "Kconfigreader",
          "Kconfigreader",
          "Kconfigreader",
          "Kconfigreader",
          "Kconfigreader",
          "Kconfigreader",
          "Kconfigreader",
          "Kconfigreader",
          "Kconfigreader",
          "Kconfigreader",
          "Kconfigreader",
          "Kconfigreader",
          "Kconfigreader",
          "Kconfigreader",
          "Kconfigreader",
          "Kconfigreader",
          "Kconfigreader",
          "Kconfigreader",
          "Kconfigreader",
          "Kconfigreader",
          "Kconfigreader",
          "Kconfigreader",
          "Kconfigreader",
          "Kconfigreader",
          "Kconfigreader",
          "Kconfigreader",
          "Kconfigreader",
          "Kconfigreader",
          "Kconfigreader",
          "Kconfigreader",
          "Kconfigreader",
          "Kconfigreader",
          "Kconfigreader",
          "Kconfigreader",
          "Kconfigreader",
          "Kconfigreader",
          "Kconfigreader",
          "Kconfigreader",
          "Kconfigreader",
          "Kconfigreader",
          "Kconfigreader",
          "Kconfigreader",
          "Kconfigreader",
          "Kconfigreader",
          "Kconfigreader",
          "Kconfigreader",
          "Kconfigreader",
          "Kconfigreader",
          "Kconfigreader",
          "Kconfigreader",
          "Kconfigreader",
          "Kconfigreader",
          "Kconfigreader",
          "Kconfigreader",
          "Kconfigreader",
          "Kconfigreader",
          "Kconfigreader",
          "Kconfigreader",
          "Kconfigreader",
          "Kconfigreader",
          "Kconfigreader",
          "Kconfigreader",
          "Kconfigreader",
          "Kconfigreader",
          "Kconfigreader",
          "Kconfigreader",
          "Kconfigreader",
          "Kconfigreader",
          "Kconfigreader",
          "Kconfigreader",
          "Kconfigreader",
          "Kconfigreader",
          "Kconfigreader",
          "Kconfigreader",
          "Kconfigreader",
          "Kconfigreader",
          "Kconfigreader",
          "Kconfigreader",
          "Kconfigreader",
          "Kconfigreader",
          "Kconfigreader",
          "Kconfigreader",
          "Kconfigreader",
          "Kconfigreader",
          "Kconfigreader",
          "Kconfigreader",
          "Kconfigreader",
          "Kconfigreader",
          "Kconfigreader",
          "Kconfigreader",
          "Kconfigreader",
          "Kconfigreader",
          "Kconfigreader",
          "Kconfigreader",
          "Kconfigreader",
          "Kconfigreader",
          "Kconfigreader",
          "Kconfigreader",
          "Kconfigreader",
          "Kconfigreader",
          "Kconfigreader",
          "Kconfigreader",
          "Kconfigreader",
          "Kconfigreader",
          "Kconfigreader",
          "Kconfigreader",
          "Kconfigreader",
          "Kconfigreader",
          "Kconfigreader",
          "Kconfigreader",
          "Kconfigreader",
          "Kconfigreader",
          "Kconfigreader",
          "Kconfigreader",
          "Kconfigreader",
          "Kconfigreader",
          "Kconfigreader",
          "Kconfigreader",
          "Kconfigreader",
          "Kconfigreader",
          "Kconfigreader",
          "Kconfigreader",
          "Kconfigreader",
          "Kconfigreader",
          "Kconfigreader",
          "Kconfigreader",
          "Kconfigreader",
          "Kconfigreader",
          "Kconfigreader",
          "Kconfigreader",
          "Kconfigreader",
          "Kconfigreader",
          "Kconfigreader",
          "Kconfigreader",
          "Kconfigreader",
          "Kconfigreader",
          "Kconfigreader",
          "Kconfigreader",
          "Kconfigreader",
          "Kconfigreader",
          "Kconfigreader",
          "Kconfigreader",
          "Kconfigreader",
          "Kconfigreader",
          "Kconfigreader",
          "Kconfigreader",
          "Kconfigreader",
          "Kconfigreader",
          "Kconfigreader",
          "Kconfigreader",
          "Kconfigreader",
          "Kconfigreader",
          "Kconfigreader",
          "Kconfigreader",
          "Kconfigreader",
          "Kconfigreader",
          "Kconfigreader",
          "Kconfigreader",
          "Kconfigreader",
          "Kconfigreader",
          "Kconfigreader",
          "Kconfigreader",
          "Kconfigreader",
          "Kconfigreader",
          "Kconfigreader",
          "Kconfigreader",
          "Kconfigreader",
          "Kconfigreader",
          "Kconfigreader",
          "Kconfigreader",
          "Kconfigreader",
          "Kconfigreader",
          "Kconfigreader",
          "Kconfigreader",
          "Kconfigreader",
          "Kconfigreader",
          "Kconfigreader",
          "Kconfigreader",
          "Kconfigreader",
          "Kconfigreader",
          "Kconfigreader",
          "Kconfigreader",
          "Kconfigreader",
          "Kconfigreader",
          "Kconfigreader",
          "Kconfigreader",
          "Kconfigreader",
          "Kconfigreader",
          "Kconfigreader",
          "Kconfigreader",
          "Kconfigreader",
          "Kconfigreader",
          "Kconfigreader",
          "Kconfigreader",
          "Kconfigreader",
          "Kconfigreader",
          "Kconfigreader",
          "Kconfigreader",
          "Kconfigreader",
          "Kconfigreader",
          "Kconfigreader",
          "Kconfigreader",
          "Kconfigreader",
          "Kconfigreader",
          "Kconfigreader",
          "Kconfigreader",
          "Kconfigreader",
          "Kconfigreader",
          "Kconfigreader",
          "Kconfigreader",
          "Kconfigreader",
          "Kconfigreader",
          "Kconfigreader",
          "Kconfigreader",
          "Kconfigreader",
          "Kconfigreader",
          "Kconfigreader",
          "Kconfigreader",
          "Kconfigreader",
          "Kconfigreader",
          "Kconfigreader",
          "Kconfigreader",
          "Kconfigreader",
          "Kconfigreader",
          "Kconfigreader",
          "Kconfigreader",
          "Kconfigreader",
          "Kconfigreader",
          "Kconfigreader",
          "Kconfigreader",
          "Kconfigreader",
          "Kconfigreader",
          "Kconfigreader",
          "Kconfigreader",
          "Kconfigreader",
          "Kconfigreader",
          "Kconfigreader",
          "Kconfigreader",
          "Kconfigreader",
          "Kconfigreader",
          "Kconfigreader",
          "Kconfigreader",
          "Kconfigreader",
          "Kconfigreader",
          "Kconfigreader",
          "Kconfigreader",
          "Kconfigreader",
          "Kconfigreader",
          "Kconfigreader",
          "Kconfigreader",
          "Kconfigreader",
          "Kconfigreader",
          "Kconfigreader",
          "Kconfigreader",
          "Kconfigreader",
          "Kconfigreader",
          "Kconfigreader",
          "Kconfigreader",
          "Kconfigreader",
          "Kconfigreader",
          "Kconfigreader",
          "Kconfigreader",
          "Kconfigreader",
          "Kconfigreader",
          "Kconfigreader",
          "Kconfigreader",
          "Kconfigreader",
          "Kconfigreader",
          "Kconfigreader",
          "Kconfigreader",
          "Kconfigreader",
          "Kconfigreader",
          "Kconfigreader",
          "Kconfigreader",
          "Kconfigreader",
          "Kconfigreader",
          "Kconfigreader",
          "Kconfigreader",
          "Kconfigreader",
          "Kconfigreader",
          "Kconfigreader",
          "Kconfigreader"
         ],
         "x0": " ",
         "xaxis": "x",
         "y": [
          null,
          -0.21262984828838707,
          -0.6379804595071643,
          -0.6203729368885378,
          -0.6250177715197506,
          -0.6106278962085743,
          -0.6238851828203082,
          -0.6384827704458405,
          -0.6195591098076121,
          -0.6167800002371159,
          -0.6457537883710781,
          -0.6128647359196085,
          -0.6271447810650371,
          -0.630201289382045,
          -0.6163015647054287,
          -0.5514880696005294,
          -0.6380105407221226,
          -0.5990801202951443,
          -0.5933260502193871,
          -0.646507325199903,
          -0.6057363200596853,
          -0.5789066148296955,
          -0.6113189476565464,
          -0.590105591438164,
          -0.6241287222451576,
          -0.626781348033108,
          -0.6423050336010621,
          -0.609849580579232,
          -0.6147760899024528,
          -0.6325781327293685,
          -0.6204804667974801,
          -0.571086315459542,
          -0.58929227110741,
          -0.6043114375447846,
          -0.5997882476858791,
          -0.5210536628909301,
          -0.5996694163138856,
          -0.5761564566424364,
          -0.5667477951392502,
          -0.600344029587267,
          -0.6065695470737232,
          -0.636054850422285,
          -0.5391006559997236,
          -0.6297500593193617,
          -0.6104151386532933,
          -0.6178512852448391,
          -0.6246519136275397,
          -0.6037798718000491,
          -0.5997287804189126,
          -0.5738109973202281,
          0.603608223494358,
          0.5683375465012983,
          0.5567259420232313,
          0.5602928779240027,
          0.6295145737415743,
          0.5983109524075498,
          0.5508463251558899,
          0.557920576889482,
          0.6188038861228591,
          0.6472052442211105,
          -0.20888054936022468,
          1.964818054611573,
          -0.12073528390861567,
          -0.1902455758866513,
          -0.21277214289855867,
          -0.21089292206056434,
          -0.21087590714067486,
          -0.18158021276804068,
          -0.1953938027080156,
          -0.20075640416840515,
          -0.19040989793396867,
          -0.15154437759447215,
          -0.18577076092493627,
          -0.1650612790503129,
          -0.16659428246783017,
          -0.14267197079300253,
          -0.15179243789722172,
          -0.1377374716265737,
          -0.12917300773683424,
          -0.13423508146697136,
          -0.14558886071861618,
          -0.1420092967012568,
          -0.14869193964163108,
          -0.1459165337462804,
          -0.13055342690753866,
          -0.16160347023458707,
          null,
          null,
          null,
          null,
          null,
          null,
          null,
          null,
          null,
          null,
          null,
          null,
          null,
          null,
          null,
          null,
          null,
          null,
          null,
          null,
          null,
          null,
          null,
          null,
          null,
          null,
          null,
          null,
          null,
          null,
          null,
          0.02228687784540955,
          0.03341945393965363,
          0.06782649217454198,
          0.024888712373374113,
          0.0045012509705320055,
          0.025530586057310012,
          0.025225044965373592,
          0.08006772881080851,
          0.05995755529326202,
          0.043262265190585084,
          0.04812705793459495,
          0.04623045318322431,
          0.022961193262604304,
          0.036582674868804364,
          0.03221951636259883,
          0.031647108331336604,
          0.032042943936846875,
          0.02901517073423507,
          0.02975929057452427,
          0.044784032108744716,
          0.04093549731656664,
          0.04787311898408054,
          0.04506099517011197,
          0.07813890728033841,
          0.07846895384063546,
          0.07927366927858039,
          0.09517749202238643,
          0.07488272581362444,
          0.07706636645724953,
          0.08939352770822019,
          0.08463788154357892,
          0.1348406134591232,
          0.10458620245686541,
          0.09188054911291796,
          0.10694912633397023,
          0.10567169559066163,
          0.10554198349932825,
          0.10124335113787528,
          0.11974372291516124,
          0.09858500904058262,
          0.10622727206902473,
          0.11379780753306515,
          0.13232425432835615,
          0.12060200875250936,
          0.11554540488672503,
          0.12891542299806905,
          0.1251379485858736,
          0.09638768018465635,
          0.11485838822122357,
          0.11912025502808732,
          0.11674609620567693,
          0.11858440592534039,
          0.1468484191472969,
          0.12056139011359056,
          0.12499167789591713,
          0.13220246522123877,
          0.18806661346759282,
          0.14228723843881272,
          0.14535880592418093,
          0.1342054591934996,
          0.1537781604907249,
          0.13465727472680017,
          0.1361953721909231,
          0.13593488388306743,
          0.14183717812589663,
          0.150743106968517,
          0.16309759701302964,
          0.14518362299491402,
          0.14911580820161704,
          0.16053188637091,
          0.1421951428290347,
          0.15211412493681034,
          0.16931085706303736,
          0.16754959772386965,
          0.1616189710858245,
          0.1438094858956695,
          0.1800395171320385,
          0.16078483290296539,
          0.1497329746971039,
          0.16764116782879085,
          0.16972798120653163,
          0.15221448418519715,
          0.1950524042732417,
          0.17680051683489853,
          0.17092261400878492,
          0.15956732797316164,
          0.18184352451491598,
          0.15745295708520307,
          0.19381874439383387,
          0.18055433219196754,
          0.18798382318488083,
          0.1910653714494963,
          0.17511204835481592,
          0.17321362227372383,
          0.20264415204755767,
          0.17892056358110903,
          0.18092434323787568,
          0.197479907854362,
          0.1897106952096539,
          0.2004235261205851,
          0.18129022267496023,
          0.1810051347633221,
          0.19843435029876297,
          0.20623672082917824,
          0.181323638901334,
          0.1971094832755796,
          0.2038808439593722,
          0.19021182363578454,
          0.2017647478236358,
          0.19736747836185983,
          0.19652425073124427,
          0.4777578248618086,
          0.46424435461670577,
          0.46270493126808565,
          0.47473506132095367,
          0.4501511475418135,
          0.46948670132251014,
          0.45341112647869836,
          0.46037187553763537,
          0.4662363805163547,
          0.5029236544399329,
          0.46355781312777644,
          0.4559580358354402,
          0.4585084776772441,
          0.45722999049172286,
          0.4597903310925554,
          0.47154285299221804,
          0.4510442867586712,
          0.46210497357944486,
          0.4596611386858526,
          0.46849733921222486,
          0.4673798909871753,
          0.46982216378548014,
          0.4724942617726324,
          0.47294773306087046,
          0.47666381646083145,
          0.4849366356192049,
          0.47205779553751503,
          0.48271842161967005,
          0.492133833217555,
          0.49994720166052964,
          0.48823118723646114,
          0.4972088247503757,
          0.4997383567134901,
          0.4942999151202551,
          0.5043225156046571,
          0.5248639690989871,
          0.5270566200702007,
          0.5233918967243367,
          0.5337085453517071,
          0.5570300918052801,
          0.5381395932380908,
          0.5758738087104602,
          0.6057654724793018,
          0.6107753763509038,
          0.6104662972858199,
          0.6327201785199291,
          0.6308924765237449,
          0.6332881081597567,
          0.621064070313533,
          0.6515227416121858,
          0.6752726038588346,
          0.660564157465161,
          0.693964064354759,
          0.7202403292413216,
          0.7279352620559278,
          0.7468333054840454,
          0.757626741110921,
          0.7818743505915394,
          0.7902107387278121,
          0.7910458742740806,
          0.8360739910480721,
          0.8700450758437981,
          0.8431980760217346,
          0.8681376839714229,
          0.8734835070947555,
          0.9211260720427125,
          0.9251079803772865,
          0.9427092441559379,
          1.0122145146886667,
          0.9751126168769846,
          1.4868476558809736,
          1.1025636288354543,
          0.9704313859911696,
          1.0079519705796693,
          1.0169938244705183,
          0.9925267400788899,
          0.9957344469619622,
          1.0214485769464858,
          0.9912792467447848,
          1.026659612558661,
          1.0899091273030657,
          1.040995706440471,
          1.0561050100162175,
          1.067021146206121,
          1.0841049122615227,
          1.0640456511871592,
          1.0762738045846418,
          2.1258236827915393,
          1.106980729176415,
          1.1014651151142107,
          1.1019844289680552,
          1.1113886415863805,
          2.0559204649125156,
          1.7149866917694156,
          1.1437648348865823,
          1.1569254866257157,
          1.1742803877235932,
          1.1641863399915315,
          1.137848075131993,
          1.153797275488519,
          1.2118428095246359,
          1.1789191953449505,
          1.2243040836114507,
          1.2403375062674886,
          1.2424936550667534,
          1.225678065814614,
          1.2261515976954596,
          1.2361632404670264,
          1.2858943468773574,
          1.234444076172788,
          1.299235082064187,
          1.2898827828692259,
          1.251226315612169,
          1.3076306249414817,
          1.2979661161090945,
          1.283996615788197,
          1.3369817223451854,
          1.3400877207104829,
          1.2997676355031929,
          1.3218783234237952,
          1.3651662278917016,
          1.3403708068045608,
          1.3470953394079515,
          1.3893480386573347,
          1.4105723867564115,
          1.3518828432737842,
          1.3407659066817879,
          2.0744159200462096,
          1.3914828308243672,
          1.3495072132618082,
          1.41689720030491,
          1.4213924546526133,
          1.4251993569557535,
          2.423278469808489,
          1.4183996259727605,
          1.4193432546748657,
          1.4526427053637538,
          2.1606269876638704,
          2.4387593888388417,
          2.3087841465119308,
          1.4576231334537777,
          1.4757420183602847,
          1.4463853911826827,
          0.36719329501433484,
          0.36336397639100726,
          -0.5205522906696898,
          -0.5894250448452164,
          -0.5736507606961678,
          -0.6258172609908912,
          -0.6104479037184196,
          -0.6228838417281641,
          -0.6650435083115505,
          -0.636174441110096,
          -0.6222602792945501,
          -0.6123261632002376,
          -0.6045367829064805,
          -0.6107229330108886,
          -0.5220726947655918,
          -0.5964472448277005,
          -0.5931030084771025,
          -0.5525165093706979,
          -0.5720746852745107,
          -0.5853614232957681,
          -0.6036328505666241,
          -0.5327758383517645,
          -0.5542022005817149,
          -0.5961876103237322,
          -0.5542206525970521,
          -0.5836618651944325,
          -0.5334667639053652,
          -0.5385766934122318,
          -0.569631099757077,
          -0.5443499232217318,
          -0.5889274810065475,
          -0.5769570315883497,
          -0.4836454651033,
          -0.5134026141075567,
          -0.574064172752792,
          -0.4962404034657305,
          -0.24451023935399668,
          -0.471918825917615,
          -0.4531371278704778,
          -0.5166397536213717,
          -0.4666532933929264,
          -0.38911802975477294,
          -0.5266883275843688,
          -0.5228688709837213,
          -0.5220710171657094,
          -0.4925200446937213,
          -0.4841384491146427,
          -0.5578041720238589,
          -0.45510126775385995,
          -0.561849046958816,
          -0.4005167435784769,
          -0.5536347425596619,
          -0.45438004066580384,
          -0.46040587103505537,
          -0.6218520956548657,
          -0.657310933590125,
          -0.6296062661875346,
          -0.6283103075000718,
          -0.6285291590147329,
          -0.6604638248767102,
          -0.6277291390624102,
          -0.6236872089842163,
          -0.6132656678251417,
          -0.6517296715524713
         ],
         "y0": " ",
         "yaxis": "y"
        },
        {
         "marker": {
          "color": "green",
          "size": 10
         },
         "mode": "markers",
         "name": "Extrahiert",
         "type": "scatter",
         "x": [
          null
         ],
         "y": [
          null
         ]
        },
        {
         "marker": {
          "color": "red",
          "size": 10
         },
         "mode": "markers",
         "name": "Fehlgeschlagen",
         "type": "scatter",
         "x": [
          null
         ],
         "y": [
          null
         ]
        }
       ],
       "layout": {
        "annotations": [
         {
          "font": {
           "color": "green",
           "size": 14
          },
          "showarrow": false,
          "text": "94.0%",
          "x": -0.2,
          "y": 4.873198448466682
         },
         {
          "font": {
           "color": "red",
           "size": 14
          },
          "showarrow": false,
          "text": "6.0%",
          "x": 0.2,
          "y": 4.873198448466682
         },
         {
          "font": {
           "color": "green",
           "size": 14
          },
          "showarrow": false,
          "text": "66.7%",
          "x": 0.8,
          "y": 4.873198448466682
         },
         {
          "font": {
           "color": "red",
           "size": 14
          },
          "showarrow": false,
          "text": "33.3%",
          "x": 1.2,
          "y": 4.873198448466682
         },
         {
          "font": {
           "color": "green",
           "size": 14
          },
          "showarrow": false,
          "text": "66.7%",
          "x": 1.8,
          "y": 4.873198448466682
         },
         {
          "font": {
           "color": "red",
           "size": 14
          },
          "showarrow": false,
          "text": "33.3%",
          "x": 2.2,
          "y": 4.873198448466682
         }
        ],
        "boxmode": "overlay",
        "font": {
         "size": 15
        },
        "legend": {
         "font": {
          "size": 16
         },
         "itemsizing": "constant",
         "title": {
          "text": ""
         },
         "tracegroupgap": 0
        },
        "margin": {
         "t": 60
        },
        "paper_bgcolor": "white",
        "plot_bgcolor": "white",
        "template": {
         "data": {
          "bar": [
           {
            "error_x": {
             "color": "#2a3f5f"
            },
            "error_y": {
             "color": "#2a3f5f"
            },
            "marker": {
             "line": {
              "color": "#E5ECF6",
              "width": 0.5
             },
             "pattern": {
              "fillmode": "overlay",
              "size": 10,
              "solidity": 0.2
             }
            },
            "type": "bar"
           }
          ],
          "barpolar": [
           {
            "marker": {
             "line": {
              "color": "#E5ECF6",
              "width": 0.5
             },
             "pattern": {
              "fillmode": "overlay",
              "size": 10,
              "solidity": 0.2
             }
            },
            "type": "barpolar"
           }
          ],
          "carpet": [
           {
            "aaxis": {
             "endlinecolor": "#2a3f5f",
             "gridcolor": "white",
             "linecolor": "white",
             "minorgridcolor": "white",
             "startlinecolor": "#2a3f5f"
            },
            "baxis": {
             "endlinecolor": "#2a3f5f",
             "gridcolor": "white",
             "linecolor": "white",
             "minorgridcolor": "white",
             "startlinecolor": "#2a3f5f"
            },
            "type": "carpet"
           }
          ],
          "choropleth": [
           {
            "colorbar": {
             "outlinewidth": 0,
             "ticks": ""
            },
            "type": "choropleth"
           }
          ],
          "contour": [
           {
            "colorbar": {
             "outlinewidth": 0,
             "ticks": ""
            },
            "colorscale": [
             [
              0,
              "#0d0887"
             ],
             [
              0.1111111111111111,
              "#46039f"
             ],
             [
              0.2222222222222222,
              "#7201a8"
             ],
             [
              0.3333333333333333,
              "#9c179e"
             ],
             [
              0.4444444444444444,
              "#bd3786"
             ],
             [
              0.5555555555555556,
              "#d8576b"
             ],
             [
              0.6666666666666666,
              "#ed7953"
             ],
             [
              0.7777777777777778,
              "#fb9f3a"
             ],
             [
              0.8888888888888888,
              "#fdca26"
             ],
             [
              1,
              "#f0f921"
             ]
            ],
            "type": "contour"
           }
          ],
          "contourcarpet": [
           {
            "colorbar": {
             "outlinewidth": 0,
             "ticks": ""
            },
            "type": "contourcarpet"
           }
          ],
          "heatmap": [
           {
            "colorbar": {
             "outlinewidth": 0,
             "ticks": ""
            },
            "colorscale": [
             [
              0,
              "#0d0887"
             ],
             [
              0.1111111111111111,
              "#46039f"
             ],
             [
              0.2222222222222222,
              "#7201a8"
             ],
             [
              0.3333333333333333,
              "#9c179e"
             ],
             [
              0.4444444444444444,
              "#bd3786"
             ],
             [
              0.5555555555555556,
              "#d8576b"
             ],
             [
              0.6666666666666666,
              "#ed7953"
             ],
             [
              0.7777777777777778,
              "#fb9f3a"
             ],
             [
              0.8888888888888888,
              "#fdca26"
             ],
             [
              1,
              "#f0f921"
             ]
            ],
            "type": "heatmap"
           }
          ],
          "heatmapgl": [
           {
            "colorbar": {
             "outlinewidth": 0,
             "ticks": ""
            },
            "colorscale": [
             [
              0,
              "#0d0887"
             ],
             [
              0.1111111111111111,
              "#46039f"
             ],
             [
              0.2222222222222222,
              "#7201a8"
             ],
             [
              0.3333333333333333,
              "#9c179e"
             ],
             [
              0.4444444444444444,
              "#bd3786"
             ],
             [
              0.5555555555555556,
              "#d8576b"
             ],
             [
              0.6666666666666666,
              "#ed7953"
             ],
             [
              0.7777777777777778,
              "#fb9f3a"
             ],
             [
              0.8888888888888888,
              "#fdca26"
             ],
             [
              1,
              "#f0f921"
             ]
            ],
            "type": "heatmapgl"
           }
          ],
          "histogram": [
           {
            "marker": {
             "pattern": {
              "fillmode": "overlay",
              "size": 10,
              "solidity": 0.2
             }
            },
            "type": "histogram"
           }
          ],
          "histogram2d": [
           {
            "colorbar": {
             "outlinewidth": 0,
             "ticks": ""
            },
            "colorscale": [
             [
              0,
              "#0d0887"
             ],
             [
              0.1111111111111111,
              "#46039f"
             ],
             [
              0.2222222222222222,
              "#7201a8"
             ],
             [
              0.3333333333333333,
              "#9c179e"
             ],
             [
              0.4444444444444444,
              "#bd3786"
             ],
             [
              0.5555555555555556,
              "#d8576b"
             ],
             [
              0.6666666666666666,
              "#ed7953"
             ],
             [
              0.7777777777777778,
              "#fb9f3a"
             ],
             [
              0.8888888888888888,
              "#fdca26"
             ],
             [
              1,
              "#f0f921"
             ]
            ],
            "type": "histogram2d"
           }
          ],
          "histogram2dcontour": [
           {
            "colorbar": {
             "outlinewidth": 0,
             "ticks": ""
            },
            "colorscale": [
             [
              0,
              "#0d0887"
             ],
             [
              0.1111111111111111,
              "#46039f"
             ],
             [
              0.2222222222222222,
              "#7201a8"
             ],
             [
              0.3333333333333333,
              "#9c179e"
             ],
             [
              0.4444444444444444,
              "#bd3786"
             ],
             [
              0.5555555555555556,
              "#d8576b"
             ],
             [
              0.6666666666666666,
              "#ed7953"
             ],
             [
              0.7777777777777778,
              "#fb9f3a"
             ],
             [
              0.8888888888888888,
              "#fdca26"
             ],
             [
              1,
              "#f0f921"
             ]
            ],
            "type": "histogram2dcontour"
           }
          ],
          "mesh3d": [
           {
            "colorbar": {
             "outlinewidth": 0,
             "ticks": ""
            },
            "type": "mesh3d"
           }
          ],
          "parcoords": [
           {
            "line": {
             "colorbar": {
              "outlinewidth": 0,
              "ticks": ""
             }
            },
            "type": "parcoords"
           }
          ],
          "pie": [
           {
            "automargin": true,
            "type": "pie"
           }
          ],
          "scatter": [
           {
            "fillpattern": {
             "fillmode": "overlay",
             "size": 10,
             "solidity": 0.2
            },
            "type": "scatter"
           }
          ],
          "scatter3d": [
           {
            "line": {
             "colorbar": {
              "outlinewidth": 0,
              "ticks": ""
             }
            },
            "marker": {
             "colorbar": {
              "outlinewidth": 0,
              "ticks": ""
             }
            },
            "type": "scatter3d"
           }
          ],
          "scattercarpet": [
           {
            "marker": {
             "colorbar": {
              "outlinewidth": 0,
              "ticks": ""
             }
            },
            "type": "scattercarpet"
           }
          ],
          "scattergeo": [
           {
            "marker": {
             "colorbar": {
              "outlinewidth": 0,
              "ticks": ""
             }
            },
            "type": "scattergeo"
           }
          ],
          "scattergl": [
           {
            "marker": {
             "colorbar": {
              "outlinewidth": 0,
              "ticks": ""
             }
            },
            "type": "scattergl"
           }
          ],
          "scattermapbox": [
           {
            "marker": {
             "colorbar": {
              "outlinewidth": 0,
              "ticks": ""
             }
            },
            "type": "scattermapbox"
           }
          ],
          "scatterpolar": [
           {
            "marker": {
             "colorbar": {
              "outlinewidth": 0,
              "ticks": ""
             }
            },
            "type": "scatterpolar"
           }
          ],
          "scatterpolargl": [
           {
            "marker": {
             "colorbar": {
              "outlinewidth": 0,
              "ticks": ""
             }
            },
            "type": "scatterpolargl"
           }
          ],
          "scatterternary": [
           {
            "marker": {
             "colorbar": {
              "outlinewidth": 0,
              "ticks": ""
             }
            },
            "type": "scatterternary"
           }
          ],
          "surface": [
           {
            "colorbar": {
             "outlinewidth": 0,
             "ticks": ""
            },
            "colorscale": [
             [
              0,
              "#0d0887"
             ],
             [
              0.1111111111111111,
              "#46039f"
             ],
             [
              0.2222222222222222,
              "#7201a8"
             ],
             [
              0.3333333333333333,
              "#9c179e"
             ],
             [
              0.4444444444444444,
              "#bd3786"
             ],
             [
              0.5555555555555556,
              "#d8576b"
             ],
             [
              0.6666666666666666,
              "#ed7953"
             ],
             [
              0.7777777777777778,
              "#fb9f3a"
             ],
             [
              0.8888888888888888,
              "#fdca26"
             ],
             [
              1,
              "#f0f921"
             ]
            ],
            "type": "surface"
           }
          ],
          "table": [
           {
            "cells": {
             "fill": {
              "color": "#EBF0F8"
             },
             "line": {
              "color": "white"
             }
            },
            "header": {
             "fill": {
              "color": "#C8D4E3"
             },
             "line": {
              "color": "white"
             }
            },
            "type": "table"
           }
          ]
         },
         "layout": {
          "annotationdefaults": {
           "arrowcolor": "#2a3f5f",
           "arrowhead": 0,
           "arrowwidth": 1
          },
          "autotypenumbers": "strict",
          "coloraxis": {
           "colorbar": {
            "outlinewidth": 0,
            "ticks": ""
           }
          },
          "colorscale": {
           "diverging": [
            [
             0,
             "#8e0152"
            ],
            [
             0.1,
             "#c51b7d"
            ],
            [
             0.2,
             "#de77ae"
            ],
            [
             0.3,
             "#f1b6da"
            ],
            [
             0.4,
             "#fde0ef"
            ],
            [
             0.5,
             "#f7f7f7"
            ],
            [
             0.6,
             "#e6f5d0"
            ],
            [
             0.7,
             "#b8e186"
            ],
            [
             0.8,
             "#7fbc41"
            ],
            [
             0.9,
             "#4d9221"
            ],
            [
             1,
             "#276419"
            ]
           ],
           "sequential": [
            [
             0,
             "#0d0887"
            ],
            [
             0.1111111111111111,
             "#46039f"
            ],
            [
             0.2222222222222222,
             "#7201a8"
            ],
            [
             0.3333333333333333,
             "#9c179e"
            ],
            [
             0.4444444444444444,
             "#bd3786"
            ],
            [
             0.5555555555555556,
             "#d8576b"
            ],
            [
             0.6666666666666666,
             "#ed7953"
            ],
            [
             0.7777777777777778,
             "#fb9f3a"
            ],
            [
             0.8888888888888888,
             "#fdca26"
            ],
            [
             1,
             "#f0f921"
            ]
           ],
           "sequentialminus": [
            [
             0,
             "#0d0887"
            ],
            [
             0.1111111111111111,
             "#46039f"
            ],
            [
             0.2222222222222222,
             "#7201a8"
            ],
            [
             0.3333333333333333,
             "#9c179e"
            ],
            [
             0.4444444444444444,
             "#bd3786"
            ],
            [
             0.5555555555555556,
             "#d8576b"
            ],
            [
             0.6666666666666666,
             "#ed7953"
            ],
            [
             0.7777777777777778,
             "#fb9f3a"
            ],
            [
             0.8888888888888888,
             "#fdca26"
            ],
            [
             1,
             "#f0f921"
            ]
           ]
          },
          "colorway": [
           "#636efa",
           "#EF553B",
           "#00cc96",
           "#ab63fa",
           "#FFA15A",
           "#19d3f3",
           "#FF6692",
           "#B6E880",
           "#FF97FF",
           "#FECB52"
          ],
          "font": {
           "color": "#2a3f5f"
          },
          "geo": {
           "bgcolor": "white",
           "lakecolor": "white",
           "landcolor": "#E5ECF6",
           "showlakes": true,
           "showland": true,
           "subunitcolor": "white"
          },
          "hoverlabel": {
           "align": "left"
          },
          "hovermode": "closest",
          "mapbox": {
           "style": "light"
          },
          "paper_bgcolor": "white",
          "plot_bgcolor": "#E5ECF6",
          "polar": {
           "angularaxis": {
            "gridcolor": "white",
            "linecolor": "white",
            "ticks": ""
           },
           "bgcolor": "#E5ECF6",
           "radialaxis": {
            "gridcolor": "white",
            "linecolor": "white",
            "ticks": ""
           }
          },
          "scene": {
           "xaxis": {
            "backgroundcolor": "#E5ECF6",
            "gridcolor": "white",
            "gridwidth": 2,
            "linecolor": "white",
            "showbackground": true,
            "ticks": "",
            "zerolinecolor": "white"
           },
           "yaxis": {
            "backgroundcolor": "#E5ECF6",
            "gridcolor": "white",
            "gridwidth": 2,
            "linecolor": "white",
            "showbackground": true,
            "ticks": "",
            "zerolinecolor": "white"
           },
           "zaxis": {
            "backgroundcolor": "#E5ECF6",
            "gridcolor": "white",
            "gridwidth": 2,
            "linecolor": "white",
            "showbackground": true,
            "ticks": "",
            "zerolinecolor": "white"
           }
          },
          "shapedefaults": {
           "line": {
            "color": "#2a3f5f"
           }
          },
          "ternary": {
           "aaxis": {
            "gridcolor": "white",
            "linecolor": "white",
            "ticks": ""
           },
           "baxis": {
            "gridcolor": "white",
            "linecolor": "white",
            "ticks": ""
           },
           "bgcolor": "#E5ECF6",
           "caxis": {
            "gridcolor": "white",
            "linecolor": "white",
            "ticks": ""
           }
          },
          "title": {
           "x": 0.05
          },
          "xaxis": {
           "automargin": true,
           "gridcolor": "white",
           "linecolor": "white",
           "ticks": "",
           "title": {
            "standoff": 15
           },
           "zerolinecolor": "white",
           "zerolinewidth": 2
          },
          "yaxis": {
           "automargin": true,
           "gridcolor": "white",
           "linecolor": "white",
           "ticks": "",
           "title": {
            "standoff": 15
           },
           "zerolinecolor": "white",
           "zerolinewidth": 2
          }
         }
        },
        "title": {
         "x": 0.5
        },
        "xaxis": {
         "anchor": "y",
         "categoryarray": [
          "Configfixextractor",
          "KClause",
          "Kconfigreader"
         ],
         "categoryorder": "array",
         "domain": [
          0,
          1
         ],
         "linecolor": "black",
         "linewidth": 0.5,
         "showgrid": false,
         "showline": true,
         "title": {
          "text": "Extractor"
         }
        },
        "yaxis": {
         "anchor": "x",
         "domain": [
          0,
          1
         ],
         "gridcolor": "lightgray",
         "showgrid": true,
         "title": {
          "text": "Verarbeitungszeit (log10)"
         }
        }
       }
      },
      "image/png": "[encoded data removed]",
      "text/html": [
       "<div>                            <div id=\"3b30b342-939d-4c1c-b49b-4f4ea7aaf7b6\" class=\"plotly-graph-div\" style=\"height:525px; width:100%;\"></div>            <script type=\"text/javascript\">                require([\"plotly\"], function(Plotly) {                    window.PLOTLYENV=window.PLOTLYENV || {};                                    if (document.getElementById(\"3b30b342-939d-4c1c-b49b-4f4ea7aaf7b6\")) {                    Plotly.newPlot(                        \"3b30b342-939d-4c1c-b49b-4f4ea7aaf7b6\",                        [{\"alignmentgroup\":\"True\",\"hovertemplate\":\"Extractor=%{x}\\u003cbr\\u003eLogarithmierte Verarbeitungszeit (log10)=%{y}\\u003cextra\\u003e\\u003c\\u002fextra\\u003e\",\"legendgroup\":\"Configfixextractor\",\"marker\":{\"color\":\"black\"},\"name\":\"Configfixextractor\",\"notched\":false,\"offsetgroup\":\"Configfixextractor\",\"orientation\":\"v\",\"showlegend\":true,\"x\":[\"Configfixextractor\",\"Configfixextractor\",\"Configfixextractor\",\"Configfixextractor\",\"Configfixextractor\",\"Configfixextractor\",\"Configfixextractor\",\"Configfixextractor\",\"Configfixextractor\",\"Configfixextractor\",\"Configfixextractor\",\"Configfixextractor\",\"Configfixextractor\",\"Configfixextractor\",\"Configfixextractor\",\"Configfixextractor\",\"Configfixextractor\",\"Configfixextractor\",\"Configfixextractor\",\"Configfixextractor\",\"Configfixextractor\",\"Configfixextractor\",\"Configfixextractor\",\"Configfixextractor\",\"Configfixextractor\",\"Configfixextractor\",\"Configfixextractor\",\"Configfixextractor\",\"Configfixextractor\",\"Configfixextractor\",\"Configfixextractor\",\"Configfixextractor\",\"Configfixextractor\",\"Configfixextractor\",\"Configfixextractor\",\"Configfixextractor\",\"Configfixextractor\",\"Configfixextractor\",\"Configfixextractor\",\"Configfixextractor\",\"Configfixextractor\",\"Configfixextractor\",\"Configfixextractor\",\"Configfixextractor\",\"Configfixextractor\",\"Configfixextractor\",\"Configfixextractor\",\"Configfixextractor\",\"Configfixextractor\",\"Configfixextractor\",\"Configfixextractor\",\"Configfixextractor\",\"Configfixextractor\",\"Configfixextractor\",\"Configfixextractor\",\"Configfixextractor\",\"Configfixextractor\",\"Configfixextractor\",\"Configfixextractor\",\"Configfixextractor\",\"Configfixextractor\",\"Configfixextractor\",\"Configfixextractor\",\"Configfixextractor\",\"Configfixextractor\",\"Configfixextractor\",\"Configfixextractor\",\"Configfixextractor\",\"Configfixextractor\",\"Configfixextractor\",\"Configfixextractor\",\"Configfixextractor\",\"Configfixextractor\",\"Configfixextractor\",\"Configfixextractor\",\"Configfixextractor\",\"Configfixextractor\",\"Configfixextractor\",\"Configfixextractor\",\"Configfixextractor\",\"Configfixextractor\",\"Configfixextractor\",\"Configfixextractor\",\"Configfixextractor\",\"Configfixextractor\",\"Configfixextractor\",\"Configfixextractor\",\"Configfixextractor\",\"Configfixextractor\",\"Configfixextractor\",\"Configfixextractor\",\"Configfixextractor\",\"Configfixextractor\",\"Configfixextractor\",\"Configfixextractor\",\"Configfixextractor\",\"Configfixextractor\",\"Configfixextractor\",\"Configfixextractor\",\"Configfixextractor\",\"Configfixextractor\",\"Configfixextractor\",\"Configfixextractor\",\"Configfixextractor\",\"Configfixextractor\",\"Configfixextractor\",\"Configfixextractor\",\"Configfixextractor\",\"Configfixextractor\",\"Configfixextractor\",\"Configfixextractor\",\"Configfixextractor\",\"Configfixextractor\",\"Configfixextractor\",\"Configfixextractor\",\"Configfixextractor\",\"Configfixextractor\",\"Configfixextractor\",\"Configfixextractor\",\"Configfixextractor\",\"Configfixextractor\",\"Configfixextractor\",\"Configfixextractor\",\"Configfixextractor\",\"Configfixextractor\",\"Configfixextractor\",\"Configfixextractor\",\"Configfixextractor\",\"Configfixextractor\",\"Configfixextractor\",\"Configfixextractor\",\"Configfixextractor\",\"Configfixextractor\",\"Configfixextractor\",\"Configfixextractor\",\"Configfixextractor\",\"Configfixextractor\",\"Configfixextractor\",\"Configfixextractor\",\"Configfixextractor\",\"Configfixextractor\",\"Configfixextractor\",\"Configfixextractor\",\"Configfixextractor\",\"Configfixextractor\",\"Configfixextractor\",\"Configfixextractor\",\"Configfixextractor\",\"Configfixextractor\",\"Configfixextractor\",\"Configfixextractor\",\"Configfixextractor\",\"Configfixextractor\",\"Configfixextractor\",\"Configfixextractor\",\"Configfixextractor\",\"Configfixextractor\",\"Configfixextractor\",\"Configfixextractor\",\"Configfixextractor\",\"Configfixextractor\",\"Configfixextractor\",\"Configfixextractor\",\"Configfixextractor\",\"Configfixextractor\",\"Configfixextractor\",\"Configfixextractor\",\"Configfixextractor\",\"Configfixextractor\",\"Configfixextractor\",\"Configfixextractor\",\"Configfixextractor\",\"Configfixextractor\",\"Configfixextractor\",\"Configfixextractor\",\"Configfixextractor\",\"Configfixextractor\",\"Configfixextractor\",\"Configfixextractor\",\"Configfixextractor\",\"Configfixextractor\",\"Configfixextractor\",\"Configfixextractor\",\"Configfixextractor\",\"Configfixextractor\",\"Configfixextractor\",\"Configfixextractor\",\"Configfixextractor\",\"Configfixextractor\",\"Configfixextractor\",\"Configfixextractor\",\"Configfixextractor\",\"Configfixextractor\",\"Configfixextractor\",\"Configfixextractor\",\"Configfixextractor\",\"Configfixextractor\",\"Configfixextractor\",\"Configfixextractor\",\"Configfixextractor\",\"Configfixextractor\",\"Configfixextractor\",\"Configfixextractor\",\"Configfixextractor\",\"Configfixextractor\",\"Configfixextractor\",\"Configfixextractor\",\"Configfixextractor\",\"Configfixextractor\",\"Configfixextractor\",\"Configfixextractor\",\"Configfixextractor\",\"Configfixextractor\",\"Configfixextractor\",\"Configfixextractor\",\"Configfixextractor\",\"Configfixextractor\",\"Configfixextractor\",\"Configfixextractor\",\"Configfixextractor\",\"Configfixextractor\",\"Configfixextractor\",\"Configfixextractor\",\"Configfixextractor\",\"Configfixextractor\",\"Configfixextractor\",\"Configfixextractor\",\"Configfixextractor\",\"Configfixextractor\",\"Configfixextractor\",\"Configfixextractor\",\"Configfixextractor\",\"Configfixextractor\",\"Configfixextractor\",\"Configfixextractor\",\"Configfixextractor\",\"Configfixextractor\",\"Configfixextractor\",\"Configfixextractor\",\"Configfixextractor\",\"Configfixextractor\",\"Configfixextractor\",\"Configfixextractor\",\"Configfixextractor\",\"Configfixextractor\",\"Configfixextractor\",\"Configfixextractor\",\"Configfixextractor\",\"Configfixextractor\",\"Configfixextractor\",\"Configfixextractor\",\"Configfixextractor\",\"Configfixextractor\",\"Configfixextractor\",\"Configfixextractor\",\"Configfixextractor\",\"Configfixextractor\",\"Configfixextractor\",\"Configfixextractor\",\"Configfixextractor\",\"Configfixextractor\",\"Configfixextractor\",\"Configfixextractor\",\"Configfixextractor\",\"Configfixextractor\",\"Configfixextractor\",\"Configfixextractor\",\"Configfixextractor\",\"Configfixextractor\",\"Configfixextractor\",\"Configfixextractor\",\"Configfixextractor\",\"Configfixextractor\",\"Configfixextractor\",\"Configfixextractor\",\"Configfixextractor\",\"Configfixextractor\",\"Configfixextractor\",\"Configfixextractor\",\"Configfixextractor\",\"Configfixextractor\",\"Configfixextractor\",\"Configfixextractor\",\"Configfixextractor\",\"Configfixextractor\",\"Configfixextractor\",\"Configfixextractor\",\"Configfixextractor\",\"Configfixextractor\",\"Configfixextractor\",\"Configfixextractor\",\"Configfixextractor\",\"Configfixextractor\",\"Configfixextractor\",\"Configfixextractor\",\"Configfixextractor\",\"Configfixextractor\",\"Configfixextractor\",\"Configfixextractor\",\"Configfixextractor\",\"Configfixextractor\",\"Configfixextractor\",\"Configfixextractor\",\"Configfixextractor\",\"Configfixextractor\",\"Configfixextractor\",\"Configfixextractor\",\"Configfixextractor\",\"Configfixextractor\",\"Configfixextractor\",\"Configfixextractor\",\"Configfixextractor\",\"Configfixextractor\",\"Configfixextractor\",\"Configfixextractor\",\"Configfixextractor\",\"Configfixextractor\",\"Configfixextractor\",\"Configfixextractor\",\"Configfixextractor\",\"Configfixextractor\",\"Configfixextractor\",\"Configfixextractor\",\"Configfixextractor\",\"Configfixextractor\",\"Configfixextractor\",\"Configfixextractor\",\"Configfixextractor\",\"Configfixextractor\",\"Configfixextractor\",\"Configfixextractor\",\"Configfixextractor\",\"Configfixextractor\",\"Configfixextractor\",\"Configfixextractor\",\"Configfixextractor\",\"Configfixextractor\",\"Configfixextractor\",\"Configfixextractor\",\"Configfixextractor\",\"Configfixextractor\",\"Configfixextractor\",\"Configfixextractor\",\"Configfixextractor\",\"Configfixextractor\",\"Configfixextractor\",\"Configfixextractor\",\"Configfixextractor\",\"Configfixextractor\",\"Configfixextractor\",\"Configfixextractor\",\"Configfixextractor\",\"Configfixextractor\",\"Configfixextractor\",\"Configfixextractor\",\"Configfixextractor\",\"Configfixextractor\",\"Configfixextractor\",\"Configfixextractor\",\"Configfixextractor\",\"Configfixextractor\",\"Configfixextractor\",\"Configfixextractor\",\"Configfixextractor\",\"Configfixextractor\",\"Configfixextractor\",\"Configfixextractor\",\"Configfixextractor\",\"Configfixextractor\",\"Configfixextractor\",\"Configfixextractor\",\"Configfixextractor\",\"Configfixextractor\",\"Configfixextractor\",\"Configfixextractor\",\"Configfixextractor\",\"Configfixextractor\",\"Configfixextractor\",\"Configfixextractor\",\"Configfixextractor\",\"Configfixextractor\",\"Configfixextractor\",\"Configfixextractor\",\"Configfixextractor\",\"Configfixextractor\",\"Configfixextractor\",\"Configfixextractor\",\"Configfixextractor\",\"Configfixextractor\",\"Configfixextractor\",\"Configfixextractor\",\"Configfixextractor\",\"Configfixextractor\",\"Configfixextractor\",\"Configfixextractor\",\"Configfixextractor\",\"Configfixextractor\",\"Configfixextractor\",\"Configfixextractor\",\"Configfixextractor\",\"Configfixextractor\",\"Configfixextractor\",\"Configfixextractor\",\"Configfixextractor\",\"Configfixextractor\",\"Configfixextractor\",\"Configfixextractor\",\"Configfixextractor\",\"Configfixextractor\",\"Configfixextractor\",\"Configfixextractor\",\"Configfixextractor\",\"Configfixextractor\",\"Configfixextractor\",\"Configfixextractor\",\"Configfixextractor\",\"Configfixextractor\",\"Configfixextractor\",\"Configfixextractor\",\"Configfixextractor\",\"Configfixextractor\",\"Configfixextractor\",\"Configfixextractor\",\"Configfixextractor\",\"Configfixextractor\",\"Configfixextractor\",\"Configfixextractor\",\"Configfixextractor\",\"Configfixextractor\",\"Configfixextractor\",\"Configfixextractor\",\"Configfixextractor\",\"Configfixextractor\",\"Configfixextractor\",\"Configfixextractor\"],\"x0\":\" \",\"xaxis\":\"x\",\"y\":[null,-0.6670117764676253,-0.28748996081111305,-0.06987706168513437,0.07235447313554456,0.16805626052809744,0.2637373834706205,0.34157634437190537,0.4063276128032547,0.46381708887083606,0.5105912875817533,0.5490993672624104,0.5842062561347896,0.6184562523888727,0.6515560621838299,0.6789623788075891,0.7076778224845868,0.7357626554807852,0.7650733679972361,0.7869917399096797,0.8081740076899707,0.8256258023284555,0.8455785199408501,0.8652040727819474,0.8817348020456182,0.8974573997392765,0.9119721231060871,0.9283670688970476,0.9437556564081805,0.9604472599702829,0.9776786835673946,0.9943904959541103,1.008128968741698,1.0184354151997006,1.0316117942876946,1.0462151939499653,1.0567642957379821,1.0687068658851322,1.0780529675045616,1.0882966788317021,1.0985736068251508,1.1091790968721635,1.118763600196784,1.1290703089254537,1.1416104522295225,1.151958359393193,1.161539726386124,1.170527400677063,1.1794427371021037,1.1886849062140912,1.201387149636163,1.2122223322928893,1.223148701415914,1.2344018345939483,1.2456548047065394,1.2565111554347084,1.2681572986120804,1.2782804859116959,1.2883109764705045,1.3007489294280017,1.3097991140512786,1.7360163865169496,1.7389623552408744,1.7418196556705867,1.7460345840856588,1.7494858246794545,1.7519056123425973,1.7540510396418687,1.756312576933981,1.7587095852200183,1.761101794420447,1.7636451531061772,1.7665947015712544,1.7686000711078478,1.7704807265555536,1.7729675599584067,1.77544414768939,1.7777657444408501,1.7801441296410563,1.783291021142897,1.7854231286665183,1.7878039765125262,1.7900448572921068,1.7921361618214489,1.7944691506249848,1.7971259301461593,1.7971259301461593,1.7971259301461593,1.7971259301461593,1.7971259301461593,1.7971259301461593,1.7971259301461593,1.7971259301461593,1.7971259301461593,1.7971259301461593,1.7971259301461593,1.7971259301461593,1.7971259301461593,1.7971259301461593,1.7971259301461593,1.7971259301461593,1.7971259301461593,1.7971259301461593,1.7971259301461593,1.7971259301461593,1.7971259301461593,1.7971259301461593,1.7971259301461593,1.7971259301461593,1.7971259301461593,1.7971259301461593,1.7992556502751593,1.801109060529868,1.8031373344479404,1.8051031303334009,1.8068985733116685,1.8093189180366922,1.8112353772751617,1.8134620743486358,1.8155458740966581,1.817614916825197,1.8196881806977092,1.821668594980719,1.8238112109877198,1.8256512932192772,1.8281183465548365,1.8303882192397347,1.8326629572774422,1.834728679655512,1.8367867682101744,1.8387058131321317,1.840506251519731,1.8425216216451712,1.8447689574411428,1.8468113004826616,1.8484034121931177,1.8501935424628102,1.852314089573694,1.8564778448253012,1.8582544988400405,1.8599639724702541,1.8620311207392455,1.8637742187208985,1.865588149756653,1.8673374650842953,1.8693060871033087,1.8711888823082905,1.8728695100722959,1.8745133213917966,1.8763426897925504,1.8781677694586036,1.8797502896367972,1.8817841836307123,1.8835708408233427,1.8851511870384752,1.886712835357578,1.8881923218889376,1.8899243033464446,1.8917904807518757,1.8932278238893898,1.8949403115009205,1.896727548482267,1.8983473728615945,1.90007330374951,1.9017676540569257,1.9032512782797104,1.9050003079062265,1.906713033628002,1.908304189586507,1.9098749113607467,1.9113267342355242,1.9129923780661495,1.9144607070426567,1.916144659938409,1.9177062278596428,1.9191507227923386,1.9208142108244155,1.9224574850660494,1.9240501364375735,1.9257089747154574,1.9272683455304775,1.9290075042139827,1.9307400025526316,1.932119003205528,1.9335171213667517,1.9349541493563411,1.9366632219179936,1.9382062239772877,1.9396853463852084,1.9412427432578172,1.9428043718948607,1.9443209830656722,1.9457630371318126,1.9476114930901818,1.9492237885729293,1.9507375372206759,1.9521036841666892,1.9537427750008478,1.9552860534191618,1.9567222984386514,1.958591938322191,1.960024936407375,1.961389060325569,1.962701193351984,1.9642486778403723,1.9658634421892782,1.9670869859538243,1.9684913732808274,1.9698615617194832,1.9715424725479926,1.9732147451211215,1.9747278909199,1.976256350021841,1.9778873477803987,1.979378837067754,1.9808352256793424,1.9820869825863818,1.9833468280151816,1.9850381781645985,1.9864642706303863,1.9878009231722453,1.9891741131574758,1.9910786351535816,1.9919360287333645,1.9927459390317022,1.9935548766633722,1.9942989729113296,1.9950405944307263,1.9959396528359608,1.9965936683787628,1.9972204700169192,1.9979905729090186,1.9986708069943717,1.999386753170572,2.000072574054787,2.0010204641711336,2.0026846934871214,2.003600100483814,2.004738884205819,2.0055428076075996,2.0063695727116615,2.0074455751741,2.008410949493634,2.009508536377198,2.010267098856323,2.010977580204808,2.011589144650828,2.0123876650928305,2.0130151009923907,2.013741960156851,2.0157817595689735,2.0176969290894697,2.01841052110736,2.019159172146356,2.019927363975841,2.020739614550825,2.0215107002099297,2.022282481392739,2.0231443853475404,2.023819959111116,2.0245614512781036,2.0251300236062755,2.025830053114222,2.0265448540500715,2.0272342428522445,2.0279239164007192,2.0285364250304703,2.029189750866466,2.029886051450689,2.0305410510152426,2.031240950096132,2.0319655558588514,2.0328497036200868,2.033608481904401,2.0342627067045354,2.0349048072701357,2.035586386139446,2.0362196580329943,2.0369253435227597,2.0375362958619627,2.03832076344655,2.0389678453125306,2.039582487944611,2.040780275472036,2.04179662530183,2.0425041589017154,2.0433343503844594,2.0440685226288458,2.0447486626103935,2.045552429572343,2.0463913038455113,2.0471832557616225,2.047866784878169,2.0486975949923005,2.0494829251993534,2.050289680521965,2.0508917656478425,2.051710921675428,2.0523665522984933,2.0529679417166022,2.0536993964917123,2.054296590255556,2.0548678868866035,2.055482061447563,2.056066827952441,2.056688583905987,2.057296292229203,2.057996285212086,2.058597873286564,2.059287674071804,2.0599875897492503,2.060649974698908,2.0612479670185335,2.061812403535204,2.0625194974700856,2.0631039960707724,2.0637015865500152,2.064339747080719,2.064926905090967,2.0656843875809003,2.066375302821671,2.067049499392418,2.06764643554448,2.068217010567845,2.0689465452192195,2.0695247459110755,2.070153778960768,2.070741062024225,2.071334894949369,2.07189361129355,2.0725349434083133,2.073177788302752,2.0738046733267788,2.0744027235755937,2.0750451942388723,2.0757120797243007,2.076330994635353,2.0780533959436474,2.114491651163815,2.143549121910953,2.1732297486473615,2.1961585058289526,2.222017249396553,2.2421170378723936,2.2613390091156567,2.2795368116264356,2.297416669462894,2.3142424105075974,2.331069129940718,2.3476138481960773,2.363040843207472,2.3780088475199124,2.3920344605804402,2.406665284160905,2.420741431171884,2.4347646313343527,2.447613501805365,2.4605265716288742,2.472419152318847,2.483780369684948,2.4942434185997535,2.5047693880883473,2.515237526423955,2.5253837448175793,2.535386565126875,2.5446983926329834,2.556130127767294,2.56578981279279,2.576032511747353,2.5855849123508365,2.5952443599598154,2.5954257127448237,2.5956295351824856,2.5958515243621667,2.5960896230659705,2.596294413945114,2.5964927689276807,2.5966867822204547,2.597090438719515,2.597355171150676,2.5975390207744065,2.5977055994289047,2.5978798025281535,2.5980573717074784,2.5982589695254177,2.598438775612849,2.59866119245997,2.598831935159168,2.599019622164865,2.599192368026517,2.5993744704831996,2.599546111339101,2.59974546888271,2.5999384704484854,2.60012260211477,2.6003234173711713,2.6005110629515418,2.600778031405407,2.601170450209903,2.601344334962948,2.601513633425129,2.6016844548170353,2.601874459936961,2.602046355405015,2.60222039882487,2.602425303478131,2.6026973317533124,2.6029267366490485,2.603138911446454,2.6033236659126064,2.6035448870836566,2.603744657654242,2.603930021537563,2.6041546970720133,2.6043667300338065,2.6045504416153693,2.6047667473467455,2.604944098002638,2.605214559529347,2.6054195219018252,2.6056107768103183,2.6057865764173527,2.6059670568421662,2.6062130697984753,2.6063986478424206,2.6066491722896123,2.6069089061835466,2.6070946879401835,2.607364567056873,2.607570347857768,2.607754877515541,2.607944208375085,2.6081302386937937,2.6083005064465676,2.6084742805729855],\"y0\":\" \",\"yaxis\":\"y\",\"type\":\"box\",\"fillcolor\":\"rgba(255, 255, 255, 0)\",\"opacity\":0.8},{\"alignmentgroup\":\"True\",\"hovertemplate\":\"Extractor=%{x}\\u003cbr\\u003eLogarithmierte Verarbeitungszeit (log10)=%{y}\\u003cextra\\u003e\\u003c\\u002fextra\\u003e\",\"legendgroup\":\"KClause\",\"marker\":{\"color\":\"green\"},\"name\":\"KClause\",\"notched\":false,\"offsetgroup\":\"KClause\",\"orientation\":\"v\",\"showlegend\":true,\"x\":[\"KClause\",\"KClause\",\"KClause\",\"KClause\",\"KClause\",\"KClause\",\"KClause\",\"KClause\",\"KClause\",\"KClause\",\"KClause\",\"KClause\",\"KClause\",\"KClause\",\"KClause\",\"KClause\",\"KClause\",\"KClause\",\"KClause\",\"KClause\",\"KClause\",\"KClause\",\"KClause\",\"KClause\",\"KClause\",\"KClause\",\"KClause\",\"KClause\",\"KClause\",\"KClause\",\"KClause\",\"KClause\",\"KClause\",\"KClause\",\"KClause\",\"KClause\",\"KClause\",\"KClause\",\"KClause\",\"KClause\",\"KClause\",\"KClause\",\"KClause\",\"KClause\",\"KClause\",\"KClause\",\"KClause\",\"KClause\",\"KClause\",\"KClause\",\"KClause\",\"KClause\",\"KClause\",\"KClause\",\"KClause\",\"KClause\",\"KClause\",\"KClause\",\"KClause\",\"KClause\",\"KClause\",\"KClause\",\"KClause\",\"KClause\",\"KClause\",\"KClause\",\"KClause\",\"KClause\",\"KClause\",\"KClause\",\"KClause\",\"KClause\",\"KClause\",\"KClause\",\"KClause\",\"KClause\",\"KClause\",\"KClause\",\"KClause\",\"KClause\",\"KClause\",\"KClause\",\"KClause\",\"KClause\",\"KClause\",\"KClause\",\"KClause\",\"KClause\",\"KClause\",\"KClause\",\"KClause\",\"KClause\",\"KClause\",\"KClause\",\"KClause\",\"KClause\",\"KClause\",\"KClause\",\"KClause\",\"KClause\",\"KClause\",\"KClause\",\"KClause\",\"KClause\",\"KClause\",\"KClause\",\"KClause\",\"KClause\",\"KClause\",\"KClause\",\"KClause\",\"KClause\",\"KClause\",\"KClause\",\"KClause\",\"KClause\",\"KClause\",\"KClause\",\"KClause\",\"KClause\",\"KClause\",\"KClause\",\"KClause\",\"KClause\",\"KClause\",\"KClause\",\"KClause\",\"KClause\",\"KClause\",\"KClause\",\"KClause\",\"KClause\",\"KClause\",\"KClause\",\"KClause\",\"KClause\",\"KClause\",\"KClause\",\"KClause\",\"KClause\",\"KClause\",\"KClause\",\"KClause\",\"KClause\",\"KClause\",\"KClause\",\"KClause\",\"KClause\",\"KClause\",\"KClause\",\"KClause\",\"KClause\",\"KClause\",\"KClause\",\"KClause\",\"KClause\",\"KClause\",\"KClause\",\"KClause\",\"KClause\",\"KClause\",\"KClause\",\"KClause\",\"KClause\",\"KClause\",\"KClause\",\"KClause\",\"KClause\",\"KClause\",\"KClause\",\"KClause\",\"KClause\",\"KClause\",\"KClause\",\"KClause\",\"KClause\",\"KClause\",\"KClause\",\"KClause\",\"KClause\",\"KClause\",\"KClause\",\"KClause\",\"KClause\",\"KClause\",\"KClause\",\"KClause\",\"KClause\",\"KClause\",\"KClause\",\"KClause\",\"KClause\",\"KClause\",\"KClause\",\"KClause\",\"KClause\",\"KClause\",\"KClause\",\"KClause\",\"KClause\",\"KClause\",\"KClause\",\"KClause\",\"KClause\",\"KClause\",\"KClause\",\"KClause\",\"KClause\",\"KClause\",\"KClause\",\"KClause\",\"KClause\",\"KClause\",\"KClause\",\"KClause\",\"KClause\",\"KClause\",\"KClause\",\"KClause\",\"KClause\",\"KClause\",\"KClause\",\"KClause\",\"KClause\",\"KClause\",\"KClause\",\"KClause\",\"KClause\",\"KClause\",\"KClause\",\"KClause\",\"KClause\",\"KClause\",\"KClause\",\"KClause\",\"KClause\",\"KClause\",\"KClause\",\"KClause\",\"KClause\",\"KClause\",\"KClause\",\"KClause\",\"KClause\",\"KClause\",\"KClause\",\"KClause\",\"KClause\",\"KClause\",\"KClause\",\"KClause\",\"KClause\",\"KClause\",\"KClause\",\"KClause\",\"KClause\",\"KClause\",\"KClause\",\"KClause\",\"KClause\",\"KClause\",\"KClause\",\"KClause\",\"KClause\",\"KClause\",\"KClause\",\"KClause\",\"KClause\",\"KClause\",\"KClause\",\"KClause\",\"KClause\",\"KClause\",\"KClause\",\"KClause\",\"KClause\",\"KClause\",\"KClause\",\"KClause\",\"KClause\",\"KClause\",\"KClause\",\"KClause\",\"KClause\",\"KClause\",\"KClause\",\"KClause\",\"KClause\",\"KClause\",\"KClause\",\"KClause\",\"KClause\",\"KClause\",\"KClause\",\"KClause\",\"KClause\",\"KClause\",\"KClause\",\"KClause\",\"KClause\",\"KClause\",\"KClause\",\"KClause\",\"KClause\",\"KClause\",\"KClause\",\"KClause\",\"KClause\",\"KClause\",\"KClause\",\"KClause\",\"KClause\",\"KClause\",\"KClause\",\"KClause\",\"KClause\",\"KClause\",\"KClause\",\"KClause\",\"KClause\",\"KClause\",\"KClause\",\"KClause\",\"KClause\",\"KClause\",\"KClause\",\"KClause\",\"KClause\",\"KClause\",\"KClause\",\"KClause\",\"KClause\",\"KClause\",\"KClause\",\"KClause\",\"KClause\",\"KClause\",\"KClause\",\"KClause\",\"KClause\",\"KClause\",\"KClause\",\"KClause\",\"KClause\",\"KClause\",\"KClause\",\"KClause\",\"KClause\",\"KClause\",\"KClause\",\"KClause\",\"KClause\",\"KClause\",\"KClause\",\"KClause\",\"KClause\",\"KClause\",\"KClause\",\"KClause\",\"KClause\",\"KClause\",\"KClause\",\"KClause\",\"KClause\",\"KClause\",\"KClause\",\"KClause\",\"KClause\",\"KClause\",\"KClause\",\"KClause\",\"KClause\",\"KClause\",\"KClause\",\"KClause\",\"KClause\",\"KClause\",\"KClause\",\"KClause\",\"KClause\",\"KClause\",\"KClause\",\"KClause\",\"KClause\",\"KClause\",\"KClause\",\"KClause\",\"KClause\",\"KClause\",\"KClause\",\"KClause\",\"KClause\",\"KClause\",\"KClause\",\"KClause\",\"KClause\",\"KClause\",\"KClause\",\"KClause\",\"KClause\",\"KClause\",\"KClause\",\"KClause\",\"KClause\",\"KClause\",\"KClause\",\"KClause\",\"KClause\",\"KClause\",\"KClause\",\"KClause\",\"KClause\",\"KClause\",\"KClause\",\"KClause\",\"KClause\",\"KClause\",\"KClause\",\"KClause\",\"KClause\",\"KClause\",\"KClause\",\"KClause\",\"KClause\",\"KClause\",\"KClause\",\"KClause\",\"KClause\",\"KClause\",\"KClause\",\"KClause\",\"KClause\",\"KClause\",\"KClause\",\"KClause\"],\"x0\":\" \",\"xaxis\":\"x\",\"y\":[null,-0.2221381990928842,-0.6245890909320092,-0.6017956125333968,-0.6131615471039037,-0.617774960361797,-0.6006284813020939,-0.6297180213591295,-0.5928860376194501,-0.5928810728171264,-0.5732491652604461,-0.6207906777965913,-0.5958726441680664,-0.6017132396807798,-0.5962639568985915,-0.6327260919533979,-0.5575335249401445,-0.6180865859637296,-0.607205954974494,-0.5990741076689063,-0.624592216024182,-0.6091985402211696,-0.6025665037052451,-0.6054634859313415,-0.5720662222564429,-0.612362723014149,-0.6048138394011423,-0.6089003741197591,-0.6200494584479965,-0.598720225384374,-0.565681866438205,-0.6148162913372628,-0.6116726741117214,-0.6222748313604254,-0.6099271555288142,-0.6123809302486137,-0.6066512065115308,-0.621442498810942,-0.6222915897712392,-0.581479089119569,-0.6039908475060721,-0.5963594608591221,-0.6141190782171694,-0.6141598154870824,-0.6164731049288996,-0.6360499453706783,-0.5969441248499645,-0.6049808115650358,-0.6099945995799956,-0.6163332240409686,1.194860216743335,1.2152784077734113,1.1816932710714603,1.2119577875995533,1.2231587296283633,1.2094134337307272,1.2170188995173499,1.2344495286934645,1.2262775660947354,1.2438957692428478,-0.15877311222634655,2.2794568258214007,-0.13223927264088092,-0.13399153144514606,-0.15358483138008583,-0.14500041250515744,-0.15106752567203138,-0.14560020808794236,-0.1506781322035298,-0.13837851734610346,-0.1592100375748402,-0.14207041246815175,-0.10570592403025132,-0.127589810341829,-0.10282681754361664,-0.11154920959732328,-0.10782694186005128,-0.1184479050526086,-0.10204005776663044,-0.09332557546715554,-0.09919978110289782,-0.11013125956993663,-0.09532950415821938,-0.09059499457395799,-0.09128110950441717,-0.10341833303823846,-0.10341833303823846,-0.10341833303823846,-0.10341833303823846,-0.10341833303823846,-0.10341833303823846,-0.10341833303823846,-0.10341833303823846,-0.10341833303823846,-0.10341833303823846,-0.10341833303823846,-0.10341833303823846,-0.10341833303823846,-0.10341833303823846,-0.10341833303823846,-0.10341833303823846,-0.10341833303823846,-0.10341833303823846,-0.10341833303823846,-0.10341833303823846,-0.10341833303823846,-0.10341833303823846,-0.10341833303823846,-0.10341833303823846,-0.10341833303823846,-0.10341833303823846,-0.10341833303823846,-0.10341833303823846,-0.10341833303823846,-0.10341833303823846,-0.10341833303823846,-0.10341833303823846,0.23414520460047372,0.23933350345256796,0.22603663671037486,0.23013528790544516,0.22877958832611683,0.23922025959239201,0.23913487385754087,0.24236552279314208,0.2578843447477273,0.25823464592824447,0.2849114635973535,0.2693234526572932,0.266540855582462,0.2832011018792395,0.2615893362201515,0.2751920571628616,0.30129852463533213,0.3044268535098704,0.2955854454932875,0.2946217220410763,0.2983763661081275,0.2963119738035551,0.300718746688218,0.3399313554788723,0.333873037476091,0.34212017920842425,0.35187907248582934,0.3589494028638431,0.35691801514469546,0.3581713431817136,0.3662086671793224,0.35038344164612373,0.351342357960492,0.350406037875448,0.3606821633838501,0.3612124727728753,0.35662601572095604,0.3557643393142918,0.35876158468514485,0.3850844846545727,0.4041549128112142,0.38918665029160954,0.3661345489741439,0.39260813781441023,0.4072162345244441,0.4626804351166857,0.4021974121003252,0.38018321198410054,0.40574657029704664,0.4085370471511467,0.4075413661163289,0.4290201937103977,0.46408699304861234,0.43617779983585286,0.4339908407711023,0.43564610399086245,0.49501170116635707,0.4837248546816696,0.49523262524520295,0.49215827455813155,0.49513411312265254,0.4750583214248894,0.46348584516773816,0.46253745951052405,0.4582341121163794,0.4689194437963656,0.4694989804019912,0.4666568232860797,0.4681975929533837,0.45822078489034723,0.4616812232305099,0.4613925332404273,0.4717616223348847,0.4656807665793044,0.48003521777121894,0.48305004503166626,0.4921281352891208,0.49508547830966043,0.49488183977722305,0.4907172700193404,0.49726475329345166,0.500512329868618,0.49193679916034827,0.4752917113806576,0.47431496988885913,0.5033937959435268,0.5018765578751103,0.5030594843427109,0.5104975567867602,0.5057241663801926,0.5040274413334647,0.5017908446722691,0.5082692587854964,0.5015093904642106,0.5102429042784226,0.5053069147086763,0.5080653036728456,0.5097463846389203,0.5126363565357596,0.5199904707324671,0.515277145408375,0.5251461566901265,0.5294031992042212,0.5423298724228699,0.5372994849729358,0.5304580521815995,0.5343176100270792,0.533313497966275,0.5355678099883145,0.554997819162386,0.5503503516255941,1.0092139399731217,1.0084069868900858,1.0260115003349586,1.0318603016440415,1.03104035048907,1.0015483969355485,1.0017099292143488,0.9859584996490738,1.0049876229265728,1.0218458087176219,1.0415363210429496,1.037085738323233,1.031201563826192,1.0365182063384544,1.0315489938721427,1.0170131617172227,1.0447120604525382,1.0365185030354973,1.035162137120775,1.031349058965257,1.04102624616916,1.048928912751095,1.0621005808204513,1.0641181738985412,1.054661214493489,1.0633294291882571,1.0903581446163113,1.0962224396024451,1.1146033979886256,1.072181095174133,1.0755472035755038,1.1053307065082216,1.1024624939917325,1.1126588221979548,1.1121685724193662,1.1485423102074146,1.1208776866558563,1.131381795759813,1.1357223014924744,1.148693211617914,1.1549577894433467,1.1573469140045205,1.1881674298588438,1.1850819665845878,1.2253007335371933,1.2371843393447195,1.24253354103648,1.2316907682205702,1.2665365212782558,1.2900808888758102,1.316235764517846,1.3246387598957,1.3516869535060783,1.3682853052949004,1.377243810517724,1.4060938280432516,1.4292123180791645,1.444765373718122,1.4516041059837506,1.478616012643644,1.4922168306679522,1.5082888761233264,1.520156649375199,1.5543210226183042,1.5587280390145404,1.5739827137627196,1.5866583623856487,1.644547326324076,1.6711085188556678,1.693462844686116,1.6933103095469664,1.6927374175531946,1.6892337159832507,1.7311324634153522,1.7394425801033775,1.7461350642292919,1.7418616743468267,1.7347187329834075,1.754520844707974,1.7596673635288427,1.7934751087944654,1.7975112872023686,1.786412218774586,1.7852180034754672,1.7898078999271698,1.8036366080375252,1.8009516442647537,1.8091857862928784,1.8025536009708334,1.8277614925421581,1.8293770686826505,1.8332643883980912,1.8394076842903317,1.8476016420510355,1.8585194958831082,1.8644454544947027,1.8641075711053177,1.8737664009353754,1.8864132157945661,1.8811203466185549,1.9064111697408406,1.897304745362677,1.9089738161203105,1.9070190677310304,1.9302279881150095,1.9117075791110696,1.9047872834496933,1.9099301214914437,2.0008677894623337,2.129873332004242,2.1357304927153877,2.1795110226031595,2.150605291656072,2.1637803789944776,2.4476141083540472,1.983733437173617,4.673198448466682,1.991707966881008,1.981594946426123,1.995119435646389,2.0038047048708956,1.9977177590845046,1.9923412628979684,1.9922208560509176,1.9915830085893629,2.0124554328499444,2.035474908389568,2.0382290153119693,2.1956681202084147,2.019889761487671,2.0380590504792435,2.025751768833654,2.031187286302902,2.033662078712214,2.0296630928970965,2.0507016084014635,2.0519969187161244,2.0391460862185684,2.032142133243222,2.0486116319676473,2.041176046012389,2.0461053383427346,2.0437382425746824,-0.6056445610883404,-0.5998447209607943,-0.5779024474330038,-0.6175796347318131,0.05148520315519591,-0.5949638313690102,-0.593044230046947,-0.6035718295397918,-0.6163997743328247,-0.606075017347455,-0.6033216026115825,-0.6099402847505005,-0.6030173099993988,-0.6173710317111841,-0.6208544191052043,-0.6175791090214543,-0.5719390066523016,-0.5943589643595033,-0.5864574007383023,-0.5903013795654641,-0.5724945444572597,-0.5981909217300057,-0.5688832330397384,-0.5655994560269377,-0.5708685604762974,-0.5688222405646177,-0.5523318761534837,-0.5354917666803968,-0.5654551121566753,-0.5361102480870888,-0.5326815448084665,-0.5232553404944454,-0.5324292246302214,-0.52707455381591,-0.5256132126354591,-0.5144468057963768,-0.5093077586573477,-0.43678763021687234,-0.5034166226360764,-0.5160629024270218,-0.530127473358383,-0.5182618236073947,-0.502399687276226,-0.47895658580500966,-0.5013780074527777,-0.4577738348334507,-0.45633512209466004,-0.46410482859878016,-0.42952369674422664,-0.44030158113263757,-0.4543033204581337,-0.4393828823890036,-0.3483751426367015,-0.45976202204564925,-0.6046310464092758,-0.639631135344557,-0.6280437080720599,-0.6062536377191994,-0.617515153542795,-0.32652359002209314,-0.6030329010365707,-0.5865368545525137,-0.6097597600221382,-0.6100251495701625],\"y0\":\" \",\"yaxis\":\"y\",\"type\":\"box\",\"fillcolor\":\"rgba(255, 255, 255, 0)\",\"opacity\":0.8},{\"alignmentgroup\":\"True\",\"hovertemplate\":\"Extractor=%{x}\\u003cbr\\u003eLogarithmierte Verarbeitungszeit (log10)=%{y}\\u003cextra\\u003e\\u003c\\u002fextra\\u003e\",\"legendgroup\":\"Kconfigreader\",\"marker\":{\"color\":\"orange\"},\"name\":\"Kconfigreader\",\"notched\":false,\"offsetgroup\":\"Kconfigreader\",\"orientation\":\"v\",\"showlegend\":true,\"x\":[\"Kconfigreader\",\"Kconfigreader\",\"Kconfigreader\",\"Kconfigreader\",\"Kconfigreader\",\"Kconfigreader\",\"Kconfigreader\",\"Kconfigreader\",\"Kconfigreader\",\"Kconfigreader\",\"Kconfigreader\",\"Kconfigreader\",\"Kconfigreader\",\"Kconfigreader\",\"Kconfigreader\",\"Kconfigreader\",\"Kconfigreader\",\"Kconfigreader\",\"Kconfigreader\",\"Kconfigreader\",\"Kconfigreader\",\"Kconfigreader\",\"Kconfigreader\",\"Kconfigreader\",\"Kconfigreader\",\"Kconfigreader\",\"Kconfigreader\",\"Kconfigreader\",\"Kconfigreader\",\"Kconfigreader\",\"Kconfigreader\",\"Kconfigreader\",\"Kconfigreader\",\"Kconfigreader\",\"Kconfigreader\",\"Kconfigreader\",\"Kconfigreader\",\"Kconfigreader\",\"Kconfigreader\",\"Kconfigreader\",\"Kconfigreader\",\"Kconfigreader\",\"Kconfigreader\",\"Kconfigreader\",\"Kconfigreader\",\"Kconfigreader\",\"Kconfigreader\",\"Kconfigreader\",\"Kconfigreader\",\"Kconfigreader\",\"Kconfigreader\",\"Kconfigreader\",\"Kconfigreader\",\"Kconfigreader\",\"Kconfigreader\",\"Kconfigreader\",\"Kconfigreader\",\"Kconfigreader\",\"Kconfigreader\",\"Kconfigreader\",\"Kconfigreader\",\"Kconfigreader\",\"Kconfigreader\",\"Kconfigreader\",\"Kconfigreader\",\"Kconfigreader\",\"Kconfigreader\",\"Kconfigreader\",\"Kconfigreader\",\"Kconfigreader\",\"Kconfigreader\",\"Kconfigreader\",\"Kconfigreader\",\"Kconfigreader\",\"Kconfigreader\",\"Kconfigreader\",\"Kconfigreader\",\"Kconfigreader\",\"Kconfigreader\",\"Kconfigreader\",\"Kconfigreader\",\"Kconfigreader\",\"Kconfigreader\",\"Kconfigreader\",\"Kconfigreader\",\"Kconfigreader\",\"Kconfigreader\",\"Kconfigreader\",\"Kconfigreader\",\"Kconfigreader\",\"Kconfigreader\",\"Kconfigreader\",\"Kconfigreader\",\"Kconfigreader\",\"Kconfigreader\",\"Kconfigreader\",\"Kconfigreader\",\"Kconfigreader\",\"Kconfigreader\",\"Kconfigreader\",\"Kconfigreader\",\"Kconfigreader\",\"Kconfigreader\",\"Kconfigreader\",\"Kconfigreader\",\"Kconfigreader\",\"Kconfigreader\",\"Kconfigreader\",\"Kconfigreader\",\"Kconfigreader\",\"Kconfigreader\",\"Kconfigreader\",\"Kconfigreader\",\"Kconfigreader\",\"Kconfigreader\",\"Kconfigreader\",\"Kconfigreader\",\"Kconfigreader\",\"Kconfigreader\",\"Kconfigreader\",\"Kconfigreader\",\"Kconfigreader\",\"Kconfigreader\",\"Kconfigreader\",\"Kconfigreader\",\"Kconfigreader\",\"Kconfigreader\",\"Kconfigreader\",\"Kconfigreader\",\"Kconfigreader\",\"Kconfigreader\",\"Kconfigreader\",\"Kconfigreader\",\"Kconfigreader\",\"Kconfigreader\",\"Kconfigreader\",\"Kconfigreader\",\"Kconfigreader\",\"Kconfigreader\",\"Kconfigreader\",\"Kconfigreader\",\"Kconfigreader\",\"Kconfigreader\",\"Kconfigreader\",\"Kconfigreader\",\"Kconfigreader\",\"Kconfigreader\",\"Kconfigreader\",\"Kconfigreader\",\"Kconfigreader\",\"Kconfigreader\",\"Kconfigreader\",\"Kconfigreader\",\"Kconfigreader\",\"Kconfigreader\",\"Kconfigreader\",\"Kconfigreader\",\"Kconfigreader\",\"Kconfigreader\",\"Kconfigreader\",\"Kconfigreader\",\"Kconfigreader\",\"Kconfigreader\",\"Kconfigreader\",\"Kconfigreader\",\"Kconfigreader\",\"Kconfigreader\",\"Kconfigreader\",\"Kconfigreader\",\"Kconfigreader\",\"Kconfigreader\",\"Kconfigreader\",\"Kconfigreader\",\"Kconfigreader\",\"Kconfigreader\",\"Kconfigreader\",\"Kconfigreader\",\"Kconfigreader\",\"Kconfigreader\",\"Kconfigreader\",\"Kconfigreader\",\"Kconfigreader\",\"Kconfigreader\",\"Kconfigreader\",\"Kconfigreader\",\"Kconfigreader\",\"Kconfigreader\",\"Kconfigreader\",\"Kconfigreader\",\"Kconfigreader\",\"Kconfigreader\",\"Kconfigreader\",\"Kconfigreader\",\"Kconfigreader\",\"Kconfigreader\",\"Kconfigreader\",\"Kconfigreader\",\"Kconfigreader\",\"Kconfigreader\",\"Kconfigreader\",\"Kconfigreader\",\"Kconfigreader\",\"Kconfigreader\",\"Kconfigreader\",\"Kconfigreader\",\"Kconfigreader\",\"Kconfigreader\",\"Kconfigreader\",\"Kconfigreader\",\"Kconfigreader\",\"Kconfigreader\",\"Kconfigreader\",\"Kconfigreader\",\"Kconfigreader\",\"Kconfigreader\",\"Kconfigreader\",\"Kconfigreader\",\"Kconfigreader\",\"Kconfigreader\",\"Kconfigreader\",\"Kconfigreader\",\"Kconfigreader\",\"Kconfigreader\",\"Kconfigreader\",\"Kconfigreader\",\"Kconfigreader\",\"Kconfigreader\",\"Kconfigreader\",\"Kconfigreader\",\"Kconfigreader\",\"Kconfigreader\",\"Kconfigreader\",\"Kconfigreader\",\"Kconfigreader\",\"Kconfigreader\",\"Kconfigreader\",\"Kconfigreader\",\"Kconfigreader\",\"Kconfigreader\",\"Kconfigreader\",\"Kconfigreader\",\"Kconfigreader\",\"Kconfigreader\",\"Kconfigreader\",\"Kconfigreader\",\"Kconfigreader\",\"Kconfigreader\",\"Kconfigreader\",\"Kconfigreader\",\"Kconfigreader\",\"Kconfigreader\",\"Kconfigreader\",\"Kconfigreader\",\"Kconfigreader\",\"Kconfigreader\",\"Kconfigreader\",\"Kconfigreader\",\"Kconfigreader\",\"Kconfigreader\",\"Kconfigreader\",\"Kconfigreader\",\"Kconfigreader\",\"Kconfigreader\",\"Kconfigreader\",\"Kconfigreader\",\"Kconfigreader\",\"Kconfigreader\",\"Kconfigreader\",\"Kconfigreader\",\"Kconfigreader\",\"Kconfigreader\",\"Kconfigreader\",\"Kconfigreader\",\"Kconfigreader\",\"Kconfigreader\",\"Kconfigreader\",\"Kconfigreader\",\"Kconfigreader\",\"Kconfigreader\",\"Kconfigreader\",\"Kconfigreader\",\"Kconfigreader\",\"Kconfigreader\",\"Kconfigreader\",\"Kconfigreader\",\"Kconfigreader\",\"Kconfigreader\",\"Kconfigreader\",\"Kconfigreader\",\"Kconfigreader\",\"Kconfigreader\",\"Kconfigreader\",\"Kconfigreader\",\"Kconfigreader\",\"Kconfigreader\",\"Kconfigreader\",\"Kconfigreader\",\"Kconfigreader\",\"Kconfigreader\",\"Kconfigreader\",\"Kconfigreader\",\"Kconfigreader\",\"Kconfigreader\",\"Kconfigreader\",\"Kconfigreader\",\"Kconfigreader\",\"Kconfigreader\",\"Kconfigreader\",\"Kconfigreader\",\"Kconfigreader\",\"Kconfigreader\",\"Kconfigreader\",\"Kconfigreader\",\"Kconfigreader\",\"Kconfigreader\",\"Kconfigreader\",\"Kconfigreader\",\"Kconfigreader\",\"Kconfigreader\",\"Kconfigreader\",\"Kconfigreader\",\"Kconfigreader\",\"Kconfigreader\",\"Kconfigreader\",\"Kconfigreader\",\"Kconfigreader\",\"Kconfigreader\",\"Kconfigreader\",\"Kconfigreader\",\"Kconfigreader\",\"Kconfigreader\",\"Kconfigreader\",\"Kconfigreader\",\"Kconfigreader\",\"Kconfigreader\",\"Kconfigreader\",\"Kconfigreader\",\"Kconfigreader\",\"Kconfigreader\",\"Kconfigreader\",\"Kconfigreader\",\"Kconfigreader\",\"Kconfigreader\",\"Kconfigreader\",\"Kconfigreader\",\"Kconfigreader\",\"Kconfigreader\",\"Kconfigreader\",\"Kconfigreader\",\"Kconfigreader\",\"Kconfigreader\",\"Kconfigreader\",\"Kconfigreader\",\"Kconfigreader\",\"Kconfigreader\",\"Kconfigreader\",\"Kconfigreader\",\"Kconfigreader\",\"Kconfigreader\",\"Kconfigreader\",\"Kconfigreader\",\"Kconfigreader\",\"Kconfigreader\",\"Kconfigreader\",\"Kconfigreader\",\"Kconfigreader\",\"Kconfigreader\",\"Kconfigreader\",\"Kconfigreader\",\"Kconfigreader\",\"Kconfigreader\",\"Kconfigreader\",\"Kconfigreader\",\"Kconfigreader\",\"Kconfigreader\",\"Kconfigreader\",\"Kconfigreader\",\"Kconfigreader\",\"Kconfigreader\",\"Kconfigreader\",\"Kconfigreader\",\"Kconfigreader\",\"Kconfigreader\",\"Kconfigreader\",\"Kconfigreader\",\"Kconfigreader\",\"Kconfigreader\",\"Kconfigreader\",\"Kconfigreader\",\"Kconfigreader\",\"Kconfigreader\",\"Kconfigreader\",\"Kconfigreader\",\"Kconfigreader\",\"Kconfigreader\",\"Kconfigreader\",\"Kconfigreader\",\"Kconfigreader\",\"Kconfigreader\",\"Kconfigreader\",\"Kconfigreader\",\"Kconfigreader\",\"Kconfigreader\",\"Kconfigreader\",\"Kconfigreader\",\"Kconfigreader\",\"Kconfigreader\",\"Kconfigreader\",\"Kconfigreader\",\"Kconfigreader\",\"Kconfigreader\",\"Kconfigreader\",\"Kconfigreader\",\"Kconfigreader\",\"Kconfigreader\",\"Kconfigreader\",\"Kconfigreader\",\"Kconfigreader\",\"Kconfigreader\",\"Kconfigreader\",\"Kconfigreader\",\"Kconfigreader\",\"Kconfigreader\",\"Kconfigreader\",\"Kconfigreader\",\"Kconfigreader\",\"Kconfigreader\",\"Kconfigreader\",\"Kconfigreader\",\"Kconfigreader\",\"Kconfigreader\",\"Kconfigreader\",\"Kconfigreader\",\"Kconfigreader\",\"Kconfigreader\"],\"x0\":\" \",\"xaxis\":\"x\",\"y\":[null,-0.21262984828838707,-0.6379804595071643,-0.6203729368885378,-0.6250177715197506,-0.6106278962085743,-0.6238851828203082,-0.6384827704458405,-0.6195591098076121,-0.6167800002371159,-0.6457537883710781,-0.6128647359196085,-0.6271447810650371,-0.630201289382045,-0.6163015647054287,-0.5514880696005294,-0.6380105407221226,-0.5990801202951443,-0.5933260502193871,-0.646507325199903,-0.6057363200596853,-0.5789066148296955,-0.6113189476565464,-0.590105591438164,-0.6241287222451576,-0.626781348033108,-0.6423050336010621,-0.609849580579232,-0.6147760899024528,-0.6325781327293685,-0.6204804667974801,-0.571086315459542,-0.58929227110741,-0.6043114375447846,-0.5997882476858791,-0.5210536628909301,-0.5996694163138856,-0.5761564566424364,-0.5667477951392502,-0.600344029587267,-0.6065695470737232,-0.636054850422285,-0.5391006559997236,-0.6297500593193617,-0.6104151386532933,-0.6178512852448391,-0.6246519136275397,-0.6037798718000491,-0.5997287804189126,-0.5738109973202281,0.603608223494358,0.5683375465012983,0.5567259420232313,0.5602928779240027,0.6295145737415743,0.5983109524075498,0.5508463251558899,0.557920576889482,0.6188038861228591,0.6472052442211105,-0.20888054936022468,1.964818054611573,-0.12073528390861567,-0.1902455758866513,-0.21277214289855867,-0.21089292206056434,-0.21087590714067486,-0.18158021276804068,-0.1953938027080156,-0.20075640416840515,-0.19040989793396867,-0.15154437759447215,-0.18577076092493627,-0.1650612790503129,-0.16659428246783017,-0.14267197079300253,-0.15179243789722172,-0.1377374716265737,-0.12917300773683424,-0.13423508146697136,-0.14558886071861618,-0.1420092967012568,-0.14869193964163108,-0.1459165337462804,-0.13055342690753866,-0.16160347023458707,null,null,null,null,null,null,null,null,null,null,null,null,null,null,null,null,null,null,null,null,null,null,null,null,null,null,null,null,null,null,null,0.02228687784540955,0.03341945393965363,0.06782649217454198,0.024888712373374113,0.0045012509705320055,0.025530586057310012,0.025225044965373592,0.08006772881080851,0.05995755529326202,0.043262265190585084,0.04812705793459495,0.04623045318322431,0.022961193262604304,0.036582674868804364,0.03221951636259883,0.031647108331336604,0.032042943936846875,0.02901517073423507,0.02975929057452427,0.044784032108744716,0.04093549731656664,0.04787311898408054,0.04506099517011197,0.07813890728033841,0.07846895384063546,0.07927366927858039,0.09517749202238643,0.07488272581362444,0.07706636645724953,0.08939352770822019,0.08463788154357892,0.1348406134591232,0.10458620245686541,0.09188054911291796,0.10694912633397023,0.10567169559066163,0.10554198349932825,0.10124335113787528,0.11974372291516124,0.09858500904058262,0.10622727206902473,0.11379780753306515,0.13232425432835615,0.12060200875250936,0.11554540488672503,0.12891542299806905,0.1251379485858736,0.09638768018465635,0.11485838822122357,0.11912025502808732,0.11674609620567693,0.11858440592534039,0.1468484191472969,0.12056139011359056,0.12499167789591713,0.13220246522123877,0.18806661346759282,0.14228723843881272,0.14535880592418093,0.1342054591934996,0.1537781604907249,0.13465727472680017,0.1361953721909231,0.13593488388306743,0.14183717812589663,0.150743106968517,0.16309759701302964,0.14518362299491402,0.14911580820161704,0.16053188637091,0.1421951428290347,0.15211412493681034,0.16931085706303736,0.16754959772386965,0.1616189710858245,0.1438094858956695,0.1800395171320385,0.16078483290296539,0.1497329746971039,0.16764116782879085,0.16972798120653163,0.15221448418519715,0.1950524042732417,0.17680051683489853,0.17092261400878492,0.15956732797316164,0.18184352451491598,0.15745295708520307,0.19381874439383387,0.18055433219196754,0.18798382318488083,0.1910653714494963,0.17511204835481592,0.17321362227372383,0.20264415204755767,0.17892056358110903,0.18092434323787568,0.197479907854362,0.1897106952096539,0.2004235261205851,0.18129022267496023,0.1810051347633221,0.19843435029876297,0.20623672082917824,0.181323638901334,0.1971094832755796,0.2038808439593722,0.19021182363578454,0.2017647478236358,0.19736747836185983,0.19652425073124427,0.4777578248618086,0.46424435461670577,0.46270493126808565,0.47473506132095367,0.4501511475418135,0.46948670132251014,0.45341112647869836,0.46037187553763537,0.4662363805163547,0.5029236544399329,0.46355781312777644,0.4559580358354402,0.4585084776772441,0.45722999049172286,0.4597903310925554,0.47154285299221804,0.4510442867586712,0.46210497357944486,0.4596611386858526,0.46849733921222486,0.4673798909871753,0.46982216378548014,0.4724942617726324,0.47294773306087046,0.47666381646083145,0.4849366356192049,0.47205779553751503,0.48271842161967005,0.492133833217555,0.49994720166052964,0.48823118723646114,0.4972088247503757,0.4997383567134901,0.4942999151202551,0.5043225156046571,0.5248639690989871,0.5270566200702007,0.5233918967243367,0.5337085453517071,0.5570300918052801,0.5381395932380908,0.5758738087104602,0.6057654724793018,0.6107753763509038,0.6104662972858199,0.6327201785199291,0.6308924765237449,0.6332881081597567,0.621064070313533,0.6515227416121858,0.6752726038588346,0.660564157465161,0.693964064354759,0.7202403292413216,0.7279352620559278,0.7468333054840454,0.757626741110921,0.7818743505915394,0.7902107387278121,0.7910458742740806,0.8360739910480721,0.8700450758437981,0.8431980760217346,0.8681376839714229,0.8734835070947555,0.9211260720427125,0.9251079803772865,0.9427092441559379,1.0122145146886667,0.9751126168769846,1.4868476558809736,1.1025636288354543,0.9704313859911696,1.0079519705796693,1.0169938244705183,0.9925267400788899,0.9957344469619622,1.0214485769464858,0.9912792467447848,1.026659612558661,1.0899091273030657,1.040995706440471,1.0561050100162175,1.067021146206121,1.0841049122615227,1.0640456511871592,1.0762738045846418,2.1258236827915393,1.106980729176415,1.1014651151142107,1.1019844289680552,1.1113886415863805,2.0559204649125156,1.7149866917694156,1.1437648348865823,1.1569254866257157,1.1742803877235932,1.1641863399915315,1.137848075131993,1.153797275488519,1.2118428095246359,1.1789191953449505,1.2243040836114507,1.2403375062674886,1.2424936550667534,1.225678065814614,1.2261515976954596,1.2361632404670264,1.2858943468773574,1.234444076172788,1.299235082064187,1.2898827828692259,1.251226315612169,1.3076306249414817,1.2979661161090945,1.283996615788197,1.3369817223451854,1.3400877207104829,1.2997676355031929,1.3218783234237952,1.3651662278917016,1.3403708068045608,1.3470953394079515,1.3893480386573347,1.4105723867564115,1.3518828432737842,1.3407659066817879,2.0744159200462096,1.3914828308243672,1.3495072132618082,1.41689720030491,1.4213924546526133,1.4251993569557535,2.423278469808489,1.4183996259727605,1.4193432546748657,1.4526427053637538,2.1606269876638704,2.4387593888388417,2.3087841465119308,1.4576231334537777,1.4757420183602847,1.4463853911826827,0.36719329501433484,0.36336397639100726,-0.5205522906696898,-0.5894250448452164,-0.5736507606961678,-0.6258172609908912,-0.6104479037184196,-0.6228838417281641,-0.6650435083115505,-0.636174441110096,-0.6222602792945501,-0.6123261632002376,-0.6045367829064805,-0.6107229330108886,-0.5220726947655918,-0.5964472448277005,-0.5931030084771025,-0.5525165093706979,-0.5720746852745107,-0.5853614232957681,-0.6036328505666241,-0.5327758383517645,-0.5542022005817149,-0.5961876103237322,-0.5542206525970521,-0.5836618651944325,-0.5334667639053652,-0.5385766934122318,-0.569631099757077,-0.5443499232217318,-0.5889274810065475,-0.5769570315883497,-0.4836454651033,-0.5134026141075567,-0.574064172752792,-0.4962404034657305,-0.24451023935399668,-0.471918825917615,-0.4531371278704778,-0.5166397536213717,-0.4666532933929264,-0.38911802975477294,-0.5266883275843688,-0.5228688709837213,-0.5220710171657094,-0.4925200446937213,-0.4841384491146427,-0.5578041720238589,-0.45510126775385995,-0.561849046958816,-0.4005167435784769,-0.5536347425596619,-0.45438004066580384,-0.46040587103505537,-0.6218520956548657,-0.657310933590125,-0.6296062661875346,-0.6283103075000718,-0.6285291590147329,-0.6604638248767102,-0.6277291390624102,-0.6236872089842163,-0.6132656678251417,-0.6517296715524713],\"y0\":\" \",\"yaxis\":\"y\",\"type\":\"box\",\"fillcolor\":\"rgba(255, 255, 255, 0)\",\"opacity\":0.8},{\"marker\":{\"color\":\"green\",\"size\":10},\"mode\":\"markers\",\"name\":\"Extrahiert\",\"x\":[null],\"y\":[null],\"type\":\"scatter\"},{\"marker\":{\"color\":\"red\",\"size\":10},\"mode\":\"markers\",\"name\":\"Fehlgeschlagen\",\"x\":[null],\"y\":[null],\"type\":\"scatter\"}],                        {\"template\":{\"data\":{\"histogram2dcontour\":[{\"type\":\"histogram2dcontour\",\"colorbar\":{\"outlinewidth\":0,\"ticks\":\"\"},\"colorscale\":[[0.0,\"#0d0887\"],[0.1111111111111111,\"#46039f\"],[0.2222222222222222,\"#7201a8\"],[0.3333333333333333,\"#9c179e\"],[0.4444444444444444,\"#bd3786\"],[0.5555555555555556,\"#d8576b\"],[0.6666666666666666,\"#ed7953\"],[0.7777777777777778,\"#fb9f3a\"],[0.8888888888888888,\"#fdca26\"],[1.0,\"#f0f921\"]]}],\"choropleth\":[{\"type\":\"choropleth\",\"colorbar\":{\"outlinewidth\":0,\"ticks\":\"\"}}],\"histogram2d\":[{\"type\":\"histogram2d\",\"colorbar\":{\"outlinewidth\":0,\"ticks\":\"\"},\"colorscale\":[[0.0,\"#0d0887\"],[0.1111111111111111,\"#46039f\"],[0.2222222222222222,\"#7201a8\"],[0.3333333333333333,\"#9c179e\"],[0.4444444444444444,\"#bd3786\"],[0.5555555555555556,\"#d8576b\"],[0.6666666666666666,\"#ed7953\"],[0.7777777777777778,\"#fb9f3a\"],[0.8888888888888888,\"#fdca26\"],[1.0,\"#f0f921\"]]}],\"heatmap\":[{\"type\":\"heatmap\",\"colorbar\":{\"outlinewidth\":0,\"ticks\":\"\"},\"colorscale\":[[0.0,\"#0d0887\"],[0.1111111111111111,\"#46039f\"],[0.2222222222222222,\"#7201a8\"],[0.3333333333333333,\"#9c179e\"],[0.4444444444444444,\"#bd3786\"],[0.5555555555555556,\"#d8576b\"],[0.6666666666666666,\"#ed7953\"],[0.7777777777777778,\"#fb9f3a\"],[0.8888888888888888,\"#fdca26\"],[1.0,\"#f0f921\"]]}],\"heatmapgl\":[{\"type\":\"heatmapgl\",\"colorbar\":{\"outlinewidth\":0,\"ticks\":\"\"},\"colorscale\":[[0.0,\"#0d0887\"],[0.1111111111111111,\"#46039f\"],[0.2222222222222222,\"#7201a8\"],[0.3333333333333333,\"#9c179e\"],[0.4444444444444444,\"#bd3786\"],[0.5555555555555556,\"#d8576b\"],[0.6666666666666666,\"#ed7953\"],[0.7777777777777778,\"#fb9f3a\"],[0.8888888888888888,\"#fdca26\"],[1.0,\"#f0f921\"]]}],\"contourcarpet\":[{\"type\":\"contourcarpet\",\"colorbar\":{\"outlinewidth\":0,\"ticks\":\"\"}}],\"contour\":[{\"type\":\"contour\",\"colorbar\":{\"outlinewidth\":0,\"ticks\":\"\"},\"colorscale\":[[0.0,\"#0d0887\"],[0.1111111111111111,\"#46039f\"],[0.2222222222222222,\"#7201a8\"],[0.3333333333333333,\"#9c179e\"],[0.4444444444444444,\"#bd3786\"],[0.5555555555555556,\"#d8576b\"],[0.6666666666666666,\"#ed7953\"],[0.7777777777777778,\"#fb9f3a\"],[0.8888888888888888,\"#fdca26\"],[1.0,\"#f0f921\"]]}],\"surface\":[{\"type\":\"surface\",\"colorbar\":{\"outlinewidth\":0,\"ticks\":\"\"},\"colorscale\":[[0.0,\"#0d0887\"],[0.1111111111111111,\"#46039f\"],[0.2222222222222222,\"#7201a8\"],[0.3333333333333333,\"#9c179e\"],[0.4444444444444444,\"#bd3786\"],[0.5555555555555556,\"#d8576b\"],[0.6666666666666666,\"#ed7953\"],[0.7777777777777778,\"#fb9f3a\"],[0.8888888888888888,\"#fdca26\"],[1.0,\"#f0f921\"]]}],\"mesh3d\":[{\"type\":\"mesh3d\",\"colorbar\":{\"outlinewidth\":0,\"ticks\":\"\"}}],\"scatter\":[{\"fillpattern\":{\"fillmode\":\"overlay\",\"size\":10,\"solidity\":0.2},\"type\":\"scatter\"}],\"parcoords\":[{\"type\":\"parcoords\",\"line\":{\"colorbar\":{\"outlinewidth\":0,\"ticks\":\"\"}}}],\"scatterpolargl\":[{\"type\":\"scatterpolargl\",\"marker\":{\"colorbar\":{\"outlinewidth\":0,\"ticks\":\"\"}}}],\"bar\":[{\"error_x\":{\"color\":\"#2a3f5f\"},\"error_y\":{\"color\":\"#2a3f5f\"},\"marker\":{\"line\":{\"color\":\"#E5ECF6\",\"width\":0.5},\"pattern\":{\"fillmode\":\"overlay\",\"size\":10,\"solidity\":0.2}},\"type\":\"bar\"}],\"scattergeo\":[{\"type\":\"scattergeo\",\"marker\":{\"colorbar\":{\"outlinewidth\":0,\"ticks\":\"\"}}}],\"scatterpolar\":[{\"type\":\"scatterpolar\",\"marker\":{\"colorbar\":{\"outlinewidth\":0,\"ticks\":\"\"}}}],\"histogram\":[{\"marker\":{\"pattern\":{\"fillmode\":\"overlay\",\"size\":10,\"solidity\":0.2}},\"type\":\"histogram\"}],\"scattergl\":[{\"type\":\"scattergl\",\"marker\":{\"colorbar\":{\"outlinewidth\":0,\"ticks\":\"\"}}}],\"scatter3d\":[{\"type\":\"scatter3d\",\"line\":{\"colorbar\":{\"outlinewidth\":0,\"ticks\":\"\"}},\"marker\":{\"colorbar\":{\"outlinewidth\":0,\"ticks\":\"\"}}}],\"scattermapbox\":[{\"type\":\"scattermapbox\",\"marker\":{\"colorbar\":{\"outlinewidth\":0,\"ticks\":\"\"}}}],\"scatterternary\":[{\"type\":\"scatterternary\",\"marker\":{\"colorbar\":{\"outlinewidth\":0,\"ticks\":\"\"}}}],\"scattercarpet\":[{\"type\":\"scattercarpet\",\"marker\":{\"colorbar\":{\"outlinewidth\":0,\"ticks\":\"\"}}}],\"carpet\":[{\"aaxis\":{\"endlinecolor\":\"#2a3f5f\",\"gridcolor\":\"white\",\"linecolor\":\"white\",\"minorgridcolor\":\"white\",\"startlinecolor\":\"#2a3f5f\"},\"baxis\":{\"endlinecolor\":\"#2a3f5f\",\"gridcolor\":\"white\",\"linecolor\":\"white\",\"minorgridcolor\":\"white\",\"startlinecolor\":\"#2a3f5f\"},\"type\":\"carpet\"}],\"table\":[{\"cells\":{\"fill\":{\"color\":\"#EBF0F8\"},\"line\":{\"color\":\"white\"}},\"header\":{\"fill\":{\"color\":\"#C8D4E3\"},\"line\":{\"color\":\"white\"}},\"type\":\"table\"}],\"barpolar\":[{\"marker\":{\"line\":{\"color\":\"#E5ECF6\",\"width\":0.5},\"pattern\":{\"fillmode\":\"overlay\",\"size\":10,\"solidity\":0.2}},\"type\":\"barpolar\"}],\"pie\":[{\"automargin\":true,\"type\":\"pie\"}]},\"layout\":{\"autotypenumbers\":\"strict\",\"colorway\":[\"#636efa\",\"#EF553B\",\"#00cc96\",\"#ab63fa\",\"#FFA15A\",\"#19d3f3\",\"#FF6692\",\"#B6E880\",\"#FF97FF\",\"#FECB52\"],\"font\":{\"color\":\"#2a3f5f\"},\"hovermode\":\"closest\",\"hoverlabel\":{\"align\":\"left\"},\"paper_bgcolor\":\"white\",\"plot_bgcolor\":\"#E5ECF6\",\"polar\":{\"bgcolor\":\"#E5ECF6\",\"angularaxis\":{\"gridcolor\":\"white\",\"linecolor\":\"white\",\"ticks\":\"\"},\"radialaxis\":{\"gridcolor\":\"white\",\"linecolor\":\"white\",\"ticks\":\"\"}},\"ternary\":{\"bgcolor\":\"#E5ECF6\",\"aaxis\":{\"gridcolor\":\"white\",\"linecolor\":\"white\",\"ticks\":\"\"},\"baxis\":{\"gridcolor\":\"white\",\"linecolor\":\"white\",\"ticks\":\"\"},\"caxis\":{\"gridcolor\":\"white\",\"linecolor\":\"white\",\"ticks\":\"\"}},\"coloraxis\":{\"colorbar\":{\"outlinewidth\":0,\"ticks\":\"\"}},\"colorscale\":{\"sequential\":[[0.0,\"#0d0887\"],[0.1111111111111111,\"#46039f\"],[0.2222222222222222,\"#7201a8\"],[0.3333333333333333,\"#9c179e\"],[0.4444444444444444,\"#bd3786\"],[0.5555555555555556,\"#d8576b\"],[0.6666666666666666,\"#ed7953\"],[0.7777777777777778,\"#fb9f3a\"],[0.8888888888888888,\"#fdca26\"],[1.0,\"#f0f921\"]],\"sequentialminus\":[[0.0,\"#0d0887\"],[0.1111111111111111,\"#46039f\"],[0.2222222222222222,\"#7201a8\"],[0.3333333333333333,\"#9c179e\"],[0.4444444444444444,\"#bd3786\"],[0.5555555555555556,\"#d8576b\"],[0.6666666666666666,\"#ed7953\"],[0.7777777777777778,\"#fb9f3a\"],[0.8888888888888888,\"#fdca26\"],[1.0,\"#f0f921\"]],\"diverging\":[[0,\"#8e0152\"],[0.1,\"#c51b7d\"],[0.2,\"#de77ae\"],[0.3,\"#f1b6da\"],[0.4,\"#fde0ef\"],[0.5,\"#f7f7f7\"],[0.6,\"#e6f5d0\"],[0.7,\"#b8e186\"],[0.8,\"#7fbc41\"],[0.9,\"#4d9221\"],[1,\"#276419\"]]},\"xaxis\":{\"gridcolor\":\"white\",\"linecolor\":\"white\",\"ticks\":\"\",\"title\":{\"standoff\":15},\"zerolinecolor\":\"white\",\"automargin\":true,\"zerolinewidth\":2},\"yaxis\":{\"gridcolor\":\"white\",\"linecolor\":\"white\",\"ticks\":\"\",\"title\":{\"standoff\":15},\"zerolinecolor\":\"white\",\"automargin\":true,\"zerolinewidth\":2},\"scene\":{\"xaxis\":{\"backgroundcolor\":\"#E5ECF6\",\"gridcolor\":\"white\",\"linecolor\":\"white\",\"showbackground\":true,\"ticks\":\"\",\"zerolinecolor\":\"white\",\"gridwidth\":2},\"yaxis\":{\"backgroundcolor\":\"#E5ECF6\",\"gridcolor\":\"white\",\"linecolor\":\"white\",\"showbackground\":true,\"ticks\":\"\",\"zerolinecolor\":\"white\",\"gridwidth\":2},\"zaxis\":{\"backgroundcolor\":\"#E5ECF6\",\"gridcolor\":\"white\",\"linecolor\":\"white\",\"showbackground\":true,\"ticks\":\"\",\"zerolinecolor\":\"white\",\"gridwidth\":2}},\"shapedefaults\":{\"line\":{\"color\":\"#2a3f5f\"}},\"annotationdefaults\":{\"arrowcolor\":\"#2a3f5f\",\"arrowhead\":0,\"arrowwidth\":1},\"geo\":{\"bgcolor\":\"white\",\"landcolor\":\"#E5ECF6\",\"subunitcolor\":\"white\",\"showland\":true,\"showlakes\":true,\"lakecolor\":\"white\"},\"title\":{\"x\":0.05},\"mapbox\":{\"style\":\"light\"}}},\"xaxis\":{\"anchor\":\"y\",\"domain\":[0.0,1.0],\"title\":{\"text\":\"Extractor\"},\"categoryorder\":\"array\",\"categoryarray\":[\"Configfixextractor\",\"KClause\",\"Kconfigreader\"],\"showgrid\":false,\"showline\":true,\"linecolor\":\"black\",\"linewidth\":0.5},\"yaxis\":{\"anchor\":\"x\",\"domain\":[0.0,1.0],\"title\":{\"text\":\"Verarbeitungszeit (log10)\"},\"showgrid\":true,\"gridcolor\":\"lightgray\"},\"legend\":{\"title\":{\"text\":\"\"},\"tracegroupgap\":0,\"font\":{\"size\":16},\"itemsizing\":\"constant\"},\"margin\":{\"t\":60},\"boxmode\":\"overlay\",\"annotations\":[{\"font\":{\"color\":\"green\",\"size\":14},\"showarrow\":false,\"text\":\"94.0%\",\"x\":-0.2,\"y\":4.873198448466682},{\"font\":{\"color\":\"red\",\"size\":14},\"showarrow\":false,\"text\":\"6.0%\",\"x\":0.2,\"y\":4.873198448466682},{\"font\":{\"color\":\"green\",\"size\":14},\"showarrow\":false,\"text\":\"66.7%\",\"x\":0.8,\"y\":4.873198448466682},{\"font\":{\"color\":\"red\",\"size\":14},\"showarrow\":false,\"text\":\"33.3%\",\"x\":1.2,\"y\":4.873198448466682},{\"font\":{\"color\":\"green\",\"size\":14},\"showarrow\":false,\"text\":\"66.7%\",\"x\":1.8,\"y\":4.873198448466682},{\"font\":{\"color\":\"red\",\"size\":14},\"showarrow\":false,\"text\":\"33.3%\",\"x\":2.2,\"y\":4.873198448466682}],\"font\":{\"size\":15},\"title\":{\"x\":0.5},\"plot_bgcolor\":\"white\",\"paper_bgcolor\":\"white\"},                        {\"responsive\": true}                    ).then(function(){\n",
       "                            \n",
       "var gd = document.getElementById('3b30b342-939d-4c1c-b49b-4f4ea7aaf7b6');\n",
       "var x = new MutationObserver(function (mutations, observer) {{\n",
       "        var display = window.getComputedStyle(gd).display;\n",
       "        if (!display || display === 'none') {{\n",
       "            console.log([gd, 'removed!']);\n",
       "            Plotly.purge(gd);\n",
       "            observer.disconnect();\n",
       "        }}\n",
       "}});\n",
       "\n",
       "// Listen for the removal of the full notebook cells\n",
       "var notebookContainer = gd.closest('#notebook-container');\n",
       "if (notebookContainer) {{\n",
       "    x.observe(notebookContainer, {childList: true});\n",
       "}}\n",
       "\n",
       "// Listen for the clearing of the current output cell\n",
       "var outputEl = gd.closest('.output');\n",
       "if (outputEl) {{\n",
       "    x.observe(outputEl, {childList: true});\n",
       "}}\n",
       "\n",
       "                        })                };                });            </script>        </div>"
      ]
     },
     "metadata": {},
     "output_type": "display_data"
    }
   ],
   "source": [
    "import pandas as pd\n",
    "import plotly.express as px\n",
    "from math import log10\n",
    "\n",
    "# Die big_log10 Funktion für die Logarithmustransformation\n",
    "def big_log10(val):\n",
    "    return log10(val) if pd.notna(val) and val > 0 else pd.NA\n",
    "\n",
    "# Daten importieren\n",
    "file_configfixextractor = '/home/rami/configFixextractor/kconfig/output.csv'\n",
    "file_kmax = '/home/rami/kmax/kconfig/output.csv'\n",
    "file_Kconfigreader = '/home/rami/Kconfigreader/kconfig/output.csv'\n",
    "\n",
    "df_configfixextractor = pd.read_csv(file_configfixextractor)\n",
    "df_kmax = pd.read_csv(file_kmax)\n",
    "df_Kconfigreader = pd.read_csv(file_Kconfigreader)\n",
    "\n",
    "# Hinzufügen des Extractors für jedes DataFrame\n",
    "df_configfixextractor['Extractor'] = 'Configfixextractor'\n",
    "df_kmax['Extractor'] = 'KClause'\n",
    "df_Kconfigreader['Extractor'] = 'Kconfigreader'\n",
    "\n",
    "# Zusammenführen der DataFrames\n",
    "df_combined = pd.concat([df_configfixextractor[['system', 'revision', 'model-file', 'Extractor', 'model-time']],\n",
    "                         df_kmax[['system', 'revision', 'model-file', 'Extractor', 'model-time']],\n",
    "                         df_Kconfigreader[['system', 'revision', 'model-file', 'Extractor', 'model-time']]],\n",
    "                        ignore_index=True)\n",
    "\n",
    "# Sicherstellen, dass 'model-time' als numerischer Wert vorliegt\n",
    "df_combined['model-time'] = pd.to_numeric(df_combined['model-time'], errors='coerce')\n",
    "\n",
    "# Umwandlung von Nanosekunden in Sekunden\n",
    "df_combined['model-time-seconds'] = df_combined['model-time'] / 1e9\n",
    "\n",
    "# Anwendung der big_log10 Funktion auf die in Sekunden umgewandelte Zeit\n",
    "df_combined['log_model_time'] = df_combined['model-time-seconds'].apply(lambda x: big_log10(x))\n",
    "\n",
    "# Prozentwerte für extrahierte und nicht extrahierte Modelle berechnen\n",
    "percent_values = (\n",
    "    df_combined.assign(extracted_model_file=~df_combined['model-file'].isna())  # True, wenn 'model-file' vorhanden\n",
    "    .groupby('Extractor')['extracted_model_file']\n",
    "    .agg(total_cases='size', extracted_cases='sum')  # Gesamtanzahl und extrahierte Fälle\n",
    "    .assign(\n",
    "        not_extracted_cases=lambda x: x['total_cases'] - x['extracted_cases'],  # Nicht extrahierte Fälle\n",
    "        percent_extracted=lambda x: (x['extracted_cases'] / x['total_cases']) * 100,\n",
    "        percent_not_extracted=lambda x: (x['not_extracted_cases'] / x['total_cases']) * 100\n",
    "    )\n",
    "    .reset_index()\n",
    ")\n",
    "\n",
    "# Boxplot erstellen\n",
    "fig_boxplot = px.box(\n",
    "    df_combined,\n",
    "    x='Extractor',\n",
    "    y='log_model_time',  # Log-transformierte Verarbeitungszeit\n",
    "    labels={'log_model_time': 'Logarithmierte Verarbeitungszeit (log10)', 'Extractor': 'Extractor'},\n",
    "    title='',\n",
    "    color='Extractor',\n",
    "    color_discrete_map={\n",
    "        'Configfixextractor': 'black',\n",
    "        'KClause': 'green',\n",
    "        'Kconfigreader': 'orange'\n",
    "    }\n",
    ")\n",
    "\n",
    "fig_boxplot.update_traces(\n",
    "    fillcolor='rgba(255, 255, 255, 0)',  # Keine Füllfarbe, nur Transparenz\n",
    "    opacity=0.8  # Opacity einstellen (von 0 bis 1)\n",
    ")\n",
    "# Manuelle Legende für \"Extrahiert\" und \"Fehlgeschlagen\"\n",
    "fig_boxplot.add_trace(\n",
    "    go.Scatter(\n",
    "        x=[None], y=[None], mode='markers', \n",
    "        marker=dict(color='green', size=10),\n",
    "        name='Extrahiert'\n",
    "    )\n",
    ")\n",
    "fig_boxplot.add_trace(\n",
    "    go.Scatter(\n",
    "        x=[None], y=[None], mode='markers', \n",
    "        marker=dict(color='red', size=10),\n",
    "        name='Fehlgeschlagen'\n",
    "    )\n",
    ")\n",
    "# Prozentwerte als Annotationen hinzufügen\n",
    "for i, row in percent_values.iterrows():\n",
    "    fig_boxplot.add_annotation(\n",
    "        x=i - 0.2,  # Position etwas nach links verschieben\n",
    "        y=df_combined['log_model_time'].max() + 0.2,  # Platzierung über dem Boxplot\n",
    "        text=f\"{row['percent_extracted']:.1f}%\",\n",
    "        showarrow=False,\n",
    "        font=dict(color='green', size=14)  # Grün für \"Extrahiert\"\n",
    "    )\n",
    "    fig_boxplot.add_annotation(\n",
    "        x=i + 0.2,  # Position etwas nach rechts verschieben\n",
    "        y=df_combined['log_model_time'].max() + 0.2,  # Platzierung über dem Boxplot\n",
    "        text=f\"{row['percent_not_extracted']:.1f}%\",\n",
    "        showarrow=False,\n",
    "        font=dict(color='red', size=14)  # Rot für \"Fehlgeschlagen\"\n",
    "    )\n",
    "\n",
    "# Layout anpassen\n",
    "fig_boxplot.update_layout(\n",
    "    plot_bgcolor='white',\n",
    "    paper_bgcolor='white',\n",
    "    font=dict(size=15),\n",
    "    xaxis_title='Extractor',\n",
    "    yaxis_title='Verarbeitungszeit (log10)',\n",
    "    title_x=0.5,  \n",
    "    yaxis=dict(\n",
    "        showgrid=True,       \n",
    "        gridcolor='lightgray'  \n",
    "    ),\n",
    "    xaxis=dict(\n",
    "        showgrid=False,\n",
    "        showline=True,\n",
    "        linecolor='black',\n",
    "        linewidth=0.5  \n",
    "    ),\n",
    "    legend=dict(\n",
    "        title=\"\",\n",
    "        itemsizing='constant',\n",
    "        font=dict(size=16),\n",
    "        tracegroupgap=0,  \n",
    "    )\n",
    ")\n",
    "\n",
    "# Diagramm anzeigen\n",
    "fig_boxplot.show()\n"
   ]
  },
  {
   "cell_type": "code",
   "execution_count": 151,
   "id": "0abf6d9f-e533-4e73-a284-890a6827f206",
   "metadata": {},
   "outputs": [
    {
     "data": {
      "application/vnd.plotly.v1+json": {
       "config": {
        "plotlyServerURL": "https://plot.ly"
       },
       "data": [
        {
         "alignmentgroup": "True",
         "hovertemplate": "error_status=Nicht vollständig extrahiert<br>Extractor=Configfixextractor<br>=%{x}<br>Anzahl der Feature-Modelle=%{text}<extra></extra>",
         "legendgroup": "Nicht vollständig extrahiert",
         "marker": {
          "color": "orange",
          "pattern": {
           "shape": ""
          }
         },
         "name": "Nicht vollständig extrahiert",
         "offsetgroup": "Nicht vollständig extrahiert",
         "orientation": "v",
         "showlegend": true,
         "text": [
          24,
          64,
          117,
          1,
          1,
          110
         ],
         "textposition": "auto",
         "type": "bar",
         "x": [
          "axtls",
          "buildroot",
          "busybox",
          "busybox",
          "freetz-ng",
          "linux"
         ],
         "xaxis": "x",
         "y": [
          24,
          64,
          117,
          1,
          1,
          110
         ],
         "yaxis": "y"
        },
        {
         "alignmentgroup": "True",
         "hovertemplate": "error_status=Extrahiert<br>Extractor=Configfixextractor<br>=%{x}<br>Anzahl der Feature-Modelle=%{text}<extra></extra>",
         "legendgroup": "Extrahiert",
         "marker": {
          "color": "green",
          "pattern": {
           "shape": ""
          }
         },
         "name": "Extrahiert",
         "offsetgroup": "Extrahiert",
         "orientation": "v",
         "showlegend": true,
         "text": [
          1,
          33
         ],
         "textposition": "auto",
         "type": "bar",
         "x": [
          "fiasco",
          "linux"
         ],
         "xaxis": "x",
         "y": [
          1,
          33
         ],
         "yaxis": "y"
        },
        {
         "alignmentgroup": "True",
         "hovertemplate": "error_status=Extrahiert<br>Extractor=KClause<br>=%{x}<br>Anzahl der Feature-Modelle=%{text}<extra></extra>",
         "legendgroup": "Extrahiert",
         "marker": {
          "color": "green",
          "pattern": {
           "shape": ""
          }
         },
         "name": "Extrahiert",
         "offsetgroup": "Extrahiert",
         "orientation": "v",
         "showlegend": false,
         "text": [
          24,
          111,
          10,
          1,
          1,
          143
         ],
         "textposition": "auto",
         "type": "bar",
         "x": [
          "axtls",
          "busybox",
          "embtoolkit",
          "fiasco",
          "freetz-ng",
          "linux"
         ],
         "xaxis": "x2",
         "y": [
          24,
          111,
          10,
          1,
          1,
          143
         ],
         "yaxis": "y2"
        },
        {
         "alignmentgroup": "True",
         "hovertemplate": "error_status=Extrahiert<br>Extractor=Kconfigreader<br>=%{x}<br>Anzahl der Feature-Modelle=%{text}<extra></extra>",
         "legendgroup": "Extrahiert",
         "marker": {
          "color": "green",
          "pattern": {
           "shape": ""
          }
         },
         "name": "Extrahiert",
         "offsetgroup": "Extrahiert",
         "orientation": "v",
         "showlegend": false,
         "text": [
          24,
          111,
          10,
          1,
          1,
          143
         ],
         "textposition": "auto",
         "type": "bar",
         "x": [
          "axtls",
          "busybox",
          "embtoolkit",
          "fiasco",
          "freetz-ng",
          "linux"
         ],
         "xaxis": "x3",
         "y": [
          24,
          111,
          10,
          1,
          1,
          143
         ],
         "yaxis": "y3"
        },
        {
         "alignmentgroup": "True",
         "hovertemplate": "error_status=Nicht extrahiert<br>Extractor=Configfixextractor<br>=%{x}<br>Anzahl der Feature-Modelle=%{text}<extra></extra>",
         "legendgroup": "Nicht extrahiert",
         "marker": {
          "color": "red",
          "pattern": {
           "shape": ""
          }
         },
         "name": "Nicht extrahiert",
         "offsetgroup": "Nicht extrahiert",
         "orientation": "v",
         "showlegend": true,
         "text": [
          24,
          10,
          51,
          48
         ],
         "textposition": "auto",
         "type": "bar",
         "x": [
          "busybox",
          "embtoolkit",
          "toybox",
          "uclibc-ng"
         ],
         "xaxis": "x",
         "y": [
          24,
          10,
          51,
          48
         ],
         "yaxis": "y"
        },
        {
         "alignmentgroup": "True",
         "hovertemplate": "error_status=Nicht extrahiert<br>Extractor=KClause<br>=%{x}<br>Anzahl der Feature-Modelle=%{text}<extra></extra>",
         "legendgroup": "Nicht extrahiert",
         "marker": {
          "color": "red",
          "pattern": {
           "shape": ""
          }
         },
         "name": "Nicht extrahiert",
         "offsetgroup": "Nicht extrahiert",
         "orientation": "v",
         "showlegend": false,
         "text": [
          64,
          31,
          50
         ],
         "textposition": "auto",
         "type": "bar",
         "x": [
          "buildroot",
          "busybox",
          "toybox"
         ],
         "xaxis": "x2",
         "y": [
          64,
          31,
          50
         ],
         "yaxis": "y2"
        },
        {
         "alignmentgroup": "True",
         "hovertemplate": "error_status=Nicht extrahiert<br>Extractor=Kconfigreader<br>=%{x}<br>Anzahl der Feature-Modelle=%{text}<extra></extra>",
         "legendgroup": "Nicht extrahiert",
         "marker": {
          "color": "red",
          "pattern": {
           "shape": ""
          }
         },
         "name": "Nicht extrahiert",
         "offsetgroup": "Nicht extrahiert",
         "orientation": "v",
         "showlegend": false,
         "text": [
          64,
          31,
          50
         ],
         "textposition": "auto",
         "type": "bar",
         "x": [
          "buildroot",
          "busybox",
          "toybox"
         ],
         "xaxis": "x3",
         "y": [
          64,
          31,
          50
         ],
         "yaxis": "y3"
        }
       ],
       "layout": {
        "annotations": [
         {
          "font": {
           "color": "black",
           "size": 16
          },
          "showarrow": false,
          "text": "Extractor: Configfixextractor",
          "x": 0.15333333333333332,
          "xanchor": "center",
          "xref": "paper",
          "y": 1,
          "yanchor": "bottom",
          "yref": "paper"
         },
         {
          "font": {
           "color": "black",
           "size": 16
          },
          "showarrow": false,
          "text": "Extractor: KClause",
          "x": 0.5,
          "xanchor": "center",
          "xref": "paper",
          "y": 1,
          "yanchor": "bottom",
          "yref": "paper"
         },
         {
          "font": {
           "color": "black",
           "size": 16
          },
          "showarrow": false,
          "text": "Extractor: Kconfigreader",
          "x": 0.8466666666666666,
          "xanchor": "center",
          "xref": "paper",
          "y": 1,
          "yanchor": "bottom",
          "yref": "paper"
         }
        ],
        "barmode": "stack",
        "font": {
         "size": 16
        },
        "legend": {
         "title": {
          "text": ""
         },
         "tracegroupgap": 0
        },
        "margin": {
         "t": 60
        },
        "paper_bgcolor": "white",
        "plot_bgcolor": "white",
        "template": {
         "data": {
          "bar": [
           {
            "error_x": {
             "color": "#2a3f5f"
            },
            "error_y": {
             "color": "#2a3f5f"
            },
            "marker": {
             "line": {
              "color": "#E5ECF6",
              "width": 0.5
             },
             "pattern": {
              "fillmode": "overlay",
              "size": 10,
              "solidity": 0.2
             }
            },
            "type": "bar"
           }
          ],
          "barpolar": [
           {
            "marker": {
             "line": {
              "color": "#E5ECF6",
              "width": 0.5
             },
             "pattern": {
              "fillmode": "overlay",
              "size": 10,
              "solidity": 0.2
             }
            },
            "type": "barpolar"
           }
          ],
          "carpet": [
           {
            "aaxis": {
             "endlinecolor": "#2a3f5f",
             "gridcolor": "white",
             "linecolor": "white",
             "minorgridcolor": "white",
             "startlinecolor": "#2a3f5f"
            },
            "baxis": {
             "endlinecolor": "#2a3f5f",
             "gridcolor": "white",
             "linecolor": "white",
             "minorgridcolor": "white",
             "startlinecolor": "#2a3f5f"
            },
            "type": "carpet"
           }
          ],
          "choropleth": [
           {
            "colorbar": {
             "outlinewidth": 0,
             "ticks": ""
            },
            "type": "choropleth"
           }
          ],
          "contour": [
           {
            "colorbar": {
             "outlinewidth": 0,
             "ticks": ""
            },
            "colorscale": [
             [
              0,
              "#0d0887"
             ],
             [
              0.1111111111111111,
              "#46039f"
             ],
             [
              0.2222222222222222,
              "#7201a8"
             ],
             [
              0.3333333333333333,
              "#9c179e"
             ],
             [
              0.4444444444444444,
              "#bd3786"
             ],
             [
              0.5555555555555556,
              "#d8576b"
             ],
             [
              0.6666666666666666,
              "#ed7953"
             ],
             [
              0.7777777777777778,
              "#fb9f3a"
             ],
             [
              0.8888888888888888,
              "#fdca26"
             ],
             [
              1,
              "#f0f921"
             ]
            ],
            "type": "contour"
           }
          ],
          "contourcarpet": [
           {
            "colorbar": {
             "outlinewidth": 0,
             "ticks": ""
            },
            "type": "contourcarpet"
           }
          ],
          "heatmap": [
           {
            "colorbar": {
             "outlinewidth": 0,
             "ticks": ""
            },
            "colorscale": [
             [
              0,
              "#0d0887"
             ],
             [
              0.1111111111111111,
              "#46039f"
             ],
             [
              0.2222222222222222,
              "#7201a8"
             ],
             [
              0.3333333333333333,
              "#9c179e"
             ],
             [
              0.4444444444444444,
              "#bd3786"
             ],
             [
              0.5555555555555556,
              "#d8576b"
             ],
             [
              0.6666666666666666,
              "#ed7953"
             ],
             [
              0.7777777777777778,
              "#fb9f3a"
             ],
             [
              0.8888888888888888,
              "#fdca26"
             ],
             [
              1,
              "#f0f921"
             ]
            ],
            "type": "heatmap"
           }
          ],
          "heatmapgl": [
           {
            "colorbar": {
             "outlinewidth": 0,
             "ticks": ""
            },
            "colorscale": [
             [
              0,
              "#0d0887"
             ],
             [
              0.1111111111111111,
              "#46039f"
             ],
             [
              0.2222222222222222,
              "#7201a8"
             ],
             [
              0.3333333333333333,
              "#9c179e"
             ],
             [
              0.4444444444444444,
              "#bd3786"
             ],
             [
              0.5555555555555556,
              "#d8576b"
             ],
             [
              0.6666666666666666,
              "#ed7953"
             ],
             [
              0.7777777777777778,
              "#fb9f3a"
             ],
             [
              0.8888888888888888,
              "#fdca26"
             ],
             [
              1,
              "#f0f921"
             ]
            ],
            "type": "heatmapgl"
           }
          ],
          "histogram": [
           {
            "marker": {
             "pattern": {
              "fillmode": "overlay",
              "size": 10,
              "solidity": 0.2
             }
            },
            "type": "histogram"
           }
          ],
          "histogram2d": [
           {
            "colorbar": {
             "outlinewidth": 0,
             "ticks": ""
            },
            "colorscale": [
             [
              0,
              "#0d0887"
             ],
             [
              0.1111111111111111,
              "#46039f"
             ],
             [
              0.2222222222222222,
              "#7201a8"
             ],
             [
              0.3333333333333333,
              "#9c179e"
             ],
             [
              0.4444444444444444,
              "#bd3786"
             ],
             [
              0.5555555555555556,
              "#d8576b"
             ],
             [
              0.6666666666666666,
              "#ed7953"
             ],
             [
              0.7777777777777778,
              "#fb9f3a"
             ],
             [
              0.8888888888888888,
              "#fdca26"
             ],
             [
              1,
              "#f0f921"
             ]
            ],
            "type": "histogram2d"
           }
          ],
          "histogram2dcontour": [
           {
            "colorbar": {
             "outlinewidth": 0,
             "ticks": ""
            },
            "colorscale": [
             [
              0,
              "#0d0887"
             ],
             [
              0.1111111111111111,
              "#46039f"
             ],
             [
              0.2222222222222222,
              "#7201a8"
             ],
             [
              0.3333333333333333,
              "#9c179e"
             ],
             [
              0.4444444444444444,
              "#bd3786"
             ],
             [
              0.5555555555555556,
              "#d8576b"
             ],
             [
              0.6666666666666666,
              "#ed7953"
             ],
             [
              0.7777777777777778,
              "#fb9f3a"
             ],
             [
              0.8888888888888888,
              "#fdca26"
             ],
             [
              1,
              "#f0f921"
             ]
            ],
            "type": "histogram2dcontour"
           }
          ],
          "mesh3d": [
           {
            "colorbar": {
             "outlinewidth": 0,
             "ticks": ""
            },
            "type": "mesh3d"
           }
          ],
          "parcoords": [
           {
            "line": {
             "colorbar": {
              "outlinewidth": 0,
              "ticks": ""
             }
            },
            "type": "parcoords"
           }
          ],
          "pie": [
           {
            "automargin": true,
            "type": "pie"
           }
          ],
          "scatter": [
           {
            "fillpattern": {
             "fillmode": "overlay",
             "size": 10,
             "solidity": 0.2
            },
            "type": "scatter"
           }
          ],
          "scatter3d": [
           {
            "line": {
             "colorbar": {
              "outlinewidth": 0,
              "ticks": ""
             }
            },
            "marker": {
             "colorbar": {
              "outlinewidth": 0,
              "ticks": ""
             }
            },
            "type": "scatter3d"
           }
          ],
          "scattercarpet": [
           {
            "marker": {
             "colorbar": {
              "outlinewidth": 0,
              "ticks": ""
             }
            },
            "type": "scattercarpet"
           }
          ],
          "scattergeo": [
           {
            "marker": {
             "colorbar": {
              "outlinewidth": 0,
              "ticks": ""
             }
            },
            "type": "scattergeo"
           }
          ],
          "scattergl": [
           {
            "marker": {
             "colorbar": {
              "outlinewidth": 0,
              "ticks": ""
             }
            },
            "type": "scattergl"
           }
          ],
          "scattermapbox": [
           {
            "marker": {
             "colorbar": {
              "outlinewidth": 0,
              "ticks": ""
             }
            },
            "type": "scattermapbox"
           }
          ],
          "scatterpolar": [
           {
            "marker": {
             "colorbar": {
              "outlinewidth": 0,
              "ticks": ""
             }
            },
            "type": "scatterpolar"
           }
          ],
          "scatterpolargl": [
           {
            "marker": {
             "colorbar": {
              "outlinewidth": 0,
              "ticks": ""
             }
            },
            "type": "scatterpolargl"
           }
          ],
          "scatterternary": [
           {
            "marker": {
             "colorbar": {
              "outlinewidth": 0,
              "ticks": ""
             }
            },
            "type": "scatterternary"
           }
          ],
          "surface": [
           {
            "colorbar": {
             "outlinewidth": 0,
             "ticks": ""
            },
            "colorscale": [
             [
              0,
              "#0d0887"
             ],
             [
              0.1111111111111111,
              "#46039f"
             ],
             [
              0.2222222222222222,
              "#7201a8"
             ],
             [
              0.3333333333333333,
              "#9c179e"
             ],
             [
              0.4444444444444444,
              "#bd3786"
             ],
             [
              0.5555555555555556,
              "#d8576b"
             ],
             [
              0.6666666666666666,
              "#ed7953"
             ],
             [
              0.7777777777777778,
              "#fb9f3a"
             ],
             [
              0.8888888888888888,
              "#fdca26"
             ],
             [
              1,
              "#f0f921"
             ]
            ],
            "type": "surface"
           }
          ],
          "table": [
           {
            "cells": {
             "fill": {
              "color": "#EBF0F8"
             },
             "line": {
              "color": "white"
             }
            },
            "header": {
             "fill": {
              "color": "#C8D4E3"
             },
             "line": {
              "color": "white"
             }
            },
            "type": "table"
           }
          ]
         },
         "layout": {
          "annotationdefaults": {
           "arrowcolor": "#2a3f5f",
           "arrowhead": 0,
           "arrowwidth": 1
          },
          "autotypenumbers": "strict",
          "coloraxis": {
           "colorbar": {
            "outlinewidth": 0,
            "ticks": ""
           }
          },
          "colorscale": {
           "diverging": [
            [
             0,
             "#8e0152"
            ],
            [
             0.1,
             "#c51b7d"
            ],
            [
             0.2,
             "#de77ae"
            ],
            [
             0.3,
             "#f1b6da"
            ],
            [
             0.4,
             "#fde0ef"
            ],
            [
             0.5,
             "#f7f7f7"
            ],
            [
             0.6,
             "#e6f5d0"
            ],
            [
             0.7,
             "#b8e186"
            ],
            [
             0.8,
             "#7fbc41"
            ],
            [
             0.9,
             "#4d9221"
            ],
            [
             1,
             "#276419"
            ]
           ],
           "sequential": [
            [
             0,
             "#0d0887"
            ],
            [
             0.1111111111111111,
             "#46039f"
            ],
            [
             0.2222222222222222,
             "#7201a8"
            ],
            [
             0.3333333333333333,
             "#9c179e"
            ],
            [
             0.4444444444444444,
             "#bd3786"
            ],
            [
             0.5555555555555556,
             "#d8576b"
            ],
            [
             0.6666666666666666,
             "#ed7953"
            ],
            [
             0.7777777777777778,
             "#fb9f3a"
            ],
            [
             0.8888888888888888,
             "#fdca26"
            ],
            [
             1,
             "#f0f921"
            ]
           ],
           "sequentialminus": [
            [
             0,
             "#0d0887"
            ],
            [
             0.1111111111111111,
             "#46039f"
            ],
            [
             0.2222222222222222,
             "#7201a8"
            ],
            [
             0.3333333333333333,
             "#9c179e"
            ],
            [
             0.4444444444444444,
             "#bd3786"
            ],
            [
             0.5555555555555556,
             "#d8576b"
            ],
            [
             0.6666666666666666,
             "#ed7953"
            ],
            [
             0.7777777777777778,
             "#fb9f3a"
            ],
            [
             0.8888888888888888,
             "#fdca26"
            ],
            [
             1,
             "#f0f921"
            ]
           ]
          },
          "colorway": [
           "#636efa",
           "#EF553B",
           "#00cc96",
           "#ab63fa",
           "#FFA15A",
           "#19d3f3",
           "#FF6692",
           "#B6E880",
           "#FF97FF",
           "#FECB52"
          ],
          "font": {
           "color": "#2a3f5f"
          },
          "geo": {
           "bgcolor": "white",
           "lakecolor": "white",
           "landcolor": "#E5ECF6",
           "showlakes": true,
           "showland": true,
           "subunitcolor": "white"
          },
          "hoverlabel": {
           "align": "left"
          },
          "hovermode": "closest",
          "mapbox": {
           "style": "light"
          },
          "paper_bgcolor": "white",
          "plot_bgcolor": "#E5ECF6",
          "polar": {
           "angularaxis": {
            "gridcolor": "white",
            "linecolor": "white",
            "ticks": ""
           },
           "bgcolor": "#E5ECF6",
           "radialaxis": {
            "gridcolor": "white",
            "linecolor": "white",
            "ticks": ""
           }
          },
          "scene": {
           "xaxis": {
            "backgroundcolor": "#E5ECF6",
            "gridcolor": "white",
            "gridwidth": 2,
            "linecolor": "white",
            "showbackground": true,
            "ticks": "",
            "zerolinecolor": "white"
           },
           "yaxis": {
            "backgroundcolor": "#E5ECF6",
            "gridcolor": "white",
            "gridwidth": 2,
            "linecolor": "white",
            "showbackground": true,
            "ticks": "",
            "zerolinecolor": "white"
           },
           "zaxis": {
            "backgroundcolor": "#E5ECF6",
            "gridcolor": "white",
            "gridwidth": 2,
            "linecolor": "white",
            "showbackground": true,
            "ticks": "",
            "zerolinecolor": "white"
           }
          },
          "shapedefaults": {
           "line": {
            "color": "#2a3f5f"
           }
          },
          "ternary": {
           "aaxis": {
            "gridcolor": "white",
            "linecolor": "white",
            "ticks": ""
           },
           "baxis": {
            "gridcolor": "white",
            "linecolor": "white",
            "ticks": ""
           },
           "bgcolor": "#E5ECF6",
           "caxis": {
            "gridcolor": "white",
            "linecolor": "white",
            "ticks": ""
           }
          },
          "title": {
           "x": 0.05
          },
          "xaxis": {
           "automargin": true,
           "gridcolor": "white",
           "linecolor": "white",
           "ticks": "",
           "title": {
            "standoff": 15
           },
           "zerolinecolor": "white",
           "zerolinewidth": 2
          },
          "yaxis": {
           "automargin": true,
           "gridcolor": "white",
           "linecolor": "white",
           "ticks": "",
           "title": {
            "standoff": 15
           },
           "zerolinecolor": "white",
           "zerolinewidth": 2
          }
         }
        },
        "title": {
         "text": "",
         "x": 0.5,
         "xanchor": "center"
        },
        "xaxis": {
         "anchor": "y",
         "domain": [
          0,
          0.30666666666666664
         ],
         "tickangle": -45,
         "title": {
          "text": ""
         }
        },
        "xaxis2": {
         "anchor": "y2",
         "domain": [
          0.3466666666666666,
          0.6533333333333333
         ],
         "matches": "x",
         "title": {
          "text": ""
         }
        },
        "xaxis3": {
         "anchor": "y3",
         "domain": [
          0.6933333333333332,
          0.9999999999999999
         ],
         "matches": "x",
         "title": {
          "text": ""
         }
        },
        "yaxis": {
         "anchor": "x",
         "domain": [
          0,
          1
         ],
         "showgrid": true,
         "showticklabels": true,
         "title": {
          "font": {
           "size": 18
          },
          "text": "Anzahl der Feature-Modelle"
         }
        },
        "yaxis2": {
         "anchor": "x2",
         "domain": [
          0,
          1
         ],
         "matches": "y",
         "showticklabels": false
        },
        "yaxis3": {
         "anchor": "x3",
         "domain": [
          0,
          1
         ],
         "matches": "y",
         "showticklabels": false
        }
       }
      },
      "image/png": "[encoded data removed]",
      "text/html": [
       "<div>                            <div id=\"33f0ebf3-7ce8-4bd4-b615-08e2733a4e17\" class=\"plotly-graph-div\" style=\"height:525px; width:100%;\"></div>            <script type=\"text/javascript\">                require([\"plotly\"], function(Plotly) {                    window.PLOTLYENV=window.PLOTLYENV || {};                                    if (document.getElementById(\"33f0ebf3-7ce8-4bd4-b615-08e2733a4e17\")) {                    Plotly.newPlot(                        \"33f0ebf3-7ce8-4bd4-b615-08e2733a4e17\",                        [{\"alignmentgroup\":\"True\",\"hovertemplate\":\"error_status=Nicht vollst\\u00e4ndig extrahiert\\u003cbr\\u003eExtractor=Configfixextractor\\u003cbr\\u003e=%{x}\\u003cbr\\u003eAnzahl der Feature-Modelle=%{text}\\u003cextra\\u003e\\u003c\\u002fextra\\u003e\",\"legendgroup\":\"Nicht vollst\\u00e4ndig extrahiert\",\"marker\":{\"color\":\"orange\",\"pattern\":{\"shape\":\"\"}},\"name\":\"Nicht vollst\\u00e4ndig extrahiert\",\"offsetgroup\":\"Nicht vollst\\u00e4ndig extrahiert\",\"orientation\":\"v\",\"showlegend\":true,\"text\":[24.0,64.0,117.0,1.0,1.0,110.0],\"textposition\":\"auto\",\"x\":[\"axtls\",\"buildroot\",\"busybox\",\"busybox\",\"freetz-ng\",\"linux\"],\"xaxis\":\"x\",\"y\":[24,64,117,1,1,110],\"yaxis\":\"y\",\"type\":\"bar\"},{\"alignmentgroup\":\"True\",\"hovertemplate\":\"error_status=Extrahiert\\u003cbr\\u003eExtractor=Configfixextractor\\u003cbr\\u003e=%{x}\\u003cbr\\u003eAnzahl der Feature-Modelle=%{text}\\u003cextra\\u003e\\u003c\\u002fextra\\u003e\",\"legendgroup\":\"Extrahiert\",\"marker\":{\"color\":\"green\",\"pattern\":{\"shape\":\"\"}},\"name\":\"Extrahiert\",\"offsetgroup\":\"Extrahiert\",\"orientation\":\"v\",\"showlegend\":true,\"text\":[1.0,33.0],\"textposition\":\"auto\",\"x\":[\"fiasco\",\"linux\"],\"xaxis\":\"x\",\"y\":[1,33],\"yaxis\":\"y\",\"type\":\"bar\"},{\"alignmentgroup\":\"True\",\"hovertemplate\":\"error_status=Extrahiert\\u003cbr\\u003eExtractor=KClause\\u003cbr\\u003e=%{x}\\u003cbr\\u003eAnzahl der Feature-Modelle=%{text}\\u003cextra\\u003e\\u003c\\u002fextra\\u003e\",\"legendgroup\":\"Extrahiert\",\"marker\":{\"color\":\"green\",\"pattern\":{\"shape\":\"\"}},\"name\":\"Extrahiert\",\"offsetgroup\":\"Extrahiert\",\"orientation\":\"v\",\"showlegend\":false,\"text\":[24.0,111.0,10.0,1.0,1.0,143.0],\"textposition\":\"auto\",\"x\":[\"axtls\",\"busybox\",\"embtoolkit\",\"fiasco\",\"freetz-ng\",\"linux\"],\"xaxis\":\"x2\",\"y\":[24,111,10,1,1,143],\"yaxis\":\"y2\",\"type\":\"bar\"},{\"alignmentgroup\":\"True\",\"hovertemplate\":\"error_status=Extrahiert\\u003cbr\\u003eExtractor=Kconfigreader\\u003cbr\\u003e=%{x}\\u003cbr\\u003eAnzahl der Feature-Modelle=%{text}\\u003cextra\\u003e\\u003c\\u002fextra\\u003e\",\"legendgroup\":\"Extrahiert\",\"marker\":{\"color\":\"green\",\"pattern\":{\"shape\":\"\"}},\"name\":\"Extrahiert\",\"offsetgroup\":\"Extrahiert\",\"orientation\":\"v\",\"showlegend\":false,\"text\":[24.0,111.0,10.0,1.0,1.0,143.0],\"textposition\":\"auto\",\"x\":[\"axtls\",\"busybox\",\"embtoolkit\",\"fiasco\",\"freetz-ng\",\"linux\"],\"xaxis\":\"x3\",\"y\":[24,111,10,1,1,143],\"yaxis\":\"y3\",\"type\":\"bar\"},{\"alignmentgroup\":\"True\",\"hovertemplate\":\"error_status=Nicht extrahiert\\u003cbr\\u003eExtractor=Configfixextractor\\u003cbr\\u003e=%{x}\\u003cbr\\u003eAnzahl der Feature-Modelle=%{text}\\u003cextra\\u003e\\u003c\\u002fextra\\u003e\",\"legendgroup\":\"Nicht extrahiert\",\"marker\":{\"color\":\"red\",\"pattern\":{\"shape\":\"\"}},\"name\":\"Nicht extrahiert\",\"offsetgroup\":\"Nicht extrahiert\",\"orientation\":\"v\",\"showlegend\":true,\"text\":[24.0,10.0,51.0,48.0],\"textposition\":\"auto\",\"x\":[\"busybox\",\"embtoolkit\",\"toybox\",\"uclibc-ng\"],\"xaxis\":\"x\",\"y\":[24,10,51,48],\"yaxis\":\"y\",\"type\":\"bar\"},{\"alignmentgroup\":\"True\",\"hovertemplate\":\"error_status=Nicht extrahiert\\u003cbr\\u003eExtractor=KClause\\u003cbr\\u003e=%{x}\\u003cbr\\u003eAnzahl der Feature-Modelle=%{text}\\u003cextra\\u003e\\u003c\\u002fextra\\u003e\",\"legendgroup\":\"Nicht extrahiert\",\"marker\":{\"color\":\"red\",\"pattern\":{\"shape\":\"\"}},\"name\":\"Nicht extrahiert\",\"offsetgroup\":\"Nicht extrahiert\",\"orientation\":\"v\",\"showlegend\":false,\"text\":[64.0,31.0,50.0],\"textposition\":\"auto\",\"x\":[\"buildroot\",\"busybox\",\"toybox\"],\"xaxis\":\"x2\",\"y\":[64,31,50],\"yaxis\":\"y2\",\"type\":\"bar\"},{\"alignmentgroup\":\"True\",\"hovertemplate\":\"error_status=Nicht extrahiert\\u003cbr\\u003eExtractor=Kconfigreader\\u003cbr\\u003e=%{x}\\u003cbr\\u003eAnzahl der Feature-Modelle=%{text}\\u003cextra\\u003e\\u003c\\u002fextra\\u003e\",\"legendgroup\":\"Nicht extrahiert\",\"marker\":{\"color\":\"red\",\"pattern\":{\"shape\":\"\"}},\"name\":\"Nicht extrahiert\",\"offsetgroup\":\"Nicht extrahiert\",\"orientation\":\"v\",\"showlegend\":false,\"text\":[64.0,31.0,50.0],\"textposition\":\"auto\",\"x\":[\"buildroot\",\"busybox\",\"toybox\"],\"xaxis\":\"x3\",\"y\":[64,31,50],\"yaxis\":\"y3\",\"type\":\"bar\"}],                        {\"template\":{\"data\":{\"histogram2dcontour\":[{\"type\":\"histogram2dcontour\",\"colorbar\":{\"outlinewidth\":0,\"ticks\":\"\"},\"colorscale\":[[0.0,\"#0d0887\"],[0.1111111111111111,\"#46039f\"],[0.2222222222222222,\"#7201a8\"],[0.3333333333333333,\"#9c179e\"],[0.4444444444444444,\"#bd3786\"],[0.5555555555555556,\"#d8576b\"],[0.6666666666666666,\"#ed7953\"],[0.7777777777777778,\"#fb9f3a\"],[0.8888888888888888,\"#fdca26\"],[1.0,\"#f0f921\"]]}],\"choropleth\":[{\"type\":\"choropleth\",\"colorbar\":{\"outlinewidth\":0,\"ticks\":\"\"}}],\"histogram2d\":[{\"type\":\"histogram2d\",\"colorbar\":{\"outlinewidth\":0,\"ticks\":\"\"},\"colorscale\":[[0.0,\"#0d0887\"],[0.1111111111111111,\"#46039f\"],[0.2222222222222222,\"#7201a8\"],[0.3333333333333333,\"#9c179e\"],[0.4444444444444444,\"#bd3786\"],[0.5555555555555556,\"#d8576b\"],[0.6666666666666666,\"#ed7953\"],[0.7777777777777778,\"#fb9f3a\"],[0.8888888888888888,\"#fdca26\"],[1.0,\"#f0f921\"]]}],\"heatmap\":[{\"type\":\"heatmap\",\"colorbar\":{\"outlinewidth\":0,\"ticks\":\"\"},\"colorscale\":[[0.0,\"#0d0887\"],[0.1111111111111111,\"#46039f\"],[0.2222222222222222,\"#7201a8\"],[0.3333333333333333,\"#9c179e\"],[0.4444444444444444,\"#bd3786\"],[0.5555555555555556,\"#d8576b\"],[0.6666666666666666,\"#ed7953\"],[0.7777777777777778,\"#fb9f3a\"],[0.8888888888888888,\"#fdca26\"],[1.0,\"#f0f921\"]]}],\"heatmapgl\":[{\"type\":\"heatmapgl\",\"colorbar\":{\"outlinewidth\":0,\"ticks\":\"\"},\"colorscale\":[[0.0,\"#0d0887\"],[0.1111111111111111,\"#46039f\"],[0.2222222222222222,\"#7201a8\"],[0.3333333333333333,\"#9c179e\"],[0.4444444444444444,\"#bd3786\"],[0.5555555555555556,\"#d8576b\"],[0.6666666666666666,\"#ed7953\"],[0.7777777777777778,\"#fb9f3a\"],[0.8888888888888888,\"#fdca26\"],[1.0,\"#f0f921\"]]}],\"contourcarpet\":[{\"type\":\"contourcarpet\",\"colorbar\":{\"outlinewidth\":0,\"ticks\":\"\"}}],\"contour\":[{\"type\":\"contour\",\"colorbar\":{\"outlinewidth\":0,\"ticks\":\"\"},\"colorscale\":[[0.0,\"#0d0887\"],[0.1111111111111111,\"#46039f\"],[0.2222222222222222,\"#7201a8\"],[0.3333333333333333,\"#9c179e\"],[0.4444444444444444,\"#bd3786\"],[0.5555555555555556,\"#d8576b\"],[0.6666666666666666,\"#ed7953\"],[0.7777777777777778,\"#fb9f3a\"],[0.8888888888888888,\"#fdca26\"],[1.0,\"#f0f921\"]]}],\"surface\":[{\"type\":\"surface\",\"colorbar\":{\"outlinewidth\":0,\"ticks\":\"\"},\"colorscale\":[[0.0,\"#0d0887\"],[0.1111111111111111,\"#46039f\"],[0.2222222222222222,\"#7201a8\"],[0.3333333333333333,\"#9c179e\"],[0.4444444444444444,\"#bd3786\"],[0.5555555555555556,\"#d8576b\"],[0.6666666666666666,\"#ed7953\"],[0.7777777777777778,\"#fb9f3a\"],[0.8888888888888888,\"#fdca26\"],[1.0,\"#f0f921\"]]}],\"mesh3d\":[{\"type\":\"mesh3d\",\"colorbar\":{\"outlinewidth\":0,\"ticks\":\"\"}}],\"scatter\":[{\"fillpattern\":{\"fillmode\":\"overlay\",\"size\":10,\"solidity\":0.2},\"type\":\"scatter\"}],\"parcoords\":[{\"type\":\"parcoords\",\"line\":{\"colorbar\":{\"outlinewidth\":0,\"ticks\":\"\"}}}],\"scatterpolargl\":[{\"type\":\"scatterpolargl\",\"marker\":{\"colorbar\":{\"outlinewidth\":0,\"ticks\":\"\"}}}],\"bar\":[{\"error_x\":{\"color\":\"#2a3f5f\"},\"error_y\":{\"color\":\"#2a3f5f\"},\"marker\":{\"line\":{\"color\":\"#E5ECF6\",\"width\":0.5},\"pattern\":{\"fillmode\":\"overlay\",\"size\":10,\"solidity\":0.2}},\"type\":\"bar\"}],\"scattergeo\":[{\"type\":\"scattergeo\",\"marker\":{\"colorbar\":{\"outlinewidth\":0,\"ticks\":\"\"}}}],\"scatterpolar\":[{\"type\":\"scatterpolar\",\"marker\":{\"colorbar\":{\"outlinewidth\":0,\"ticks\":\"\"}}}],\"histogram\":[{\"marker\":{\"pattern\":{\"fillmode\":\"overlay\",\"size\":10,\"solidity\":0.2}},\"type\":\"histogram\"}],\"scattergl\":[{\"type\":\"scattergl\",\"marker\":{\"colorbar\":{\"outlinewidth\":0,\"ticks\":\"\"}}}],\"scatter3d\":[{\"type\":\"scatter3d\",\"line\":{\"colorbar\":{\"outlinewidth\":0,\"ticks\":\"\"}},\"marker\":{\"colorbar\":{\"outlinewidth\":0,\"ticks\":\"\"}}}],\"scattermapbox\":[{\"type\":\"scattermapbox\",\"marker\":{\"colorbar\":{\"outlinewidth\":0,\"ticks\":\"\"}}}],\"scatterternary\":[{\"type\":\"scatterternary\",\"marker\":{\"colorbar\":{\"outlinewidth\":0,\"ticks\":\"\"}}}],\"scattercarpet\":[{\"type\":\"scattercarpet\",\"marker\":{\"colorbar\":{\"outlinewidth\":0,\"ticks\":\"\"}}}],\"carpet\":[{\"aaxis\":{\"endlinecolor\":\"#2a3f5f\",\"gridcolor\":\"white\",\"linecolor\":\"white\",\"minorgridcolor\":\"white\",\"startlinecolor\":\"#2a3f5f\"},\"baxis\":{\"endlinecolor\":\"#2a3f5f\",\"gridcolor\":\"white\",\"linecolor\":\"white\",\"minorgridcolor\":\"white\",\"startlinecolor\":\"#2a3f5f\"},\"type\":\"carpet\"}],\"table\":[{\"cells\":{\"fill\":{\"color\":\"#EBF0F8\"},\"line\":{\"color\":\"white\"}},\"header\":{\"fill\":{\"color\":\"#C8D4E3\"},\"line\":{\"color\":\"white\"}},\"type\":\"table\"}],\"barpolar\":[{\"marker\":{\"line\":{\"color\":\"#E5ECF6\",\"width\":0.5},\"pattern\":{\"fillmode\":\"overlay\",\"size\":10,\"solidity\":0.2}},\"type\":\"barpolar\"}],\"pie\":[{\"automargin\":true,\"type\":\"pie\"}]},\"layout\":{\"autotypenumbers\":\"strict\",\"colorway\":[\"#636efa\",\"#EF553B\",\"#00cc96\",\"#ab63fa\",\"#FFA15A\",\"#19d3f3\",\"#FF6692\",\"#B6E880\",\"#FF97FF\",\"#FECB52\"],\"font\":{\"color\":\"#2a3f5f\"},\"hovermode\":\"closest\",\"hoverlabel\":{\"align\":\"left\"},\"paper_bgcolor\":\"white\",\"plot_bgcolor\":\"#E5ECF6\",\"polar\":{\"bgcolor\":\"#E5ECF6\",\"angularaxis\":{\"gridcolor\":\"white\",\"linecolor\":\"white\",\"ticks\":\"\"},\"radialaxis\":{\"gridcolor\":\"white\",\"linecolor\":\"white\",\"ticks\":\"\"}},\"ternary\":{\"bgcolor\":\"#E5ECF6\",\"aaxis\":{\"gridcolor\":\"white\",\"linecolor\":\"white\",\"ticks\":\"\"},\"baxis\":{\"gridcolor\":\"white\",\"linecolor\":\"white\",\"ticks\":\"\"},\"caxis\":{\"gridcolor\":\"white\",\"linecolor\":\"white\",\"ticks\":\"\"}},\"coloraxis\":{\"colorbar\":{\"outlinewidth\":0,\"ticks\":\"\"}},\"colorscale\":{\"sequential\":[[0.0,\"#0d0887\"],[0.1111111111111111,\"#46039f\"],[0.2222222222222222,\"#7201a8\"],[0.3333333333333333,\"#9c179e\"],[0.4444444444444444,\"#bd3786\"],[0.5555555555555556,\"#d8576b\"],[0.6666666666666666,\"#ed7953\"],[0.7777777777777778,\"#fb9f3a\"],[0.8888888888888888,\"#fdca26\"],[1.0,\"#f0f921\"]],\"sequentialminus\":[[0.0,\"#0d0887\"],[0.1111111111111111,\"#46039f\"],[0.2222222222222222,\"#7201a8\"],[0.3333333333333333,\"#9c179e\"],[0.4444444444444444,\"#bd3786\"],[0.5555555555555556,\"#d8576b\"],[0.6666666666666666,\"#ed7953\"],[0.7777777777777778,\"#fb9f3a\"],[0.8888888888888888,\"#fdca26\"],[1.0,\"#f0f921\"]],\"diverging\":[[0,\"#8e0152\"],[0.1,\"#c51b7d\"],[0.2,\"#de77ae\"],[0.3,\"#f1b6da\"],[0.4,\"#fde0ef\"],[0.5,\"#f7f7f7\"],[0.6,\"#e6f5d0\"],[0.7,\"#b8e186\"],[0.8,\"#7fbc41\"],[0.9,\"#4d9221\"],[1,\"#276419\"]]},\"xaxis\":{\"gridcolor\":\"white\",\"linecolor\":\"white\",\"ticks\":\"\",\"title\":{\"standoff\":15},\"zerolinecolor\":\"white\",\"automargin\":true,\"zerolinewidth\":2},\"yaxis\":{\"gridcolor\":\"white\",\"linecolor\":\"white\",\"ticks\":\"\",\"title\":{\"standoff\":15},\"zerolinecolor\":\"white\",\"automargin\":true,\"zerolinewidth\":2},\"scene\":{\"xaxis\":{\"backgroundcolor\":\"#E5ECF6\",\"gridcolor\":\"white\",\"linecolor\":\"white\",\"showbackground\":true,\"ticks\":\"\",\"zerolinecolor\":\"white\",\"gridwidth\":2},\"yaxis\":{\"backgroundcolor\":\"#E5ECF6\",\"gridcolor\":\"white\",\"linecolor\":\"white\",\"showbackground\":true,\"ticks\":\"\",\"zerolinecolor\":\"white\",\"gridwidth\":2},\"zaxis\":{\"backgroundcolor\":\"#E5ECF6\",\"gridcolor\":\"white\",\"linecolor\":\"white\",\"showbackground\":true,\"ticks\":\"\",\"zerolinecolor\":\"white\",\"gridwidth\":2}},\"shapedefaults\":{\"line\":{\"color\":\"#2a3f5f\"}},\"annotationdefaults\":{\"arrowcolor\":\"#2a3f5f\",\"arrowhead\":0,\"arrowwidth\":1},\"geo\":{\"bgcolor\":\"white\",\"landcolor\":\"#E5ECF6\",\"subunitcolor\":\"white\",\"showland\":true,\"showlakes\":true,\"lakecolor\":\"white\"},\"title\":{\"x\":0.05},\"mapbox\":{\"style\":\"light\"}}},\"xaxis\":{\"anchor\":\"y\",\"domain\":[0.0,0.30666666666666664],\"title\":{\"text\":\"\"},\"tickangle\":-45},\"yaxis\":{\"anchor\":\"x\",\"domain\":[0.0,1.0],\"title\":{\"text\":\"Anzahl der Feature-Modelle\",\"font\":{\"size\":18}},\"showticklabels\":true,\"showgrid\":true},\"xaxis2\":{\"anchor\":\"y2\",\"domain\":[0.3466666666666666,0.6533333333333333],\"matches\":\"x\",\"title\":{\"text\":\"\"}},\"yaxis2\":{\"anchor\":\"x2\",\"domain\":[0.0,1.0],\"matches\":\"y\",\"showticklabels\":false},\"xaxis3\":{\"anchor\":\"y3\",\"domain\":[0.6933333333333332,0.9999999999999999],\"matches\":\"x\",\"title\":{\"text\":\"\"}},\"yaxis3\":{\"anchor\":\"x3\",\"domain\":[0.0,1.0],\"matches\":\"y\",\"showticklabels\":false},\"annotations\":[{\"font\":{\"size\":16,\"color\":\"black\"},\"showarrow\":false,\"text\":\"Extractor: Configfixextractor\",\"x\":0.15333333333333332,\"xanchor\":\"center\",\"xref\":\"paper\",\"y\":1.0,\"yanchor\":\"bottom\",\"yref\":\"paper\"},{\"font\":{\"size\":16,\"color\":\"black\"},\"showarrow\":false,\"text\":\"Extractor: KClause\",\"x\":0.5,\"xanchor\":\"center\",\"xref\":\"paper\",\"y\":1.0,\"yanchor\":\"bottom\",\"yref\":\"paper\"},{\"font\":{\"size\":16,\"color\":\"black\"},\"showarrow\":false,\"text\":\"Extractor: Kconfigreader\",\"x\":0.8466666666666666,\"xanchor\":\"center\",\"xref\":\"paper\",\"y\":1.0,\"yanchor\":\"bottom\",\"yref\":\"paper\"}],\"legend\":{\"title\":{\"text\":\"\"},\"tracegroupgap\":0},\"margin\":{\"t\":60},\"barmode\":\"stack\",\"font\":{\"size\":16},\"title\":{\"x\":0.5,\"text\":\"\",\"xanchor\":\"center\"},\"plot_bgcolor\":\"white\",\"paper_bgcolor\":\"white\"},                        {\"responsive\": true}                    ).then(function(){\n",
       "                            \n",
       "var gd = document.getElementById('33f0ebf3-7ce8-4bd4-b615-08e2733a4e17');\n",
       "var x = new MutationObserver(function (mutations, observer) {{\n",
       "        var display = window.getComputedStyle(gd).display;\n",
       "        if (!display || display === 'none') {{\n",
       "            console.log([gd, 'removed!']);\n",
       "            Plotly.purge(gd);\n",
       "            observer.disconnect();\n",
       "        }}\n",
       "}});\n",
       "\n",
       "// Listen for the removal of the full notebook cells\n",
       "var notebookContainer = gd.closest('#notebook-container');\n",
       "if (notebookContainer) {{\n",
       "    x.observe(notebookContainer, {childList: true});\n",
       "}}\n",
       "\n",
       "// Listen for the clearing of the current output cell\n",
       "var outputEl = gd.closest('.output');\n",
       "if (outputEl) {{\n",
       "    x.observe(outputEl, {childList: true});\n",
       "}}\n",
       "\n",
       "                        })                };                });            </script>        </div>"
      ]
     },
     "metadata": {},
     "output_type": "display_data"
    }
   ],
   "source": [
    "import pandas as pd\n",
    "import plotly.express as px\n",
    "\n",
    "# Daten importieren\n",
    "file_configfixextractor = '/home/rami/configFixextractor_with_preprossesing/kconfig/output.csv'\n",
    "file_kmax = '/home/rami/kmax/kconfig/output.csv'\n",
    "file_Kconfigreader = '/home/rami/Kconfigreader/kconfig/output.csv'\n",
    "\n",
    "df_configfixextractor = pd.read_csv(file_configfixextractor)\n",
    "df_kmax = pd.read_csv(file_kmax)\n",
    "df_Kconfigreader = pd.read_csv(file_Kconfigreader)\n",
    "\n",
    "# Relevante Spalten extrahieren und 'Extractor' hinzufügen\n",
    "df_configfixextractor_filtered = df_configfixextractor[['system', 'revision', 'model-file']].copy()\n",
    "df_configfixextractor_filtered['Extractor'] = 'Configfixextractor'\n",
    "\n",
    "df_kmax_filtered = df_kmax[['system', 'revision', 'model-file']].copy()\n",
    "df_kmax_filtered['Extractor'] = 'KClause'\n",
    "\n",
    "df_Kconfigreader_filtered = df_Kconfigreader[['system', 'revision', 'model-file']].copy()\n",
    "df_Kconfigreader_filtered['Extractor'] = 'Kconfigreader'\n",
    "\n",
    "# Alle DataFrames kombinieren\n",
    "df_combined = pd.concat([df_configfixextractor_filtered, df_kmax_filtered, df_Kconfigreader_filtered], ignore_index=True)\n",
    "\n",
    "# Funktion zur Konvertierung von Versionsnummern in Tupel für sichere Vergleiche\n",
    "def parse_version(version):\n",
    "    try:\n",
    "        # Ersetze 'release-', 'v' und '_' durch '.' für einheitliche Verarbeitung\n",
    "        version = version.replace('release-', '').replace('v', '').replace('_', '.')\n",
    "        version_tuple = tuple(map(int, version.split('.')))  # Konvertiere in Tupel mit Zahlen\n",
    "        return version_tuple + (0,) * (3 - len(version_tuple))  # Ergänze fehlende Stellen mit 0\n",
    "    except:\n",
    "        return (0, 0, 0)  # Falls Fehler auftritt, Standardwert zurückgeben\n",
    "\n",
    "# Funktion zur Klassifizierung des Fehlerstatus basierend auf System, Version und Extractor\n",
    "def error_status(row):\n",
    "    version_num = parse_version(row['revision'])  # Konvertiere Versionsnummer\n",
    "\n",
    "    # 🔹 Bedingung für **axTLS** (release-1.0.0 bis release-2.0.0)\n",
    "    if row['system'].lower() == 'axtls' and row['Extractor'] == 'Configfixextractor':\n",
    "        if parse_version(\"release-1.0.0\") <= version_num <= parse_version(\"release-2.0.0\"):\n",
    "            return 'Nicht vollständig extrahiert'\n",
    "\n",
    "    # 🔹 Bedingung für **Linux** (v2.5.45 bis v4.18)\n",
    "    if row['system'].lower() == 'linux' and row['Extractor'] == 'Configfixextractor':\n",
    "        if parse_version(\"v2.5.45\") <= version_num <= parse_version(\"v4.18\"):\n",
    "            return 'Nicht vollständig extrahiert'\n",
    "\n",
    "    # 🔹 Bedingung für **BusyBox** (1.1.0 bis 1.36.1)\n",
    "    if row['system'].lower() == 'busybox' and row['Extractor'] == 'Configfixextractor':\n",
    "        if parse_version(\"1.1.0\") <= version_num <= parse_version(\"1.36.1\"):\n",
    "            return 'Nicht vollständig extrahiert'\n",
    "\n",
    "    # 🔹 Bedingung für **Buildroot** (2009.02 bis 2024.11)\n",
    "    if row['system'].lower() == 'buildroot' and row['Extractor'] == 'Configfixextractor':\n",
    "        if parse_version(\"2009.02\") <= version_num <= parse_version(\"2024.11\"):\n",
    "            return 'Nicht vollständig extrahiert'\n",
    "\n",
    "    if row['system'].lower() == 'freetz-ng' and row['Extractor'] == 'Configfixextractor':\n",
    "        if parse_version(\"5c5a4d1d87ab8c9c6f121a13a8fc4f44c79700af\") <= version_num <= parse_version(\"5c5a4d1d87ab8c9c6f121a13a8fc4f44c79700af\"):\n",
    "            return 'Nicht vollständig extrahiert'\n",
    "\n",
    "    # 🔹 Falls eine Modell-Datei existiert, dann als \"Extrahiert\" markieren\n",
    "    if pd.notna(row['model-file']):\n",
    "        return 'Extrahiert'\n",
    "    \n",
    "    # 🔹 Falls keine der Bedingungen zutrifft → \"Nicht extrahiert\"\n",
    "    return 'Nicht extrahiert'\n",
    "\n",
    "\n",
    "df_combined['error_status'] = df_combined.apply(error_status, axis=1)\n",
    "\n",
    "# Status für extrahierte/nicht extrahierte Modelle\n",
    "df_combined['status'] = df_combined.apply(\n",
    "    lambda row: 'Extrahierte Feature-Modelle' if pd.notna(row['model-file']) else 'Nicht extrahierte Feature-Modelle',\n",
    "    axis=1\n",
    ")\n",
    "\n",
    "# Zusammenfassung der Daten für das Diagramm\n",
    "df_summary_combined = df_combined.groupby(['system', 'status', 'Extractor', 'error_status']).size().reset_index(name='count')\n",
    "\n",
    "# Diagramm erstellen\n",
    "fig_combined = px.bar(\n",
    "    df_summary_combined,\n",
    "    x='system',\n",
    "    y='count',\n",
    "    color='error_status',  # Fehlerstatus als Farbkategorie\n",
    "    facet_col='Extractor',  # Separate Diagramme für jeden Extractor\n",
    "    labels={'count': 'Anzahl der Feature-Modelle', 'system': '', 'status': 'Extraktionsstatus'},\n",
    "    text='count',  # Anzahl der Werte anzeigen\n",
    "    color_discrete_map={\n",
    "        'Extrahiert': 'green',  \n",
    "        'Nicht vollständig extrahiert': 'orange', \n",
    "        'Nicht extrahiert': 'red'  # Nicht extrahiert in rot\n",
    "    },\n",
    "    facet_col_spacing=0.04,  # Etwas Platz zwischen den Facetten\n",
    "    facet_row_spacing=0.1    # Etwas Platz zwischen den Reihen\n",
    ")\n",
    "\n",
    "# Layout anpassen (Schriftgrößen & Achsentitel)\n",
    "fig_combined.update_layout(\n",
    "    font=dict(size=16),  # Allgemeine Schriftgröße erhöhen\n",
    "    legend_title='',\n",
    "    xaxis_tickangle=-45,\n",
    "    barmode='stack',  # Stacked Bar für die verschiedenen Status\n",
    "    plot_bgcolor='white',\n",
    "    paper_bgcolor='white',\n",
    "    yaxis=dict(\n",
    "        title='Anzahl der Feature-Modelle',  # Deutlicher Achsentitel\n",
    "        showticklabels=True,  # y-Achse anzeigen\n",
    "        showgrid=True,  # Gitternetz aktivieren\n",
    "        title_font=dict(size=18)  # Größere Schrift für y-Achsentitel\n",
    "    ),\n",
    "    title_x=0.5,  # Titel mittig ausrichten\n",
    "    title={'text': '', 'x': 0.5, 'xanchor': 'center'},  # Globaler Titel hinzufügen\n",
    ")\n",
    "\n",
    "# Facetten Titel anpassen\n",
    "fig_combined.for_each_annotation(lambda a: a.update(text=f\"Extractor: {a.text.split('=')[-1]}\", font_size=16, font_color=\"black\"))\n",
    "\n",
    "\n",
    "\n",
    "# Diagramm anzeigen\n",
    "fig_combined.show()\n"
   ]
  },
  {
   "cell_type": "code",
   "execution_count": null,
   "id": "448b0cdf-9b74-4728-9533-5d7a0bd92f59",
   "metadata": {},
   "outputs": [],
   "source": []
  }
 ],
 "metadata": {
  "kernelspec": {
   "display_name": "Python 3 (ipykernel)",
   "language": "python",
   "name": "python3"
  },
  "language_info": {
   "codemirror_mode": {
    "name": "ipython",
    "version": 3
   },
   "file_extension": ".py",
   "mimetype": "text/x-python",
   "name": "python",
   "nbconvert_exporter": "python",
   "pygments_lexer": "ipython3",
   "version": "3.10.12"
  }
 },
 "nbformat": 4,
 "nbformat_minor": 5
}
